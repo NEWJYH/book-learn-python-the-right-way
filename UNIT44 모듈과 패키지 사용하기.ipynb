{
 "cells": [
  {
   "cell_type": "markdown",
   "id": "37606172",
   "metadata": {},
   "source": [
    "#### 모듈 \n",
    "    특정 기능을 .py 파일 단위로 작성한 것\n",
    "\n",
    "#### 패키지  \n",
    "    특정 기능과 관련된 여러 모듈을 묶은 것\n",
    "    패키지는 모듈에 네임스페이스를 제공\n",
    "\n",
    "#### 파이썬 표준 라이브러리\n",
    "    파이썬에 기본으로 설치된 모듈과 패키지\n",
    "    내장 함수를 묶어서 파이썬 표준 라이브러리(Python Standard Library, PSL)라 부름"
   ]
  },
  {
   "cell_type": "markdown",
   "id": "3e2224b1",
   "metadata": {},
   "source": [
    "## 44.1 import로 모듈 가져오기"
   ]
  },
  {
   "cell_type": "markdown",
   "id": "4e431d47",
   "metadata": {},
   "source": [
    "#### import\n",
    "    import 모듈\n",
    "    import 모듈1, 모듈2\n",
    "    모듈.변수\n",
    "    모듈.함수()\n",
    "    모듈.클래스()"
   ]
  },
  {
   "cell_type": "code",
   "execution_count": 2,
   "id": "c0b9da4a",
   "metadata": {},
   "outputs": [
    {
     "data": {
      "text/plain": [
       "3.141592653589793"
      ]
     },
     "execution_count": 2,
     "metadata": {},
     "output_type": "execute_result"
    }
   ],
   "source": [
    "import math\n",
    "\n",
    "# 모듈 변수\n",
    "math.pi"
   ]
  },
  {
   "cell_type": "code",
   "execution_count": 3,
   "id": "1f916621",
   "metadata": {},
   "outputs": [
    {
     "data": {
      "text/plain": [
       "2.0"
      ]
     },
     "execution_count": 3,
     "metadata": {},
     "output_type": "execute_result"
    }
   ],
   "source": [
    "# 모듈 함수\n",
    "math.sqrt(4.0)"
   ]
  },
  {
   "cell_type": "markdown",
   "id": "3e4364de",
   "metadata": {},
   "source": [
    "### 44.1.1 import as 로 모듈 이름 지정하기"
   ]
  },
  {
   "cell_type": "code",
   "execution_count": 4,
   "id": "e89bbd68",
   "metadata": {},
   "outputs": [
    {
     "data": {
      "text/plain": [
       "2.0"
      ]
     },
     "execution_count": 4,
     "metadata": {},
     "output_type": "execute_result"
    }
   ],
   "source": [
    "import math as m # math모듈을 가져오면서 이름을 m으로 지정\n",
    "\n",
    "m.sqrt(4.0)"
   ]
  },
  {
   "cell_type": "markdown",
   "id": "dd565b30",
   "metadata": {},
   "source": [
    "### 44.1.2  from import로 모듈의 일부만 가져오기"
   ]
  },
  {
   "cell_type": "code",
   "execution_count": 5,
   "id": "5f38f6a6",
   "metadata": {},
   "outputs": [
    {
     "data": {
      "text/plain": [
       "3.141592653589793"
      ]
     },
     "execution_count": 5,
     "metadata": {},
     "output_type": "execute_result"
    }
   ],
   "source": [
    "from math import pi\n",
    "\n",
    "pi"
   ]
  },
  {
   "cell_type": "markdown",
   "id": "60c9692e",
   "metadata": {},
   "source": [
    "    from 모듈 import 함수\n",
    "    from 모듈 import 클래스"
   ]
  },
  {
   "cell_type": "code",
   "execution_count": 6,
   "id": "67f007a9",
   "metadata": {},
   "outputs": [
    {
     "data": {
      "text/plain": [
       "(3.141592653589793, 2.0)"
      ]
     },
     "execution_count": 6,
     "metadata": {},
     "output_type": "execute_result"
    }
   ],
   "source": [
    "from math import pi, sqrt\n",
    "\n",
    "pi, sqrt(4.0)"
   ]
  },
  {
   "cell_type": "code",
   "execution_count": 7,
   "id": "331fceec",
   "metadata": {},
   "outputs": [],
   "source": [
    "from math import * # math모듈의 모든 변수, 함수, 클래스를 가져옴 "
   ]
  },
  {
   "cell_type": "markdown",
   "id": "6bf86989",
   "metadata": {},
   "source": [
    "### 44.1.3 from import로 모듈의 일부를 가져온 뒤 이름 지정하기"
   ]
  },
  {
   "cell_type": "markdown",
   "id": "b257fe2f",
   "metadata": {},
   "source": [
    "    from 모듈 import 변수 as 이름\n",
    "    from 모듈 import 함수 as 이름\n",
    "    from 모듈 import 클래스 as 이름\n",
    "    \n",
    "    from 모듈 import 변수 as 이름1, 함수 as 이름2, 클래스 as 이름3"
   ]
  },
  {
   "cell_type": "markdown",
   "id": "481d452c",
   "metadata": {},
   "source": [
    "---"
   ]
  },
  {
   "cell_type": "markdown",
   "id": "cc040c41",
   "metadata": {},
   "source": [
    "## 44.2 import로 패키지 가져오기"
   ]
  },
  {
   "cell_type": "markdown",
   "id": "611d66fe",
   "metadata": {},
   "source": [
    "#### import 패키지.모듈\n",
    "#### import 패키지.모듈1, 패키지.모듈2\n",
    "#### 패키지.모듈.변수\n",
    "#### 패키지.모듈.함수()\n",
    "#### 패키지.모듈.클래스()"
   ]
  },
  {
   "cell_type": "code",
   "execution_count": 9,
   "id": "a2e06ae1",
   "metadata": {},
   "outputs": [
    {
     "data": {
      "text/plain": [
       "200"
      ]
     },
     "execution_count": 9,
     "metadata": {},
     "output_type": "execute_result"
    }
   ],
   "source": [
    "import urllib.request\n",
    "\n",
    "response = urllib.request.urlopen('http://www.gogle.co.kr')\n",
    "response.status"
   ]
  },
  {
   "cell_type": "markdown",
   "id": "1c1ddbea",
   "metadata": {},
   "source": [
    "### 44.2.1 import as로 패키지 모듈 이름 지정하기"
   ]
  },
  {
   "cell_type": "markdown",
   "id": "661c7da5",
   "metadata": {},
   "source": [
    "#### import 패키지.모듈 as 이름"
   ]
  },
  {
   "cell_type": "code",
   "execution_count": 11,
   "id": "7aa5c8d6",
   "metadata": {},
   "outputs": [
    {
     "data": {
      "text/plain": [
       "200"
      ]
     },
     "execution_count": 11,
     "metadata": {},
     "output_type": "execute_result"
    }
   ],
   "source": [
    "import urllib.request as r\n",
    "\n",
    "response = r.urlopen('http://www.google.co.kr')\n",
    "response.status"
   ]
  },
  {
   "cell_type": "markdown",
   "id": "e6f32815",
   "metadata": {},
   "source": [
    "### 44.2.2 from import 로 패키지의 모듈에서 일부만 가져오기"
   ]
  },
  {
   "cell_type": "markdown",
   "id": "c20aaa51",
   "metadata": {},
   "source": [
    "#### from 패키지.모듈 import 변수\n",
    "#### from 패키지.모듈 import 함수\n",
    "#### from 패키지.모듈 import 클래스\n",
    "#### from 패키지.모듈 import 변수, 함수, 클래스"
   ]
  },
  {
   "cell_type": "code",
   "execution_count": 13,
   "id": "2ca22587",
   "metadata": {},
   "outputs": [
    {
     "data": {
      "text/plain": [
       "200"
      ]
     },
     "execution_count": 13,
     "metadata": {},
     "output_type": "execute_result"
    }
   ],
   "source": [
    "from urllib.request import Request, urlopen\n",
    "\n",
    "req = Request('http://www.google.co.kr') # Request 클래스를 사용하여 req 생성\n",
    "response = urlopen(req) # urlopen 함수 사용\n",
    "response.status"
   ]
  },
  {
   "cell_type": "markdown",
   "id": "55bb1886",
   "metadata": {},
   "source": [
    "---"
   ]
  },
  {
   "cell_type": "markdown",
   "id": "16701740",
   "metadata": {},
   "source": [
    "## 44.3 파이썬 패키지 인덱스에서 패키지 설치하기 "
   ]
  },
  {
   "cell_type": "markdown",
   "id": "5898434c",
   "metadata": {},
   "source": [
    "#### 파이썬 패키지 인덱스(Python Package Index, PyPI)를 통해 다양한 패키지 사용 "
   ]
  },
  {
   "cell_type": "markdown",
   "id": "6f535274",
   "metadata": {},
   "source": [
    "### 44.3.1 pip 설치하기\n",
    "\n",
    "#### 윈도우 기본 내장 됨\n"
   ]
  },
  {
   "cell_type": "markdown",
   "id": "5cff3f20",
   "metadata": {},
   "source": [
    "#### 리눅스, macOS\n",
    "```\n",
    "    curl -O https://bootstrap.pypa.io/get-pip.py\n",
    "    sudo python3 get-pip.py\n",
    "```\n",
    "\n",
    "#### curl 설치\n",
    "```\n",
    "    # 우분투\n",
    "    sudo apt-get install curl\n",
    "    \n",
    "    # CentOS\n",
    "    sudo yum install curl\n",
    "```"
   ]
  },
  {
   "cell_type": "markdown",
   "id": "a6290bdf",
   "metadata": {},
   "source": [
    "### 44.3.2 pip로 패키지 설치\n",
    "\n",
    "#### pip install 패키지"
   ]
  },
  {
   "cell_type": "markdown",
   "id": "88f82351",
   "metadata": {},
   "source": [
    "### 44.3.3 import로 패키지 가져오기\n",
    "\n",
    "#### import 패키지"
   ]
  },
  {
   "cell_type": "code",
   "execution_count": 14,
   "id": "c0dae98a",
   "metadata": {},
   "outputs": [
    {
     "data": {
      "text/plain": [
       "200"
      ]
     },
     "execution_count": 14,
     "metadata": {},
     "output_type": "execute_result"
    }
   ],
   "source": [
    "import requests\n",
    "\n",
    "r = requests.get('http://www.google.co.kr')\n",
    "r.status_code"
   ]
  }
 ],
 "metadata": {
  "kernelspec": {
   "display_name": "Python 3 (ipykernel)",
   "language": "python",
   "name": "python3"
  },
  "language_info": {
   "codemirror_mode": {
    "name": "ipython",
    "version": 3
   },
   "file_extension": ".py",
   "mimetype": "text/x-python",
   "name": "python",
   "nbconvert_exporter": "python",
   "pygments_lexer": "ipython3",
   "version": "3.9.12"
  }
 },
 "nbformat": 4,
 "nbformat_minor": 5
}

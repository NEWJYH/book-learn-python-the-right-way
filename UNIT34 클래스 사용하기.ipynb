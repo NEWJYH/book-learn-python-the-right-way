{
 "cells": [
  {
   "cell_type": "markdown",
   "id": "71f594b7",
   "metadata": {},
   "source": [
    "## 34.1 클래스와 메서드 만들기"
   ]
  },
  {
   "cell_type": "code",
   "execution_count": 1,
   "id": "bc8d02f4",
   "metadata": {},
   "outputs": [],
   "source": [
    "class Person:\n",
    "    def greeting(self):\n",
    "        print('Hello')"
   ]
  },
  {
   "cell_type": "code",
   "execution_count": 2,
   "id": "932f3ff3",
   "metadata": {},
   "outputs": [
    {
     "name": "stdout",
     "output_type": "stream",
     "text": [
      "Hello\n"
     ]
    }
   ],
   "source": [
    "a = Person()\n",
    "a.greeting()"
   ]
  },
  {
   "cell_type": "markdown",
   "id": "1a3c5508",
   "metadata": {},
   "source": [
    "### 34.1.1 메서드 호출하기"
   ]
  },
  {
   "cell_type": "code",
   "execution_count": 3,
   "id": "f8e82804",
   "metadata": {},
   "outputs": [
    {
     "name": "stdout",
     "output_type": "stream",
     "text": [
      "Hello\n"
     ]
    }
   ],
   "source": [
    "james = Person()\n",
    "james.greeting()"
   ]
  },
  {
   "cell_type": "markdown",
   "id": "7fc50337",
   "metadata": {},
   "source": [
    "### 34.1.2 파이썬에서 흔히 볼 수 있는 클래스"
   ]
  },
  {
   "cell_type": "code",
   "execution_count": 4,
   "id": "95a39167",
   "metadata": {},
   "outputs": [
    {
     "data": {
      "text/plain": [
       "10"
      ]
     },
     "execution_count": 4,
     "metadata": {},
     "output_type": "execute_result"
    }
   ],
   "source": [
    "a = int(10)\n",
    "a"
   ]
  },
  {
   "cell_type": "code",
   "execution_count": 5,
   "id": "ca72c8db",
   "metadata": {},
   "outputs": [
    {
     "data": {
      "text/plain": [
       "[0, 1, 2, 3, 4, 5, 6, 7, 8, 9]"
      ]
     },
     "execution_count": 5,
     "metadata": {},
     "output_type": "execute_result"
    }
   ],
   "source": [
    "b = list(range(10))\n",
    "b"
   ]
  },
  {
   "cell_type": "code",
   "execution_count": 7,
   "id": "b92dc2a9",
   "metadata": {},
   "outputs": [
    {
     "data": {
      "text/plain": [
       "{'x': 10, 'y': 20}"
      ]
     },
     "execution_count": 7,
     "metadata": {},
     "output_type": "execute_result"
    }
   ],
   "source": [
    "c = dict(x=10, y=20)\n",
    "c"
   ]
  },
  {
   "cell_type": "markdown",
   "id": "4756a132",
   "metadata": {},
   "source": [
    "### 34.1.3 인스턴스와 객체의 차이점?\n",
    "#### 같은 것을 뜻함 "
   ]
  },
  {
   "cell_type": "markdown",
   "id": "e8f4eda4",
   "metadata": {},
   "source": [
    "---"
   ]
  },
  {
   "cell_type": "markdown",
   "id": "2d7be8a7",
   "metadata": {},
   "source": [
    "## 34.2 속성 사용하기"
   ]
  },
  {
   "cell_type": "code",
   "execution_count": 8,
   "id": "0eaa2b57",
   "metadata": {},
   "outputs": [
    {
     "name": "stdout",
     "output_type": "stream",
     "text": [
      "안녕하세요.\n"
     ]
    }
   ],
   "source": [
    "class Person():\n",
    "    def __init__(self):\n",
    "        self.hello = '안녕하세요.'\n",
    "        \n",
    "    def greeting(self):\n",
    "        print(self.hello)\n",
    "        \n",
    "james = Person()\n",
    "james.greeting()"
   ]
  },
  {
   "cell_type": "markdown",
   "id": "a8fcb40c",
   "metadata": {},
   "source": [
    "### 34.2.1 self의 이미\n",
    "#### self는 인스턴스 자기 자신을 의미 "
   ]
  },
  {
   "cell_type": "markdown",
   "id": "1330758f",
   "metadata": {},
   "source": [
    "### 34.2.2 인스턴스를 만들 때 값 받기"
   ]
  },
  {
   "cell_type": "code",
   "execution_count": 10,
   "id": "0cb69601",
   "metadata": {},
   "outputs": [
    {
     "name": "stdout",
     "output_type": "stream",
     "text": [
      "안녕하세요. 저는 존입니다.\n",
      "존\n",
      "20\n",
      "부산\n"
     ]
    }
   ],
   "source": [
    "class Person:\n",
    "    def __init__(self, name, age, address):\n",
    "        self.hello = \"안녕하세요.\"\n",
    "        self.name = name\n",
    "        self.age = age\n",
    "        self.address = address\n",
    "        \n",
    "    def greeting(self):\n",
    "        print(f'{self.hello} 저는 {self.name}입니다.')\n",
    "        \n",
    "jone = Person('존',20, '부산')\n",
    "jone.greeting()\n",
    "\n",
    "print(jone.name)\n",
    "print(jone.age)\n",
    "print(jone.address)"
   ]
  },
  {
   "cell_type": "markdown",
   "id": "0679ac9c",
   "metadata": {},
   "source": [
    "---"
   ]
  },
  {
   "cell_type": "markdown",
   "id": "641fd56f",
   "metadata": {},
   "source": [
    "## 34.3 비공개 속성"
   ]
  },
  {
   "cell_type": "code",
   "execution_count": 11,
   "id": "e11c12c0",
   "metadata": {
    "scrolled": true
   },
   "outputs": [
    {
     "ename": "AttributeError",
     "evalue": "'Person' object has no attribute '__wallet'",
     "output_type": "error",
     "traceback": [
      "\u001b[1;31m---------------------------------------------------------------------------\u001b[0m",
      "\u001b[1;31mAttributeError\u001b[0m                            Traceback (most recent call last)",
      "Input \u001b[1;32mIn [11]\u001b[0m, in \u001b[0;36m<cell line: 10>\u001b[1;34m()\u001b[0m\n\u001b[0;32m      7\u001b[0m         \u001b[38;5;28mself\u001b[39m\u001b[38;5;241m.\u001b[39m__wallet \u001b[38;5;241m=\u001b[39m wallet\n\u001b[0;32m      9\u001b[0m jone \u001b[38;5;241m=\u001b[39m Person(\u001b[38;5;124m'\u001b[39m\u001b[38;5;124m존\u001b[39m\u001b[38;5;124m'\u001b[39m,\u001b[38;5;241m20\u001b[39m,\u001b[38;5;124m'\u001b[39m\u001b[38;5;124m서울시 서초구 반포자이\u001b[39m\u001b[38;5;124m'\u001b[39m,\u001b[38;5;241m10000\u001b[39m)\n\u001b[1;32m---> 10\u001b[0m \u001b[43mjone\u001b[49m\u001b[38;5;241;43m.\u001b[39;49m\u001b[43m__wallet\u001b[49m\n",
      "\u001b[1;31mAttributeError\u001b[0m: 'Person' object has no attribute '__wallet'"
     ]
    }
   ],
   "source": [
    "class Person:\n",
    "    def __init__(self, name, age, address, wallet):\n",
    "        self.hello = '안녕하세요'\n",
    "        self.name = name\n",
    "        self.age = age\n",
    "        self.address = address\n",
    "        self.__wallet = wallet\n",
    "        \n",
    "jone = Person('존',20,'서울시 서초구 반포자이',10000)\n",
    "jone.__wallet"
   ]
  },
  {
   "cell_type": "code",
   "execution_count": 16,
   "id": "73d4fab8",
   "metadata": {},
   "outputs": [],
   "source": [
    "class Person:\n",
    "    def __init__(self, name, age, address, wallet):\n",
    "        self.hello = '안녕하세요'\n",
    "        self.name = name\n",
    "        self.age = age\n",
    "        self.address = address\n",
    "        self.__wallet = wallet\n",
    "        \n",
    "    def pay(self, amount):\n",
    "        if amount > self.__wallet:\n",
    "            print('돈이 모자르네요')\n",
    "            return \n",
    "        self.__wallet -= amount\n",
    "\n",
    "        \n",
    "jone = Person('존',20,'서울시 서초구 반포자이',10000)\n",
    "jone.pay(500)"
   ]
  }
 ],
 "metadata": {
  "kernelspec": {
   "display_name": "Python 3 (ipykernel)",
   "language": "python",
   "name": "python3"
  },
  "language_info": {
   "codemirror_mode": {
    "name": "ipython",
    "version": 3
   },
   "file_extension": ".py",
   "mimetype": "text/x-python",
   "name": "python",
   "nbconvert_exporter": "python",
   "pygments_lexer": "ipython3",
   "version": "3.9.12"
  }
 },
 "nbformat": 4,
 "nbformat_minor": 5
}

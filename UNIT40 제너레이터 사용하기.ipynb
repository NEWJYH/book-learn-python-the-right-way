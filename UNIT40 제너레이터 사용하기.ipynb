{
 "cells": [
  {
   "cell_type": "markdown",
   "id": "a0e08ed4",
   "metadata": {},
   "source": [
    "##### 제너레이터는 이터레이터를 생성해주는 함수"
   ]
  },
  {
   "cell_type": "markdown",
   "id": "c6a644f6",
   "metadata": {},
   "source": [
    "## 40.1 제너레이터와 yield알아보기"
   ]
  },
  {
   "cell_type": "code",
   "execution_count": 1,
   "id": "e402d7c4",
   "metadata": {},
   "outputs": [
    {
     "name": "stdout",
     "output_type": "stream",
     "text": [
      "0\n",
      "1\n",
      "2\n"
     ]
    }
   ],
   "source": [
    "def number_generator():\n",
    "    yield 0\n",
    "    yield 1\n",
    "    yield 2\n",
    "    \n",
    "for i in number_generator():\n",
    "    print(i)"
   ]
  },
  {
   "cell_type": "code",
   "execution_count": 6,
   "id": "40448378",
   "metadata": {},
   "outputs": [
    {
     "name": "stdout",
     "output_type": "stream",
     "text": [
      "['__class__', '__del__', '__delattr__', '__dir__', '__doc__', '__eq__', '__format__', '__ge__', '__getattribute__', '__gt__', '__hash__', '__init__', '__init_subclass__', '__iter__', '__le__', '__lt__', '__name__', '__ne__', '__new__', '__next__', '__qualname__', '__reduce__', '__reduce_ex__', '__repr__', '__setattr__', '__sizeof__', '__str__', '__subclasshook__', 'close', 'gi_code', 'gi_frame', 'gi_running', 'gi_yieldfrom', 'send', 'throw']\n",
      "0\n",
      "1\n",
      "2\n"
     ]
    },
    {
     "ename": "StopIteration",
     "evalue": "",
     "output_type": "error",
     "traceback": [
      "\u001b[1;31m---------------------------------------------------------------------------\u001b[0m",
      "\u001b[1;31mStopIteration\u001b[0m                             Traceback (most recent call last)",
      "Input \u001b[1;32mIn [6]\u001b[0m, in \u001b[0;36m<cell line: 6>\u001b[1;34m()\u001b[0m\n\u001b[0;32m      4\u001b[0m \u001b[38;5;28mprint\u001b[39m(g\u001b[38;5;241m.\u001b[39m\u001b[38;5;21m__next__\u001b[39m())\n\u001b[0;32m      5\u001b[0m \u001b[38;5;28mprint\u001b[39m(g\u001b[38;5;241m.\u001b[39m\u001b[38;5;21m__next__\u001b[39m())\n\u001b[1;32m----> 6\u001b[0m \u001b[38;5;28mprint\u001b[39m(\u001b[43mg\u001b[49m\u001b[38;5;241;43m.\u001b[39;49m\u001b[38;5;21;43m__next__\u001b[39;49m\u001b[43m(\u001b[49m\u001b[43m)\u001b[49m)\n",
      "\u001b[1;31mStopIteration\u001b[0m: "
     ]
    }
   ],
   "source": [
    "g = number_generator()\n",
    "print(dir(g)) #  '__iter__', '__next__',\n",
    "print(g.__next__())\n",
    "print(g.__next__())\n",
    "print(g.__next__())\n",
    "print(g.__next__())\n"
   ]
  },
  {
   "cell_type": "markdown",
   "id": "95e3d75a",
   "metadata": {},
   "source": [
    "### 40.1.2 for와 제너레이터 "
   ]
  },
  {
   "cell_type": "markdown",
   "id": "6867db4c",
   "metadata": {},
   "source": [
    "#### yield는 현재 함수를 중단하고 함수 바깥의 코드가 실행되도록 만듬 "
   ]
  },
  {
   "cell_type": "markdown",
   "id": "d91ebf64",
   "metadata": {},
   "source": [
    "### 40.1.3 yield의 동작 과정 알아보기"
   ]
  },
  {
   "cell_type": "code",
   "execution_count": 7,
   "id": "676fd4bc",
   "metadata": {},
   "outputs": [
    {
     "name": "stdout",
     "output_type": "stream",
     "text": [
      "0\n",
      "1\n",
      "2\n"
     ]
    }
   ],
   "source": [
    "def number_generator():\n",
    "    yield 0 # 0을 함수 바깥으로 전달 코드 실행을 함수 밖에 양보\n",
    "    yield 1 # 1을 함수 바깥으로 전달 코드 실행을 함수 밖에 양보\n",
    "    yield 2 # 2를 함수 바깥으로 전달 코드 실행을 함수 밖에 양보\n",
    "    \n",
    "g = number_generator()\n",
    "\n",
    "a = next(g) # yield를 사용하여 함수 바깥으로 전달한 값은 next의 반환값으로 나옴\n",
    "print(a)\n",
    "\n",
    "b = next(g)\n",
    "print(b)\n",
    "\n",
    "c = next(g)\n",
    "print(c)"
   ]
  },
  {
   "cell_type": "markdown",
   "id": "5d1206eb",
   "metadata": {},
   "source": [
    "---"
   ]
  },
  {
   "cell_type": "markdown",
   "id": "d7102c54",
   "metadata": {},
   "source": [
    "## 40.2 제너레이터 만들기"
   ]
  },
  {
   "cell_type": "code",
   "execution_count": 8,
   "id": "e8c498f9",
   "metadata": {},
   "outputs": [
    {
     "name": "stdout",
     "output_type": "stream",
     "text": [
      "0\n",
      "1\n",
      "2\n"
     ]
    }
   ],
   "source": [
    "def number_generator(stop):\n",
    "    n = 0\n",
    "    while n < stop:\n",
    "        yield n \n",
    "        n += 1\n",
    "        \n",
    "for i in number_generator(3):\n",
    "    print(i)"
   ]
  },
  {
   "cell_type": "markdown",
   "id": "dc1dcae3",
   "metadata": {},
   "source": [
    "### 40.2.1 yield에서 함수 호출하기"
   ]
  },
  {
   "cell_type": "code",
   "execution_count": 9,
   "id": "facce017",
   "metadata": {},
   "outputs": [
    {
     "name": "stdout",
     "output_type": "stream",
     "text": [
      "APPLE\n",
      "PEAR\n",
      "GRAPE\n",
      "PINEAPPLE\n"
     ]
    }
   ],
   "source": [
    "def upper_generator(x):\n",
    "    for i in x:\n",
    "        yield i.upper() # 함수의 반환값을 바깥으로 전달\n",
    "        \n",
    "fruits = ['apple','pear','grape','pineapple']\n",
    "\n",
    "for i in upper_generator(fruits):\n",
    "    print(i)"
   ]
  },
  {
   "cell_type": "markdown",
   "id": "9411e1ca",
   "metadata": {},
   "source": [
    "---"
   ]
  },
  {
   "cell_type": "markdown",
   "id": "a4c91200",
   "metadata": {},
   "source": [
    "## 40.3 yield from으로 값을 여러번 바깥으로 전달하기"
   ]
  },
  {
   "cell_type": "code",
   "execution_count": 10,
   "id": "3e5996ff",
   "metadata": {},
   "outputs": [
    {
     "name": "stdout",
     "output_type": "stream",
     "text": [
      "1\n",
      "2\n",
      "3\n"
     ]
    }
   ],
   "source": [
    "def number_generator():\n",
    "    x = [1,2,3]\n",
    "    for i in x:\n",
    "        yield i\n",
    "        \n",
    "for i in number_generator():\n",
    "    print(i)"
   ]
  },
  {
   "cell_type": "markdown",
   "id": "eb194640",
   "metadata": {},
   "source": [
    "#### yield from 반복가능한객체\n",
    "#### yield from 이터레이터\n",
    "#### yield from 제너레이터객체"
   ]
  },
  {
   "cell_type": "code",
   "execution_count": 11,
   "id": "936bda78",
   "metadata": {},
   "outputs": [
    {
     "name": "stdout",
     "output_type": "stream",
     "text": [
      "1\n",
      "2\n",
      "3\n"
     ]
    }
   ],
   "source": [
    "def number_generator():\n",
    "    x = [1,2,3]\n",
    "    yield from x # 리스트에 들어 있는 요소를 한 개씩 바깥으로 전달\n",
    "    \n",
    "for i in number_generator():\n",
    "    print(i)"
   ]
  },
  {
   "cell_type": "code",
   "execution_count": 13,
   "id": "33f02354",
   "metadata": {},
   "outputs": [
    {
     "name": "stdout",
     "output_type": "stream",
     "text": [
      "1\n",
      "2\n",
      "3\n"
     ]
    }
   ],
   "source": [
    "def number_generator():\n",
    "    yield from [1,2,3] \n",
    "for i in number_generator():\n",
    "    print(i)"
   ]
  },
  {
   "cell_type": "markdown",
   "id": "222ac523",
   "metadata": {},
   "source": [
    "### 40.3.1 yield from에 제너레이터 객체 지정하기"
   ]
  },
  {
   "cell_type": "code",
   "execution_count": 15,
   "id": "dc031e90",
   "metadata": {},
   "outputs": [
    {
     "name": "stdout",
     "output_type": "stream",
     "text": [
      "0\n",
      "1\n",
      "2\n"
     ]
    }
   ],
   "source": [
    "def number_generator(stop):\n",
    "    n = 0\n",
    "    while n < stop:\n",
    "        yield n \n",
    "        n += 1\n",
    "        \n",
    "def three_generator():\n",
    "    yield from number_generator(3)\n",
    "    \n",
    "for i in three_generator():\n",
    "    print(i)"
   ]
  }
 ],
 "metadata": {
  "kernelspec": {
   "display_name": "Python 3 (ipykernel)",
   "language": "python",
   "name": "python3"
  },
  "language_info": {
   "codemirror_mode": {
    "name": "ipython",
    "version": 3
   },
   "file_extension": ".py",
   "mimetype": "text/x-python",
   "name": "python",
   "nbconvert_exporter": "python",
   "pygments_lexer": "ipython3",
   "version": "3.9.12"
  }
 },
 "nbformat": 4,
 "nbformat_minor": 5
}

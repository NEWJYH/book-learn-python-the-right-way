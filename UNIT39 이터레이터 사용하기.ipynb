{
 "cells": [
  {
   "cell_type": "markdown",
   "id": "d7dc0de2",
   "metadata": {},
   "source": [
    "## 39.1 반복 가능한 객체 알아보기"
   ]
  },
  {
   "cell_type": "markdown",
   "id": "77200f9a",
   "metadata": {},
   "source": [
    "#### 반복가능한 객체 __iter__메서드가 들어있는지 확인"
   ]
  },
  {
   "cell_type": "code",
   "execution_count": 1,
   "id": "c2eb6295",
   "metadata": {},
   "outputs": [
    {
     "data": {
      "text/plain": [
       "['__add__',\n",
       " '__class__',\n",
       " '__class_getitem__',\n",
       " '__contains__',\n",
       " '__delattr__',\n",
       " '__delitem__',\n",
       " '__dir__',\n",
       " '__doc__',\n",
       " '__eq__',\n",
       " '__format__',\n",
       " '__ge__',\n",
       " '__getattribute__',\n",
       " '__getitem__',\n",
       " '__gt__',\n",
       " '__hash__',\n",
       " '__iadd__',\n",
       " '__imul__',\n",
       " '__init__',\n",
       " '__init_subclass__',\n",
       " '__iter__',\n",
       " '__le__',\n",
       " '__len__',\n",
       " '__lt__',\n",
       " '__mul__',\n",
       " '__ne__',\n",
       " '__new__',\n",
       " '__reduce__',\n",
       " '__reduce_ex__',\n",
       " '__repr__',\n",
       " '__reversed__',\n",
       " '__rmul__',\n",
       " '__setattr__',\n",
       " '__setitem__',\n",
       " '__sizeof__',\n",
       " '__str__',\n",
       " '__subclasshook__',\n",
       " 'append',\n",
       " 'clear',\n",
       " 'copy',\n",
       " 'count',\n",
       " 'extend',\n",
       " 'index',\n",
       " 'insert',\n",
       " 'pop',\n",
       " 'remove',\n",
       " 'reverse',\n",
       " 'sort']"
      ]
     },
     "execution_count": 1,
     "metadata": {},
     "output_type": "execute_result"
    }
   ],
   "source": [
    "dir([1,2,3]) #  '__iter__',"
   ]
  },
  {
   "cell_type": "code",
   "execution_count": 2,
   "id": "edb9eba8",
   "metadata": {},
   "outputs": [
    {
     "data": {
      "text/plain": [
       "<list_iterator at 0x23c6d85b0d0>"
      ]
     },
     "execution_count": 2,
     "metadata": {},
     "output_type": "execute_result"
    }
   ],
   "source": [
    "[1,2,3].__iter__()"
   ]
  },
  {
   "cell_type": "code",
   "execution_count": 7,
   "id": "23d2e647",
   "metadata": {},
   "outputs": [],
   "source": [
    "it = [1,2,3].__iter__()"
   ]
  },
  {
   "cell_type": "code",
   "execution_count": 8,
   "id": "bc2f8dae",
   "metadata": {},
   "outputs": [
    {
     "data": {
      "text/plain": [
       "1"
      ]
     },
     "execution_count": 8,
     "metadata": {},
     "output_type": "execute_result"
    }
   ],
   "source": [
    "it.__next__()"
   ]
  },
  {
   "cell_type": "code",
   "execution_count": 9,
   "id": "bfeabebc",
   "metadata": {},
   "outputs": [
    {
     "data": {
      "text/plain": [
       "2"
      ]
     },
     "execution_count": 9,
     "metadata": {},
     "output_type": "execute_result"
    }
   ],
   "source": [
    "it.__next__()"
   ]
  },
  {
   "cell_type": "code",
   "execution_count": 10,
   "id": "c9207ecc",
   "metadata": {},
   "outputs": [
    {
     "data": {
      "text/plain": [
       "3"
      ]
     },
     "execution_count": 10,
     "metadata": {},
     "output_type": "execute_result"
    }
   ],
   "source": [
    "it.__next__()"
   ]
  },
  {
   "cell_type": "code",
   "execution_count": 11,
   "id": "d6d673d8",
   "metadata": {},
   "outputs": [
    {
     "ename": "StopIteration",
     "evalue": "",
     "output_type": "error",
     "traceback": [
      "\u001b[1;31m---------------------------------------------------------------------------\u001b[0m",
      "\u001b[1;31mStopIteration\u001b[0m                             Traceback (most recent call last)",
      "Input \u001b[1;32mIn [11]\u001b[0m, in \u001b[0;36m<cell line: 1>\u001b[1;34m()\u001b[0m\n\u001b[1;32m----> 1\u001b[0m \u001b[43mit\u001b[49m\u001b[38;5;241;43m.\u001b[39;49m\u001b[38;5;21;43m__next__\u001b[39;49m\u001b[43m(\u001b[49m\u001b[43m)\u001b[49m\n",
      "\u001b[1;31mStopIteration\u001b[0m: "
     ]
    }
   ],
   "source": [
    "it.__next__()"
   ]
  },
  {
   "cell_type": "markdown",
   "id": "f382e4ae",
   "metadata": {},
   "source": [
    "#### 이터레이터 __next__로 요소를 계속 꺼내다가 없으면 StopIteration 예외 발생시켜 반복 끝냄"
   ]
  },
  {
   "cell_type": "markdown",
   "id": "55a66b23",
   "metadata": {},
   "source": [
    "### 39.1.1 for와 반복 가능한 객체"
   ]
  },
  {
   "cell_type": "code",
   "execution_count": 12,
   "id": "b7e02661",
   "metadata": {},
   "outputs": [
    {
     "name": "stdout",
     "output_type": "stream",
     "text": [
      "0\n",
      "1\n",
      "2\n"
     ]
    }
   ],
   "source": [
    "for i in range(3):\n",
    "    print(i)"
   ]
  },
  {
   "cell_type": "markdown",
   "id": "1c4e1e0c",
   "metadata": {},
   "source": [
    "##### 1. range에서 __iter__로 이터레이터를 얻음\n",
    "##### 2.한번 반복할 때마다 이터레이터에서 __next__로 숫자를 꺼내 i에 저장\n",
    "##### 3.지정된 숫자 3이 되면 StopIteration을 발생시켜 반복 종료"
   ]
  },
  {
   "cell_type": "markdown",
   "id": "6127279c",
   "metadata": {},
   "source": [
    "#### 클래스에 __iter__와 __next__메서드를 모두 구현시 이터레이터 만들 수 있음\n",
    "#### __iter__, __next__를 가진 객체를 이터레이터 프로토콜(iterator protocol)을 지원한다 말함"
   ]
  },
  {
   "cell_type": "markdown",
   "id": "c3cd3c4b",
   "metadata": {},
   "source": [
    "---"
   ]
  },
  {
   "cell_type": "markdown",
   "id": "a0d6474a",
   "metadata": {},
   "source": [
    "#### !!!반복 가능한 객체에서 __iter__ 메서드로 이터레이터를 얻음\n",
    "#### !!!반복 가능한 객체와 이터레이터는 별개의 객체이므로 둘은 구분해야 함!!!"
   ]
  },
  {
   "cell_type": "markdown",
   "id": "6b2713d8",
   "metadata": {},
   "source": [
    "---"
   ]
  },
  {
   "cell_type": "markdown",
   "id": "2c1a7857",
   "metadata": {},
   "source": [
    "## 39.2 이터레이터 만들기"
   ]
  },
  {
   "cell_type": "code",
   "execution_count": 13,
   "id": "848dc4ad",
   "metadata": {},
   "outputs": [
    {
     "name": "stdout",
     "output_type": "stream",
     "text": [
      "0 1 2 "
     ]
    }
   ],
   "source": [
    "class Counter:\n",
    "    def __init__(self, stop):\n",
    "        self.current = 0 # 현재 숫자 유지, 0부터 지정된 숫자 직전까지 반복\n",
    "        self.stop = stop # 반복을 끝낼 숫자\n",
    "        \n",
    "    def __iter__(self):\n",
    "        return self # 현재 인스턴스를 반환\n",
    "    \n",
    "    def __next__(self):\n",
    "        if self.current < self.stop: # 현재 숫자가 반복을 끝낼 숫자보다 적을 때\n",
    "            r = self.current         # 반환할 숫자를 변수에 저장\n",
    "            self.current += 1        # 현재 숫자를 1 증가 시킴\n",
    "            return r                # 숫자를 반환\n",
    "        else:                       # 현재 숫자가 반복을 끝낼 숫자보다 크거나 같을 때\n",
    "            raise StopIteration     # 예외 발생\n",
    "            \n",
    "            \n",
    "for i in Counter(3):\n",
    "    print(i, end=\" \")"
   ]
  },
  {
   "cell_type": "markdown",
   "id": "51697419",
   "metadata": {},
   "source": [
    "### 39.2.1 이터레이터 언패킹"
   ]
  },
  {
   "cell_type": "code",
   "execution_count": 16,
   "id": "83d1c6f5",
   "metadata": {},
   "outputs": [
    {
     "name": "stdout",
     "output_type": "stream",
     "text": [
      "0 1 2\n"
     ]
    }
   ],
   "source": [
    "a, b, c = Counter(3)\n",
    "print(a, b, c)"
   ]
  },
  {
   "cell_type": "markdown",
   "id": "d6abcb41",
   "metadata": {},
   "source": [
    "#### !!!map도 이터레이터!!!"
   ]
  },
  {
   "cell_type": "markdown",
   "id": "777c9903",
   "metadata": {},
   "source": [
    "---"
   ]
  },
  {
   "cell_type": "markdown",
   "id": "105d7ba6",
   "metadata": {},
   "source": [
    "## 39.3 인덱스로 접근할 수 있는 이터레이터 만들기"
   ]
  },
  {
   "cell_type": "code",
   "execution_count": 18,
   "id": "d206bcc4",
   "metadata": {},
   "outputs": [
    {
     "name": "stdout",
     "output_type": "stream",
     "text": [
      "0 1 2\n",
      "0 1 2 "
     ]
    }
   ],
   "source": [
    "class Counter:\n",
    "    def __init__(self, stop):\n",
    "        self.stop = stop\n",
    "        \n",
    "    def __getitem__(self, index): # 인덱스를 받음\n",
    "        if index < self.stop:     # 인덱스가 반복을 끝낼 숫자보다 작을 때\n",
    "            return index         # 인덱스를 반환\n",
    "        else:                    # 인덱스가 반복을 끝낼 숫자보다 크거나 같을 때\n",
    "            raise IndexError     # 예외발생\n",
    "            \n",
    "print(Counter(3)[0], Counter(3)[1], Counter(3)[2])\n",
    "\n",
    "for i in Counter(3):\n",
    "    print(i, end=' ')"
   ]
  },
  {
   "cell_type": "markdown",
   "id": "97bf8eca",
   "metadata": {},
   "source": [
    "#### __getitem__ 메서드만 구현해도 이터레이터가 됨\n",
    "#### __iter__, __next__는 __getitem__구현시 생략 해도 됨"
   ]
  },
  {
   "cell_type": "markdown",
   "id": "bb9ad5e1",
   "metadata": {},
   "source": [
    "---"
   ]
  },
  {
   "cell_type": "markdown",
   "id": "b6c6a073",
   "metadata": {},
   "source": [
    "## 39.4 iter, next함수 활용하기"
   ]
  },
  {
   "cell_type": "code",
   "execution_count": 19,
   "id": "3cbeaa28",
   "metadata": {},
   "outputs": [],
   "source": [
    "it = iter(range(3))"
   ]
  },
  {
   "cell_type": "code",
   "execution_count": 20,
   "id": "7f79110c",
   "metadata": {},
   "outputs": [
    {
     "data": {
      "text/plain": [
       "0"
      ]
     },
     "execution_count": 20,
     "metadata": {},
     "output_type": "execute_result"
    }
   ],
   "source": [
    "next(it)"
   ]
  },
  {
   "cell_type": "code",
   "execution_count": 21,
   "id": "668a2917",
   "metadata": {},
   "outputs": [
    {
     "data": {
      "text/plain": [
       "1"
      ]
     },
     "execution_count": 21,
     "metadata": {},
     "output_type": "execute_result"
    }
   ],
   "source": [
    "next(it)"
   ]
  },
  {
   "cell_type": "code",
   "execution_count": 22,
   "id": "ee3d15ab",
   "metadata": {},
   "outputs": [
    {
     "data": {
      "text/plain": [
       "2"
      ]
     },
     "execution_count": 22,
     "metadata": {},
     "output_type": "execute_result"
    }
   ],
   "source": [
    "next(it)"
   ]
  },
  {
   "cell_type": "code",
   "execution_count": 23,
   "id": "9b954d5f",
   "metadata": {},
   "outputs": [
    {
     "ename": "StopIteration",
     "evalue": "",
     "output_type": "error",
     "traceback": [
      "\u001b[1;31m---------------------------------------------------------------------------\u001b[0m",
      "\u001b[1;31mStopIteration\u001b[0m                             Traceback (most recent call last)",
      "Input \u001b[1;32mIn [23]\u001b[0m, in \u001b[0;36m<cell line: 1>\u001b[1;34m()\u001b[0m\n\u001b[1;32m----> 1\u001b[0m \u001b[38;5;28;43mnext\u001b[39;49m\u001b[43m(\u001b[49m\u001b[43mit\u001b[49m\u001b[43m)\u001b[49m\n",
      "\u001b[1;31mStopIteration\u001b[0m: "
     ]
    }
   ],
   "source": [
    "next(it)"
   ]
  },
  {
   "cell_type": "markdown",
   "id": "f05a0633",
   "metadata": {},
   "source": [
    "### 39.4.1 iter"
   ]
  },
  {
   "cell_type": "markdown",
   "id": "b729ed68",
   "metadata": {},
   "source": [
    "    - iter 반복을 끝낼 값을 지정하면 특정 값이 나올 때 반복을 끝냄\n",
    "    - 반복가능한 객체 대신 호출 가능한 객체(callable) 넣어줌\n",
    "    - 반복을 끝낼 값은 sentinel(감시병)이라고 부름"
   ]
  },
  {
   "cell_type": "markdown",
   "id": "be2fcb20",
   "metadata": {},
   "source": [
    "#### iter(호출가능한객체, 반복을 끝낼값)"
   ]
  },
  {
   "cell_type": "code",
   "execution_count": 24,
   "id": "49c8c46e",
   "metadata": {},
   "outputs": [],
   "source": [
    "import random\n",
    "it = iter(lambda : random.randint(0,5), 2)"
   ]
  },
  {
   "cell_type": "code",
   "execution_count": 25,
   "id": "6e3d7068",
   "metadata": {},
   "outputs": [
    {
     "data": {
      "text/plain": [
       "3"
      ]
     },
     "execution_count": 25,
     "metadata": {},
     "output_type": "execute_result"
    }
   ],
   "source": [
    "next(it)"
   ]
  },
  {
   "cell_type": "code",
   "execution_count": 26,
   "id": "b1ac6ed3",
   "metadata": {},
   "outputs": [
    {
     "data": {
      "text/plain": [
       "1"
      ]
     },
     "execution_count": 26,
     "metadata": {},
     "output_type": "execute_result"
    }
   ],
   "source": [
    "next(it)"
   ]
  },
  {
   "cell_type": "code",
   "execution_count": 27,
   "id": "2c9bb8f2",
   "metadata": {},
   "outputs": [
    {
     "data": {
      "text/plain": [
       "1"
      ]
     },
     "execution_count": 27,
     "metadata": {},
     "output_type": "execute_result"
    }
   ],
   "source": [
    "next(it)"
   ]
  },
  {
   "cell_type": "code",
   "execution_count": 35,
   "id": "2b19c0bc",
   "metadata": {},
   "outputs": [
    {
     "ename": "StopIteration",
     "evalue": "",
     "output_type": "error",
     "traceback": [
      "\u001b[1;31m---------------------------------------------------------------------------\u001b[0m",
      "\u001b[1;31mStopIteration\u001b[0m                             Traceback (most recent call last)",
      "Input \u001b[1;32mIn [35]\u001b[0m, in \u001b[0;36m<cell line: 1>\u001b[1;34m()\u001b[0m\n\u001b[1;32m----> 1\u001b[0m \u001b[38;5;28;43mnext\u001b[39;49m\u001b[43m(\u001b[49m\u001b[43mit\u001b[49m\u001b[43m)\u001b[49m\n",
      "\u001b[1;31mStopIteration\u001b[0m: "
     ]
    }
   ],
   "source": [
    "next(it)"
   ]
  },
  {
   "cell_type": "code",
   "execution_count": 40,
   "id": "dbc00b07",
   "metadata": {},
   "outputs": [
    {
     "name": "stdout",
     "output_type": "stream",
     "text": [
      "4 0 3 4 5 0 1 1 3 4 3 0 5 1 "
     ]
    }
   ],
   "source": [
    "for i in iter(lambda : random.randint(0, 5), 2):\n",
    "    print(i, end=' ')"
   ]
  },
  {
   "cell_type": "markdown",
   "id": "4068b876",
   "metadata": {},
   "source": [
    "### 39.4.2 next"
   ]
  },
  {
   "cell_type": "markdown",
   "id": "defa7eb7",
   "metadata": {},
   "source": [
    "    - next 기본값을 지정 가능\n",
    "    - 기본값 지정 시 반복이 끝나더라도 StopIteration이 발생하지 않고 기본값을 출력\n",
    "    - 반복할 수 있을 때는 해당 값을 출력\n",
    "    - 반복이 끝났을 때는 기본값을 출력"
   ]
  },
  {
   "cell_type": "code",
   "execution_count": 42,
   "id": "fa5b0f05",
   "metadata": {},
   "outputs": [
    {
     "name": "stdout",
     "output_type": "stream",
     "text": [
      "0\n",
      "1\n",
      "2\n",
      "10\n",
      "10\n",
      "10\n",
      "10\n",
      "10\n",
      "10\n",
      "10\n"
     ]
    }
   ],
   "source": [
    "it = iter(range(3))\n",
    "for i in range(10):\n",
    "    print(next(it, 10))"
   ]
  }
 ],
 "metadata": {
  "kernelspec": {
   "display_name": "Python 3 (ipykernel)",
   "language": "python",
   "name": "python3"
  },
  "language_info": {
   "codemirror_mode": {
    "name": "ipython",
    "version": 3
   },
   "file_extension": ".py",
   "mimetype": "text/x-python",
   "name": "python",
   "nbconvert_exporter": "python",
   "pygments_lexer": "ipython3",
   "version": "3.9.12"
  }
 },
 "nbformat": 4,
 "nbformat_minor": 5
}

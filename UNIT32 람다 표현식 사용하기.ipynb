{
 "cells": [
  {
   "cell_type": "markdown",
   "id": "1b5be81b",
   "metadata": {},
   "source": [
    "## 32.1 람다 표현식으로 함수 만들기"
   ]
  },
  {
   "cell_type": "code",
   "execution_count": 1,
   "id": "c99269d1",
   "metadata": {},
   "outputs": [
    {
     "data": {
      "text/plain": [
       "15"
      ]
     },
     "execution_count": 1,
     "metadata": {},
     "output_type": "execute_result"
    }
   ],
   "source": [
    "def plus_ten(x):\n",
    "    return x + 10\n",
    "\n",
    "plus_ten(5)"
   ]
  },
  {
   "cell_type": "code",
   "execution_count": 2,
   "id": "84400bd0",
   "metadata": {},
   "outputs": [
    {
     "data": {
      "text/plain": [
       "<function __main__.<lambda>(x)>"
      ]
     },
     "execution_count": 2,
     "metadata": {},
     "output_type": "execute_result"
    }
   ],
   "source": [
    "lambda x : x + 10"
   ]
  },
  {
   "cell_type": "code",
   "execution_count": 3,
   "id": "c1b4fde7",
   "metadata": {},
   "outputs": [
    {
     "data": {
      "text/plain": [
       "20"
      ]
     },
     "execution_count": 3,
     "metadata": {},
     "output_type": "execute_result"
    }
   ],
   "source": [
    "plus_ten = lambda x: x+10\n",
    "plus_ten(10)"
   ]
  },
  {
   "cell_type": "markdown",
   "id": "8561deff",
   "metadata": {},
   "source": [
    "### 32.1.1 람다 표현식 자체를 호출하기"
   ]
  },
  {
   "cell_type": "code",
   "execution_count": 4,
   "id": "6a4e4246",
   "metadata": {},
   "outputs": [
    {
     "data": {
      "text/plain": [
       "11"
      ]
     },
     "execution_count": 4,
     "metadata": {},
     "output_type": "execute_result"
    }
   ],
   "source": [
    "(lambda x : x+10)(1)"
   ]
  },
  {
   "cell_type": "markdown",
   "id": "e017811f",
   "metadata": {},
   "source": [
    "### 32.1.2 람다 표현식 안에서는 변수를 만들 수 없다"
   ]
  },
  {
   "cell_type": "code",
   "execution_count": 5,
   "id": "90f26ca9",
   "metadata": {},
   "outputs": [
    {
     "ename": "SyntaxError",
     "evalue": "invalid syntax (1386453270.py, line 1)",
     "output_type": "error",
     "traceback": [
      "\u001b[1;36m  Input \u001b[1;32mIn [5]\u001b[1;36m\u001b[0m\n\u001b[1;33m    (lambda x: y =10; x+y)(2)\u001b[0m\n\u001b[1;37m                 ^\u001b[0m\n\u001b[1;31mSyntaxError\u001b[0m\u001b[1;31m:\u001b[0m invalid syntax\n"
     ]
    }
   ],
   "source": [
    "(lambda x: y =10; x+y)(2)"
   ]
  },
  {
   "cell_type": "code",
   "execution_count": 6,
   "id": "23e71eef",
   "metadata": {},
   "outputs": [
    {
     "data": {
      "text/plain": [
       "11"
      ]
     },
     "execution_count": 6,
     "metadata": {},
     "output_type": "execute_result"
    }
   ],
   "source": [
    "y = 10\n",
    "(lambda x : x+ y)(1)"
   ]
  },
  {
   "cell_type": "markdown",
   "id": "ad0cb0a9",
   "metadata": {},
   "source": [
    "### 32.1.3 람다 표현식을 인수로 사용하기"
   ]
  },
  {
   "cell_type": "code",
   "execution_count": 7,
   "id": "b0d129da",
   "metadata": {},
   "outputs": [
    {
     "data": {
      "text/plain": [
       "[11, 12, 13]"
      ]
     },
     "execution_count": 7,
     "metadata": {},
     "output_type": "execute_result"
    }
   ],
   "source": [
    "def plus_ten(x):\n",
    "    return x + 10\n",
    "\n",
    "list(map(plus_ten, [1,2,3]))"
   ]
  },
  {
   "cell_type": "code",
   "execution_count": 8,
   "id": "a06b7e95",
   "metadata": {},
   "outputs": [
    {
     "data": {
      "text/plain": [
       "[11, 12, 13]"
      ]
     },
     "execution_count": 8,
     "metadata": {},
     "output_type": "execute_result"
    }
   ],
   "source": [
    "list(map(lambda x : x+ 10, [1,2,3]))"
   ]
  },
  {
   "cell_type": "markdown",
   "id": "c1049d51",
   "metadata": {},
   "source": [
    "---"
   ]
  },
  {
   "cell_type": "markdown",
   "id": "3ace654d",
   "metadata": {},
   "source": [
    "## 32.2 람다 표현식과 map, filter, reduce 함수 활용하기"
   ]
  },
  {
   "cell_type": "markdown",
   "id": "9de62f68",
   "metadata": {},
   "source": [
    "### 32.2.1 람다 표현식에 조건부 표현식 사용하기"
   ]
  },
  {
   "cell_type": "code",
   "execution_count": 9,
   "id": "72889356",
   "metadata": {},
   "outputs": [
    {
     "data": {
      "text/plain": [
       "[1, 2, '3', 4, 5, '6', 7, 8, '9', 10]"
      ]
     },
     "execution_count": 9,
     "metadata": {},
     "output_type": "execute_result"
    }
   ],
   "source": [
    "a = [1,2,3,4,5,6,7,8,9,10]\n",
    "list(map(lambda x : str(x) if x % 3 == 0 else x, a))"
   ]
  },
  {
   "cell_type": "code",
   "execution_count": 10,
   "id": "170ca9b2",
   "metadata": {},
   "outputs": [
    {
     "data": {
      "text/plain": [
       "[11, 2.0, '3', 4.0, 15, '6', 17, 8.0, '9', 10.0]"
      ]
     },
     "execution_count": 10,
     "metadata": {},
     "output_type": "execute_result"
    }
   ],
   "source": [
    "a = [1,2,3,4,5,6,7,8,9,10]\n",
    "list(map(lambda x : str(x) if x % 3 == 0 else x, a))\n",
    "\n",
    "list(map(lambda x : str(x) if x%3==0 else float(x) if x%2==0 else x+10 , a))"
   ]
  },
  {
   "cell_type": "markdown",
   "id": "ab97a01c",
   "metadata": {},
   "source": [
    "### 32.2.2 map에 객체를 여러 개 넣기"
   ]
  },
  {
   "cell_type": "code",
   "execution_count": 11,
   "id": "6db788fd",
   "metadata": {},
   "outputs": [
    {
     "data": {
      "text/plain": [
       "[2, 8, 18, 32, 50]"
      ]
     },
     "execution_count": 11,
     "metadata": {},
     "output_type": "execute_result"
    }
   ],
   "source": [
    "a = [1, 2, 3, 4, 5]\n",
    "b = [2, 4, 6, 8, 10]\n",
    "\n",
    "list(map(lambda x, y : x*y, a, b))"
   ]
  },
  {
   "cell_type": "markdown",
   "id": "bbf375d2",
   "metadata": {},
   "source": [
    "### 32.2.3 filter 사용하기"
   ]
  },
  {
   "cell_type": "markdown",
   "id": "4cefd2aa",
   "metadata": {},
   "source": [
    "#### filter(함수, 반복가능한객체)"
   ]
  },
  {
   "cell_type": "code",
   "execution_count": 15,
   "id": "1acd5bb7",
   "metadata": {},
   "outputs": [
    {
     "data": {
      "text/plain": [
       "[8, 7, 9]"
      ]
     },
     "execution_count": 15,
     "metadata": {},
     "output_type": "execute_result"
    }
   ],
   "source": [
    "def f(x):\n",
    "    return x > 5 and x < 10\n",
    "\n",
    "a = [8,3,2,10,15,7,1,9,0,11]\n",
    "\n",
    "list(filter(f, a))\n",
    "\n",
    "list(filter(lambda x : x > 5 and x < 10, a))"
   ]
  },
  {
   "cell_type": "markdown",
   "id": "0e3e6cb9",
   "metadata": {},
   "source": [
    "### 32.2.4 reduce 사용하기"
   ]
  },
  {
   "cell_type": "code",
   "execution_count": 17,
   "id": "510ac808",
   "metadata": {},
   "outputs": [
    {
     "data": {
      "text/plain": [
       "15"
      ]
     },
     "execution_count": 17,
     "metadata": {},
     "output_type": "execute_result"
    }
   ],
   "source": [
    "from functools import reduce\n",
    "# reduce(함수, 반복가능한객체)\n",
    "\n",
    "def f(x,y):\n",
    "    return x+y\n",
    "\n",
    "a = [1,2,3,4,5]\n",
    "reduce(f, a)\n",
    "\n",
    "reduce(lambda x, y : x+y, a)"
   ]
  }
 ],
 "metadata": {
  "kernelspec": {
   "display_name": "Python 3 (ipykernel)",
   "language": "python",
   "name": "python3"
  },
  "language_info": {
   "codemirror_mode": {
    "name": "ipython",
    "version": 3
   },
   "file_extension": ".py",
   "mimetype": "text/x-python",
   "name": "python",
   "nbconvert_exporter": "python",
   "pygments_lexer": "ipython3",
   "version": "3.9.12"
  }
 },
 "nbformat": 4,
 "nbformat_minor": 5
}

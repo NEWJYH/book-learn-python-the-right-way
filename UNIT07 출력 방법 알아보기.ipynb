{
 "cells": [
  {
   "cell_type": "markdown",
   "id": "bd41d94b",
   "metadata": {},
   "source": [
    "## 7.1 값을 여러 개 출력하기"
   ]
  },
  {
   "cell_type": "code",
   "execution_count": 2,
   "id": "f2316467",
   "metadata": {},
   "outputs": [
    {
     "name": "stdout",
     "output_type": "stream",
     "text": [
      "1 2 3\n",
      "Hello Python\n"
     ]
    }
   ],
   "source": [
    "print(1, 2, 3)\n",
    "print(\"Hello\", \"Python\")"
   ]
  },
  {
   "cell_type": "markdown",
   "id": "a832a2d0",
   "metadata": {},
   "source": [
    "### 7.1.1 sep로 값 사이에 문자 넣기"
   ]
  },
  {
   "cell_type": "code",
   "execution_count": 3,
   "id": "363430cd",
   "metadata": {},
   "outputs": [
    {
     "name": "stdout",
     "output_type": "stream",
     "text": [
      "1, 2, 3\n",
      "4,5,6\n",
      "HelloPython\n",
      "1920x1080\n"
     ]
    }
   ],
   "source": [
    "print(1,2,3, sep=', ')\n",
    "print(4,5,6, sep=\",\")\n",
    "print('Hello', 'Python', sep=\"\")\n",
    "print(1920, 1080, sep=\"x\")"
   ]
  },
  {
   "cell_type": "markdown",
   "id": "d4634b79",
   "metadata": {},
   "source": [
    "---"
   ]
  },
  {
   "cell_type": "markdown",
   "id": "45cfb7f2",
   "metadata": {},
   "source": [
    "## 7.2 줄바꿈 활용하기"
   ]
  },
  {
   "cell_type": "code",
   "execution_count": 4,
   "id": "64cead46",
   "metadata": {},
   "outputs": [
    {
     "name": "stdout",
     "output_type": "stream",
     "text": [
      "1\n",
      "2\n",
      "3\n"
     ]
    }
   ],
   "source": [
    "print(1,2,3, sep='\\n')"
   ]
  },
  {
   "cell_type": "code",
   "execution_count": null,
   "id": "d171dc56",
   "metadata": {},
   "outputs": [],
   "source": [
    "# 제어문자\n",
    "# \\n 다음줄로 이동 개행\n",
    "# \\t 탭 문자\n",
    "# \\\\ \\문자 자체를 출력할 때는 \\를 두번 사용 "
   ]
  },
  {
   "cell_type": "markdown",
   "id": "65f54840",
   "metadata": {},
   "source": [
    "### 7.2.1 end 사용하기 "
   ]
  },
  {
   "cell_type": "code",
   "execution_count": 5,
   "id": "eb55ca59",
   "metadata": {},
   "outputs": [
    {
     "name": "stdout",
     "output_type": "stream",
     "text": [
      "123\n"
     ]
    }
   ],
   "source": [
    "print(1, end=\"\")\n",
    "print(2, end=\"\")\n",
    "print(3)\n",
    "# 기본적으로 print()함수에는 end='\\n'이 지정된 상태 \n",
    "# 빈 문자열로 지정하면 강제로 \\n을 지워주기 때문"
   ]
  }
 ],
 "metadata": {
  "kernelspec": {
   "display_name": "Python 3 (ipykernel)",
   "language": "python",
   "name": "python3"
  },
  "language_info": {
   "codemirror_mode": {
    "name": "ipython",
    "version": 3
   },
   "file_extension": ".py",
   "mimetype": "text/x-python",
   "name": "python",
   "nbconvert_exporter": "python",
   "pygments_lexer": "ipython3",
   "version": "3.9.12"
  }
 },
 "nbformat": 4,
 "nbformat_minor": 5
}

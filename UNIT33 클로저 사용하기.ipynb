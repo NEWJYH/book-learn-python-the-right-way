{
 "cells": [
  {
   "cell_type": "markdown",
   "id": "7509f602",
   "metadata": {},
   "source": [
    "## 33.1 변수의 사용 범위 알아보기"
   ]
  },
  {
   "cell_type": "code",
   "execution_count": 1,
   "id": "b4985f60",
   "metadata": {},
   "outputs": [
    {
     "name": "stdout",
     "output_type": "stream",
     "text": [
      "10\n",
      "10\n"
     ]
    }
   ],
   "source": [
    "x = 10 # 전역변수\n",
    "def foo():\n",
    "    print(x)\n",
    "    \n",
    "    \n",
    "foo()\n",
    "print(x)"
   ]
  },
  {
   "cell_type": "code",
   "execution_count": 2,
   "id": "a34bd906",
   "metadata": {},
   "outputs": [
    {
     "name": "stdout",
     "output_type": "stream",
     "text": [
      "10\n"
     ]
    },
    {
     "ename": "NameError",
     "evalue": "name 'y' is not defined",
     "output_type": "error",
     "traceback": [
      "\u001b[1;31m---------------------------------------------------------------------------\u001b[0m",
      "\u001b[1;31mNameError\u001b[0m                                 Traceback (most recent call last)",
      "Input \u001b[1;32mIn [2]\u001b[0m, in \u001b[0;36m<cell line: 6>\u001b[1;34m()\u001b[0m\n\u001b[0;32m      3\u001b[0m     \u001b[38;5;28mprint\u001b[39m(y)\n\u001b[0;32m      5\u001b[0m foo()    \n\u001b[1;32m----> 6\u001b[0m \u001b[38;5;28mprint\u001b[39m(\u001b[43my\u001b[49m)\n",
      "\u001b[1;31mNameError\u001b[0m: name 'y' is not defined"
     ]
    }
   ],
   "source": [
    "def foo():\n",
    "    y = 10\n",
    "    print(y)\n",
    "\n",
    "foo()    \n",
    "print(y)"
   ]
  },
  {
   "cell_type": "markdown",
   "id": "c5b83c73",
   "metadata": {},
   "source": [
    "### 33.1.1 함수 안에서 전역 변수 변경하기"
   ]
  },
  {
   "cell_type": "code",
   "execution_count": 3,
   "id": "a3be0c33",
   "metadata": {},
   "outputs": [
    {
     "name": "stdout",
     "output_type": "stream",
     "text": [
      "20\n",
      "10\n"
     ]
    }
   ],
   "source": [
    "x = 10\n",
    "\n",
    "def foo():\n",
    "    x = 20\n",
    "    print(x)\n",
    "    \n",
    "foo()\n",
    "print(x) # 변경되지 않음"
   ]
  },
  {
   "cell_type": "code",
   "execution_count": 4,
   "id": "b76fd5eb",
   "metadata": {},
   "outputs": [
    {
     "name": "stdout",
     "output_type": "stream",
     "text": [
      "20\n",
      "20\n"
     ]
    }
   ],
   "source": [
    "x = 10\n",
    "def foo():\n",
    "    global x \n",
    "    x = 20\n",
    "    print(x)\n",
    "    \n",
    "foo()\n",
    "print(x)"
   ]
  },
  {
   "cell_type": "code",
   "execution_count": 5,
   "id": "bd352181",
   "metadata": {},
   "outputs": [
    {
     "name": "stdout",
     "output_type": "stream",
     "text": [
      "20\n",
      "20\n"
     ]
    }
   ],
   "source": [
    "def foo():\n",
    "    global c\n",
    "    c = 20\n",
    "    print(c)\n",
    "    \n",
    "foo()\n",
    "print(c)"
   ]
  },
  {
   "cell_type": "markdown",
   "id": "3922c701",
   "metadata": {},
   "source": [
    "---"
   ]
  },
  {
   "cell_type": "markdown",
   "id": "57a698e0",
   "metadata": {},
   "source": [
    "#### namespace\n",
    "#### 파이썬에서 변수는 네임스페이스에 저장됨\n",
    "#### locals 함수를 사용하면 현재 네임스페이스를 딕셔너리 형태로 출력할 수 있음"
   ]
  },
  {
   "cell_type": "code",
   "execution_count": 12,
   "id": "a319fc23",
   "metadata": {},
   "outputs": [
    {
     "name": "stdout",
     "output_type": "stream",
     "text": [
      "{'__name__': '__main__', '__doc__': 'Automatically created module for IPython interactive environment', '__package__': None, '__loader__': None, '__spec__': None, '__builtin__': <module 'builtins' (built-in)>, '__builtins__': <module 'builtins' (built-in)>, '_ih': ['', 'x = 10 # 전역변수\\ndef foo():\\n    print(x)\\n    \\n    \\nfoo()\\nprint(x)', 'def foo():\\n    y = 10\\n    print(y)\\n\\nfoo()    \\nprint(y)', 'x = 10\\n\\ndef foo():\\n    x = 20\\n    print(x)\\n    \\nfoo()\\nprint(x)', 'x = 10\\ndef foo():\\n    global x \\n    x = 20\\n    print(x)\\n    \\nfoo()\\nprint(x)', 'def foo():\\n    global c\\n    c = 20\\n    print(c)\\n    \\nfoo()\\nprint(c)', \"def print_hello():\\n    hello = 'Hello, world!'\\n    def print_message():\\n        print(hello)\\n    print_message()\\n    \\nprint_hello()\", 'x = 10\\nlocals()', 'x = 10\\nlocals()\\nprint(locals())', 'x = 10\\nprint(locals())', 'def foo():\\n    x = 10\\n    print(locals())', 'def foo():\\n    x = 10\\n    print(locals())\\nfoo()', 'x = 10\\nprint(locals())'], '_oh': {7: {...}}, '_dh': [WindowsPath('C:/Users/younghun/Documents/PYTHON/book_Learn_Python_The_Right_Way')], 'In': ['', 'x = 10 # 전역변수\\ndef foo():\\n    print(x)\\n    \\n    \\nfoo()\\nprint(x)', 'def foo():\\n    y = 10\\n    print(y)\\n\\nfoo()    \\nprint(y)', 'x = 10\\n\\ndef foo():\\n    x = 20\\n    print(x)\\n    \\nfoo()\\nprint(x)', 'x = 10\\ndef foo():\\n    global x \\n    x = 20\\n    print(x)\\n    \\nfoo()\\nprint(x)', 'def foo():\\n    global c\\n    c = 20\\n    print(c)\\n    \\nfoo()\\nprint(c)', \"def print_hello():\\n    hello = 'Hello, world!'\\n    def print_message():\\n        print(hello)\\n    print_message()\\n    \\nprint_hello()\", 'x = 10\\nlocals()', 'x = 10\\nlocals()\\nprint(locals())', 'x = 10\\nprint(locals())', 'def foo():\\n    x = 10\\n    print(locals())', 'def foo():\\n    x = 10\\n    print(locals())\\nfoo()', 'x = 10\\nprint(locals())'], 'Out': {7: {...}}, 'get_ipython': <bound method InteractiveShell.get_ipython of <ipykernel.zmqshell.ZMQInteractiveShell object at 0x0000021EB6C9BDF0>>, 'exit': <IPython.core.autocall.ZMQExitAutocall object at 0x0000021EB6CCA520>, 'quit': <IPython.core.autocall.ZMQExitAutocall object at 0x0000021EB6CCA520>, '_': {...}, '__': '', '___': '', '_i': 'def foo():\\n    x = 10\\n    print(locals())\\nfoo()', '_ii': 'def foo():\\n    x = 10\\n    print(locals())', '_iii': 'x = 10\\nprint(locals())', '_i1': 'x = 10 # 전역변수\\ndef foo():\\n    print(x)\\n    \\n    \\nfoo()\\nprint(x)', 'x': 10, 'foo': <function foo at 0x0000021EB95F3940>, '_i2': 'def foo():\\n    y = 10\\n    print(y)\\n\\nfoo()    \\nprint(y)', '_i3': 'x = 10\\n\\ndef foo():\\n    x = 20\\n    print(x)\\n    \\nfoo()\\nprint(x)', '_i4': 'x = 10\\ndef foo():\\n    global x \\n    x = 20\\n    print(x)\\n    \\nfoo()\\nprint(x)', '_i5': 'def foo():\\n    global c\\n    c = 20\\n    print(c)\\n    \\nfoo()\\nprint(c)', 'c': 20, '_i6': \"def print_hello():\\n    hello = 'Hello, world!'\\n    def print_message():\\n        print(hello)\\n    print_message()\\n    \\nprint_hello()\", 'print_hello': <function print_hello at 0x0000021EB95F3820>, '_i7': 'x = 10\\nlocals()', '_7': {...}, '_i8': 'x = 10\\nlocals()\\nprint(locals())', '_i9': 'x = 10\\nprint(locals())', '_i10': 'def foo():\\n    x = 10\\n    print(locals())', '_i11': 'def foo():\\n    x = 10\\n    print(locals())\\nfoo()', '_i12': 'x = 10\\nprint(locals())'}\n"
     ]
    }
   ],
   "source": [
    "x = 10\n",
    "print(locals())"
   ]
  },
  {
   "cell_type": "code",
   "execution_count": 13,
   "id": "97fc1493",
   "metadata": {},
   "outputs": [
    {
     "name": "stdout",
     "output_type": "stream",
     "text": [
      "{'x': 10}\n"
     ]
    }
   ],
   "source": [
    "def foo():\n",
    "    x = 10\n",
    "    print(locals())\n",
    "foo()"
   ]
  },
  {
   "cell_type": "markdown",
   "id": "cbd3351b",
   "metadata": {},
   "source": [
    "## 33.2 함수 안에서 함수 만들기"
   ]
  },
  {
   "cell_type": "code",
   "execution_count": 6,
   "id": "cc2203e9",
   "metadata": {},
   "outputs": [
    {
     "name": "stdout",
     "output_type": "stream",
     "text": [
      "Hello, world!\n"
     ]
    }
   ],
   "source": [
    "def print_hello():\n",
    "    hello = 'Hello, world!'\n",
    "    def print_message():\n",
    "        print(hello)\n",
    "    print_message()\n",
    "    \n",
    "print_hello()"
   ]
  },
  {
   "cell_type": "markdown",
   "id": "4a8b472b",
   "metadata": {},
   "source": [
    "### 33.2.1 지역 변수의 범위"
   ]
  },
  {
   "cell_type": "code",
   "execution_count": 14,
   "id": "55fba796",
   "metadata": {},
   "outputs": [],
   "source": [
    "def print_hello():\n",
    "    hello = \"Hello, world!\"\n",
    "    def print_message(): # 바깥쪽 함수의 지역 변수를 사용\n",
    "        print(hello)\n",
    "    print_message()\n",
    "    "
   ]
  },
  {
   "cell_type": "markdown",
   "id": "b95621a0",
   "metadata": {},
   "source": [
    "### 33.2.2 지역 변수 변경하기"
   ]
  },
  {
   "cell_type": "code",
   "execution_count": 16,
   "id": "36c5cbea",
   "metadata": {},
   "outputs": [
    {
     "name": "stdout",
     "output_type": "stream",
     "text": [
      "10\n"
     ]
    }
   ],
   "source": [
    "def A():\n",
    "    x = 10 # A의 지역변수\n",
    "    def B():\n",
    "        x = 20 # x에 20할당 # B의 지역변수 x를 새로 만듦이 옳다\n",
    "    B()\n",
    "    print(x)\n",
    "    \n",
    "A()"
   ]
  },
  {
   "cell_type": "code",
   "execution_count": 19,
   "id": "757c0ec8",
   "metadata": {},
   "outputs": [
    {
     "name": "stdout",
     "output_type": "stream",
     "text": [
      "20\n"
     ]
    }
   ],
   "source": [
    "def A():\n",
    "    x = 10 # 함수A의 지역변수 x\n",
    "    def B():\n",
    "        nonlocal x # 현재 함수의 바깥쪽에 있는 지역 변수 사용\n",
    "        x = 20 # A의 지역변수 x에 20 할당\n",
    "    B()\n",
    "    print(x) # A의 지역 변수 x 출력\n",
    "    \n",
    "A()"
   ]
  },
  {
   "cell_type": "markdown",
   "id": "7d7878b8",
   "metadata": {},
   "source": [
    "### 33.2.3 nonlocal이 변수를 찾는 순서"
   ]
  },
  {
   "cell_type": "code",
   "execution_count": 21,
   "id": "30207f31",
   "metadata": {},
   "outputs": [
    {
     "name": "stdout",
     "output_type": "stream",
     "text": [
      "50\n",
      "400\n"
     ]
    }
   ],
   "source": [
    "def A():\n",
    "    x = 10\n",
    "    y = 100\n",
    "    def B():\n",
    "        x = 20\n",
    "        def C():\n",
    "            nonlocal x\n",
    "            nonlocal y\n",
    "            x = x + 30\n",
    "            y = y + 300\n",
    "            print(x)\n",
    "            print(y)\n",
    "        C()\n",
    "    B()\n",
    "    \n",
    "A()\n",
    "\n",
    "# 함수 외부와 가까운 순서로 찾고 없으면 다음을 찾음 "
   ]
  },
  {
   "cell_type": "markdown",
   "id": "9588144d",
   "metadata": {},
   "source": [
    "### 33.2.4 global로 전역 변수 사용하기"
   ]
  },
  {
   "cell_type": "code",
   "execution_count": 22,
   "id": "239bdde9",
   "metadata": {},
   "outputs": [
    {
     "name": "stdout",
     "output_type": "stream",
     "text": [
      "31\n"
     ]
    }
   ],
   "source": [
    "x = 1\n",
    "def A():\n",
    "    x = 10\n",
    "    def B():\n",
    "        x = 20\n",
    "        def C():\n",
    "            global x \n",
    "            x = x + 30\n",
    "            print(x)\n",
    "        C()\n",
    "        \n",
    "    B()\n",
    "    \n",
    "A()"
   ]
  },
  {
   "cell_type": "markdown",
   "id": "fa252542",
   "metadata": {},
   "source": [
    "#### 파이썬에서 global을 제공\n",
    "#### 매개변수와 반환값을 사용하는 것이 좋음\n",
    "#### 코드가 복잡할 경우 어디서 바꾸는지 알기 힘듬"
   ]
  },
  {
   "cell_type": "markdown",
   "id": "a9d4d701",
   "metadata": {},
   "source": [
    "---"
   ]
  },
  {
   "cell_type": "markdown",
   "id": "d0c75a3b",
   "metadata": {},
   "source": [
    "## 33.3 클로저 사용하기"
   ]
  },
  {
   "cell_type": "code",
   "execution_count": 23,
   "id": "f1c63200",
   "metadata": {},
   "outputs": [
    {
     "name": "stdout",
     "output_type": "stream",
     "text": [
      "8 11 14 17 20\n"
     ]
    }
   ],
   "source": [
    "# closure.py\n",
    "\n",
    "def calc():\n",
    "    a = 3\n",
    "    b = 5\n",
    "    def mul_add(x):\n",
    "        return a*x + b\n",
    "    return mul_add\n",
    "\n",
    "\n",
    "c = calc()\n",
    "print(c(1),c(2),c(3),c(4),c(5))"
   ]
  },
  {
   "cell_type": "markdown",
   "id": "d73367f9",
   "metadata": {},
   "source": [
    "#### 클로저 사용 : 프로그램의 흐름을 변수에 저장\n",
    "#### 클로저 : 지역 변수와 코드를 묶어서 사용하고 싶을때 사용\n",
    "#### 클로저에 속한 지역 변수는 바깥에서 직접 접근 불가능\n",
    "#### 데이터 숨기고 싶을 때 활용"
   ]
  },
  {
   "cell_type": "markdown",
   "id": "b72a6f5a",
   "metadata": {},
   "source": [
    "### 33.3.1 lambda로 클로저 만들기"
   ]
  },
  {
   "cell_type": "code",
   "execution_count": 24,
   "id": "aa1c3fbe",
   "metadata": {},
   "outputs": [
    {
     "name": "stdout",
     "output_type": "stream",
     "text": [
      "8 11 14 17 20\n"
     ]
    }
   ],
   "source": [
    "# closure_lambda.py\n",
    "def calc():\n",
    "    a = 3\n",
    "    b = 5\n",
    "    return lambda x : a*x + b # 람다표현식 반환\n",
    "\n",
    "c = calc()\n",
    "print(c(1), c(2), c(3), c(4), c(5))"
   ]
  },
  {
   "cell_type": "markdown",
   "id": "445ea356",
   "metadata": {},
   "source": [
    "### 33.3.2 클로저의 지역 변수 변경하기"
   ]
  },
  {
   "cell_type": "code",
   "execution_count": 25,
   "id": "aac4e192",
   "metadata": {},
   "outputs": [
    {
     "name": "stdout",
     "output_type": "stream",
     "text": [
      "8\n",
      "19\n",
      "33\n"
     ]
    }
   ],
   "source": [
    "def calc():\n",
    "    a = 3\n",
    "    b = 5\n",
    "    total = 0\n",
    "    def mul_add(x):\n",
    "        nonlocal total\n",
    "        total = total + a*x + b\n",
    "        print(total)\n",
    "    return mul_add\n",
    "\n",
    "c = calc()\n",
    "c(1)\n",
    "c(2)\n",
    "c(3)"
   ]
  }
 ],
 "metadata": {
  "kernelspec": {
   "display_name": "Python 3 (ipykernel)",
   "language": "python",
   "name": "python3"
  },
  "language_info": {
   "codemirror_mode": {
    "name": "ipython",
    "version": 3
   },
   "file_extension": ".py",
   "mimetype": "text/x-python",
   "name": "python",
   "nbconvert_exporter": "python",
   "pygments_lexer": "ipython3",
   "version": "3.9.12"
  }
 },
 "nbformat": 4,
 "nbformat_minor": 5
}

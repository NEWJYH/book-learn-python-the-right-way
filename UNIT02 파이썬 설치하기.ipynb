{
 "cells": [
  {
   "cell_type": "markdown",
   "id": "fca562c7",
   "metadata": {},
   "source": [
    "### 2.1.1 windows에 파이썬 설치하기"
   ]
  },
  {
   "cell_type": "markdown",
   "id": "7ba5de0a",
   "metadata": {},
   "source": [
    "### 2.1.2 IDLE 실행(통합 개발 학습 환경)"
   ]
  },
  {
   "cell_type": "markdown",
   "id": "ed446f50",
   "metadata": {},
   "source": [
    "### 2.1.3 프로젝트 폴더 생성"
   ]
  },
  {
   "cell_type": "markdown",
   "id": "94db3394",
   "metadata": {},
   "source": [
    "### 2.1.4 리눅스에 파이썬 설치하기"
   ]
  },
  {
   "cell_type": "markdown",
   "id": "a33d8add",
   "metadata": {},
   "source": [
    "### 2.1.5 macOS에 파이썬 설치하기"
   ]
  }
 ],
 "metadata": {
  "kernelspec": {
   "display_name": "Python 3 (ipykernel)",
   "language": "python",
   "name": "python3"
  },
  "language_info": {
   "codemirror_mode": {
    "name": "ipython",
    "version": 3
   },
   "file_extension": ".py",
   "mimetype": "text/x-python",
   "name": "python",
   "nbconvert_exporter": "python",
   "pygments_lexer": "ipython3",
   "version": "3.9.12"
  }
 },
 "nbformat": 4,
 "nbformat_minor": 5
}

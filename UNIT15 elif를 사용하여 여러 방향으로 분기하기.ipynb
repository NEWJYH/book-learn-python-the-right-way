{
 "cells": [
  {
   "cell_type": "markdown",
   "id": "75234669",
   "metadata": {},
   "source": [
    "## 15.1 elif 사용하기"
   ]
  },
  {
   "cell_type": "markdown",
   "id": "6b90d717",
   "metadata": {},
   "source": [
    "### 15.1.1 if, elif, else를 모두 사용하기"
   ]
  },
  {
   "cell_type": "markdown",
   "id": "d3dd782f",
   "metadata": {},
   "source": [
    "### 15.1.2 음료수 자판기 만들기"
   ]
  }
 ],
 "metadata": {
  "kernelspec": {
   "display_name": "Python 3 (ipykernel)",
   "language": "python",
   "name": "python3"
  },
  "language_info": {
   "codemirror_mode": {
    "name": "ipython",
    "version": 3
   },
   "file_extension": ".py",
   "mimetype": "text/x-python",
   "name": "python",
   "nbconvert_exporter": "python",
   "pygments_lexer": "ipython3",
   "version": "3.9.12"
  }
 },
 "nbformat": 4,
 "nbformat_minor": 5
}

{
 "cells": [
  {
   "cell_type": "markdown",
   "id": "04190295",
   "metadata": {},
   "source": [
    "## 27.1 파일에 문자열 쓰기, 읽기"
   ]
  },
  {
   "cell_type": "code",
   "execution_count": 3,
   "id": "c52504a0",
   "metadata": {},
   "outputs": [],
   "source": [
    "import os\n",
    "\n",
    "os.mkdir(\"UNIT27\")"
   ]
  },
  {
   "cell_type": "code",
   "execution_count": 11,
   "id": "3d0b96af",
   "metadata": {},
   "outputs": [],
   "source": [
    "FILEPATH = 'UNIT27/hello.txt'"
   ]
  },
  {
   "cell_type": "code",
   "execution_count": 4,
   "id": "a29f18fd",
   "metadata": {},
   "outputs": [],
   "source": [
    "file = open('UNIT27/hello.txt', 'w') # hello.txt 파일을 쓰기 모드(w)로 열기, 파일 객체 반환\n",
    "file.write('hello, world!') # 파일에 문자열 저장\n",
    "file.close() # 파일 객체 닫기"
   ]
  },
  {
   "cell_type": "markdown",
   "id": "0b38fd1d",
   "metadata": {},
   "source": [
    "### 27.1.2 파일에서 문자열 읽기"
   ]
  },
  {
   "cell_type": "code",
   "execution_count": 6,
   "id": "5560481a",
   "metadata": {},
   "outputs": [
    {
     "name": "stdout",
     "output_type": "stream",
     "text": [
      "hello, world!\n"
     ]
    }
   ],
   "source": [
    "file = open('UNIT27/hello.txt', 'r') # hello.txt 파일을 읽기 모드(r)로 열기, 파일 객체 반환\n",
    "s = file.read() # 파일에서 문자열 읽기\n",
    "print(s) # hello, world!\n",
    "file.close() # 파일 객체 닫기"
   ]
  },
  {
   "cell_type": "markdown",
   "id": "2cd405ca",
   "metadata": {},
   "source": [
    "### 27.1.3 자동으로 파일 객체 닫기"
   ]
  },
  {
   "cell_type": "code",
   "execution_count": 7,
   "id": "a03d9c2f",
   "metadata": {},
   "outputs": [
    {
     "name": "stdout",
     "output_type": "stream",
     "text": [
      "hello, world!\n"
     ]
    }
   ],
   "source": [
    "with open('UNIT27/hello.txt', 'r') as file:\n",
    "    s = file.read()\n",
    "    print(s)"
   ]
  },
  {
   "cell_type": "markdown",
   "id": "22155d5c",
   "metadata": {},
   "source": [
    "---"
   ]
  },
  {
   "cell_type": "markdown",
   "id": "3b21a62e",
   "metadata": {},
   "source": [
    "## 27.2 문자열 여러 줄을 파일에 쓰기, 읽기"
   ]
  },
  {
   "cell_type": "markdown",
   "id": "e9601a05",
   "metadata": {},
   "source": [
    "### 27.2.1 반복문으로 문자열 여러 줄을 파일에 쓰기"
   ]
  },
  {
   "cell_type": "code",
   "execution_count": 8,
   "id": "a809addd",
   "metadata": {},
   "outputs": [],
   "source": [
    "with open('UNIT27/hello.txt', 'w') as f:\n",
    "    for i in range(3):\n",
    "        f.write('Hello, world {0}\\n'.format(i))"
   ]
  },
  {
   "cell_type": "code",
   "execution_count": 9,
   "id": "2ca06604",
   "metadata": {},
   "outputs": [
    {
     "name": "stdout",
     "output_type": "stream",
     "text": [
      "Hello, world 0\n",
      "Hello, world 1\n",
      "Hello, world 2\n",
      "\n"
     ]
    }
   ],
   "source": [
    "with open('UNIT27/hello.txt', 'r') as f:\n",
    "    s = f.read()\n",
    "    print(s)"
   ]
  },
  {
   "cell_type": "markdown",
   "id": "a8f63cba",
   "metadata": {},
   "source": [
    "### 27.2.2 리스트에 들어있는 문자열을 파일에 쓰기"
   ]
  },
  {
   "cell_type": "code",
   "execution_count": 13,
   "id": "9f17d241",
   "metadata": {},
   "outputs": [
    {
     "name": "stdout",
     "output_type": "stream",
     "text": [
      "안녕하세요\n",
      "파이썬\n",
      "연습중입니다.\n",
      "\n"
     ]
    }
   ],
   "source": [
    "lines = [\n",
    "    '안녕하세요\\n',\n",
    "    '파이썬\\n',\n",
    "    '연습중입니다.\\n'\n",
    "]\n",
    "\n",
    "with open(FILEPATH, 'w') as f:\n",
    "    f.writelines(lines)\n",
    "    \n",
    "# 확인\n",
    "with open(FILEPATH, 'r') as f:\n",
    "    s = f.read()\n",
    "    print(s)"
   ]
  },
  {
   "cell_type": "markdown",
   "id": "b2fde427",
   "metadata": {},
   "source": [
    "### 27.2.3 파일의 내용을 한 줄씩 리스트로 가져오기"
   ]
  },
  {
   "cell_type": "code",
   "execution_count": 14,
   "id": "f7e7070f",
   "metadata": {},
   "outputs": [
    {
     "name": "stdout",
     "output_type": "stream",
     "text": [
      "['안녕하세요\\n', '파이썬\\n', '연습중입니다.\\n']\n"
     ]
    }
   ],
   "source": [
    "with open(FILEPATH, 'r') as file:\n",
    "    lines = file.readlines()\n",
    "    print(lines)"
   ]
  },
  {
   "cell_type": "markdown",
   "id": "587341f3",
   "metadata": {},
   "source": [
    "### 27.2.4 파일의 내용을 한 줄씩 읽기"
   ]
  },
  {
   "cell_type": "code",
   "execution_count": 16,
   "id": "f95ec853",
   "metadata": {},
   "outputs": [
    {
     "name": "stdout",
     "output_type": "stream",
     "text": [
      "안녕하세요\n",
      "파이썬\n",
      "연습중입니다.\n",
      "\n"
     ]
    }
   ],
   "source": [
    "with open(FILEPATH, 'r') as file:\n",
    "    line = None # 변수 line을 None으로 초기화\n",
    "    while line != \"\":\n",
    "        line = file.readline()\n",
    "        print(line.strip('\\n')) # 파일에서 읽어온 문자열에서 \\n 삭제하여 출력"
   ]
  },
  {
   "cell_type": "markdown",
   "id": "41e9a7e9",
   "metadata": {},
   "source": [
    "### 27.2.5 for 반복문으로 파일의 내용을 줄 단위로 읽기"
   ]
  },
  {
   "cell_type": "code",
   "execution_count": 17,
   "id": "4d56300d",
   "metadata": {},
   "outputs": [
    {
     "name": "stdout",
     "output_type": "stream",
     "text": [
      "안녕하세요\n",
      "파이썬\n",
      "연습중입니다.\n"
     ]
    }
   ],
   "source": [
    "with open(FILEPATH, 'r') as file:\n",
    "    for line in file: \n",
    "        print(line.strip('\\n'))"
   ]
  },
  {
   "cell_type": "markdown",
   "id": "03bf6324",
   "metadata": {},
   "source": [
    "#### 파일 객체는 이터레이터\n",
    "#### 언패킹 가능 a,b,c = file "
   ]
  },
  {
   "cell_type": "markdown",
   "id": "2bf38ef4",
   "metadata": {},
   "source": [
    "---"
   ]
  },
  {
   "cell_type": "markdown",
   "id": "58fb954d",
   "metadata": {},
   "source": [
    "## 27.3 파이썬 객체를 파일에 저장하기, 가져오기"
   ]
  },
  {
   "cell_type": "markdown",
   "id": "5f9b8dc1",
   "metadata": {},
   "source": [
    "### 27.3.1 파이썬 객체를 파일에 저장하기"
   ]
  },
  {
   "cell_type": "code",
   "execution_count": 18,
   "id": "ba5c2534",
   "metadata": {},
   "outputs": [],
   "source": [
    "import pickle\n",
    "\n",
    "name = 'kimhanna'\n",
    "age = 31\n",
    "address ='서울시 서초구 반포동'\n",
    "scores = {'korean':90, 'english':95, 'science':82}\n",
    "\n",
    "with open('UNIT27/hanna.p', 'wb') as file: # james.p 파일을 바이너리 쓰기 모드(wb)로 열기\n",
    "    pickle.dump(name, file)\n",
    "    pickle.dump(age, file)    \n",
    "    pickle.dump(address, file)    \n",
    "    pickle.dump(scores, file)    "
   ]
  },
  {
   "cell_type": "markdown",
   "id": "5dcec8f4",
   "metadata": {},
   "source": [
    "### 27.3.2 파일에서 파이썬 객체 읽기"
   ]
  },
  {
   "cell_type": "code",
   "execution_count": 19,
   "id": "84e4ffe5",
   "metadata": {},
   "outputs": [
    {
     "name": "stdout",
     "output_type": "stream",
     "text": [
      "kimhanna 31 서울시 서초구 반포동 {'korean': 90, 'english': 95, 'science': 82}\n"
     ]
    }
   ],
   "source": [
    "import pickle\n",
    "\n",
    "with open('UNIT27/hanna.p', 'rb') as file:\n",
    "    name = pickle.load(file)\n",
    "    age = pickle.load(file)    \n",
    "    address = pickle.load(file)    \n",
    "    score = pickle.load(file)\n",
    "    print(name, age, address, score)"
   ]
  }
 ],
 "metadata": {
  "kernelspec": {
   "display_name": "Python 3 (ipykernel)",
   "language": "python",
   "name": "python3"
  },
  "language_info": {
   "codemirror_mode": {
    "name": "ipython",
    "version": 3
   },
   "file_extension": ".py",
   "mimetype": "text/x-python",
   "name": "python",
   "nbconvert_exporter": "python",
   "pygments_lexer": "ipython3",
   "version": "3.9.12"
  }
 },
 "nbformat": 4,
 "nbformat_minor": 5
}

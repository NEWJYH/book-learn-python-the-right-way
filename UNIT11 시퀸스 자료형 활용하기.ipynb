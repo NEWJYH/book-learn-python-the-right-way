{
 "cells": [
  {
   "cell_type": "markdown",
   "id": "a448a4e8",
   "metadata": {},
   "source": [
    "## 11.1 시퀸스 자료형의 공통 기능 사용하기"
   ]
  },
  {
   "cell_type": "markdown",
   "id": "b1e0fafd",
   "metadata": {},
   "source": [
    "### 11.1.1 특정 값이 있는지 확인하기"
   ]
  },
  {
   "cell_type": "markdown",
   "id": "e7c5fe34",
   "metadata": {},
   "source": [
    "### 11.1.2 시퀸스 객체 연결하기"
   ]
  },
  {
   "cell_type": "markdown",
   "id": "efd7c7f7",
   "metadata": {},
   "source": [
    "### 11.1.3 시퀸스 객체 반복하기"
   ]
  },
  {
   "cell_type": "code",
   "execution_count": 1,
   "id": "9b96c84c",
   "metadata": {},
   "outputs": [
    {
     "data": {
      "text/plain": [
       "[0, 10, 20, 30, 0, 10, 20, 30, 0, 10, 20, 30]"
      ]
     },
     "execution_count": 1,
     "metadata": {},
     "output_type": "execute_result"
    }
   ],
   "source": [
    "[0,10,20,30] * 3"
   ]
  },
  {
   "cell_type": "code",
   "execution_count": 4,
   "id": "a9762bc6",
   "metadata": {},
   "outputs": [
    {
     "data": {
      "text/plain": [
       "[[0], [0], [0]]"
      ]
     },
     "execution_count": 4,
     "metadata": {},
     "output_type": "execute_result"
    }
   ],
   "source": [
    "[[0]]*3"
   ]
  },
  {
   "cell_type": "markdown",
   "id": "099b0bbb",
   "metadata": {},
   "source": [
    "---"
   ]
  },
  {
   "cell_type": "markdown",
   "id": "f410ebe4",
   "metadata": {},
   "source": [
    "## 11.2 시퀸스 객체의 요소 개수 구하기"
   ]
  },
  {
   "cell_type": "markdown",
   "id": "8ca6cc39",
   "metadata": {},
   "source": [
    "### 11.2.1 리스트와 튜플의 요소 개수 구하기"
   ]
  },
  {
   "cell_type": "markdown",
   "id": "352294f5",
   "metadata": {},
   "source": [
    "### 11.2.2 range의 숫자 생성 개수 구하기"
   ]
  },
  {
   "cell_type": "markdown",
   "id": "33d28299",
   "metadata": {},
   "source": [
    "### 11.2.3 문자열의 길이 구하기"
   ]
  },
  {
   "cell_type": "markdown",
   "id": "89216d6d",
   "metadata": {},
   "source": [
    "---"
   ]
  },
  {
   "cell_type": "markdown",
   "id": "bd259ba4",
   "metadata": {},
   "source": [
    "## 11.3 인덱스 사용하기"
   ]
  },
  {
   "cell_type": "markdown",
   "id": "49dc7abd",
   "metadata": {},
   "source": [
    "### 11.3.1 음수 인덱스 지정하기"
   ]
  },
  {
   "cell_type": "markdown",
   "id": "ceea72ec",
   "metadata": {},
   "source": [
    "### 11.3.2 인덱스의 범위를 벗어나면?"
   ]
  },
  {
   "cell_type": "markdown",
   "id": "4d25d1f9",
   "metadata": {},
   "source": [
    "### 11.3.3 마지막 요소에 접근하기"
   ]
  },
  {
   "cell_type": "markdown",
   "id": "11a49dd5",
   "metadata": {},
   "source": [
    "### 11.3.4 요소에 값 할당하기"
   ]
  },
  {
   "cell_type": "markdown",
   "id": "c51c73b4",
   "metadata": {},
   "source": [
    "### 11.3.5 del로 요소 삭제하기"
   ]
  },
  {
   "cell_type": "markdown",
   "id": "4ad7ffaf",
   "metadata": {},
   "source": [
    "---"
   ]
  },
  {
   "cell_type": "markdown",
   "id": "0ee61962",
   "metadata": {},
   "source": [
    "## 11.4 슬라이스 사용하기"
   ]
  },
  {
   "cell_type": "markdown",
   "id": "7938cd03",
   "metadata": {},
   "source": [
    "### 11.4.1 리스트의 중간 부분 가져오기"
   ]
  },
  {
   "cell_type": "markdown",
   "id": "c8e2ff76",
   "metadata": {},
   "source": [
    "### 11.4.2 인덱스 증가폭 사용하기"
   ]
  },
  {
   "cell_type": "markdown",
   "id": "93ff8157",
   "metadata": {},
   "source": [
    "### 11.4.3 인덱스 생략하기"
   ]
  },
  {
   "cell_type": "markdown",
   "id": "bc92043b",
   "metadata": {},
   "source": [
    "### 11.4.4 인덱스를 생략하면서 증가폭 사용하기"
   ]
  },
  {
   "cell_type": "markdown",
   "id": "9791dfef",
   "metadata": {},
   "source": [
    "### 11.4.5 len 응용하기"
   ]
  },
  {
   "cell_type": "markdown",
   "id": "d4e8b548",
   "metadata": {},
   "source": [
    "### 11.4.6 튜플, range, 문자열에 슬라이스 사용하기"
   ]
  },
  {
   "cell_type": "markdown",
   "id": "a793f953",
   "metadata": {},
   "source": [
    "### 11.4.7 슬라이스에 요소 할당하기"
   ]
  },
  {
   "cell_type": "markdown",
   "id": "adb63516",
   "metadata": {},
   "source": [
    "### 11.4.8 del로 슬라이스 삭제하기"
   ]
  }
 ],
 "metadata": {
  "kernelspec": {
   "display_name": "Python 3 (ipykernel)",
   "language": "python",
   "name": "python3"
  },
  "language_info": {
   "codemirror_mode": {
    "name": "ipython",
    "version": 3
   },
   "file_extension": ".py",
   "mimetype": "text/x-python",
   "name": "python",
   "nbconvert_exporter": "python",
   "pygments_lexer": "ipython3",
   "version": "3.9.12"
  }
 },
 "nbformat": 4,
 "nbformat_minor": 5
}

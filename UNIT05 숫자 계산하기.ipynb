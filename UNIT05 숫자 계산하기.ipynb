{
 "cells": [
  {
   "cell_type": "markdown",
   "id": "27f0402a",
   "metadata": {},
   "source": [
    "## 5.1 정수 계산하기"
   ]
  },
  {
   "cell_type": "markdown",
   "id": "2eb417bc",
   "metadata": {},
   "source": [
    "### 5.1.1 사칙연산"
   ]
  },
  {
   "cell_type": "markdown",
   "id": "9903b554",
   "metadata": {},
   "source": [
    "### 5.1.2 나눗셈 후 소수점 이하를 버리는 // 연산자"
   ]
  },
  {
   "cell_type": "markdown",
   "id": "3bb07e19",
   "metadata": {},
   "source": [
    "### 5.1.3 나눗셈 후 나머지를 구하는 % 연산자"
   ]
  },
  {
   "cell_type": "markdown",
   "id": "484e9198",
   "metadata": {},
   "source": [
    "### 5.1.4 거듭제곱을 구하는 ** 연산자"
   ]
  },
  {
   "cell_type": "markdown",
   "id": "39117c88",
   "metadata": {},
   "source": [
    "### 5.1.5 값을 정수로 만들기"
   ]
  },
  {
   "cell_type": "markdown",
   "id": "e876e2d1",
   "metadata": {},
   "source": [
    "### 5.1.6 객체의 자료형 알아내기 "
   ]
  },
  {
   "cell_type": "markdown",
   "id": "ad1a4447",
   "metadata": {},
   "source": [
    "---"
   ]
  },
  {
   "cell_type": "markdown",
   "id": "c1b3c690",
   "metadata": {},
   "source": [
    "## 5.2 실수 계산하기"
   ]
  },
  {
   "cell_type": "markdown",
   "id": "4da9f4cf",
   "metadata": {},
   "source": [
    "### 5.2.1 실수와 정수를 함께 계산하면?"
   ]
  },
  {
   "cell_type": "markdown",
   "id": "f6a8a067",
   "metadata": {},
   "source": [
    "### 5.2.2 값을 실수로 만들기"
   ]
  },
  {
   "cell_type": "markdown",
   "id": "a2d603be",
   "metadata": {},
   "source": [
    "---"
   ]
  },
  {
   "cell_type": "markdown",
   "id": "be75cabe",
   "metadata": {},
   "source": [
    "## 5.3 괄호 사용하기"
   ]
  }
 ],
 "metadata": {
  "kernelspec": {
   "display_name": "Python 3 (ipykernel)",
   "language": "python",
   "name": "python3"
  },
  "language_info": {
   "codemirror_mode": {
    "name": "ipython",
    "version": 3
   },
   "file_extension": ".py",
   "mimetype": "text/x-python",
   "name": "python",
   "nbconvert_exporter": "python",
   "pygments_lexer": "ipython3",
   "version": "3.9.12"
  }
 },
 "nbformat": 4,
 "nbformat_minor": 5
}

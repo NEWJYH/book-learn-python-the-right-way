{
 "cells": [
  {
   "cell_type": "markdown",
   "id": "bec133a3",
   "metadata": {},
   "source": [
    "## 26.1 세트 만들기"
   ]
  },
  {
   "cell_type": "code",
   "execution_count": 1,
   "id": "dd78a17e",
   "metadata": {},
   "outputs": [
    {
     "data": {
      "text/plain": [
       "{'cherry', 'grape', 'orange', 'pipneapple', 'strawberry'}"
      ]
     },
     "execution_count": 1,
     "metadata": {},
     "output_type": "execute_result"
    }
   ],
   "source": [
    "fruits = {'strawberry', 'grape', 'orange', 'pipneapple', 'cherry'}\n",
    "fruits"
   ]
  },
  {
   "cell_type": "markdown",
   "id": "78b62184",
   "metadata": {},
   "source": [
    "#### set  = {값1, 값2, 값3}"
   ]
  },
  {
   "cell_type": "markdown",
   "id": "d29852a8",
   "metadata": {},
   "source": [
    "### 26.1.1 세트에 특정 값이 있는지 확인하기"
   ]
  },
  {
   "cell_type": "code",
   "execution_count": 2,
   "id": "265e7f66",
   "metadata": {},
   "outputs": [
    {
     "data": {
      "text/plain": [
       "True"
      ]
     },
     "execution_count": 2,
     "metadata": {},
     "output_type": "execute_result"
    }
   ],
   "source": [
    "fruits = {'strawberry', 'grape', 'orange', 'pipneapple', 'cherry'}\n",
    "\n",
    "'orange' in fruits"
   ]
  },
  {
   "cell_type": "code",
   "execution_count": 3,
   "id": "d27a9230",
   "metadata": {},
   "outputs": [
    {
     "data": {
      "text/plain": [
       "False"
      ]
     },
     "execution_count": 3,
     "metadata": {},
     "output_type": "execute_result"
    }
   ],
   "source": [
    "'peach' in fruits"
   ]
  },
  {
   "cell_type": "markdown",
   "id": "dd857d6a",
   "metadata": {},
   "source": [
    "### 26.1.2 set를 사용하여 세트 만들기"
   ]
  },
  {
   "cell_type": "code",
   "execution_count": 4,
   "id": "1057898e",
   "metadata": {},
   "outputs": [
    {
     "data": {
      "text/plain": [
       "{'a', 'e', 'l', 'p'}"
      ]
     },
     "execution_count": 4,
     "metadata": {},
     "output_type": "execute_result"
    }
   ],
   "source": [
    "a = set('apple')\n",
    "a"
   ]
  },
  {
   "cell_type": "code",
   "execution_count": 5,
   "id": "bbe50536",
   "metadata": {},
   "outputs": [
    {
     "data": {
      "text/plain": [
       "{0, 1, 2, 3, 4}"
      ]
     },
     "execution_count": 5,
     "metadata": {},
     "output_type": "execute_result"
    }
   ],
   "source": [
    "b = set(range(5))\n",
    "b"
   ]
  },
  {
   "cell_type": "code",
   "execution_count": 7,
   "id": "b89e62af",
   "metadata": {},
   "outputs": [
    {
     "data": {
      "text/plain": [
       "set()"
      ]
     },
     "execution_count": 7,
     "metadata": {},
     "output_type": "execute_result"
    }
   ],
   "source": [
    "c = set()\n",
    "c"
   ]
  },
  {
   "cell_type": "markdown",
   "id": "2fcd9661",
   "metadata": {},
   "source": [
    "---"
   ]
  },
  {
   "cell_type": "markdown",
   "id": "6467b637",
   "metadata": {},
   "source": [
    "## 26.2 집합 연산 사용하기"
   ]
  },
  {
   "cell_type": "code",
   "execution_count": 8,
   "id": "231ed897",
   "metadata": {},
   "outputs": [
    {
     "data": {
      "text/plain": [
       "{1, 2, 3, 4, 5, 6}"
      ]
     },
     "execution_count": 8,
     "metadata": {},
     "output_type": "execute_result"
    }
   ],
   "source": [
    "# 합집합\n",
    "a = {1, 2, 3, 4}\n",
    "b = {3, 4, 5, 6}\n",
    "a|b # 합집합"
   ]
  },
  {
   "cell_type": "code",
   "execution_count": 10,
   "id": "9cde5b05",
   "metadata": {},
   "outputs": [
    {
     "data": {
      "text/plain": [
       "{1, 2, 3, 4, 5, 6}"
      ]
     },
     "execution_count": 10,
     "metadata": {},
     "output_type": "execute_result"
    }
   ],
   "source": [
    "# 합집합\n",
    "a = {1, 2, 3, 4}\n",
    "b = {3, 4, 5, 6}\n",
    "a.union(b) # 합집합"
   ]
  },
  {
   "cell_type": "code",
   "execution_count": 11,
   "id": "43685005",
   "metadata": {},
   "outputs": [
    {
     "data": {
      "text/plain": [
       "{3, 4}"
      ]
     },
     "execution_count": 11,
     "metadata": {},
     "output_type": "execute_result"
    }
   ],
   "source": [
    "a & b # 교집합"
   ]
  },
  {
   "cell_type": "code",
   "execution_count": 13,
   "id": "00e7420d",
   "metadata": {},
   "outputs": [
    {
     "data": {
      "text/plain": [
       "{3, 4}"
      ]
     },
     "execution_count": 13,
     "metadata": {},
     "output_type": "execute_result"
    }
   ],
   "source": [
    "set.intersection(a,b)# 교집합"
   ]
  },
  {
   "cell_type": "code",
   "execution_count": 14,
   "id": "02539698",
   "metadata": {},
   "outputs": [
    {
     "data": {
      "text/plain": [
       "{1, 2}"
      ]
     },
     "execution_count": 14,
     "metadata": {},
     "output_type": "execute_result"
    }
   ],
   "source": [
    "# 차집합\n",
    "a - b"
   ]
  },
  {
   "cell_type": "code",
   "execution_count": 15,
   "id": "30d07348",
   "metadata": {},
   "outputs": [
    {
     "data": {
      "text/plain": [
       "{5, 6}"
      ]
     },
     "execution_count": 15,
     "metadata": {},
     "output_type": "execute_result"
    }
   ],
   "source": [
    "# 차집합\n",
    "b - a"
   ]
  },
  {
   "cell_type": "code",
   "execution_count": 16,
   "id": "a8a8d975",
   "metadata": {},
   "outputs": [
    {
     "data": {
      "text/plain": [
       "{1, 2}"
      ]
     },
     "execution_count": 16,
     "metadata": {},
     "output_type": "execute_result"
    }
   ],
   "source": [
    "set.difference(a,b)"
   ]
  },
  {
   "cell_type": "code",
   "execution_count": 17,
   "id": "c413959a",
   "metadata": {},
   "outputs": [
    {
     "data": {
      "text/plain": [
       "{1, 2, 5, 6}"
      ]
     },
     "execution_count": 17,
     "metadata": {},
     "output_type": "execute_result"
    }
   ],
   "source": [
    "# xor 연산\n",
    "a ^ b # 대칭차집합 연산"
   ]
  },
  {
   "cell_type": "markdown",
   "id": "03c428c1",
   "metadata": {},
   "source": [
    "### 26.2.1 집합 연산 후 할당 연산자 사용하기"
   ]
  },
  {
   "cell_type": "code",
   "execution_count": 18,
   "id": "455ab805",
   "metadata": {},
   "outputs": [
    {
     "data": {
      "text/plain": [
       "{1, 2, 3, 4, 5}"
      ]
     },
     "execution_count": 18,
     "metadata": {},
     "output_type": "execute_result"
    }
   ],
   "source": [
    "a = {1,2,3,4}\n",
    "a |= {5}\n",
    "a"
   ]
  },
  {
   "cell_type": "code",
   "execution_count": 19,
   "id": "1e2b587a",
   "metadata": {},
   "outputs": [
    {
     "data": {
      "text/plain": [
       "{1, 2, 3, 4, 5}"
      ]
     },
     "execution_count": 19,
     "metadata": {},
     "output_type": "execute_result"
    }
   ],
   "source": [
    "a = {1,2,3,4}\n",
    "a.update({5})\n",
    "a"
   ]
  },
  {
   "cell_type": "code",
   "execution_count": 20,
   "id": "65bc164a",
   "metadata": {},
   "outputs": [
    {
     "data": {
      "text/plain": [
       "{3, 4}"
      ]
     },
     "execution_count": 20,
     "metadata": {},
     "output_type": "execute_result"
    }
   ],
   "source": [
    "a = {1, 2, 3, 4}\n",
    "b = {3, 4, 5, 6}\n",
    "\n",
    "a &= b\n",
    "a"
   ]
  },
  {
   "cell_type": "code",
   "execution_count": 21,
   "id": "75d02516",
   "metadata": {},
   "outputs": [
    {
     "data": {
      "text/plain": [
       "{1, 2, 3, 4}"
      ]
     },
     "execution_count": 21,
     "metadata": {},
     "output_type": "execute_result"
    }
   ],
   "source": [
    "a = {1, 2, 3, 4}\n",
    "\n",
    "a.intersection_update({0,1,2,3,4})\n",
    "a"
   ]
  },
  {
   "cell_type": "markdown",
   "id": "cf0ad4a0",
   "metadata": {},
   "source": [
    "### 26.02.2 부분 집합과 상위집합 확인하기"
   ]
  },
  {
   "cell_type": "code",
   "execution_count": 22,
   "id": "34152110",
   "metadata": {},
   "outputs": [
    {
     "data": {
      "text/plain": [
       "True"
      ]
     },
     "execution_count": 22,
     "metadata": {},
     "output_type": "execute_result"
    }
   ],
   "source": [
    "a = {1, 2, 3, 4}\n",
    "a <= {1,2,3,4}"
   ]
  },
  {
   "cell_type": "code",
   "execution_count": 23,
   "id": "8062d726",
   "metadata": {},
   "outputs": [
    {
     "data": {
      "text/plain": [
       "True"
      ]
     },
     "execution_count": 23,
     "metadata": {},
     "output_type": "execute_result"
    }
   ],
   "source": [
    "a.issubset({1,2,3,4,5})"
   ]
  },
  {
   "cell_type": "code",
   "execution_count": 24,
   "id": "6cc6301e",
   "metadata": {},
   "outputs": [
    {
     "data": {
      "text/plain": [
       "True"
      ]
     },
     "execution_count": 24,
     "metadata": {},
     "output_type": "execute_result"
    }
   ],
   "source": [
    "a = {1,2,3,4}\n",
    "a >= {1,2,3,4}"
   ]
  },
  {
   "cell_type": "code",
   "execution_count": 25,
   "id": "70b0832d",
   "metadata": {},
   "outputs": [
    {
     "data": {
      "text/plain": [
       "True"
      ]
     },
     "execution_count": 25,
     "metadata": {},
     "output_type": "execute_result"
    }
   ],
   "source": [
    "a.issuperset({1,2,3,4})"
   ]
  },
  {
   "cell_type": "markdown",
   "id": "55fc9db5",
   "metadata": {},
   "source": [
    "### 26.2.3 세트가 같은지 다른지 확인하기"
   ]
  },
  {
   "cell_type": "code",
   "execution_count": 26,
   "id": "f5a72eeb",
   "metadata": {},
   "outputs": [
    {
     "data": {
      "text/plain": [
       "True"
      ]
     },
     "execution_count": 26,
     "metadata": {},
     "output_type": "execute_result"
    }
   ],
   "source": [
    "a = {1, 2, 3, 4}\n",
    "a == {1, 2, 3, 4}"
   ]
  },
  {
   "cell_type": "code",
   "execution_count": 27,
   "id": "9f114542",
   "metadata": {},
   "outputs": [
    {
     "data": {
      "text/plain": [
       "True"
      ]
     },
     "execution_count": 27,
     "metadata": {},
     "output_type": "execute_result"
    }
   ],
   "source": [
    "a == {4, 1, 2, 3}"
   ]
  },
  {
   "cell_type": "markdown",
   "id": "3608aa72",
   "metadata": {},
   "source": [
    "### 26.2.4 세트가 겹치지 않는지 확인하기"
   ]
  },
  {
   "cell_type": "code",
   "execution_count": 28,
   "id": "11e4c48d",
   "metadata": {},
   "outputs": [
    {
     "data": {
      "text/plain": [
       "True"
      ]
     },
     "execution_count": 28,
     "metadata": {},
     "output_type": "execute_result"
    }
   ],
   "source": [
    "a = {1, 2, 3, 4}\n",
    "a.isdisjoint({5,6,7,8,}) # 겹치는 요소 없음"
   ]
  },
  {
   "cell_type": "code",
   "execution_count": 30,
   "id": "b178c441",
   "metadata": {},
   "outputs": [
    {
     "data": {
      "text/plain": [
       "False"
      ]
     },
     "execution_count": 30,
     "metadata": {},
     "output_type": "execute_result"
    }
   ],
   "source": [
    "a.isdisjoint({3,6,7,8}) # 겹치는 요소 있음 3 "
   ]
  },
  {
   "cell_type": "markdown",
   "id": "439e6796",
   "metadata": {},
   "source": [
    "---"
   ]
  },
  {
   "cell_type": "markdown",
   "id": "be45de9b",
   "metadata": {},
   "source": [
    "## 26.3 세트 조작하기"
   ]
  },
  {
   "cell_type": "markdown",
   "id": "0e597612",
   "metadata": {},
   "source": [
    "### 26.3.1 세트에 요소 추가하기"
   ]
  },
  {
   "cell_type": "code",
   "execution_count": 31,
   "id": "5770779f",
   "metadata": {},
   "outputs": [
    {
     "data": {
      "text/plain": [
       "{1, 2, 3, 4, 5}"
      ]
     },
     "execution_count": 31,
     "metadata": {},
     "output_type": "execute_result"
    }
   ],
   "source": [
    "a = {1,2,3,4}\n",
    "a.add(5)\n",
    "a"
   ]
  },
  {
   "cell_type": "markdown",
   "id": "f2cdaa49",
   "metadata": {},
   "source": [
    "### 26.3.2 세트에서 특정 요소를 삭제하기 "
   ]
  },
  {
   "cell_type": "code",
   "execution_count": 32,
   "id": "da0507ee",
   "metadata": {},
   "outputs": [
    {
     "data": {
      "text/plain": [
       "{1, 2, 4}"
      ]
     },
     "execution_count": 32,
     "metadata": {},
     "output_type": "execute_result"
    }
   ],
   "source": [
    "a = {1,2,3,4}\n",
    "a.remove(3)\n",
    "a"
   ]
  },
  {
   "cell_type": "code",
   "execution_count": 34,
   "id": "87bf2061",
   "metadata": {},
   "outputs": [
    {
     "ename": "KeyError",
     "evalue": "5",
     "output_type": "error",
     "traceback": [
      "\u001b[1;31m---------------------------------------------------------------------------\u001b[0m",
      "\u001b[1;31mKeyError\u001b[0m                                  Traceback (most recent call last)",
      "Input \u001b[1;32mIn [34]\u001b[0m, in \u001b[0;36m<cell line: 1>\u001b[1;34m()\u001b[0m\n\u001b[1;32m----> 1\u001b[0m \u001b[43ma\u001b[49m\u001b[38;5;241;43m.\u001b[39;49m\u001b[43mremove\u001b[49m\u001b[43m(\u001b[49m\u001b[38;5;241;43m5\u001b[39;49m\u001b[43m)\u001b[49m\n",
      "\u001b[1;31mKeyError\u001b[0m: 5"
     ]
    }
   ],
   "source": [
    "a.remove(5) # 세트에 특정 요소가 없다면 에러 발생|"
   ]
  },
  {
   "cell_type": "code",
   "execution_count": 35,
   "id": "67586926",
   "metadata": {},
   "outputs": [
    {
     "data": {
      "text/plain": [
       "{1, 2, 4}"
      ]
     },
     "execution_count": 35,
     "metadata": {},
     "output_type": "execute_result"
    }
   ],
   "source": [
    "a"
   ]
  },
  {
   "cell_type": "code",
   "execution_count": 37,
   "id": "e9f58bd8",
   "metadata": {},
   "outputs": [
    {
     "data": {
      "text/plain": [
       "{1, 4}"
      ]
     },
     "execution_count": 37,
     "metadata": {},
     "output_type": "execute_result"
    }
   ],
   "source": [
    "a.discard(2)\n",
    "a"
   ]
  },
  {
   "cell_type": "code",
   "execution_count": 39,
   "id": "39ff875b",
   "metadata": {},
   "outputs": [
    {
     "data": {
      "text/plain": [
       "{1, 4}"
      ]
     },
     "execution_count": 39,
     "metadata": {},
     "output_type": "execute_result"
    }
   ],
   "source": [
    "a.discard(5) # 특정 요소를 삭제하고 요소가 없으면 그냥 넘어감\n",
    "a"
   ]
  },
  {
   "cell_type": "markdown",
   "id": "0d6f16f9",
   "metadata": {},
   "source": [
    "### 26.3.3 세트에서 읨의의 요소를 삭제하기"
   ]
  },
  {
   "cell_type": "code",
   "execution_count": 42,
   "id": "934114c5",
   "metadata": {},
   "outputs": [
    {
     "data": {
      "text/plain": [
       "1"
      ]
     },
     "execution_count": 42,
     "metadata": {},
     "output_type": "execute_result"
    }
   ],
   "source": [
    "a = {1,2,3,4}\n",
    "a.pop()\n",
    "# pop\n",
    "# 임의의 요소를 삭제하고 해당 요소를 반환 \n",
    "# 요소가 없으면 에러 발생"
   ]
  },
  {
   "cell_type": "markdown",
   "id": "57f113f8",
   "metadata": {},
   "source": [
    "### 26.3.4 세트의 모든 요소를 삭제하기"
   ]
  },
  {
   "cell_type": "code",
   "execution_count": 45,
   "id": "367ed2db",
   "metadata": {},
   "outputs": [
    {
     "data": {
      "text/plain": [
       "{3, 4}"
      ]
     },
     "execution_count": 45,
     "metadata": {},
     "output_type": "execute_result"
    }
   ],
   "source": [
    "a"
   ]
  },
  {
   "cell_type": "code",
   "execution_count": 47,
   "id": "0479fb8f",
   "metadata": {},
   "outputs": [
    {
     "data": {
      "text/plain": [
       "set()"
      ]
     },
     "execution_count": 47,
     "metadata": {},
     "output_type": "execute_result"
    }
   ],
   "source": [
    "a.clear()\n",
    "a"
   ]
  },
  {
   "cell_type": "markdown",
   "id": "93d152b1",
   "metadata": {},
   "source": [
    "### 26.3.5 세트의 요소 개수 구하기"
   ]
  },
  {
   "cell_type": "code",
   "execution_count": 48,
   "id": "94858c43",
   "metadata": {},
   "outputs": [
    {
     "data": {
      "text/plain": [
       "4"
      ]
     },
     "execution_count": 48,
     "metadata": {},
     "output_type": "execute_result"
    }
   ],
   "source": [
    "a = {1,2,3,4}\n",
    "len(a)"
   ]
  },
  {
   "cell_type": "markdown",
   "id": "f94f27f5",
   "metadata": {},
   "source": [
    "---"
   ]
  },
  {
   "cell_type": "markdown",
   "id": "9fb94b64",
   "metadata": {},
   "source": [
    "## 26.4 세트의 할당과 복사"
   ]
  },
  {
   "cell_type": "code",
   "execution_count": 49,
   "id": "88884f1c",
   "metadata": {},
   "outputs": [],
   "source": [
    "a = {1,2,3,4}\n",
    "b = a "
   ]
  },
  {
   "cell_type": "code",
   "execution_count": 50,
   "id": "75aae476",
   "metadata": {},
   "outputs": [
    {
     "data": {
      "text/plain": [
       "True"
      ]
     },
     "execution_count": 50,
     "metadata": {},
     "output_type": "execute_result"
    }
   ],
   "source": [
    "a is b"
   ]
  },
  {
   "cell_type": "code",
   "execution_count": 51,
   "id": "dd944905",
   "metadata": {},
   "outputs": [],
   "source": [
    "b.add(5)"
   ]
  },
  {
   "cell_type": "code",
   "execution_count": 52,
   "id": "ea399dc2",
   "metadata": {},
   "outputs": [
    {
     "name": "stdout",
     "output_type": "stream",
     "text": [
      "{1, 2, 3, 4, 5}\n",
      "{1, 2, 3, 4, 5}\n"
     ]
    }
   ],
   "source": [
    "print(a)\n",
    "print(b)"
   ]
  },
  {
   "cell_type": "code",
   "execution_count": 53,
   "id": "14720378",
   "metadata": {},
   "outputs": [],
   "source": [
    "a = {1,2,3,4}\n",
    "b = a.copy()"
   ]
  },
  {
   "cell_type": "code",
   "execution_count": 54,
   "id": "3352b897",
   "metadata": {},
   "outputs": [
    {
     "data": {
      "text/plain": [
       "False"
      ]
     },
     "execution_count": 54,
     "metadata": {},
     "output_type": "execute_result"
    }
   ],
   "source": [
    "a is b"
   ]
  },
  {
   "cell_type": "code",
   "execution_count": 55,
   "id": "3ee23bef",
   "metadata": {},
   "outputs": [
    {
     "data": {
      "text/plain": [
       "True"
      ]
     },
     "execution_count": 55,
     "metadata": {},
     "output_type": "execute_result"
    }
   ],
   "source": [
    "a == b"
   ]
  },
  {
   "cell_type": "markdown",
   "id": "a8176f47",
   "metadata": {},
   "source": [
    "---"
   ]
  },
  {
   "cell_type": "markdown",
   "id": "bbf3328f",
   "metadata": {},
   "source": [
    "## 26.5 반복문으로 세트의 요소를 모두 출력하기"
   ]
  },
  {
   "cell_type": "code",
   "execution_count": 61,
   "id": "5afb89a9",
   "metadata": {},
   "outputs": [
    {
     "name": "stdout",
     "output_type": "stream",
     "text": [
      "1\n",
      "2\n",
      "3\n",
      "4\n",
      "5\n"
     ]
    }
   ],
   "source": [
    "a = {1,2,3,4,5}\n",
    "for i in a :\n",
    "    print(i)\n",
    "    \n",
    "# 세트의 요소는 순서가 없으므로 출력할 때마다 순서가 달라짐"
   ]
  },
  {
   "cell_type": "markdown",
   "id": "a47b0bd3",
   "metadata": {},
   "source": [
    "---"
   ]
  },
  {
   "cell_type": "markdown",
   "id": "357dbab1",
   "metadata": {},
   "source": [
    "## 26.6 세트 표현식 사용하기"
   ]
  },
  {
   "cell_type": "code",
   "execution_count": 62,
   "id": "c0d41f65",
   "metadata": {},
   "outputs": [
    {
     "data": {
      "text/plain": [
       "{'a', 'e', 'l', 'p'}"
      ]
     },
     "execution_count": 62,
     "metadata": {},
     "output_type": "execute_result"
    }
   ],
   "source": [
    "a = {i for i in 'apple'}\n",
    "a    "
   ]
  },
  {
   "cell_type": "code",
   "execution_count": 64,
   "id": "d58427d4",
   "metadata": {},
   "outputs": [
    {
     "data": {
      "text/plain": [
       "{'a', 'b', 'n'}"
      ]
     },
     "execution_count": 64,
     "metadata": {},
     "output_type": "execute_result"
    }
   ],
   "source": [
    "a = set(i for i in 'banana')\n",
    "a"
   ]
  },
  {
   "cell_type": "markdown",
   "id": "6a91974a",
   "metadata": {},
   "source": [
    "### 26.6.1 세트 표현식에 if 조건문 사용하기"
   ]
  },
  {
   "cell_type": "code",
   "execution_count": 65,
   "id": "269867ea",
   "metadata": {},
   "outputs": [
    {
     "data": {
      "text/plain": [
       "{'e', 'i', 'n'}"
      ]
     },
     "execution_count": 65,
     "metadata": {},
     "output_type": "execute_result"
    }
   ],
   "source": [
    "a = {i for i in 'pineapple' if i not in 'apl'}\n",
    "a"
   ]
  }
 ],
 "metadata": {
  "kernelspec": {
   "display_name": "Python 3 (ipykernel)",
   "language": "python",
   "name": "python3"
  },
  "language_info": {
   "codemirror_mode": {
    "name": "ipython",
    "version": 3
   },
   "file_extension": ".py",
   "mimetype": "text/x-python",
   "name": "python",
   "nbconvert_exporter": "python",
   "pygments_lexer": "ipython3",
   "version": "3.9.12"
  }
 },
 "nbformat": 4,
 "nbformat_minor": 5
}

{
 "cells": [
  {
   "cell_type": "markdown",
   "id": "c39613b4",
   "metadata": {},
   "source": [
    "## 9.1 문자열 사용하기"
   ]
  },
  {
   "cell_type": "markdown",
   "id": "8a0b9736",
   "metadata": {},
   "source": [
    "### 9.1.1 여러 줄로 된 문자열  사용하기"
   ]
  },
  {
   "cell_type": "markdown",
   "id": "de27a2e8",
   "metadata": {},
   "source": [
    "### 9.1.2 문자열 안에 작은따옴표나 큰따옴표 포함하기"
   ]
  }
 ],
 "metadata": {
  "kernelspec": {
   "display_name": "Python 3 (ipykernel)",
   "language": "python",
   "name": "python3"
  },
  "language_info": {
   "codemirror_mode": {
    "name": "ipython",
    "version": 3
   },
   "file_extension": ".py",
   "mimetype": "text/x-python",
   "name": "python",
   "nbconvert_exporter": "python",
   "pygments_lexer": "ipython3",
   "version": "3.9.12"
  }
 },
 "nbformat": 4,
 "nbformat_minor": 5
}

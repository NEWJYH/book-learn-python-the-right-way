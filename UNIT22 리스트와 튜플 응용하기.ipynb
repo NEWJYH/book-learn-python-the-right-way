{
 "cells": [
  {
   "cell_type": "markdown",
   "id": "f1af61ea",
   "metadata": {},
   "source": [
    "## 22.1 리스트 조작하기"
   ]
  },
  {
   "cell_type": "markdown",
   "id": "6fd04d0e",
   "metadata": {},
   "source": [
    "### 22.1.1 리스트에 요소 추가하기"
   ]
  },
  {
   "cell_type": "markdown",
   "id": "0cbea203",
   "metadata": {},
   "source": [
    "    - append : 요소 하나를 추가\n",
    "    - extend : 리스트를 연결하여 확장\n",
    "    - insert : 특정 인덱스에 요소 추가"
   ]
  },
  {
   "cell_type": "markdown",
   "id": "8e7f1edb",
   "metadata": {},
   "source": [
    "### 22.1.2 리스트에 요소 하나 추가하기"
   ]
  },
  {
   "cell_type": "code",
   "execution_count": 1,
   "id": "7d816b11",
   "metadata": {},
   "outputs": [
    {
     "data": {
      "text/plain": [
       "[10, 20, 30, 500]"
      ]
     },
     "execution_count": 1,
     "metadata": {},
     "output_type": "execute_result"
    }
   ],
   "source": [
    "a = [10, 20, 30]\n",
    "a.append(500)\n",
    "a"
   ]
  },
  {
   "cell_type": "code",
   "execution_count": 2,
   "id": "0861cc19",
   "metadata": {},
   "outputs": [
    {
     "data": {
      "text/plain": [
       "[10]"
      ]
     },
     "execution_count": 2,
     "metadata": {},
     "output_type": "execute_result"
    }
   ],
   "source": [
    "a = []\n",
    "a.append(10)\n",
    "a"
   ]
  },
  {
   "cell_type": "markdown",
   "id": "7dc82bb2",
   "metadata": {},
   "source": [
    "### 22.1.3 리스트 안에 리스트 추가"
   ]
  },
  {
   "cell_type": "code",
   "execution_count": 3,
   "id": "58e2cd4c",
   "metadata": {},
   "outputs": [
    {
     "data": {
      "text/plain": [
       "[10, 20, 30, [500, 600]]"
      ]
     },
     "execution_count": 3,
     "metadata": {},
     "output_type": "execute_result"
    }
   ],
   "source": [
    "a = [10,20,30]\n",
    "a.append([500,600])\n",
    "a"
   ]
  },
  {
   "cell_type": "code",
   "execution_count": 4,
   "id": "783f216d",
   "metadata": {},
   "outputs": [
    {
     "data": {
      "text/plain": [
       "4"
      ]
     },
     "execution_count": 4,
     "metadata": {},
     "output_type": "execute_result"
    }
   ],
   "source": [
    "len(a)"
   ]
  },
  {
   "cell_type": "markdown",
   "id": "4343ca09",
   "metadata": {},
   "source": [
    "### 22.1.4 리스트 확장하기"
   ]
  },
  {
   "cell_type": "code",
   "execution_count": 5,
   "id": "2bb29763",
   "metadata": {},
   "outputs": [
    {
     "data": {
      "text/plain": [
       "[10, 20, 30, 500, 600]"
      ]
     },
     "execution_count": 5,
     "metadata": {},
     "output_type": "execute_result"
    }
   ],
   "source": [
    "a = [10, 20, 30]\n",
    "a.extend([500,600])\n",
    "a"
   ]
  },
  {
   "cell_type": "code",
   "execution_count": 6,
   "id": "07428764",
   "metadata": {},
   "outputs": [
    {
     "data": {
      "text/plain": [
       "[10, 20, 30, 40, 50]"
      ]
     },
     "execution_count": 6,
     "metadata": {},
     "output_type": "execute_result"
    }
   ],
   "source": [
    "a = [10, 20, 30]\n",
    "b = [40,50]\n",
    "a.extend(b)\n",
    "a"
   ]
  },
  {
   "cell_type": "markdown",
   "id": "2d2e7273",
   "metadata": {},
   "source": [
    "### 22.1.5 리스트의 특정 인덱스에 요소 추가하기"
   ]
  },
  {
   "cell_type": "code",
   "execution_count": 27,
   "id": "ffce3e09",
   "metadata": {},
   "outputs": [
    {
     "data": {
      "text/plain": [
       "[10, 20, 500, 30]"
      ]
     },
     "execution_count": 27,
     "metadata": {},
     "output_type": "execute_result"
    }
   ],
   "source": [
    "a = [10,20,30]\n",
    "a.insert(2, 500)\n",
    "a"
   ]
  },
  {
   "cell_type": "code",
   "execution_count": 28,
   "id": "7560d5a4",
   "metadata": {},
   "outputs": [
    {
     "data": {
      "text/plain": [
       "4"
      ]
     },
     "execution_count": 28,
     "metadata": {},
     "output_type": "execute_result"
    }
   ],
   "source": [
    "len(a)"
   ]
  },
  {
   "cell_type": "code",
   "execution_count": 29,
   "id": "ccb2a6df",
   "metadata": {},
   "outputs": [
    {
     "data": {
      "text/plain": [
       "[10, 20, 500, 30, 1000]"
      ]
     },
     "execution_count": 29,
     "metadata": {},
     "output_type": "execute_result"
    }
   ],
   "source": [
    "a.insert(50000, 1000)\n",
    "a"
   ]
  },
  {
   "cell_type": "markdown",
   "id": "889b07d3",
   "metadata": {},
   "source": [
    "### 22.1.6 리스트에서 요소 삭제하기"
   ]
  },
  {
   "cell_type": "code",
   "execution_count": 38,
   "id": "94de49fd",
   "metadata": {},
   "outputs": [
    {
     "name": "stdout",
     "output_type": "stream",
     "text": [
      "[10, 20]\n",
      "30\n",
      "[10]\n"
     ]
    }
   ],
   "source": [
    "a = [10,20,30]\n",
    "# 특정 인덱스 삭제\n",
    "b = a.pop()\n",
    "print(a)\n",
    "print(b)\n",
    "\n",
    "# 특정 값으로 삭제\n",
    "a.remove(20)\n",
    "print(a)"
   ]
  },
  {
   "cell_type": "markdown",
   "id": "a6ac6524",
   "metadata": {},
   "source": [
    "### 22.1.7 리스트에서 특정 인덱스 요소를 삭제하기"
   ]
  },
  {
   "cell_type": "code",
   "execution_count": 42,
   "id": "6af36504",
   "metadata": {},
   "outputs": [
    {
     "name": "stdout",
     "output_type": "stream",
     "text": [
      "[10, 30]\n",
      "20\n",
      "[30]\n"
     ]
    }
   ],
   "source": [
    "a = [10,20,30]\n",
    "# 특정 인덱스 삭제\n",
    "b = a.pop(1)\n",
    "print(a)\n",
    "print(b)\n",
    "\n",
    "del a[0]\n",
    "print(a)"
   ]
  },
  {
   "cell_type": "markdown",
   "id": "13926261",
   "metadata": {},
   "source": [
    "### 22.1.8 리스트에서 특정 값을 찾아 삭제하기"
   ]
  },
  {
   "cell_type": "code",
   "execution_count": 43,
   "id": "46bd070f",
   "metadata": {},
   "outputs": [
    {
     "data": {
      "text/plain": [
       "[10, 30]"
      ]
     },
     "execution_count": 43,
     "metadata": {},
     "output_type": "execute_result"
    }
   ],
   "source": [
    "a = [10, 20, 30]\n",
    "a.remove(20)\n",
    "a"
   ]
  },
  {
   "cell_type": "code",
   "execution_count": 44,
   "id": "28ddeeb9",
   "metadata": {},
   "outputs": [
    {
     "data": {
      "text/plain": [
       "[10, 30, 20]"
      ]
     },
     "execution_count": 44,
     "metadata": {},
     "output_type": "execute_result"
    }
   ],
   "source": [
    "a = [10,20,30,20]\n",
    "# 처음 찾은 값만 삭제 인덱스 낮은 순\n",
    "a.remove(20)\n",
    "a"
   ]
  },
  {
   "cell_type": "markdown",
   "id": "7269aff4",
   "metadata": {},
   "source": [
    "### 리스트로 스택과 큐 만들기"
   ]
  },
  {
   "cell_type": "code",
   "execution_count": null,
   "id": "f53d67c6",
   "metadata": {},
   "outputs": [],
   "source": [
    "# 리스트로 스택 만들기\n",
    "a = [0,1,2,3,4,5,6,7,8,9]\n",
    "a.append(10)\n",
    "a.pop()\n",
    "\n",
    "# 리스트로 큐 만들기\n",
    "a = [0,1,2,3,4,5,6,7,8,9]\n",
    "a.append(10)\n",
    "a.pop(0)"
   ]
  },
  {
   "cell_type": "code",
   "execution_count": 45,
   "id": "bc191894",
   "metadata": {},
   "outputs": [
    {
     "data": {
      "text/plain": [
       "deque([10, 20, 30])"
      ]
     },
     "execution_count": 45,
     "metadata": {},
     "output_type": "execute_result"
    }
   ],
   "source": [
    "# deque (double ended queue ) 자료형 사용하기\n",
    "from collections import deque\n",
    "a = deque([10,20,30])\n",
    "a"
   ]
  },
  {
   "cell_type": "code",
   "execution_count": 46,
   "id": "a6bc63e8",
   "metadata": {},
   "outputs": [
    {
     "data": {
      "text/plain": [
       "deque([10, 20, 30, 500])"
      ]
     },
     "execution_count": 46,
     "metadata": {},
     "output_type": "execute_result"
    }
   ],
   "source": [
    "a.append(500)\n",
    "a"
   ]
  },
  {
   "cell_type": "code",
   "execution_count": 47,
   "id": "06864f8b",
   "metadata": {},
   "outputs": [
    {
     "data": {
      "text/plain": [
       "10"
      ]
     },
     "execution_count": 47,
     "metadata": {},
     "output_type": "execute_result"
    }
   ],
   "source": [
    "a.popleft()"
   ]
  },
  {
   "cell_type": "code",
   "execution_count": 48,
   "id": "725ef80a",
   "metadata": {},
   "outputs": [
    {
     "data": {
      "text/plain": [
       "deque([20, 30, 500])"
      ]
     },
     "execution_count": 48,
     "metadata": {},
     "output_type": "execute_result"
    }
   ],
   "source": [
    "a"
   ]
  },
  {
   "cell_type": "markdown",
   "id": "8418734f",
   "metadata": {},
   "source": [
    "### 22.1.9 리스트에서 특정 값의 인덱스 구하기"
   ]
  },
  {
   "cell_type": "code",
   "execution_count": 49,
   "id": "6d3f2950",
   "metadata": {},
   "outputs": [
    {
     "data": {
      "text/plain": [
       "1"
      ]
     },
     "execution_count": 49,
     "metadata": {},
     "output_type": "execute_result"
    }
   ],
   "source": [
    "a = [10,20,30,15,20,40]\n",
    "# 특정 값으로 인덱스 구하기\n",
    "a.index(20)"
   ]
  },
  {
   "cell_type": "markdown",
   "id": "b2ef97a2",
   "metadata": {},
   "source": [
    "### 22.1.10 특정 값의 개수 구하기"
   ]
  },
  {
   "cell_type": "code",
   "execution_count": 50,
   "id": "4b652eed",
   "metadata": {},
   "outputs": [
    {
     "data": {
      "text/plain": [
       "2"
      ]
     },
     "execution_count": 50,
     "metadata": {},
     "output_type": "execute_result"
    }
   ],
   "source": [
    "a = [10,20,30,15,20,40]\n",
    "# 특정 값의 개수 구하기\n",
    "a.count(20)"
   ]
  },
  {
   "cell_type": "markdown",
   "id": "16a18303",
   "metadata": {},
   "source": [
    "### 22.1.11 리스트의 순서를 뒤집기"
   ]
  },
  {
   "cell_type": "code",
   "execution_count": 55,
   "id": "0201a2d2",
   "metadata": {},
   "outputs": [
    {
     "data": {
      "text/plain": [
       "[40, 20, 15, 30, 20, 10]"
      ]
     },
     "execution_count": 55,
     "metadata": {},
     "output_type": "execute_result"
    }
   ],
   "source": [
    "a = [10,20,30,15,20,40]\n",
    "a.reverse()\n",
    "a"
   ]
  },
  {
   "cell_type": "code",
   "execution_count": 56,
   "id": "f97c2655",
   "metadata": {},
   "outputs": [
    {
     "name": "stdout",
     "output_type": "stream",
     "text": [
      "a [40, 20, 15, 30, 20, 10]\n",
      "b [10, 20, 30, 15, 20, 40]\n"
     ]
    }
   ],
   "source": [
    "b = list(reversed(a))\n",
    "print('a', a)\n",
    "print('b', b)"
   ]
  },
  {
   "cell_type": "markdown",
   "id": "309abbb6",
   "metadata": {},
   "source": [
    "### 22.1.12 리스트의 요소를 정렬하기"
   ]
  },
  {
   "cell_type": "code",
   "execution_count": 52,
   "id": "ecc3f7d4",
   "metadata": {},
   "outputs": [
    {
     "data": {
      "text/plain": [
       "[10, 15, 20, 20, 30, 40]"
      ]
     },
     "execution_count": 52,
     "metadata": {},
     "output_type": "execute_result"
    }
   ],
   "source": [
    "a = [10,20,30,15,20,40]\n",
    "a.sort()\n",
    "a"
   ]
  },
  {
   "cell_type": "code",
   "execution_count": 57,
   "id": "8b640d81",
   "metadata": {},
   "outputs": [
    {
     "name": "stdout",
     "output_type": "stream",
     "text": [
      "[10, 20, 30, 15, 20, 40]\n",
      "[10, 15, 20, 20, 30, 40]\n"
     ]
    }
   ],
   "source": [
    "a = [10,20,30,15,20,40]\n",
    "a.sort() # a의 내용을 변경하여 정렬\n",
    "a\n",
    "\n",
    "b = [10,20,30,15,20,40]\n",
    "c = sorted(b) # 정렬된 새 리스트를 생성\n",
    "print(b)\n",
    "print(c)"
   ]
  },
  {
   "cell_type": "markdown",
   "id": "e1941504",
   "metadata": {},
   "source": [
    "### 22.1.13 리스트의 모든 요소를 삭제하기"
   ]
  },
  {
   "cell_type": "code",
   "execution_count": 58,
   "id": "51f6cfad",
   "metadata": {},
   "outputs": [
    {
     "data": {
      "text/plain": [
       "[]"
      ]
     },
     "execution_count": 58,
     "metadata": {},
     "output_type": "execute_result"
    }
   ],
   "source": [
    "a = [10,20,30]\n",
    "a.clear()\n",
    "a "
   ]
  },
  {
   "cell_type": "code",
   "execution_count": 59,
   "id": "a9c5a59d",
   "metadata": {},
   "outputs": [
    {
     "data": {
      "text/plain": [
       "[]"
      ]
     },
     "execution_count": 59,
     "metadata": {},
     "output_type": "execute_result"
    }
   ],
   "source": [
    "a = [10, 20, 30]\n",
    "del a[:]\n",
    "a"
   ]
  },
  {
   "cell_type": "markdown",
   "id": "6aa40a43",
   "metadata": {},
   "source": [
    "### 22.1.14 리스트를 슬라이스로 조작하기"
   ]
  },
  {
   "cell_type": "code",
   "execution_count": 63,
   "id": "c1751e97",
   "metadata": {},
   "outputs": [
    {
     "data": {
      "text/plain": [
       "[10, 20, 30, 500]"
      ]
     },
     "execution_count": 63,
     "metadata": {},
     "output_type": "execute_result"
    }
   ],
   "source": [
    "a = [10,20,30]\n",
    "a[len(a):] = [500]\n",
    "a"
   ]
  },
  {
   "cell_type": "code",
   "execution_count": 70,
   "id": "80d782cd",
   "metadata": {},
   "outputs": [
    {
     "name": "stdout",
     "output_type": "stream",
     "text": [
      "[10, 20, 30]\n"
     ]
    },
    {
     "data": {
      "text/plain": [
       "[10, 20, 30, 500]"
      ]
     },
     "execution_count": 70,
     "metadata": {},
     "output_type": "execute_result"
    }
   ],
   "source": [
    "a = [10,20,30]\n",
    "print(a)\n",
    "\n",
    "# 없는 인덱스라서 오류가 남\n",
    "# a[3] = 500\n",
    "a[3:] = [500] # 슬라이스로 조작 가능 []형태로 조작해야함. extend와 같은 효과\n",
    "a"
   ]
  },
  {
   "cell_type": "markdown",
   "id": "4f064b63",
   "metadata": {},
   "source": [
    "---"
   ]
  },
  {
   "cell_type": "markdown",
   "id": "e21f6eb2",
   "metadata": {},
   "source": [
    "## 22.2 리스트의 할당과 복사 알아보기 "
   ]
  },
  {
   "cell_type": "code",
   "execution_count": 73,
   "id": "6cffd9d1",
   "metadata": {},
   "outputs": [
    {
     "name": "stdout",
     "output_type": "stream",
     "text": [
      "[0, 0, 0, 0, 0, 0]\n",
      "[0, 0, 0, 0, 0, 0]\n",
      "2091194275584\n",
      "2091194275584\n",
      "a is b? True\n",
      "[0, 0, 99, 0, 0, 0]\n",
      "[0, 0, 99, 0, 0, 0]\n"
     ]
    }
   ],
   "source": [
    "a = [0,0,0,0,0,0]\n",
    "b = a \n",
    "print(a)\n",
    "print(b)\n",
    "print(id(a))\n",
    "print(id(b))\n",
    "# 할당으로 둘다 같은 아이디 \n",
    "print('a is b?', a is b)\n",
    "\n",
    "b[2] = 99\n",
    "print(a)\n",
    "print(b)"
   ]
  },
  {
   "cell_type": "code",
   "execution_count": 74,
   "id": "9d44e6e3",
   "metadata": {},
   "outputs": [
    {
     "name": "stdout",
     "output_type": "stream",
     "text": [
      "[0, 0, 0, 0]\n",
      "[0, 0, 0, 0]\n",
      "\n",
      "[0, 0, 0, 0]\n",
      "[1, 0, 0, 0]\n"
     ]
    }
   ],
   "source": [
    "# 리스트 a와 b를 완전히 두 개로 만들려면 copy() 메서드로 모든 요소를 복사해야함.\n",
    "a = [0,0,0,0]\n",
    "b = a.copy()\n",
    "print(a)\n",
    "print(b)\n",
    "b[0] = 1\n",
    "print()\n",
    "print(a)\n",
    "print(b)\n"
   ]
  },
  {
   "cell_type": "markdown",
   "id": "067e57e4",
   "metadata": {},
   "source": [
    "---"
   ]
  },
  {
   "cell_type": "markdown",
   "id": "b216b09e",
   "metadata": {},
   "source": [
    "## 22.3 반복문으로 리스트의 요소를 모두 출력하기"
   ]
  },
  {
   "cell_type": "markdown",
   "id": "4483b2b2",
   "metadata": {},
   "source": [
    "### 22.3.1 for 반복문으로 요소 출력하기"
   ]
  },
  {
   "cell_type": "markdown",
   "id": "2d90f957",
   "metadata": {},
   "source": [
    "### 22.3.2 인덱스와 요소를 함께 출력하기"
   ]
  },
  {
   "cell_type": "code",
   "execution_count": 75,
   "id": "9267f5d8",
   "metadata": {},
   "outputs": [
    {
     "name": "stdout",
     "output_type": "stream",
     "text": [
      "0 38\n",
      "1 21\n",
      "2 53\n",
      "3 62\n",
      "4 19\n"
     ]
    }
   ],
   "source": [
    "a = [38, 21, 53, 62, 19]\n",
    "for index, value in enumerate(a):\n",
    "    print(index, value)"
   ]
  },
  {
   "cell_type": "markdown",
   "id": "6bc3ede6",
   "metadata": {},
   "source": [
    "### 22.3.3 while 반복문으로 요소 출력하기"
   ]
  },
  {
   "cell_type": "markdown",
   "id": "8ab0c723",
   "metadata": {},
   "source": [
    "### 22.4.1 가장 작은 수와 가장 큰 수 구하기"
   ]
  },
  {
   "cell_type": "markdown",
   "id": "1d270fb9",
   "metadata": {},
   "source": [
    "### 22.4.2 요소의 합계 구하기 "
   ]
  },
  {
   "cell_type": "markdown",
   "id": "00938c4b",
   "metadata": {},
   "source": [
    "---"
   ]
  },
  {
   "cell_type": "markdown",
   "id": "03d2dc45",
   "metadata": {},
   "source": [
    "## 22.5 리스트 표현식 사용하기"
   ]
  },
  {
   "cell_type": "code",
   "execution_count": 78,
   "id": "b29f9a28",
   "metadata": {},
   "outputs": [
    {
     "data": {
      "text/plain": [
       "[0, 1, 2, 3, 4, 5, 6, 7, 8, 9]"
      ]
     },
     "execution_count": 78,
     "metadata": {},
     "output_type": "execute_result"
    }
   ],
   "source": [
    "a = [i for i in range(10)]\n",
    "a"
   ]
  },
  {
   "cell_type": "markdown",
   "id": "816bf763",
   "metadata": {},
   "source": [
    "### 22.5.1 리스트 표현식에서 if 조건문 사용하기"
   ]
  },
  {
   "cell_type": "code",
   "execution_count": 93,
   "id": "ee1dc10d",
   "metadata": {},
   "outputs": [
    {
     "name": "stdout",
     "output_type": "stream",
     "text": [
      "[0, 2, 4, 6, 8]\n",
      "[0, 10, 2, 30, 4, 50, 6, 70, 8, 90]\n",
      "[0, 2, 2, 6, 4, 10, 6, 14, 8, 18]\n"
     ]
    }
   ],
   "source": [
    "a = [i for i in range(10) if i % 2 == 0]\n",
    "print(a)\n",
    "\n",
    "# 삼항 연산자 사용\n",
    "b = [i if i % 2 == 0 else i * 10 for i in range(10)]\n",
    "print(b)\n",
    "\n",
    "c = [i if i %2 ==0 else i * 2 for i in range(10)]\n",
    "print(c)"
   ]
  },
  {
   "cell_type": "markdown",
   "id": "2cb80dd7",
   "metadata": {},
   "source": [
    "---"
   ]
  },
  {
   "cell_type": "markdown",
   "id": "57f1ca1a",
   "metadata": {},
   "source": [
    "## 22.6 리스트에 map 사용하기"
   ]
  },
  {
   "cell_type": "markdown",
   "id": "a89b86c7",
   "metadata": {},
   "source": [
    "### 22.6.1 input().split()과 map"
   ]
  },
  {
   "cell_type": "markdown",
   "id": "dfeb52d5",
   "metadata": {},
   "source": [
    "---"
   ]
  },
  {
   "cell_type": "markdown",
   "id": "6d9ff603",
   "metadata": {},
   "source": [
    "## 22.7 튜플 응용하기"
   ]
  },
  {
   "cell_type": "markdown",
   "id": "488badbb",
   "metadata": {},
   "source": [
    "### 22.7.1 튜플에서 특정 값의 인덱스 구하기"
   ]
  },
  {
   "cell_type": "markdown",
   "id": "36673b5b",
   "metadata": {},
   "source": [
    "### 22.7.2 특정 값의 개수 구하기"
   ]
  },
  {
   "cell_type": "markdown",
   "id": "c45722c9",
   "metadata": {},
   "source": [
    "### 22.7.3 for 반복문으로 요소 출력하기"
   ]
  },
  {
   "cell_type": "markdown",
   "id": "e76ca0f0",
   "metadata": {},
   "source": [
    "### 22.7.4 튜플 표현식 사용하기"
   ]
  },
  {
   "cell_type": "markdown",
   "id": "5a1aa645",
   "metadata": {},
   "source": [
    "### 22.7.5 tuple에 map 사용하기"
   ]
  },
  {
   "cell_type": "markdown",
   "id": "caa6e73d",
   "metadata": {},
   "source": [
    "### 22.7.6 튜플에서 가장 작은수, 가장 큰수, 합계 구하기"
   ]
  }
 ],
 "metadata": {
  "kernelspec": {
   "display_name": "Python 3 (ipykernel)",
   "language": "python",
   "name": "python3"
  },
  "language_info": {
   "codemirror_mode": {
    "name": "ipython",
    "version": 3
   },
   "file_extension": ".py",
   "mimetype": "text/x-python",
   "name": "python",
   "nbconvert_exporter": "python",
   "pygments_lexer": "ipython3",
   "version": "3.9.12"
  }
 },
 "nbformat": 4,
 "nbformat_minor": 5
}

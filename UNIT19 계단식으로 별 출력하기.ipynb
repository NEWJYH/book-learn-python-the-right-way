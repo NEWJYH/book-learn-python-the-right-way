{
 "cells": [
  {
   "cell_type": "markdown",
   "id": "04500afa",
   "metadata": {},
   "source": [
    "## 19.1 중첩 루프 사용하기"
   ]
  },
  {
   "cell_type": "markdown",
   "id": "7a7e92bc",
   "metadata": {},
   "source": [
    "---"
   ]
  },
  {
   "cell_type": "markdown",
   "id": "6f5d0825",
   "metadata": {},
   "source": [
    "## 19.2 사각형으로 별 출력하기"
   ]
  },
  {
   "cell_type": "markdown",
   "id": "bcf97b64",
   "metadata": {},
   "source": [
    "### 19.2.1 사각형 모양 바꾸기"
   ]
  },
  {
   "cell_type": "markdown",
   "id": "400c5c00",
   "metadata": {},
   "source": [
    "---"
   ]
  },
  {
   "cell_type": "markdown",
   "id": "945ba82e",
   "metadata": {},
   "source": [
    "## 19.3 계단식으로 별 출력하기"
   ]
  },
  {
   "cell_type": "markdown",
   "id": "38555a76",
   "metadata": {},
   "source": [
    "### 19.3.1 대각선으로 별 출력하기"
   ]
  }
 ],
 "metadata": {
  "kernelspec": {
   "display_name": "Python 3 (ipykernel)",
   "language": "python",
   "name": "python3"
  },
  "language_info": {
   "codemirror_mode": {
    "name": "ipython",
    "version": 3
   },
   "file_extension": ".py",
   "mimetype": "text/x-python",
   "name": "python",
   "nbconvert_exporter": "python",
   "pygments_lexer": "ipython3",
   "version": "3.9.12"
  }
 },
 "nbformat": 4,
 "nbformat_minor": 5
}

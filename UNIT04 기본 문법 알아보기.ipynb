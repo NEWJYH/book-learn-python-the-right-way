{
 "cells": [
  {
   "cell_type": "markdown",
   "id": "ff3b08dd",
   "metadata": {},
   "source": [
    "## 4.1 세미콜론\n",
    "\n",
    "    - 파이썬은 ;(세미콜론)을 붙이지 않습니다.\n",
    "    - 세미콜론을 붙여도 문법 에러는 발생하지 않음\n",
    "    - 보통 한 줄에 여러 문장을 사용할 때 세미콜론으로 구분"
   ]
  },
  {
   "cell_type": "markdown",
   "id": "4089ff9a",
   "metadata": {},
   "source": [
    "---"
   ]
  },
  {
   "cell_type": "markdown",
   "id": "919c9f6e",
   "metadata": {},
   "source": [
    "## 4.2 주석\n",
    "\n",
    "    - 사람만 알아볼 수 있도록 작성하는 부분을 주석(comment)라고 함\n",
    "    - 주석은 파이썬 인터프리터가 처리하지 않으므로 프로그램의 실행에는 영향을 주지 않음"
   ]
  },
  {
   "cell_type": "markdown",
   "id": "9131778f",
   "metadata": {},
   "source": [
    "### 4.2.1 한줄 주석"
   ]
  },
  {
   "cell_type": "code",
   "execution_count": 1,
   "id": "ecd8fa24",
   "metadata": {},
   "outputs": [
    {
     "name": "stdout",
     "output_type": "stream",
     "text": [
      "Hello, world!\n"
     ]
    }
   ],
   "source": [
    "# Hello, world! 출력\n",
    "print('Hello, world!')"
   ]
  },
  {
   "cell_type": "markdown",
   "id": "ce18a790",
   "metadata": {},
   "source": [
    "### 4.2.2 블록 주석"
   ]
  },
  {
   "cell_type": "code",
   "execution_count": 3,
   "id": "f515fd3d",
   "metadata": {},
   "outputs": [],
   "source": [
    "# 더하기\n",
    "# a = 1 + 2\n",
    "# print('Hello, world!')"
   ]
  },
  {
   "cell_type": "markdown",
   "id": "846a2d62",
   "metadata": {},
   "source": [
    "    - 코드를 읽기 쉽도록 #뒤에 공백을 한칸 띄움\n",
    "    \n",
    "    - 한글 주석을 사용할 시 기본 인코딩을 UTF-8로 선택 해야함 "
   ]
  },
  {
   "cell_type": "markdown",
   "id": "c458d989",
   "metadata": {},
   "source": [
    "---"
   ]
  },
  {
   "cell_type": "markdown",
   "id": "bbba2061",
   "metadata": {},
   "source": [
    "## 4.3 들여쓰기 "
   ]
  },
  {
   "cell_type": "markdown",
   "id": "6d4107a2",
   "metadata": {},
   "source": [
    "## 4.4 코드 블록"
   ]
  }
 ],
 "metadata": {
  "kernelspec": {
   "display_name": "Python 3 (ipykernel)",
   "language": "python",
   "name": "python3"
  },
  "language_info": {
   "codemirror_mode": {
    "name": "ipython",
    "version": 3
   },
   "file_extension": ".py",
   "mimetype": "text/x-python",
   "name": "python",
   "nbconvert_exporter": "python",
   "pygments_lexer": "ipython3",
   "version": "3.9.12"
  }
 },
 "nbformat": 4,
 "nbformat_minor": 5
}

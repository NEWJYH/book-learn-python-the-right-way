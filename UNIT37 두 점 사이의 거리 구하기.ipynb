{
 "cells": [
  {
   "cell_type": "markdown",
   "id": "8739805b",
   "metadata": {},
   "source": [
    "## 37.1 두 점 사이의 거리 구하기"
   ]
  },
  {
   "cell_type": "markdown",
   "id": "5091e2a9",
   "metadata": {},
   "source": [
    "### 37.1.1 클래스로 점 구현하기"
   ]
  },
  {
   "cell_type": "code",
   "execution_count": 3,
   "id": "508e2468",
   "metadata": {},
   "outputs": [
    {
     "name": "stdout",
     "output_type": "stream",
     "text": [
      "30 20\n",
      "60 50\n"
     ]
    }
   ],
   "source": [
    "class Point2D:\n",
    "    def __init__(self,x,y):\n",
    "        self.x = x\n",
    "        self.y = y\n",
    "        \n",
    "        \n",
    "p1 = Point2D(x=30,y=20)\n",
    "p2 = Point2D(x=60,y=50)\n",
    "\n",
    "print(p1.x, p1.y)\n",
    "print(p2.x, p2.y)"
   ]
  },
  {
   "cell_type": "markdown",
   "id": "7addfa8f",
   "metadata": {},
   "source": [
    "### 37.1.2 피타고라스 정리로 두 점의 거리 구하기"
   ]
  },
  {
   "cell_type": "code",
   "execution_count": 44,
   "id": "5117866c",
   "metadata": {},
   "outputs": [],
   "source": [
    "a = p2.x - p1.x # 선 a의 길이\n",
    "b = p2.y - p1.y # 선 b의 길이"
   ]
  },
  {
   "cell_type": "code",
   "execution_count": 45,
   "id": "2980445c",
   "metadata": {},
   "outputs": [
    {
     "name": "stdout",
     "output_type": "stream",
     "text": [
      "42.42640687119285\n"
     ]
    }
   ],
   "source": [
    "import math\n",
    "\n",
    "c = math.sqrt(a**2 + b**2)\n",
    "print(c)"
   ]
  },
  {
   "cell_type": "code",
   "execution_count": 46,
   "id": "c9f47435",
   "metadata": {
    "scrolled": true
   },
   "outputs": [
    {
     "name": "stdout",
     "output_type": "stream",
     "text": [
      "42.42640687119285\n"
     ]
    }
   ],
   "source": [
    "c = math.sqrt(math.pow(a,2) + math.pow(b,2))\n",
    "print(c)"
   ]
  },
  {
   "cell_type": "code",
   "execution_count": 47,
   "id": "8ce034a1",
   "metadata": {},
   "outputs": [
    {
     "name": "stdout",
     "output_type": "stream",
     "text": [
      "42.42640687119285\n"
     ]
    }
   ],
   "source": [
    "c = (a**2 + b**2)**0.5\n",
    "print(c)"
   ]
  }
 ],
 "metadata": {
  "kernelspec": {
   "display_name": "Python 3 (ipykernel)",
   "language": "python",
   "name": "python3"
  },
  "language_info": {
   "codemirror_mode": {
    "name": "ipython",
    "version": 3
   },
   "file_extension": ".py",
   "mimetype": "text/x-python",
   "name": "python",
   "nbconvert_exporter": "python",
   "pygments_lexer": "ipython3",
   "version": "3.9.12"
  }
 },
 "nbformat": 4,
 "nbformat_minor": 5
}

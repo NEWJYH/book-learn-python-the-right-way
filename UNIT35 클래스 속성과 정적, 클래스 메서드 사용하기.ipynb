{
 "cells": [
  {
   "cell_type": "markdown",
   "id": "8db71386",
   "metadata": {},
   "source": [
    "## 35.1 클래스 속성과 인스턴스 속성 알아보기"
   ]
  },
  {
   "cell_type": "markdown",
   "id": "a3697609",
   "metadata": {},
   "source": [
    "### 35.1.1 클래스 속성 사용하기"
   ]
  },
  {
   "cell_type": "code",
   "execution_count": 1,
   "id": "6963e7ff",
   "metadata": {},
   "outputs": [
    {
     "name": "stdout",
     "output_type": "stream",
     "text": [
      "['책', '키']\n",
      "['책', '키']\n"
     ]
    }
   ],
   "source": [
    "class Person:\n",
    "    bag = []\n",
    "    \n",
    "    def put_bag(self, stuff):\n",
    "        self.bag.append(stuff)\n",
    "        \n",
    "james = Person()\n",
    "james.put_bag('책')\n",
    "\n",
    "maria = Person()\n",
    "maria.put_bag('키')\n",
    "\n",
    "print(james.bag)\n",
    "print(maria.bag)"
   ]
  },
  {
   "cell_type": "code",
   "execution_count": 2,
   "id": "6d3c2c5a",
   "metadata": {},
   "outputs": [
    {
     "name": "stdout",
     "output_type": "stream",
     "text": [
      "['책', '키']\n",
      "['책', '키']\n"
     ]
    }
   ],
   "source": [
    "class Person:\n",
    "    bag = []\n",
    "    \n",
    "    def put_bag(self, stuff):\n",
    "        Person.bag.append(stuff)\n",
    "        \n",
    "james = Person()\n",
    "james.put_bag('책')\n",
    "\n",
    "maria = Person()\n",
    "maria.put_bag('키')\n",
    "\n",
    "print(james.bag)\n",
    "print(maria.bag)"
   ]
  },
  {
   "cell_type": "markdown",
   "id": "71b32d22",
   "metadata": {},
   "source": [
    "### 35.1.2 인스턴스 속성 사용하기"
   ]
  },
  {
   "cell_type": "code",
   "execution_count": 6,
   "id": "0399b1a5",
   "metadata": {},
   "outputs": [
    {
     "name": "stdout",
     "output_type": "stream",
     "text": [
      "1\n",
      "책를 가방에 담습니다.\n",
      "2\n",
      "키를 가방에 담습니다.\n",
      "['책']\n",
      "['키']\n"
     ]
    }
   ],
   "source": [
    "class Person:\n",
    "    count = 0\n",
    "    def __init__(self):\n",
    "        self.bag = []\n",
    "        Person.count += 1\n",
    "        print(Person.count)\n",
    "        \n",
    "    def put_bag(self, stuff):\n",
    "        print(stuff,\"를 가방에 담습니다.\",sep=\"\")\n",
    "        self.bag.append(stuff)\n",
    "        \n",
    "james = Person()\n",
    "james.put_bag('책')\n",
    "\n",
    "maria = Person()\n",
    "maria.put_bag('키')\n",
    "\n",
    "print(james.bag)\n",
    "print(maria.bag)"
   ]
  },
  {
   "cell_type": "markdown",
   "id": "affb3942",
   "metadata": {},
   "source": [
    "### 35.1.3 비공개 클래스 속성 사용하기"
   ]
  },
  {
   "cell_type": "code",
   "execution_count": 8,
   "id": "70b4bf6b",
   "metadata": {},
   "outputs": [
    {
     "name": "stdout",
     "output_type": "stream",
     "text": [
      "10\n"
     ]
    },
    {
     "ename": "AttributeError",
     "evalue": "type object 'Knight' has no attribute '__item_limit'",
     "output_type": "error",
     "traceback": [
      "\u001b[1;31m---------------------------------------------------------------------------\u001b[0m",
      "\u001b[1;31mAttributeError\u001b[0m                            Traceback (most recent call last)",
      "Input \u001b[1;32mIn [8]\u001b[0m, in \u001b[0;36m<cell line: 9>\u001b[1;34m()\u001b[0m\n\u001b[0;32m      7\u001b[0m x \u001b[38;5;241m=\u001b[39m Knight()\n\u001b[0;32m      8\u001b[0m x\u001b[38;5;241m.\u001b[39mprint_item_limit()\n\u001b[1;32m----> 9\u001b[0m \u001b[38;5;28mprint\u001b[39m(\u001b[43mKnight\u001b[49m\u001b[38;5;241;43m.\u001b[39;49m\u001b[43m__item_limit\u001b[49m)\n",
      "\u001b[1;31mAttributeError\u001b[0m: type object 'Knight' has no attribute '__item_limit'"
     ]
    }
   ],
   "source": [
    "class Knight:\n",
    "    __item_limit = 10 # 비공개 클래스 속성\n",
    "    \n",
    "    def print_item_limit(self):\n",
    "        print(Knight.__item_limit)\n",
    "        \n",
    "x = Knight()\n",
    "x.print_item_limit()\n",
    "print(Knight.__item_limit) # 클래스 외부에서 접근할 수 없음"
   ]
  },
  {
   "cell_type": "markdown",
   "id": "2f15d291",
   "metadata": {},
   "source": [
    "---"
   ]
  },
  {
   "cell_type": "markdown",
   "id": "8ba003ce",
   "metadata": {},
   "source": [
    "## 35.2 정적 메서드 사용하기"
   ]
  },
  {
   "cell_type": "code",
   "execution_count": 10,
   "id": "f14d0324",
   "metadata": {},
   "outputs": [
    {
     "name": "stdout",
     "output_type": "stream",
     "text": [
      "30\n",
      "200\n"
     ]
    }
   ],
   "source": [
    "class Calc:\n",
    "    @staticmethod\n",
    "    def add(a, b):\n",
    "        print(a+b)\n",
    "        \n",
    "    @staticmethod\n",
    "    def mul(a,b):\n",
    "        print(a*b)\n",
    "        \n",
    "Calc.add(10,20)\n",
    "Calc.mul(10,20)"
   ]
  },
  {
   "cell_type": "markdown",
   "id": "54ae0f8f",
   "metadata": {},
   "source": [
    "---"
   ]
  },
  {
   "cell_type": "markdown",
   "id": "7821be2e",
   "metadata": {},
   "source": [
    "## 35.3 클래스 메서드 사용하기"
   ]
  },
  {
   "cell_type": "code",
   "execution_count": 11,
   "id": "b29c2577",
   "metadata": {},
   "outputs": [
    {
     "name": "stdout",
     "output_type": "stream",
     "text": [
      "2명 생성되었습니다.\n"
     ]
    }
   ],
   "source": [
    "class Person:\n",
    "    count = 0 # 클래스 속성\n",
    "    \n",
    "    def __init__(self):\n",
    "        Person.count += 1 # 인스턴스가 만들어질 때\n",
    "                          # 클래스 속성 count += 1\n",
    "        \n",
    "    @classmethod\n",
    "    def print_count(cls): # cls로 클래스 속성에 접근, 첫번째 매개변수에 cls를 지정해야 함.\n",
    "        print(f\"{cls.count}명 생성되었습니다.\")\n",
    "        \n",
    "james = Person()\n",
    "maria = Person()\n",
    "\n",
    "Person.print_count()"
   ]
  },
  {
   "cell_type": "code",
   "execution_count": 12,
   "id": "d4867b76",
   "metadata": {},
   "outputs": [
    {
     "name": "stdout",
     "output_type": "stream",
     "text": [
      "2명 생성되었습니다.\n"
     ]
    }
   ],
   "source": [
    "class Person:\n",
    "    count = 0 # 클래스 속성\n",
    "    \n",
    "    def __init__(self):\n",
    "        Person.count += 1 # 인스턴스가 만들어질 때\n",
    "                          # 클래스 속성 count += 1\n",
    "        \n",
    "    @classmethod\n",
    "    def print_count(cls): # cls로 클래스 속성에 접근, 첫번째 매개변수에 cls를 지정해야 함.\n",
    "        print(f\"{cls.count}명 생성되었습니다.\")\n",
    "        \n",
    "    @classmethod\n",
    "    def create(cls):\n",
    "        p = cls() # cls()로 인스턴스 생성\n",
    "        return p\n",
    "    \n",
    "james = Person()\n",
    "maria = Person()\n",
    "\n",
    "Person.print_count()"
   ]
  },
  {
   "cell_type": "code",
   "execution_count": 13,
   "id": "deeacff8",
   "metadata": {},
   "outputs": [],
   "source": [
    "sudo = Person.create()"
   ]
  },
  {
   "cell_type": "code",
   "execution_count": 14,
   "id": "7985fb14",
   "metadata": {},
   "outputs": [
    {
     "name": "stdout",
     "output_type": "stream",
     "text": [
      "3명 생성되었습니다.\n"
     ]
    }
   ],
   "source": [
    "Person.print_count()"
   ]
  }
 ],
 "metadata": {
  "kernelspec": {
   "display_name": "Python 3 (ipykernel)",
   "language": "python",
   "name": "python3"
  },
  "language_info": {
   "codemirror_mode": {
    "name": "ipython",
    "version": 3
   },
   "file_extension": ".py",
   "mimetype": "text/x-python",
   "name": "python",
   "nbconvert_exporter": "python",
   "pygments_lexer": "ipython3",
   "version": "3.9.12"
  }
 },
 "nbformat": 4,
 "nbformat_minor": 5
}

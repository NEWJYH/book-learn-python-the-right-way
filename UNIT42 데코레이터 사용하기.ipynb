{
 "cells": [
  {
   "cell_type": "markdown",
   "id": "a688a710",
   "metadata": {},
   "source": [
    "#### 파이썬 데코레이터(decorator)기능 제공\n",
    "#### 장식하다 꾸미다 뜻의 decorate에 er(or)을 붙인 말\n",
    "#### 장식하는 도구 정도로 설명 가능\n",
    "\n",
    "#### @staticmethod, @classmethod, @abstractmethod\n",
    "#### @로 시작하는 것들이 데코레이터\n",
    "#### 함수(메서드)를 장식"
   ]
  },
  {
   "cell_type": "code",
   "execution_count": null,
   "id": "e9c7c01b",
   "metadata": {},
   "outputs": [],
   "source": [
    "class Calc:\n",
    "    @staticmethod # 데코레이터\n",
    "    def add(a, b):\n",
    "        print(a+b)"
   ]
  },
  {
   "cell_type": "markdown",
   "id": "d42ce992",
   "metadata": {},
   "source": [
    "---"
   ]
  },
  {
   "cell_type": "markdown",
   "id": "51adfa06",
   "metadata": {},
   "source": [
    "## 42.1 데코레이터 만들기"
   ]
  },
  {
   "cell_type": "markdown",
   "id": "a4cbb7ac",
   "metadata": {},
   "source": [
    "#### 데코레이터 함수를 수정하지 않은 상태에서 추가 기능을 구현할 때 사용"
   ]
  },
  {
   "cell_type": "code",
   "execution_count": 1,
   "id": "33653ad9",
   "metadata": {},
   "outputs": [
    {
     "name": "stdout",
     "output_type": "stream",
     "text": [
      "hello 함수 시작\n",
      "hello\n",
      "hello 함수 끝\n",
      "world 함수 시작\n",
      "world\n",
      "world 함수 끝\n"
     ]
    }
   ],
   "source": [
    "def hello():\n",
    "    print('hello 함수 시작')\n",
    "    print('hello')\n",
    "    print('hello 함수 끝')\n",
    "    \n",
    "def world():\n",
    "    print('world 함수 시작')\n",
    "    print('world')\n",
    "    print('world 함수 끝')\n",
    "    \n",
    "hello()\n",
    "world()"
   ]
  },
  {
   "cell_type": "markdown",
   "id": "7be93190",
   "metadata": {},
   "source": [
    "#### print를 직접 넣어야 할 경우 번거로움\n",
    "#### 이럴 경우 데코레이터 활용하면 편리"
   ]
  },
  {
   "cell_type": "code",
   "execution_count": 7,
   "id": "0bdee834",
   "metadata": {},
   "outputs": [
    {
     "name": "stdout",
     "output_type": "stream",
     "text": [
      "hello 함수 시작\n",
      "hello\n",
      "hello 함수 끝\n",
      "time : 0.0\n",
      "world 함수 시작\n",
      "world\n",
      "world 함수 끝\n",
      "time : 0.0\n"
     ]
    }
   ],
   "source": [
    "import time\n",
    "\n",
    "def trace(func):  # 호출할 함수를 매개변수로 받음\n",
    "    def wrapper(): # 호출할 함수를 감싸는 함수\n",
    "        print(func.__name__, '함수 시작')  # __name__으로 함수 이름 출력\n",
    "        start_time = time.time()\n",
    "        func() # 매개변수로 받은 함수를 호출\n",
    "        total_time = round(time.time() - start_time, 3) \n",
    "        print(func.__name__, '함수 끝')\n",
    "        print(f'time : {total_time}')\n",
    "    return wrapper # wrapper 함수 반환\n",
    "\n",
    "\n",
    "def hello():\n",
    "    print('hello')\n",
    "    \n",
    "def world():\n",
    "    print('world')\n",
    "    \n",
    "trace_hello = trace(hello) # 데코레이터에 호출할 함수를 넣음\n",
    "trace_hello() # 반환된 함수를 호출\n",
    "trace_world = trace(world) # 데코레이터에 호출할 함수를 넣음\n",
    "trace_world() # 반환된 함수를 호출"
   ]
  },
  {
   "cell_type": "markdown",
   "id": "88d60373",
   "metadata": {},
   "source": [
    "### 42.1.1 @으로 데코레이터 사용하기"
   ]
  },
  {
   "cell_type": "markdown",
   "id": "6b14b53e",
   "metadata": {},
   "source": [
    "```\n",
    "@데코레이터\n",
    "def 함수이름():\n",
    "    코드\n",
    "```"
   ]
  },
  {
   "cell_type": "code",
   "execution_count": 8,
   "id": "06723ac7",
   "metadata": {},
   "outputs": [
    {
     "name": "stdout",
     "output_type": "stream",
     "text": [
      "hello 함수 시작\n",
      "hello\n",
      "hello 함수 끝\n",
      "time : 0.0\n",
      "world 함수 시작\n",
      "world\n",
      "world 함수 끝\n",
      "time : 0.0\n"
     ]
    }
   ],
   "source": [
    "import time\n",
    "\n",
    "def trace(func):  \n",
    "    def wrapper(): \n",
    "        print(func.__name__, '함수 시작')  \n",
    "        start_time = time.time()\n",
    "        func()\n",
    "        total_time = round(time.time() - start_time, 3) \n",
    "        print(func.__name__, '함수 끝')\n",
    "        print(f'time : {total_time}')\n",
    "    return wrapper \n",
    "\n",
    "@trace # @ 데코레이터\n",
    "def hello():\n",
    "    print('hello')\n",
    "    \n",
    "@trace\n",
    "def world():\n",
    "    print('world')\n",
    "    \n",
    "hello()\n",
    "world()"
   ]
  },
  {
   "cell_type": "markdown",
   "id": "211f0f66",
   "metadata": {},
   "source": [
    "#### 데코레이터는 함수를 감싸는 형태로 구성\n",
    "#### 데코레이터는 기본 함수를 수정하지 않으면서 추가 기능을 구현할 때 사용"
   ]
  },
  {
   "cell_type": "markdown",
   "id": "f125b255",
   "metadata": {},
   "source": [
    "#### 데코레이터를 여러 개 지정하기"
   ]
  },
  {
   "cell_type": "markdown",
   "id": "2f9be454",
   "metadata": {},
   "source": [
    "```\n",
    "@데코레이터1\n",
    "@데코레이터2\n",
    "def 함수이름():\n",
    "    코드\n",
    "\n",
    "```\n"
   ]
  },
  {
   "cell_type": "code",
   "execution_count": 28,
   "id": "87979d6b",
   "metadata": {},
   "outputs": [
    {
     "name": "stdout",
     "output_type": "stream",
     "text": [
      "decorator1\n",
      "wrapper2 deco1 함수 시작\n",
      "decorator2\n",
      "hello deco2 함수 시작\n",
      "hello\n",
      "hello deco2 함수 끝\n",
      "decorator2\n",
      "wrapper2 deco1 함수 끝\n",
      "decorator1\n"
     ]
    }
   ],
   "source": [
    "def decorator1(func):\n",
    "    def wrapper():\n",
    "        print('decorator1')\n",
    "        print(func.__name__, 'deco1', '함수 시작')  \n",
    "        func()\n",
    "        print(func.__name__, 'deco1', '함수 끝')  \n",
    "        print('decorator1')\n",
    "    return wrapper\n",
    "\n",
    "\n",
    "def decorator2(func):\n",
    "    def wrapper2():\n",
    "        print('decorator2')\n",
    "        print(func.__name__,'deco2', '함수 시작')  \n",
    "        func()\n",
    "        print(func.__name__,'deco2', '함수 끝')  \n",
    "        print('decorator2')\n",
    "    return wrapper2\n",
    "\n",
    "# 데코레이터 여러 개 지정\n",
    "\n",
    "@decorator1\n",
    "@decorator2\n",
    "def hello():\n",
    "    print('hello')\n",
    "    \n",
    "    \n",
    "hello()"
   ]
  },
  {
   "cell_type": "markdown",
   "id": "5d619d21",
   "metadata": {},
   "source": [
    "---"
   ]
  },
  {
   "cell_type": "markdown",
   "id": "4c71c247",
   "metadata": {},
   "source": [
    "## 42.2 매개변수와 반환값을 처리하는 데코레이터 만들기"
   ]
  },
  {
   "cell_type": "code",
   "execution_count": 18,
   "id": "7baa9b9c",
   "metadata": {},
   "outputs": [
    {
     "name": "stdout",
     "output_type": "stream",
     "text": [
      "add(a=10 b=20) -> r=30\n",
      "30\n"
     ]
    }
   ],
   "source": [
    "def trace(func): # 호출할 함수를 매개변수로 받음\n",
    "    def wrapper(a,b): # 호출할 함수 add(a.b)의 매개변수와 똑같이 지정\n",
    "        r = func(a, b) # func에 매개변수 a,b를 넣어서 호출하고 반환값을 변수에 저장\n",
    "        print(f'{func.__name__}(a={a} b={b}) -> r={r}')\n",
    "        # 매개변수와 반환값을 출력\n",
    "        return r # func의 반환값을 반환\n",
    "    return wrapper # wrapper 함수 반환\n",
    "\n",
    "\n",
    "@trace # 데코레이터\n",
    "def add(a,b): # 매개변수는 두 개\n",
    "    return a+b # 매개변수 두 개를 더해서 반환\n",
    "\n",
    "print(add(10, 20))"
   ]
  },
  {
   "cell_type": "markdown",
   "id": "21c148cf",
   "metadata": {},
   "source": [
    "### 42.2.1 가변 인수 함수 데코레이터"
   ]
  },
  {
   "cell_type": "code",
   "execution_count": 27,
   "id": "d7cc52ab",
   "metadata": {},
   "outputs": [
    {
     "name": "stdout",
     "output_type": "stream",
     "text": [
      "get_max (args=(10, 20), kwargs={}) ->  20\n",
      "20\n",
      "get_min (args=(), kwargs={'x': 10, 'y': 20, 'z': 30}) ->  10\n",
      "10\n"
     ]
    }
   ],
   "source": [
    "def trace(func): # 호출할 함수를 매개변수로 받음\n",
    "    def wrapper(*args,**kwargs): # 가변 인수 함수로 만듬\n",
    "        r = func(*args,**kwargs) # func에 args, kwargs를 언패킹하여 넣어줌\n",
    "        print(f'{func.__name__} (args={args}, kwargs={kwargs}) ->  {r}')\n",
    "                    # 매개변수와 반환값 출력\n",
    "        return r # func의 반환값 반환\n",
    "    return wrapper # wrapper 반환\n",
    "\n",
    "@trace\n",
    "def get_max(*args):\n",
    "    return max(args)\n",
    "\n",
    "@trace\n",
    "def get_min(**kwargs):\n",
    "    return min(kwargs.values())\n",
    "\n",
    "print(get_max(10,20))\n",
    "print(get_min(x=10,y=20,z=30))\n",
    "# print(get_max(*[10,20]))\n",
    "# print(get_min(**{'x':10,'y':20,'z':30}))\n"
   ]
  },
  {
   "cell_type": "markdown",
   "id": "3aea5bc1",
   "metadata": {},
   "source": [
    "#### 메서드 데코레이터 사용하기"
   ]
  },
  {
   "cell_type": "markdown",
   "id": "b39941e0",
   "metadata": {},
   "source": [
    "#### 클래스를 만들면서 메서드에 데코레이터를 사용할 때는 self를 주의해야함\n",
    "#### 인스턴스 메서드는 항상 self를 받으므로 데코레이터를 만들 때도 \n",
    "#### wrapper함수의 첫 번째 매개변수는 self로 지정해야 함(클래스 메서드는 cls)"
   ]
  },
  {
   "cell_type": "code",
   "execution_count": 29,
   "id": "cfb127e0",
   "metadata": {},
   "outputs": [
    {
     "name": "stdout",
     "output_type": "stream",
     "text": [
      "add(a=10, b=20) -> 30\n",
      "30\n"
     ]
    }
   ],
   "source": [
    "def trace(func):\n",
    "    def wrapper(self, a, b): # 호출할 함수가 인스턴스 메서드이므로\n",
    "                             # 첫 번째 매개변수는 self로 지정\n",
    "        r = func(self, a, b) # self와 매개변수를 그대로 넣어줌\n",
    "        print(f'{func.__name__}(a={a}, b={b}) -> {r}')\n",
    "                             # 매개변수와 반환값 출력\n",
    "        return r            # func의 반환값을 반환\n",
    "    return wrapper\n",
    "\n",
    "class Calc:\n",
    "    @trace\n",
    "    def add(self, a, b): # add는 인스턴스 메서드\n",
    "        return a + b\n",
    "    \n",
    "c = Calc()\n",
    "print(c.add(10,20))"
   ]
  },
  {
   "cell_type": "markdown",
   "id": "e5f271b0",
   "metadata": {},
   "source": [
    "---"
   ]
  },
  {
   "cell_type": "markdown",
   "id": "7ca17013",
   "metadata": {},
   "source": [
    "## 42.3 매개변수가 있는 데코레이터 만들기"
   ]
  },
  {
   "cell_type": "code",
   "execution_count": 31,
   "id": "1905fd7c",
   "metadata": {},
   "outputs": [
    {
     "name": "stdout",
     "output_type": "stream",
     "text": [
      "add의 반환값은 3의 배수입니다.\n",
      "30\n",
      "add의 반환값은 3의 배수가 아닙니다.\n",
      "7\n"
     ]
    }
   ],
   "source": [
    "def is_multiple(x): # 데코레이터가 사용할 매개변수를 지정\n",
    "    def real_decorator(func): # 호출할 함수를 매개변수로 받음\n",
    "        def wrapper(a, b): # 호출할 함수의 매개변수와 똑같이 지정\n",
    "            r = func(a, b) # func를 호출하고 반환값을 변수에 저장\n",
    "            if r % x == 0: # func의 반환값이 x의 배수인지 확인\n",
    "                print(f'{func.__name__}의 반환값은 {x}의 배수입니다.')\n",
    "            else:\n",
    "                print(f'{func.__name__}의 반환값은 {x}의 배수가 아닙니다.')\n",
    "            return r # func의 반환값을 반환\n",
    "        return wrapper # wrapper 함수 반환\n",
    "    return real_decorator # real_decorator 함수 반환\n",
    "\n",
    "@is_multiple(3) # @데코레이터(인수)\n",
    "def add(a, b):\n",
    "    return a + b\n",
    "\n",
    "print(add(10, 20))\n",
    "print(add(2, 5))"
   ]
  },
  {
   "cell_type": "markdown",
   "id": "bd5c537a",
   "metadata": {},
   "source": [
    "#### 매개변수가 있는 데코레이터를 여러 개 지정하기"
   ]
  },
  {
   "cell_type": "code",
   "execution_count": 33,
   "id": "4665bb29",
   "metadata": {},
   "outputs": [
    {
     "name": "stdout",
     "output_type": "stream",
     "text": [
      "add의 반환값은 3의 배수입니다.\n",
      "wrapper의 반환값은 2의 배수입니다.\n",
      "30\n"
     ]
    }
   ],
   "source": [
    "def is_multiple(x): # 데코레이터가 사용할 매개변수를 지정\n",
    "    def real_decorator(func): # 호출할 함수를 매개변수로 받음\n",
    "        def wrapper(a, b): # 호출할 함수의 매개변수와 똑같이 지정\n",
    "            r = func(a, b) # func를 호출하고 반환값을 변수에 저장\n",
    "            if r % x == 0: # func의 반환값이 x의 배수인지 확인\n",
    "                print(f'{func.__name__}의 반환값은 {x}의 배수입니다.')\n",
    "            else:\n",
    "                print(f'{func.__name__}의 반환값은 {x}의 배수가 아닙니다.')\n",
    "            return r # func의 반환값을 반환\n",
    "        return wrapper # wrapper 함수 반환\n",
    "    return real_decorator # real_decorator 함수 반환\n",
    "\n",
    "@is_multiple(2)\n",
    "@is_multiple(3) # @데코레이터(인수)\n",
    "def add(a, b):\n",
    "    return a + b\n",
    "\n",
    "print(add(10, 20))"
   ]
  },
  {
   "cell_type": "markdown",
   "id": "52cab96e",
   "metadata": {},
   "source": [
    "#### 원래 함수 이름이 안나온다면?"
   ]
  },
  {
   "cell_type": "markdown",
   "id": "f5058573",
   "metadata": {},
   "source": [
    "#### 함수의 원래 이름을 출력하고 싶다면 functools 모듈의 wraps 데코레이터를 사용"
   ]
  },
  {
   "cell_type": "code",
   "execution_count": 34,
   "id": "ce354ac4",
   "metadata": {},
   "outputs": [
    {
     "name": "stdout",
     "output_type": "stream",
     "text": [
      "add의 반환값은 3의 배수입니다.\n",
      "add의 반환값은 2의 배수입니다.\n",
      "30\n"
     ]
    }
   ],
   "source": [
    "import functools\n",
    "\n",
    "def is_multiple(x): \n",
    "    def real_decorator(func): \n",
    "        @functools.wraps(func) # @functools.wraps에 func를 넣은뒤 wrapper 함수 위에 지정\n",
    "        def wrapper(a, b): \n",
    "            r = func(a, b) \n",
    "            if r % x == 0: \n",
    "                print(f'{func.__name__}의 반환값은 {x}의 배수입니다.')\n",
    "            else:\n",
    "                print(f'{func.__name__}의 반환값은 {x}의 배수가 아닙니다.')\n",
    "            return r \n",
    "        return wrapper \n",
    "    return real_decorator \n",
    "\n",
    "@is_multiple(2)\n",
    "@is_multiple(3) \n",
    "def add(a, b):\n",
    "    return a + b\n",
    "\n",
    "print(add(10, 20))"
   ]
  },
  {
   "cell_type": "markdown",
   "id": "85efcd2a",
   "metadata": {},
   "source": [
    "#### @functools.wraps는 원래 함수의 정보를 유지\n",
    "#### 디버깅에 유리 "
   ]
  },
  {
   "cell_type": "markdown",
   "id": "f58e6f00",
   "metadata": {},
   "source": [
    "---"
   ]
  },
  {
   "cell_type": "markdown",
   "id": "9c7e2e5c",
   "metadata": {},
   "source": [
    "## 42.4 클래스로 데코레이터 만들기"
   ]
  },
  {
   "cell_type": "markdown",
   "id": "1d503496",
   "metadata": {},
   "source": [
    "#### 클래스를 활용할 때 인스턴스를 함수처럼 호출하게 해주는 __call__메서드를 구현해야 함"
   ]
  },
  {
   "cell_type": "code",
   "execution_count": 35,
   "id": "237722ae",
   "metadata": {},
   "outputs": [
    {
     "name": "stdout",
     "output_type": "stream",
     "text": [
      "hello 함수시작\n",
      "hello\n",
      "hello 함수 끝\n"
     ]
    }
   ],
   "source": [
    "class Trace:\n",
    "    def __init__(self, func): # 호출할 함수를 인스턴스의 초깃값으로 받음\n",
    "        self.func = func      # 호출할 함수를 속성 func에 저장\n",
    "        \n",
    "    def __call__(self):\n",
    "        print(self.func.__name__, '함수시작') # __name__으로 함수 이름 출력\n",
    "        self.func() # 속성 func에 저장된 함수를 호출\n",
    "        print(self.func.__name__, '함수 끝') \n",
    "        \n",
    "        \n",
    "@Trace # @데코레이터\n",
    "def hello():\n",
    "    print('hello')\n",
    "    \n",
    "hello()"
   ]
  },
  {
   "cell_type": "markdown",
   "id": "e98ad985",
   "metadata": {},
   "source": [
    "---"
   ]
  },
  {
   "cell_type": "markdown",
   "id": "bead8e13",
   "metadata": {},
   "source": [
    "## 42.5 클래스로 매개변수와 반환값을 처리하는 데코레이터 만들기"
   ]
  },
  {
   "cell_type": "code",
   "execution_count": 36,
   "id": "19431dcc",
   "metadata": {},
   "outputs": [
    {
     "name": "stdout",
     "output_type": "stream",
     "text": [
      "add args=(10, 20) kwargs={} -> 30\n",
      "30\n",
      "add args=() kwargs={'a': 10, 'b': 20} -> 30\n",
      "30\n"
     ]
    }
   ],
   "source": [
    "class Trace:\n",
    "    def __init__(self, func):\n",
    "        self.func = func\n",
    "        \n",
    "    def __call__(self, *args, **kwargs):\n",
    "        r = self.func(*args,**kwargs)\n",
    "        print(f'{self.func.__name__} args={args} kwargs={kwargs} -> {r}')\n",
    "        return r\n",
    "    \n",
    "@Trace\n",
    "def add(a, b):\n",
    "    return a + b\n",
    "\n",
    "print(add(10, 20))\n",
    "print(add(a=10, b=20))"
   ]
  },
  {
   "cell_type": "markdown",
   "id": "bad7f33d",
   "metadata": {},
   "source": [
    "### 42.5.1 클래스로 매개변수가 있는 데코레이터 만들기"
   ]
  },
  {
   "cell_type": "code",
   "execution_count": 40,
   "id": "609ce7ca",
   "metadata": {},
   "outputs": [
    {
     "name": "stdout",
     "output_type": "stream",
     "text": [
      "add의 반환값은 3의 배수입니다.\n",
      "add의 반환값은 2의 배수입니다.\n",
      "30\n",
      "add의 반환값은 3의 배수가 아닙니다.\n",
      "add의 반환값은 2의 배수가 아닙니다.\n",
      "7\n"
     ]
    }
   ],
   "source": [
    "import functools\n",
    "\n",
    "class IsMultiple:\n",
    "    def __init__(self, x):\n",
    "        self.x = x\n",
    "        \n",
    "    def __call__(self, func):\n",
    "        @functools.wraps(func)\n",
    "        def wrapper(a,b):\n",
    "            \n",
    "            r = func(a, b)\n",
    "            if r%self.x == 0:\n",
    "                print(f\"{func.__name__}의 반환값은 {self.x}의 배수입니다.\")\n",
    "            else:\n",
    "                print(f\"{func.__name__}의 반환값은 {self.x}의 배수가 아닙니다.\")\n",
    "            return r\n",
    "        return wrapper\n",
    "\n",
    "@IsMultiple(2) \n",
    "@IsMultiple(3) \n",
    "def add(a,b):\n",
    "    return a+b\n",
    "\n",
    "print(add(10, 20))\n",
    "print(add(2, 5))"
   ]
  }
 ],
 "metadata": {
  "kernelspec": {
   "display_name": "Python 3 (ipykernel)",
   "language": "python",
   "name": "python3"
  },
  "language_info": {
   "codemirror_mode": {
    "name": "ipython",
    "version": 3
   },
   "file_extension": ".py",
   "mimetype": "text/x-python",
   "name": "python",
   "nbconvert_exporter": "python",
   "pygments_lexer": "ipython3",
   "version": "3.9.12"
  }
 },
 "nbformat": 4,
 "nbformat_minor": 5
}

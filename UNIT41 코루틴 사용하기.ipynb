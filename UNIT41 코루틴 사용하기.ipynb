{
 "cells": [
  {
   "cell_type": "markdown",
   "id": "7781048b",
   "metadata": {},
   "source": [
    "#### 코루틴(coroutine) Cooperative Routine 서로 협력 하는 루틴\n",
    "#### 메인 루틴과 서브 루틴처럼 종속된 관계가 아님\n",
    "#### 서로 대등한 관계이며 특정 시점에 상대방의 코드를 실행"
   ]
  },
  {
   "cell_type": "markdown",
   "id": "7d7c9e48",
   "metadata": {},
   "source": [
    "## 41.1 코루틴에 값 보내기"
   ]
  },
  {
   "cell_type": "markdown",
   "id": "d5822462",
   "metadata": {},
   "source": [
    "#### 코루틴은 제너레이터의 특별한 형태\n",
    "#### 제너레이터는 yield로 값을 발생 코루틴은 yield로 값을 받아올 수 있음\n",
    "#### 코루틴에 값을 보내면서 코드를 실행할 때는 send 메서드를 사용\n",
    "#### send메서드가 보낸 값을 받아오려면 (yield)형식으로 괄호로 묶어준 뒤 변수에 저장"
   ]
  },
  {
   "cell_type": "code",
   "execution_count": 5,
   "id": "f411b94c",
   "metadata": {},
   "outputs": [
    {
     "name": "stdout",
     "output_type": "stream",
     "text": [
      "1\n",
      "2\n",
      "3\n"
     ]
    }
   ],
   "source": [
    "def number_coroutine():\n",
    "    while True:     # 코루틴을 계속 유지하기 위해 무한 루프 사용\n",
    "        x = (yield) # 코루틴 바깥에서 값을 받아옴, yield를 괄호로 묶어야 함\n",
    "        print(x)\n",
    "        \n",
    "co = number_coroutine()\n",
    "next(co) # 코루틴 안의 yield까지 코드 실행(최초 실행)\n",
    "\n",
    "co.send(1)\n",
    "co.send(2)\n",
    "co.send(3)"
   ]
  },
  {
   "cell_type": "markdown",
   "id": "9445bcc7",
   "metadata": {},
   "source": [
    "---"
   ]
  },
  {
   "cell_type": "markdown",
   "id": "cae2bca6",
   "metadata": {},
   "source": [
    "## 41.2 코루틴 바깥으로 값 전달하기"
   ]
  },
  {
   "cell_type": "markdown",
   "id": "67728fec",
   "metadata": {},
   "source": [
    "#### (yield 변수)형식으로 yield에 변수를 지정한 뒤 괄호로 묶어주면\n",
    "#### 값을 받아오면서 바깥으로 값을 전달"
   ]
  },
  {
   "cell_type": "markdown",
   "id": "18ab2daf",
   "metadata": {},
   "source": [
    "#### 변수 = (yield 변수)\n",
    "#### 변수 = next(코루틴객체)\n",
    "#### 변수 = 코루틴객체.send(값)"
   ]
  },
  {
   "cell_type": "code",
   "execution_count": 6,
   "id": "035b3910",
   "metadata": {},
   "outputs": [
    {
     "name": "stdout",
     "output_type": "stream",
     "text": [
      "0\n",
      "1\n",
      "3\n",
      "6\n"
     ]
    }
   ],
   "source": [
    "def sum_coroutine():\n",
    "    total = 0\n",
    "    while True:\n",
    "        x = (yield total) # 코루틴 바깥에서 값을 받아오면서 바깥으로 값을 전달\n",
    "        total += x\n",
    "        \n",
    "co = sum_coroutine()\n",
    "print(next(co))  # 0 : 코루틴 안의 yield까지 코드를 실행하고 코루틴에서 나온 값 출력\n",
    "\n",
    "print(co.send(1)) # 1 : 코루틴에 숫자 1을 보내고 코루틴에서 나온 값 출력\n",
    "print(co.send(2)) # 3 : 코루틴에 숫자 2를 보내고 코루틴에서 나온 값 출력\n",
    "print(co.send(3)) # 6 : 코루틴에 숫자 3을 보내고 코루틴에서 나온 값 출력"
   ]
  },
  {
   "cell_type": "markdown",
   "id": "ee8ac752",
   "metadata": {},
   "source": [
    "#### 제너레이터는 next 함수를 반복 호출하여 값을 얻어내는 방식\n",
    "#### 코루틴은 next함수를 한 번만 호출한 뒤 send로 값을 주고 받는 방식"
   ]
  },
  {
   "cell_type": "markdown",
   "id": "712a60d1",
   "metadata": {},
   "source": [
    "---"
   ]
  },
  {
   "cell_type": "markdown",
   "id": "ebfcff4b",
   "metadata": {},
   "source": [
    "## 41.3 코루틴을 종료하고 예외 처리하기"
   ]
  },
  {
   "cell_type": "markdown",
   "id": "ef81e591",
   "metadata": {},
   "source": [
    "#### 코루틴은 실행 상태를 유지하기 위해 무한루프를 사용함\n",
    "#### 종료하기 원하면 close 메서드를 사용"
   ]
  },
  {
   "cell_type": "code",
   "execution_count": 7,
   "id": "2116b335",
   "metadata": {},
   "outputs": [
    {
     "name": "stdout",
     "output_type": "stream",
     "text": [
      "0 1 2 3 4 5 6 7 8 9 10 11 12 13 14 15 16 17 18 19 "
     ]
    }
   ],
   "source": [
    "def number_coroutine():\n",
    "    while True:\n",
    "        x = (yield)\n",
    "        print(x, end=\" \")\n",
    "        \n",
    "co = number_coroutine()\n",
    "next(co)\n",
    "\n",
    "for i in range(20):\n",
    "    co.send(i)\n",
    "    \n",
    "co.close() # 코루틴 종료"
   ]
  },
  {
   "cell_type": "markdown",
   "id": "bbf8d312",
   "metadata": {},
   "source": [
    "#### 코루틴의 종료 시점을 알아야 할때 close 사용 시 편리"
   ]
  },
  {
   "cell_type": "markdown",
   "id": "857dc57d",
   "metadata": {},
   "source": [
    "### 41.3.1 GeneratorExit 예외 처리하기"
   ]
  },
  {
   "cell_type": "markdown",
   "id": "dc2cff87",
   "metadata": {},
   "source": [
    "#### 코루틴 객체에서 close 메서드를 호출하면 코루틴이 종료될 때 GeneratorExit 예외가 발생"
   ]
  },
  {
   "cell_type": "code",
   "execution_count": 11,
   "id": "7bc2734e",
   "metadata": {},
   "outputs": [
    {
     "name": "stdout",
     "output_type": "stream",
     "text": [
      "0 1 2 3 4 5 6 7 8 9 10 11 12 13 14 15 16 17 18 19 \n",
      "코루틴 종료\n"
     ]
    }
   ],
   "source": [
    "def number_coroutine():\n",
    "    try:\n",
    "        while True:\n",
    "            x = (yield)\n",
    "            print(x, end=' ')\n",
    "    except GeneratorExit: # 코루틴이 종료 될 때 GeneratorExit 예외 발생\n",
    "        print()\n",
    "        print('코루틴 종료')\n",
    "        \n",
    "co = number_coroutine()\n",
    "next(co)\n",
    "\n",
    "for i in range(20):\n",
    "    co.send(i)\n",
    "    \n",
    "co.close()"
   ]
  },
  {
   "cell_type": "markdown",
   "id": "bff9fe5d",
   "metadata": {},
   "source": [
    "### 41.3.2 코루틴 안에 예외 발생시키기 "
   ]
  },
  {
   "cell_type": "markdown",
   "id": "87dc6630",
   "metadata": {},
   "source": [
    "#### 코루틴 안에 예외 발생시킬 때 throw 메서드를 사용\n",
    "#### 예외를 코루틴 안에 던짐\n",
    "#### throw메서드에 지정한 에러 메시지 except as의 변수에 들어감\n",
    "#### 코루틴객체.throw(예외이름, 에러메시지)"
   ]
  },
  {
   "cell_type": "code",
   "execution_count": 12,
   "id": "0b622f46",
   "metadata": {},
   "outputs": [
    {
     "name": "stdout",
     "output_type": "stream",
     "text": [
      "예외로 코루틴 끝내기\n",
      "190\n"
     ]
    }
   ],
   "source": [
    "# 코루틴에 숫자 누적 RuntimeError 예외 발생시 에러 메시지를 출력 \n",
    "# 누적된 값을 코루틴 바깥으로 전달\n",
    "\n",
    "def sum_coroutine():\n",
    "    try:\n",
    "        total = 0\n",
    "        while True:\n",
    "            x = (yield)\n",
    "            total += x\n",
    "    except RuntimeError as e:\n",
    "        print(e)\n",
    "        yield total # 코루틴 바깥으로 값 전달\n",
    "        \n",
    "        \n",
    "co = sum_coroutine()\n",
    "next(co)\n",
    "\n",
    "for i in range(20):\n",
    "    co.send(i)\n",
    "\n",
    "    \n",
    "print(co.throw(RuntimeError, '예외로 코루틴 끝내기')) # 190\n",
    "                                    # 코루틴의 except에서 yield로 전달 받은 값"
   ]
  },
  {
   "cell_type": "markdown",
   "id": "bf619d41",
   "metadata": {},
   "source": [
    "---"
   ]
  },
  {
   "cell_type": "markdown",
   "id": "4f5302b6",
   "metadata": {},
   "source": [
    "## 41.4 하위 코루틴의 반환값 가져오기"
   ]
  },
  {
   "cell_type": "markdown",
   "id": "e6c4c1ad",
   "metadata": {},
   "source": [
    "#### 제너레이터에서 yield from을 사용하면 값을 바깥으로 여러 번 전달\n",
    "#### 코루틴에서는 다르게 사용\n",
    "#### yield from에 코루틴을 지정하면 해당 코루틴에서 return으로 반환 값을 가져옴\n",
    "\n",
    "#### 변수 = yield from 코루틴()"
   ]
  },
  {
   "cell_type": "code",
   "execution_count": 13,
   "id": "13dda8f1",
   "metadata": {},
   "outputs": [
    {
     "name": "stdout",
     "output_type": "stream",
     "text": [
      "55\n",
      "5050\n"
     ]
    }
   ],
   "source": [
    "def accumulate():\n",
    "    total = 0\n",
    "    while True:\n",
    "        x = (yield) # 코루틴 바깥에서 값을 받아옴\n",
    "        if x is None: # 받아온 값이 None이면\n",
    "            return total # 합계 total을 반환\n",
    "        total += x\n",
    "\n",
    "def sum_coroutine():\n",
    "    while True:\n",
    "        total = yield from accumulate() # accumulate의 반환값을 가져옴\n",
    "        print(total)\n",
    "        \n",
    "co = sum_coroutine()\n",
    "next(co)\n",
    "\n",
    "for i in range(1, 11):  # 1부터 10까지 반복\n",
    "    co.send(i)          # 코루틴 accumulate에 숫자를 보냄\n",
    "co.send(None)          # 코루틴 accumulate에 NOne을 보내서  숫자 누적을 끝냄\n",
    "\n",
    "for i in range(1, 101): # 1부터 100까지 반복\n",
    "    co.send(i)          # 코루틴 accumulate에 숫자를 보냄\n",
    "co.send(None)          # 코루틴 accumulate에 None을 보내서 숫자 누적을 끝냄"
   ]
  },
  {
   "cell_type": "markdown",
   "id": "e06d98c5",
   "metadata": {},
   "source": [
    "### 41.4.1 StopIteration 예외 발생시키기"
   ]
  },
  {
   "cell_type": "markdown",
   "id": "0d288478",
   "metadata": {},
   "source": [
    "#### 코루틴도 제너레이터이므로 return을 사용하면 StopIteration 예외 발생\n",
    "#### 코루틴에서 return 값은 raise StopIteration(값)처럼 사용할 수도 있음(python 3.6 이하)\n",
    "#### 3.7부터는 그냥 return 값을 사용 (RuntimeError로 바뀜)\n",
    "\n",
    "#### raise StopIteration(값)"
   ]
  },
  {
   "cell_type": "code",
   "execution_count": 15,
   "id": "8487689c",
   "metadata": {},
   "outputs": [
    {
     "name": "stdout",
     "output_type": "stream",
     "text": [
      "Python 3.9.12\n"
     ]
    }
   ],
   "source": [
    "!python -V"
   ]
  },
  {
   "cell_type": "code",
   "execution_count": 18,
   "id": "ad9ea1ec",
   "metadata": {},
   "outputs": [
    {
     "ename": "RuntimeError",
     "evalue": "generator raised StopIteration",
     "output_type": "error",
     "traceback": [
      "\u001b[1;31m---------------------------------------------------------------------------\u001b[0m",
      "\u001b[1;31mStopIteration\u001b[0m                             Traceback (most recent call last)",
      "Input \u001b[1;32mIn [18]\u001b[0m, in \u001b[0;36maccumulate\u001b[1;34m()\u001b[0m\n\u001b[0;32m      5\u001b[0m \u001b[38;5;28;01mif\u001b[39;00m x \u001b[38;5;129;01mis\u001b[39;00m \u001b[38;5;28;01mNone\u001b[39;00m:                 \u001b[38;5;66;03m# 받아온 값이 None이면\u001b[39;00m\n\u001b[1;32m----> 6\u001b[0m     \u001b[38;5;28;01mraise\u001b[39;00m \u001b[38;5;167;01mStopIteration\u001b[39;00m(total)\u001b[38;5;66;03m# StopIteration에 반환할 값을 지정(python 3.6 이하)\u001b[39;00m\n\u001b[0;32m      7\u001b[0m     \u001b[38;5;28;01mreturn\u001b[39;00m total\n",
      "\u001b[1;31mStopIteration\u001b[0m: 55",
      "\nThe above exception was the direct cause of the following exception:\n",
      "\u001b[1;31mRuntimeError\u001b[0m                              Traceback (most recent call last)",
      "Input \u001b[1;32mIn [18]\u001b[0m, in \u001b[0;36m<cell line: 15>\u001b[1;34m()\u001b[0m\n\u001b[0;32m     13\u001b[0m \u001b[38;5;28;01mfor\u001b[39;00m i \u001b[38;5;129;01min\u001b[39;00m \u001b[38;5;28mrange\u001b[39m(\u001b[38;5;241m1\u001b[39m, \u001b[38;5;241m11\u001b[39m):  \u001b[38;5;66;03m# 1부터 10까지 반복\u001b[39;00m\n\u001b[0;32m     14\u001b[0m     co\u001b[38;5;241m.\u001b[39msend(i)          \u001b[38;5;66;03m# 코루틴 accumulate에 숫자를 보냄\u001b[39;00m\n\u001b[1;32m---> 15\u001b[0m \u001b[43mco\u001b[49m\u001b[38;5;241;43m.\u001b[39;49m\u001b[43msend\u001b[49m\u001b[43m(\u001b[49m\u001b[38;5;28;43;01mNone\u001b[39;49;00m\u001b[43m)\u001b[49m          \u001b[38;5;66;03m# 코루틴 accumulate에 NOne을 보내서  숫자 누적을 끝냄\u001b[39;00m\n\u001b[0;32m     17\u001b[0m \u001b[38;5;28;01mfor\u001b[39;00m i \u001b[38;5;129;01min\u001b[39;00m \u001b[38;5;28mrange\u001b[39m(\u001b[38;5;241m1\u001b[39m, \u001b[38;5;241m101\u001b[39m): \u001b[38;5;66;03m# 1부터 100까지 반복\u001b[39;00m\n\u001b[0;32m     18\u001b[0m     co\u001b[38;5;241m.\u001b[39msend(i)          \u001b[38;5;66;03m# 코루틴 accumulate에 숫자를 보냄\u001b[39;00m\n",
      "Input \u001b[1;32mIn [13]\u001b[0m, in \u001b[0;36msum_coroutine\u001b[1;34m()\u001b[0m\n\u001b[0;32m      9\u001b[0m \u001b[38;5;28;01mdef\u001b[39;00m \u001b[38;5;21msum_coroutine\u001b[39m():\n\u001b[0;32m     10\u001b[0m     \u001b[38;5;28;01mwhile\u001b[39;00m \u001b[38;5;28;01mTrue\u001b[39;00m:\n\u001b[1;32m---> 11\u001b[0m         total \u001b[38;5;241m=\u001b[39m \u001b[38;5;28;01myield from\u001b[39;00m accumulate() \u001b[38;5;66;03m# accumulate의 반환값을 가져옴\u001b[39;00m\n\u001b[0;32m     12\u001b[0m         \u001b[38;5;28mprint\u001b[39m(total)\n",
      "\u001b[1;31mRuntimeError\u001b[0m: generator raised StopIteration"
     ]
    }
   ],
   "source": [
    "def accumulate():\n",
    "    total = 0\n",
    "    while True:\n",
    "        x = (yield)                    # 코루틴 바깥에서 값을 받아옴\n",
    "        if x is None:                 # 받아온 값이 None이면\n",
    "            raise StopIteration(total)# StopIteration에 반환할 값을 지정(python 3.6 이하)\n",
    "            return total\n",
    "        total += x\n",
    "\n",
    "\n",
    "def sum_coroutine():\n",
    "    while True:\n",
    "        total = yield from accumulate() # accumulate의 반환값을 가져옴\n",
    "        print(total)\n",
    "        \n",
    "        \n",
    "co = sum_coroutine()\n",
    "next(co)\n",
    "\n",
    "for i in range(1, 11):  # 1부터 10까지 반복\n",
    "    co.send(i)          # 코루틴 accumulate에 숫자를 보냄\n",
    "co.send(None)          # 코루틴 accumulate에 NOne을 보내서  숫자 누적을 끝냄\n",
    "\n",
    "for i in range(1, 101): # 1부터 100까지 반복\n",
    "    co.send(i)          # 코루틴 accumulate에 숫자를 보냄\n",
    "co.send(None)          # 코루틴 accumulate에 None을 보내서 숫자 누적을 끝냄    "
   ]
  },
  {
   "cell_type": "code",
   "execution_count": 19,
   "id": "6715ab6f",
   "metadata": {},
   "outputs": [
    {
     "name": "stdout",
     "output_type": "stream",
     "text": [
      "55\n",
      "5050\n"
     ]
    }
   ],
   "source": [
    "def accumulate():\n",
    "    total = 0\n",
    "    while True:\n",
    "        x = (yield)                    # 코루틴 바깥에서 값을 받아옴\n",
    "        if x is None:                 # 받아온 값이 None이면\n",
    "#             raise StopIteration(total)# StopIteration에 반환할 값을 지정(python 3.6 이하)\n",
    "            return total\n",
    "        total += x\n",
    "\n",
    "\n",
    "def sum_coroutine():\n",
    "    while True:\n",
    "        total = yield from accumulate() # accumulate의 반환값을 가져옴\n",
    "        print(total)\n",
    "        \n",
    "        \n",
    "co = sum_coroutine()\n",
    "next(co)\n",
    "\n",
    "for i in range(1, 11):  # 1부터 10까지 반복\n",
    "    co.send(i)          # 코루틴 accumulate에 숫자를 보냄\n",
    "co.send(None)          # 코루틴 accumulate에 NOne을 보내서  숫자 누적을 끝냄\n",
    "\n",
    "for i in range(1, 101): # 1부터 100까지 반복\n",
    "    co.send(i)          # 코루틴 accumulate에 숫자를 보냄\n",
    "co.send(None)          # 코루틴 accumulate에 None을 보내서 숫자 누적을 끝냄    "
   ]
  },
  {
   "cell_type": "markdown",
   "id": "1e81781c",
   "metadata": {},
   "source": [
    "#### 코루틴의 yield from으로 값을 발생시키기"
   ]
  },
  {
   "cell_type": "code",
   "execution_count": 21,
   "id": "6647c0d0",
   "metadata": {},
   "outputs": [
    {
     "name": "stdout",
     "output_type": "stream",
     "text": [
      "1\n",
      "2\n",
      "print_coroutine 3\n"
     ]
    }
   ],
   "source": [
    "def number_coroutine():\n",
    "    x = None\n",
    "    while True:\n",
    "        x = (yield x) # 코루틴 바깥에서 값을 받아오면서 바깥으로 값을 전달\n",
    "        if x == 3:\n",
    "            return x\n",
    "        \n",
    "def print_coroutine():\n",
    "    while True:\n",
    "        x = yield from number_coroutine() # 하위 코루틴의 yield에 지정된 값을 다시 바깥으로 전달\n",
    "        print('print_coroutine', x)\n",
    "        \n",
    "co = print_coroutine()\n",
    "next(co)\n",
    "\n",
    "x = co.send(1) # number_coroutine으로 1을 보냄\n",
    "print(x)       # 1 : number_coroutine의 yield에서 바깥으로 전달한 값\n",
    "x = co.send(2) # number_coroutine으로 2를 보냄\n",
    "print(x)       # 2 : number_coroutine의 yield에서 바깥으로 전달한 값\n",
    "co.send(3)     # 3을 보내서 반환값을 출력하도록 만듬"
   ]
  }
 ],
 "metadata": {
  "kernelspec": {
   "display_name": "Python 3 (ipykernel)",
   "language": "python",
   "name": "python3"
  },
  "language_info": {
   "codemirror_mode": {
    "name": "ipython",
    "version": 3
   },
   "file_extension": ".py",
   "mimetype": "text/x-python",
   "name": "python",
   "nbconvert_exporter": "python",
   "pygments_lexer": "ipython3",
   "version": "3.9.12"
  }
 },
 "nbformat": 4,
 "nbformat_minor": 5
}

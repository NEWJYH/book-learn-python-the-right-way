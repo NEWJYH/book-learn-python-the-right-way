{
 "cells": [
  {
   "cell_type": "markdown",
   "id": "74ff932e",
   "metadata": {},
   "source": [
    "## 24.1 문자열 조작하기"
   ]
  },
  {
   "cell_type": "markdown",
   "id": "08304861",
   "metadata": {},
   "source": [
    "### 24.1.1 문자열 바꾸기"
   ]
  },
  {
   "cell_type": "code",
   "execution_count": 5,
   "id": "c1ae9065",
   "metadata": {},
   "outputs": [
    {
     "data": {
      "text/plain": [
       "('Hello, world!', 'Hello, python!')"
      ]
     },
     "execution_count": 5,
     "metadata": {},
     "output_type": "execute_result"
    }
   ],
   "source": [
    "string = 'Hello, world!'\n",
    "newstring = string.replace('world','python')\n",
    "string, newstring"
   ]
  },
  {
   "cell_type": "markdown",
   "id": "2aa53b61",
   "metadata": {},
   "source": [
    "### 24.1.2 문자 바꾸기"
   ]
  },
  {
   "cell_type": "code",
   "execution_count": 6,
   "id": "08280100",
   "metadata": {},
   "outputs": [
    {
     "data": {
      "text/plain": [
       "'1ppl2'"
      ]
     },
     "execution_count": 6,
     "metadata": {},
     "output_type": "execute_result"
    }
   ],
   "source": [
    "table = str.maketrans('aeiou', '12345')\n",
    "'apple'.translate(table)"
   ]
  },
  {
   "cell_type": "markdown",
   "id": "67f2150d",
   "metadata": {},
   "source": [
    "### 24.1.3 문자열 분리하기\n"
   ]
  },
  {
   "cell_type": "code",
   "execution_count": 7,
   "id": "edd95686",
   "metadata": {},
   "outputs": [
    {
     "data": {
      "text/plain": [
       "['apple', 'pear', 'grape', 'pineapple', 'orange']"
      ]
     },
     "execution_count": 7,
     "metadata": {},
     "output_type": "execute_result"
    }
   ],
   "source": [
    "'apple pear grape pineapple orange'.split()"
   ]
  },
  {
   "cell_type": "code",
   "execution_count": 8,
   "id": "ca278f59",
   "metadata": {},
   "outputs": [
    {
     "data": {
      "text/plain": [
       "['apple', 'pear', 'grape', 'pineapple', 'orange']"
      ]
     },
     "execution_count": 8,
     "metadata": {},
     "output_type": "execute_result"
    }
   ],
   "source": [
    "'apple, pear, grape, pineapple, orange'.split(', ')"
   ]
  },
  {
   "cell_type": "markdown",
   "id": "7327f944",
   "metadata": {},
   "source": [
    "### 24.1.4 구분자 문자열과 문자열 리스트 연결하기"
   ]
  },
  {
   "cell_type": "code",
   "execution_count": 9,
   "id": "aa33b49d",
   "metadata": {},
   "outputs": [
    {
     "data": {
      "text/plain": [
       "'apple pear grape pineapple orange'"
      ]
     },
     "execution_count": 9,
     "metadata": {},
     "output_type": "execute_result"
    }
   ],
   "source": [
    "' '.join(['apple', 'pear', 'grape', 'pineapple', 'orange'])"
   ]
  },
  {
   "cell_type": "code",
   "execution_count": 10,
   "id": "98f65db2",
   "metadata": {},
   "outputs": [
    {
     "data": {
      "text/plain": [
       "'apple-pear-grape-pineapple-orange'"
      ]
     },
     "execution_count": 10,
     "metadata": {},
     "output_type": "execute_result"
    }
   ],
   "source": [
    "'-'.join(['apple', 'pear', 'grape', 'pineapple', 'orange'])"
   ]
  },
  {
   "cell_type": "markdown",
   "id": "3638461c",
   "metadata": {},
   "source": [
    "### 24.1.5 소문자를 대문자로 바꾸기"
   ]
  },
  {
   "cell_type": "code",
   "execution_count": 11,
   "id": "fd8de7ef",
   "metadata": {},
   "outputs": [
    {
     "data": {
      "text/plain": [
       "'APPLE'"
      ]
     },
     "execution_count": 11,
     "metadata": {},
     "output_type": "execute_result"
    }
   ],
   "source": [
    "'apple'.upper()"
   ]
  },
  {
   "cell_type": "markdown",
   "id": "0de3e005",
   "metadata": {},
   "source": [
    "### 24.1.6 대문자를 소문자로 바꾸기"
   ]
  },
  {
   "cell_type": "code",
   "execution_count": 12,
   "id": "b5de6c07",
   "metadata": {},
   "outputs": [
    {
     "data": {
      "text/plain": [
       "'python'"
      ]
     },
     "execution_count": 12,
     "metadata": {},
     "output_type": "execute_result"
    }
   ],
   "source": [
    "'PYTHON'.lower()"
   ]
  },
  {
   "cell_type": "markdown",
   "id": "6773e329",
   "metadata": {},
   "source": [
    "### 24.1.7 왼쪽 공백 삭제하기"
   ]
  },
  {
   "cell_type": "code",
   "execution_count": 13,
   "id": "6feb92f5",
   "metadata": {},
   "outputs": [
    {
     "data": {
      "text/plain": [
       "'python     '"
      ]
     },
     "execution_count": 13,
     "metadata": {},
     "output_type": "execute_result"
    }
   ],
   "source": [
    "\"      python     \".lstrip()"
   ]
  },
  {
   "cell_type": "markdown",
   "id": "a2f434d1",
   "metadata": {},
   "source": [
    "### 24.1.8 오른쪽 공백 삭제하기"
   ]
  },
  {
   "cell_type": "code",
   "execution_count": 14,
   "id": "6f84ac62",
   "metadata": {},
   "outputs": [
    {
     "data": {
      "text/plain": [
       "'      python'"
      ]
     },
     "execution_count": 14,
     "metadata": {},
     "output_type": "execute_result"
    }
   ],
   "source": [
    "\"      python     \".rstrip()"
   ]
  },
  {
   "cell_type": "markdown",
   "id": "7d262d7a",
   "metadata": {},
   "source": [
    "### 24.1.9 양쪽 공백 삭제하기"
   ]
  },
  {
   "cell_type": "code",
   "execution_count": 15,
   "id": "af8ca4c3",
   "metadata": {},
   "outputs": [
    {
     "data": {
      "text/plain": [
       "'python'"
      ]
     },
     "execution_count": 15,
     "metadata": {},
     "output_type": "execute_result"
    }
   ],
   "source": [
    "\"      python     \".strip()"
   ]
  },
  {
   "cell_type": "markdown",
   "id": "d36ffdc6",
   "metadata": {},
   "source": [
    "### 24.1.10 왼쪽의 특정 문자 삭제하기"
   ]
  },
  {
   "cell_type": "code",
   "execution_count": 17,
   "id": "03e971f6",
   "metadata": {},
   "outputs": [
    {
     "data": {
      "text/plain": [
       "'python.'"
      ]
     },
     "execution_count": 17,
     "metadata": {},
     "output_type": "execute_result"
    }
   ],
   "source": [
    "', python.'.lstrip(',. ')"
   ]
  },
  {
   "cell_type": "markdown",
   "id": "be274a10",
   "metadata": {},
   "source": [
    "### 24.1.11 오른쪽의 특정 문자 삭제하기"
   ]
  },
  {
   "cell_type": "markdown",
   "id": "0fc8be16",
   "metadata": {},
   "source": [
    "### 24.1.12 양쪽의 특정 문자 삭제하기"
   ]
  },
  {
   "cell_type": "markdown",
   "id": "852be9bc",
   "metadata": {},
   "source": [
    "### 24.1.13 문자열 왼쪽 정렬하기"
   ]
  },
  {
   "cell_type": "code",
   "execution_count": 18,
   "id": "fa2e71b2",
   "metadata": {},
   "outputs": [
    {
     "data": {
      "text/plain": [
       "'python    '"
      ]
     },
     "execution_count": 18,
     "metadata": {},
     "output_type": "execute_result"
    }
   ],
   "source": [
    "'python'.ljust(10)"
   ]
  },
  {
   "cell_type": "markdown",
   "id": "56368d83",
   "metadata": {},
   "source": [
    "### 24.1.14 문자열을 오른쪽 정렬하기"
   ]
  },
  {
   "cell_type": "code",
   "execution_count": 19,
   "id": "a701629b",
   "metadata": {},
   "outputs": [
    {
     "data": {
      "text/plain": [
       "'    python'"
      ]
     },
     "execution_count": 19,
     "metadata": {},
     "output_type": "execute_result"
    }
   ],
   "source": [
    "'python'.rjust(10)"
   ]
  },
  {
   "cell_type": "markdown",
   "id": "2a4871a6",
   "metadata": {},
   "source": [
    "### 24.1.15 문자열을 가운데 정렬하기"
   ]
  },
  {
   "cell_type": "code",
   "execution_count": 20,
   "id": "9fd9aea4",
   "metadata": {},
   "outputs": [
    {
     "data": {
      "text/plain": [
       "'  python  '"
      ]
     },
     "execution_count": 20,
     "metadata": {},
     "output_type": "execute_result"
    }
   ],
   "source": [
    "'python'.center(10)"
   ]
  },
  {
   "cell_type": "markdown",
   "id": "63754c85",
   "metadata": {},
   "source": [
    "### 24.1.16 메서드 체이닝"
   ]
  },
  {
   "cell_type": "code",
   "execution_count": 21,
   "id": "60799dd8",
   "metadata": {},
   "outputs": [
    {
     "data": {
      "text/plain": [
       "'    PYTHON'"
      ]
     },
     "execution_count": 21,
     "metadata": {},
     "output_type": "execute_result"
    }
   ],
   "source": [
    "'python'.rjust(10).upper()"
   ]
  },
  {
   "cell_type": "markdown",
   "id": "45ae7a8a",
   "metadata": {},
   "source": [
    "### 24.1.17 문자열 왼쪽에 0채우기"
   ]
  },
  {
   "cell_type": "code",
   "execution_count": 22,
   "id": "395972cc",
   "metadata": {},
   "outputs": [
    {
     "data": {
      "text/plain": [
       "'0035'"
      ]
     },
     "execution_count": 22,
     "metadata": {},
     "output_type": "execute_result"
    }
   ],
   "source": [
    "'35'.zfill(4)"
   ]
  },
  {
   "cell_type": "code",
   "execution_count": 23,
   "id": "213cb629",
   "metadata": {},
   "outputs": [
    {
     "data": {
      "text/plain": [
       "'0003.5'"
      ]
     },
     "execution_count": 23,
     "metadata": {},
     "output_type": "execute_result"
    }
   ],
   "source": [
    "'3.5'.zfill(6)"
   ]
  },
  {
   "cell_type": "code",
   "execution_count": 24,
   "id": "a298ec8f",
   "metadata": {},
   "outputs": [
    {
     "data": {
      "text/plain": [
       "'00000hello'"
      ]
     },
     "execution_count": 24,
     "metadata": {},
     "output_type": "execute_result"
    }
   ],
   "source": [
    "'hello'.zfill(10)"
   ]
  },
  {
   "cell_type": "markdown",
   "id": "b3af6da9",
   "metadata": {},
   "source": [
    "### 24.1.18 문자열 위치 찾기"
   ]
  },
  {
   "cell_type": "code",
   "execution_count": 25,
   "id": "c7fac561",
   "metadata": {},
   "outputs": [
    {
     "data": {
      "text/plain": [
       "2"
      ]
     },
     "execution_count": 25,
     "metadata": {},
     "output_type": "execute_result"
    }
   ],
   "source": [
    "'apple pineapple'.find('pl')"
   ]
  },
  {
   "cell_type": "code",
   "execution_count": 27,
   "id": "18ea15c0",
   "metadata": {},
   "outputs": [
    {
     "data": {
      "text/plain": [
       "-1"
      ]
     },
     "execution_count": 27,
     "metadata": {},
     "output_type": "execute_result"
    }
   ],
   "source": [
    "'apple pineapple'.find('xy')"
   ]
  },
  {
   "cell_type": "markdown",
   "id": "167b2a42",
   "metadata": {},
   "source": [
    "### 24.1.19 오른쪽에서부터 문자열 위치 찾기"
   ]
  },
  {
   "cell_type": "code",
   "execution_count": 28,
   "id": "757e967c",
   "metadata": {},
   "outputs": [
    {
     "data": {
      "text/plain": [
       "12"
      ]
     },
     "execution_count": 28,
     "metadata": {},
     "output_type": "execute_result"
    }
   ],
   "source": [
    "'apple pineapple'.rfind('pl')"
   ]
  },
  {
   "cell_type": "code",
   "execution_count": 29,
   "id": "9c31c09b",
   "metadata": {},
   "outputs": [
    {
     "data": {
      "text/plain": [
       "-1"
      ]
     },
     "execution_count": 29,
     "metadata": {},
     "output_type": "execute_result"
    }
   ],
   "source": [
    "'apple pineapple'.rfind('xy')"
   ]
  },
  {
   "cell_type": "markdown",
   "id": "d24cda54",
   "metadata": {},
   "source": [
    "### 24.1.20 문자열 위치 찾기"
   ]
  },
  {
   "cell_type": "code",
   "execution_count": 30,
   "id": "784ff885",
   "metadata": {},
   "outputs": [
    {
     "data": {
      "text/plain": [
       "2"
      ]
     },
     "execution_count": 30,
     "metadata": {},
     "output_type": "execute_result"
    }
   ],
   "source": [
    "'apple pineapple'.index('pl')\n",
    "# 없으면 오류남"
   ]
  },
  {
   "cell_type": "code",
   "execution_count": 31,
   "id": "c3f304ea",
   "metadata": {},
   "outputs": [
    {
     "ename": "ValueError",
     "evalue": "substring not found",
     "output_type": "error",
     "traceback": [
      "\u001b[1;31m---------------------------------------------------------------------------\u001b[0m",
      "\u001b[1;31mValueError\u001b[0m                                Traceback (most recent call last)",
      "Input \u001b[1;32mIn [31]\u001b[0m, in \u001b[0;36m<cell line: 1>\u001b[1;34m()\u001b[0m\n\u001b[1;32m----> 1\u001b[0m \u001b[38;5;124;43m'\u001b[39;49m\u001b[38;5;124;43mapple pineapple\u001b[39;49m\u001b[38;5;124;43m'\u001b[39;49m\u001b[38;5;241;43m.\u001b[39;49m\u001b[43mindex\u001b[49m\u001b[43m(\u001b[49m\u001b[38;5;124;43m'\u001b[39;49m\u001b[38;5;124;43mxy\u001b[39;49m\u001b[38;5;124;43m'\u001b[39;49m\u001b[43m)\u001b[49m\n",
      "\u001b[1;31mValueError\u001b[0m: substring not found"
     ]
    }
   ],
   "source": [
    "'apple pineapple'.index('xy')"
   ]
  },
  {
   "cell_type": "markdown",
   "id": "d84cb175",
   "metadata": {},
   "source": [
    "### 24.1.21 오른쪽에서부터 문자열 위치 찾기"
   ]
  },
  {
   "cell_type": "code",
   "execution_count": 32,
   "id": "caebbaad",
   "metadata": {},
   "outputs": [
    {
     "data": {
      "text/plain": [
       "2"
      ]
     },
     "execution_count": 32,
     "metadata": {},
     "output_type": "execute_result"
    }
   ],
   "source": [
    "'apple pineapple'.index('pl')"
   ]
  },
  {
   "cell_type": "code",
   "execution_count": 34,
   "id": "3db84584",
   "metadata": {},
   "outputs": [
    {
     "data": {
      "text/plain": [
       "12"
      ]
     },
     "execution_count": 34,
     "metadata": {},
     "output_type": "execute_result"
    }
   ],
   "source": [
    "'apple pineapple'.rindex('pl')"
   ]
  },
  {
   "cell_type": "markdown",
   "id": "3e143b9c",
   "metadata": {},
   "source": [
    "### 24.1.22 문자열 개수 세기"
   ]
  },
  {
   "cell_type": "code",
   "execution_count": 35,
   "id": "bfbe6aca",
   "metadata": {},
   "outputs": [
    {
     "data": {
      "text/plain": [
       "2"
      ]
     },
     "execution_count": 35,
     "metadata": {},
     "output_type": "execute_result"
    }
   ],
   "source": [
    "'apple pineapple'.count('pl')"
   ]
  },
  {
   "cell_type": "markdown",
   "id": "912afe35",
   "metadata": {},
   "source": [
    "---"
   ]
  },
  {
   "cell_type": "markdown",
   "id": "e0095f66",
   "metadata": {},
   "source": [
    "## 24.2 문자열 서식 지정자와 포매팅 사용하기"
   ]
  },
  {
   "cell_type": "markdown",
   "id": "f90bcccc",
   "metadata": {},
   "source": [
    "### 24.2.1 서식 지정자로 문자열 넣기"
   ]
  },
  {
   "cell_type": "code",
   "execution_count": 36,
   "id": "90d659ae",
   "metadata": {},
   "outputs": [
    {
     "data": {
      "text/plain": [
       "'I am james'"
      ]
     },
     "execution_count": 36,
     "metadata": {},
     "output_type": "execute_result"
    }
   ],
   "source": [
    "'I am %s'%'james'"
   ]
  },
  {
   "cell_type": "code",
   "execution_count": 37,
   "id": "67bb5821",
   "metadata": {},
   "outputs": [
    {
     "data": {
      "text/plain": [
       "'I am maria'"
      ]
     },
     "execution_count": 37,
     "metadata": {},
     "output_type": "execute_result"
    }
   ],
   "source": [
    "name = 'maria'\n",
    "'I am %s'% name"
   ]
  },
  {
   "cell_type": "markdown",
   "id": "f25d1c38",
   "metadata": {},
   "source": [
    "### 24.2.2 서식지정자로 숫자 넣기"
   ]
  },
  {
   "cell_type": "code",
   "execution_count": 40,
   "id": "a55972d4",
   "metadata": {},
   "outputs": [
    {
     "data": {
      "text/plain": [
       "'I am 20 years old.'"
      ]
     },
     "execution_count": 40,
     "metadata": {},
     "output_type": "execute_result"
    }
   ],
   "source": [
    "'I am %d years old.'% 20"
   ]
  },
  {
   "cell_type": "markdown",
   "id": "6d1525eb",
   "metadata": {},
   "source": [
    "### 24.2.3 서식 지정자로 소수점 표현하기"
   ]
  },
  {
   "cell_type": "code",
   "execution_count": 43,
   "id": "39bbe5d2",
   "metadata": {},
   "outputs": [
    {
     "data": {
      "text/plain": [
       "'2.300000'"
      ]
     },
     "execution_count": 43,
     "metadata": {},
     "output_type": "execute_result"
    }
   ],
   "source": [
    "'%f'%2.3"
   ]
  },
  {
   "cell_type": "code",
   "execution_count": 44,
   "id": "93d0466d",
   "metadata": {},
   "outputs": [
    {
     "data": {
      "text/plain": [
       "'2.30'"
      ]
     },
     "execution_count": 44,
     "metadata": {},
     "output_type": "execute_result"
    }
   ],
   "source": [
    "'%.2f'%2.3"
   ]
  },
  {
   "cell_type": "markdown",
   "id": "2de1a947",
   "metadata": {},
   "source": [
    "    - '%.자리수f'%숫자"
   ]
  },
  {
   "cell_type": "markdown",
   "id": "1ad2b256",
   "metadata": {},
   "source": [
    "### 24.2.4 서식 지정자로 문자열 정렬하기"
   ]
  },
  {
   "cell_type": "code",
   "execution_count": 46,
   "id": "61849376",
   "metadata": {},
   "outputs": [
    {
     "data": {
      "text/plain": [
       "'    python'"
      ]
     },
     "execution_count": 46,
     "metadata": {},
     "output_type": "execute_result"
    }
   ],
   "source": [
    "# 오른쪽 정렬\n",
    "'%10s'%'python'"
   ]
  },
  {
   "cell_type": "code",
   "execution_count": 47,
   "id": "6d382cf4",
   "metadata": {},
   "outputs": [
    {
     "data": {
      "text/plain": [
       "'python    '"
      ]
     },
     "execution_count": 47,
     "metadata": {},
     "output_type": "execute_result"
    }
   ],
   "source": [
    "# 왼쪽 정렬\n",
    "'%-10s'%'python'"
   ]
  },
  {
   "cell_type": "code",
   "execution_count": 49,
   "id": "72381d5f",
   "metadata": {},
   "outputs": [
    {
     "data": {
      "text/plain": [
       "'       150'"
      ]
     },
     "execution_count": 49,
     "metadata": {},
     "output_type": "execute_result"
    }
   ],
   "source": [
    "# 자릿수가 다른 숫자 출력하기 오른쪽 정렬\n",
    "'%10d'%150"
   ]
  },
  {
   "cell_type": "code",
   "execution_count": 50,
   "id": "7a953aa3",
   "metadata": {},
   "outputs": [
    {
     "data": {
      "text/plain": [
       "'150       '"
      ]
     },
     "execution_count": 50,
     "metadata": {},
     "output_type": "execute_result"
    }
   ],
   "source": [
    "# 자릿수가 다른 숫자 출력하기 왼쪽 정렬\n",
    "'%-10d'%150"
   ]
  },
  {
   "cell_type": "markdown",
   "id": "7432c4a3",
   "metadata": {},
   "source": [
    "    - %길이.자릿수f \n",
    "        - 길이는 정렬할 길이 자리수는 소수점 이하 자릿수"
   ]
  },
  {
   "cell_type": "markdown",
   "id": "4afd8554",
   "metadata": {},
   "source": [
    "### 24.2.5 서식 지정자로 문자열 안에 값 여러 개 넣기"
   ]
  },
  {
   "cell_type": "code",
   "execution_count": 51,
   "id": "699cd55f",
   "metadata": {},
   "outputs": [
    {
     "data": {
      "text/plain": [
       "'Today is 3 April'"
      ]
     },
     "execution_count": 51,
     "metadata": {},
     "output_type": "execute_result"
    }
   ],
   "source": [
    "'Today is %d %s'%(3, 'April')"
   ]
  },
  {
   "cell_type": "markdown",
   "id": "67105072",
   "metadata": {},
   "source": [
    "### 24.2.6 format 메서드 사용하기"
   ]
  },
  {
   "cell_type": "code",
   "execution_count": 53,
   "id": "aae1ba16",
   "metadata": {},
   "outputs": [
    {
     "data": {
      "text/plain": [
       "'Hello, world!'"
      ]
     },
     "execution_count": 53,
     "metadata": {},
     "output_type": "execute_result"
    }
   ],
   "source": [
    "'Hello, {0}'.format('world!')"
   ]
  },
  {
   "cell_type": "markdown",
   "id": "a994461d",
   "metadata": {},
   "source": [
    "### 24.2.7 format 메서드로 값 여러 개 넣기"
   ]
  },
  {
   "cell_type": "code",
   "execution_count": 54,
   "id": "a3754e38",
   "metadata": {},
   "outputs": [
    {
     "data": {
      "text/plain": [
       "'Hello python 3.6 Script'"
      ]
     },
     "execution_count": 54,
     "metadata": {},
     "output_type": "execute_result"
    }
   ],
   "source": [
    "\"Hello {0} {2} {1}\".format('python','Script',3.6)"
   ]
  },
  {
   "cell_type": "markdown",
   "id": "9493fde0",
   "metadata": {},
   "source": [
    "### 24.2.8 format 메서드로 같은 값 여러개 넣기"
   ]
  },
  {
   "cell_type": "markdown",
   "id": "3eb2c169",
   "metadata": {},
   "source": [
    "### 24.2.9 format 메서드에서 인덱스 생략하기"
   ]
  },
  {
   "cell_type": "markdown",
   "id": "67e1e4de",
   "metadata": {},
   "source": [
    "### 24.2.10 fotmat 메서드에서 인덱스 대신 이름 지정하기"
   ]
  },
  {
   "cell_type": "code",
   "execution_count": 56,
   "id": "ffd8df20",
   "metadata": {},
   "outputs": [
    {
     "data": {
      "text/plain": [
       "'Hello PYTHON 3.6'"
      ]
     },
     "execution_count": 56,
     "metadata": {},
     "output_type": "execute_result"
    }
   ],
   "source": [
    "\"Hello {language} {version}\".format(language='PYTHON', version=3.6)"
   ]
  },
  {
   "cell_type": "markdown",
   "id": "a5a3fc4b",
   "metadata": {},
   "source": [
    "### 24.2.11 문자열 포매팅에 변수를 그대로 사용하기"
   ]
  },
  {
   "cell_type": "code",
   "execution_count": 59,
   "id": "f51c62a3",
   "metadata": {},
   "outputs": [
    {
     "data": {
      "text/plain": [
       "'hello PYTHON 3.6'"
      ]
     },
     "execution_count": 59,
     "metadata": {},
     "output_type": "execute_result"
    }
   ],
   "source": [
    "language='PYTHON'; version=3.6\n",
    "f\"hello {language} {version}\""
   ]
  },
  {
   "cell_type": "markdown",
   "id": "819f9eea",
   "metadata": {},
   "source": [
    "### 24.2.12 format 메서드로 문자열 정렬하기"
   ]
  },
  {
   "cell_type": "code",
   "execution_count": 60,
   "id": "dd359663",
   "metadata": {},
   "outputs": [
    {
     "data": {
      "text/plain": [
       "'python    '"
      ]
     },
     "execution_count": 60,
     "metadata": {},
     "output_type": "execute_result"
    }
   ],
   "source": [
    "'{0:<10}'.format('python')"
   ]
  },
  {
   "cell_type": "code",
   "execution_count": 61,
   "id": "4dc67f94",
   "metadata": {},
   "outputs": [
    {
     "data": {
      "text/plain": [
       "'    python'"
      ]
     },
     "execution_count": 61,
     "metadata": {},
     "output_type": "execute_result"
    }
   ],
   "source": [
    "'{0:>10}'.format('python')"
   ]
  },
  {
   "cell_type": "markdown",
   "id": "b5ff595b",
   "metadata": {},
   "source": [
    "### 24.2.13 숫자 개수 맞추기"
   ]
  },
  {
   "cell_type": "code",
   "execution_count": 64,
   "id": "03dbb278",
   "metadata": {},
   "outputs": [
    {
     "data": {
      "text/plain": [
       "'001'"
      ]
     },
     "execution_count": 64,
     "metadata": {},
     "output_type": "execute_result"
    }
   ],
   "source": [
    "'%03d'%1"
   ]
  },
  {
   "cell_type": "markdown",
   "id": "24e27bf8",
   "metadata": {},
   "source": [
    "### 24.2.14 채우기와 정렬을 조합해서 사용하기"
   ]
  }
 ],
 "metadata": {
  "kernelspec": {
   "display_name": "Python 3 (ipykernel)",
   "language": "python",
   "name": "python3"
  },
  "language_info": {
   "codemirror_mode": {
    "name": "ipython",
    "version": 3
   },
   "file_extension": ".py",
   "mimetype": "text/x-python",
   "name": "python",
   "nbconvert_exporter": "python",
   "pygments_lexer": "ipython3",
   "version": "3.9.12"
  }
 },
 "nbformat": 4,
 "nbformat_minor": 5
}

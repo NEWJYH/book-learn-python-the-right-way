{
 "cells": [
  {
   "cell_type": "markdown",
   "id": "a9d8c245",
   "metadata": {},
   "source": [
    "## 13.1 if 조건문 사용하기"
   ]
  },
  {
   "cell_type": "markdown",
   "id": "f567dd51",
   "metadata": {},
   "source": [
    "### 13.1.1 if 조건문의 기본 형태와 실행 흐름 알아보기"
   ]
  },
  {
   "cell_type": "markdown",
   "id": "221ca248",
   "metadata": {},
   "source": [
    "### 13.1.2 if 조건문을 사용할 때 주의할 점"
   ]
  },
  {
   "cell_type": "markdown",
   "id": "4b742386",
   "metadata": {},
   "source": [
    "### 13.1.3 if 조건문에서 코드를 생략하기"
   ]
  },
  {
   "cell_type": "markdown",
   "id": "e8e18196",
   "metadata": {},
   "source": [
    "---"
   ]
  },
  {
   "cell_type": "markdown",
   "id": "0cfdf71e",
   "metadata": {},
   "source": [
    "## 13.2 if 조건문과 들여쓰기"
   ]
  },
  {
   "cell_type": "markdown",
   "id": "f333e898",
   "metadata": {},
   "source": [
    "---"
   ]
  },
  {
   "cell_type": "markdown",
   "id": "02401d47",
   "metadata": {},
   "source": [
    "## 13.3 중첩 if 조건문 사용하기"
   ]
  },
  {
   "cell_type": "markdown",
   "id": "dcdadd28",
   "metadata": {},
   "source": [
    "---"
   ]
  },
  {
   "cell_type": "markdown",
   "id": "0a89947f",
   "metadata": {},
   "source": [
    "## 13.4 사용자가 입력한 값에 if 조건문 사용하기"
   ]
  }
 ],
 "metadata": {
  "kernelspec": {
   "display_name": "Python 3 (ipykernel)",
   "language": "python",
   "name": "python3"
  },
  "language_info": {
   "codemirror_mode": {
    "name": "ipython",
    "version": 3
   },
   "file_extension": ".py",
   "mimetype": "text/x-python",
   "name": "python",
   "nbconvert_exporter": "python",
   "pygments_lexer": "ipython3",
   "version": "3.9.12"
  }
 },
 "nbformat": 4,
 "nbformat_minor": 5
}

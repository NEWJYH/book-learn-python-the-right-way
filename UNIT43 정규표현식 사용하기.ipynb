{
 "cells": [
  {
   "cell_type": "markdown",
   "id": "e4c50fd7",
   "metadata": {},
   "source": [
    "#### 정규표현식(regular expression)\n",
    "#### 일정한 규칙(패턴)을 가진 문자열을 표현하는 방법\n",
    "#### 복잡한 문자열 속에서 특정한 규칙으로 문자열을 검색 뒤 추출 또는 바꿀 때 사용\n",
    "#### 문자열이 정해진 규칙에 맞는지 판단할 때도 사용"
   ]
  },
  {
   "cell_type": "markdown",
   "id": "fab8ce82",
   "metadata": {},
   "source": [
    "---"
   ]
  },
  {
   "cell_type": "markdown",
   "id": "9c1b90ef",
   "metadata": {},
   "source": [
    "## 43.1 문자열 판단하기"
   ]
  },
  {
   "cell_type": "markdown",
   "id": "faeea6a4",
   "metadata": {},
   "source": [
    "#### 정규표현식은 re모듈을 가져와서 사용\n",
    "#### match 함수에 정규표현식 패턴과 판단한 문자열을 넣음\n",
    "#### \n",
    "####  re.match('패턴', '문자열')"
   ]
  },
  {
   "cell_type": "code",
   "execution_count": 1,
   "id": "5685f2ca",
   "metadata": {},
   "outputs": [
    {
     "data": {
      "text/plain": [
       "<re.Match object; span=(0, 5), match='hello'>"
      ]
     },
     "execution_count": 1,
     "metadata": {},
     "output_type": "execute_result"
    }
   ],
   "source": [
    "import re\n",
    "re.match('hello', 'hello, world!') # 문자열이 있으므로 정규표현식 매치 객체가 반환됨"
   ]
  },
  {
   "cell_type": "code",
   "execution_count": 2,
   "id": "365858e8",
   "metadata": {},
   "outputs": [],
   "source": [
    "import re\n",
    "re.match('python', 'hello, world!') # 문자열이 없으므로 아무것도 반환되지 않음"
   ]
  },
  {
   "cell_type": "markdown",
   "id": "cbb214db",
   "metadata": {},
   "source": [
    "### 43.1.1 문자열이 맨 앞에 오는지 맨 뒤에 오는지 판단하기"
   ]
  },
  {
   "cell_type": "markdown",
   "id": "c4e9d8ef",
   "metadata": {},
   "source": [
    "#### 정규표현식 문자열이 맨 앞에 오는지 맨 뒤에 오는지 판단 가능\n",
    "#### 문자열 앞에 ^을 붙이면 문자열 이 맨 앞에 오는지 판단\n",
    "#### 문자열 뒤에 $를 붙이면 문자열이 맨 뒤에 오는지 판단\n",
    "\n",
    "#### ^문자열\n",
    "#### 문자열$"
   ]
  },
  {
   "cell_type": "markdown",
   "id": "fec77ed0",
   "metadata": {},
   "source": [
    "#### re.search('패턴', '문자열')"
   ]
  },
  {
   "cell_type": "code",
   "execution_count": 3,
   "id": "27ba664c",
   "metadata": {},
   "outputs": [
    {
     "data": {
      "text/plain": [
       "<re.Match object; span=(0, 5), match='Hello'>"
      ]
     },
     "execution_count": 3,
     "metadata": {},
     "output_type": "execute_result"
    }
   ],
   "source": [
    "import re\n",
    "\n",
    "re.search('^Hello', \"Hello, world!\")"
   ]
  },
  {
   "cell_type": "code",
   "execution_count": 4,
   "id": "dd59f77c",
   "metadata": {},
   "outputs": [
    {
     "data": {
      "text/plain": [
       "<re.Match object; span=(7, 13), match='world!'>"
      ]
     },
     "execution_count": 4,
     "metadata": {},
     "output_type": "execute_result"
    }
   ],
   "source": [
    "import re\n",
    "\n",
    "re.search('world!$', \"Hello, world!\")"
   ]
  },
  {
   "cell_type": "markdown",
   "id": "3d371fe9",
   "metadata": {},
   "source": [
    "### 43.1.2 지정된 문자열이 하나라도 포함되는지 판단하기"
   ]
  },
  {
   "cell_type": "markdown",
   "id": "604bb287",
   "metadata": {},
   "source": [
    "#### | 는 특정 문자열에서 지정된 문자열(문자)이 하나라도 포함되는지 판단\n",
    "#### 기본개념은 or연산자와 같음\n",
    "\n",
    "#### 문자열| 문자열\n",
    "#### 문자열| 문자열 | 문자열|문자열"
   ]
  },
  {
   "cell_type": "code",
   "execution_count": 5,
   "id": "74ee9513",
   "metadata": {},
   "outputs": [
    {
     "data": {
      "text/plain": [
       "<re.Match object; span=(0, 5), match='hello'>"
      ]
     },
     "execution_count": 5,
     "metadata": {},
     "output_type": "execute_result"
    }
   ],
   "source": [
    "import re\n",
    "\n",
    "re.match('hello|world','hello')"
   ]
  },
  {
   "cell_type": "markdown",
   "id": "d36f1c4a",
   "metadata": {},
   "source": [
    "---"
   ]
  },
  {
   "cell_type": "markdown",
   "id": "9daae53c",
   "metadata": {},
   "source": [
    "## 43.2 범위 판단하기"
   ]
  },
  {
   "cell_type": "markdown",
   "id": "34ed5629",
   "metadata": {},
   "source": [
    "#### 문자열이 숫자로 되어 있는지 판단\n",
    "    [](대괄호)안에 숫자범위를 넣으며 *또는 +를 붙임\n",
    "    숫자 범위는 0-9처럼 표현\n",
    "    *는 문자(숫자)가 0개 이상 있는지 판단\n",
    "    +는 1개이상 있는지 판단\n",
    "\n",
    "    [0-9]*\n",
    "    [0-9]+"
   ]
  },
  {
   "cell_type": "code",
   "execution_count": 6,
   "id": "ecfab392",
   "metadata": {},
   "outputs": [
    {
     "data": {
      "text/plain": [
       "<re.Match object; span=(0, 4), match='1234'>"
      ]
     },
     "execution_count": 6,
     "metadata": {},
     "output_type": "execute_result"
    }
   ],
   "source": [
    "re.match('[0-9]*','1234') # 1234 0부터 9까지 숫자가 0개 이상 있으므로"
   ]
  },
  {
   "cell_type": "code",
   "execution_count": 7,
   "id": "599a4185",
   "metadata": {},
   "outputs": [
    {
     "data": {
      "text/plain": [
       "<re.Match object; span=(0, 4), match='1234'>"
      ]
     },
     "execution_count": 7,
     "metadata": {},
     "output_type": "execute_result"
    }
   ],
   "source": [
    "re.match('[0-9]+','1234') # 1234 0부터 9까지 숫자가 1개 이상 있으므로"
   ]
  },
  {
   "cell_type": "code",
   "execution_count": 9,
   "id": "85224b55",
   "metadata": {},
   "outputs": [
    {
     "data": {
      "text/plain": [
       "<re.Match object; span=(0, 0), match=''>"
      ]
     },
     "execution_count": 9,
     "metadata": {},
     "output_type": "execute_result"
    }
   ],
   "source": [
    "re.match('[0-9]*','abcd')"
   ]
  },
  {
   "cell_type": "code",
   "execution_count": 10,
   "id": "6fb7c88e",
   "metadata": {},
   "outputs": [],
   "source": [
    "re.match('[0-9]+','abcd')"
   ]
  },
  {
   "cell_type": "markdown",
   "id": "2e3076a8",
   "metadata": {},
   "source": [
    "#### *와 + 활용"
   ]
  },
  {
   "cell_type": "code",
   "execution_count": 12,
   "id": "6e7bbbe3",
   "metadata": {},
   "outputs": [
    {
     "data": {
      "text/plain": [
       "<re.Match object; span=(0, 1), match='b'>"
      ]
     },
     "execution_count": 12,
     "metadata": {},
     "output_type": "execute_result"
    }
   ],
   "source": [
    "re.match('a*b', 'b') # b에는 a가 0개 이상 있으므로 패턴에 매칭됨"
   ]
  },
  {
   "cell_type": "code",
   "execution_count": 14,
   "id": "2d5c5fb0",
   "metadata": {},
   "outputs": [],
   "source": [
    "re.match('a+b', 'b') # b에는 a가 1개이상 없으므로 패턴에 매칭되지 않음 "
   ]
  },
  {
   "cell_type": "code",
   "execution_count": 15,
   "id": "32595373",
   "metadata": {},
   "outputs": [
    {
     "data": {
      "text/plain": [
       "<re.Match object; span=(0, 3), match='aab'>"
      ]
     },
     "execution_count": 15,
     "metadata": {},
     "output_type": "execute_result"
    }
   ],
   "source": [
    "re.match('a*b', 'aab') # aab에는 a가 0개이상 있으므로 패턴에 매칭됨"
   ]
  },
  {
   "cell_type": "code",
   "execution_count": 16,
   "id": "de0f67e5",
   "metadata": {},
   "outputs": [
    {
     "data": {
      "text/plain": [
       "<re.Match object; span=(0, 3), match='aab'>"
      ]
     },
     "execution_count": 16,
     "metadata": {},
     "output_type": "execute_result"
    }
   ],
   "source": [
    "re.match('a+b','aab') # aab에는 a가 1개 이상 있으므로 패턴에 매칭됨"
   ]
  },
  {
   "cell_type": "markdown",
   "id": "387dc3e2",
   "metadata": {},
   "source": [
    "     a*b -> a는 0개이상  b는 있어야함\n",
    "     a+b -> a는 1개이상 b는 있어야함"
   ]
  },
  {
   "cell_type": "markdown",
   "id": "77aa1591",
   "metadata": {},
   "source": [
    "### 43.2.1 문자가 한 개만 있는지 판단하기"
   ]
  },
  {
   "cell_type": "markdown",
   "id": "6a5be1d4",
   "metadata": {},
   "source": [
    "#### 문자가 한 개만 있는지 판단 \n",
    "     ?와 .을 사용\n",
    "     ? 는 ? 앞의 문자(범위)가 0개 또는 1개 인지 판단\n",
    "     .은 .이 있는 위치에 아무 문자(숫자)가 1개 있는지 판단"
   ]
  },
  {
   "cell_type": "markdown",
   "id": "548803ab",
   "metadata": {},
   "source": [
    "#### 문자?\n",
    "#### [0-9]?\n",
    "#### ."
   ]
  },
  {
   "cell_type": "code",
   "execution_count": 17,
   "id": "c215f339",
   "metadata": {},
   "outputs": [
    {
     "data": {
      "text/plain": [
       "<re.Match object; span=(0, 3), match='abd'>"
      ]
     },
     "execution_count": 17,
     "metadata": {},
     "output_type": "execute_result"
    }
   ],
   "source": [
    "import re\n",
    "\n",
    "re.match('abc?d', 'abd') # abc에서 c위치에 c가 0개 있으므로 패턴에 매칭됨"
   ]
  },
  {
   "cell_type": "code",
   "execution_count": 18,
   "id": "661d8e96",
   "metadata": {},
   "outputs": [
    {
     "data": {
      "text/plain": [
       "<re.Match object; span=(0, 4), match='ab3c'>"
      ]
     },
     "execution_count": 18,
     "metadata": {},
     "output_type": "execute_result"
    }
   ],
   "source": [
    "re.match('ab[0-9]?c', 'ab3c') # [0-9] 위치에 숫자가 1개 있으므로 패턴에 매칭됨"
   ]
  },
  {
   "cell_type": "code",
   "execution_count": 19,
   "id": "aec3e60b",
   "metadata": {},
   "outputs": [
    {
     "data": {
      "text/plain": [
       "<re.Match object; span=(0, 4), match='abxd'>"
      ]
     },
     "execution_count": 19,
     "metadata": {},
     "output_type": "execute_result"
    }
   ],
   "source": [
    "re.match('ab.d', 'abxd') # .이 있는 위치에 문자가 1개 있으므로 패턴에 매칭됨"
   ]
  },
  {
   "cell_type": "markdown",
   "id": "fb61f049",
   "metadata": {},
   "source": [
    "### 43.2.2 문자 개수 판단하기"
   ]
  },
  {
   "cell_type": "markdown",
   "id": "a06cc424",
   "metadata": {},
   "source": [
    "#### 문자{개수}\n",
    "#### (문자열){개수}"
   ]
  },
  {
   "cell_type": "code",
   "execution_count": 20,
   "id": "318768a2",
   "metadata": {},
   "outputs": [
    {
     "data": {
      "text/plain": [
       "<re.Match object; span=(0, 3), match='hhh'>"
      ]
     },
     "execution_count": 20,
     "metadata": {},
     "output_type": "execute_result"
    }
   ],
   "source": [
    "import re\n",
    "\n",
    "re.match('h{3}', 'hhhello')"
   ]
  },
  {
   "cell_type": "code",
   "execution_count": 21,
   "id": "ab4d9bf4",
   "metadata": {},
   "outputs": [
    {
     "data": {
      "text/plain": [
       "<re.Match object; span=(0, 15), match='hellohellohello'>"
      ]
     },
     "execution_count": 21,
     "metadata": {},
     "output_type": "execute_result"
    }
   ],
   "source": [
    "re.match('(hello){3}', 'hellohellohellowworld')"
   ]
  },
  {
   "cell_type": "markdown",
   "id": "b067cb81",
   "metadata": {},
   "source": [
    "#### 특정 범위의 문자(숫자)가 몇개 있는지 판단\n",
    "#### 범위 []뒤에 {개수}형식을 지정\n",
    "#### [0-9]{개수}"
   ]
  },
  {
   "cell_type": "markdown",
   "id": "4ea71184",
   "metadata": {},
   "source": [
    "#### 휴대전화의 번호 형식 판단"
   ]
  },
  {
   "cell_type": "code",
   "execution_count": 22,
   "id": "bdbf247e",
   "metadata": {},
   "outputs": [
    {
     "data": {
      "text/plain": [
       "<re.Match object; span=(0, 13), match='010-1000-1000'>"
      ]
     },
     "execution_count": 22,
     "metadata": {},
     "output_type": "execute_result"
    }
   ],
   "source": [
    "re.match('[0-9]{3}-[0-9]{4}-[0-9]{4}', '010-1000-1000') # 숫자3개-4개-4개"
   ]
  },
  {
   "cell_type": "code",
   "execution_count": 24,
   "id": "394d4321",
   "metadata": {},
   "outputs": [],
   "source": [
    "re.match('[0-9]{3}-[0-9]{4}-[0-9]{4}', '010-1000-100') # 숫자 3개-4개-4개 패턴매칭 안됨"
   ]
  },
  {
   "cell_type": "markdown",
   "id": "140a1616",
   "metadata": {},
   "source": [
    "#### 문자(숫자)의 개수 범위도 지정가능\n",
    "#### {시작개수, 끝개수} 형식\n",
    "\n",
    "     (문자){시작개수, 끝개수}\n",
    "     (문자열){시작개수, 끝개수}\n",
    "     [0-9]{시작개수, 끝개수}"
   ]
  },
  {
   "cell_type": "markdown",
   "id": "5467fa3d",
   "metadata": {},
   "source": [
    "#### 일반전화의 번호 형식에 맞는지 판단"
   ]
  },
  {
   "cell_type": "code",
   "execution_count": 26,
   "id": "14c43881",
   "metadata": {},
   "outputs": [
    {
     "data": {
      "text/plain": [
       "<re.Match object; span=(0, 11), match='02-100-1000'>"
      ]
     },
     "execution_count": 26,
     "metadata": {},
     "output_type": "execute_result"
    }
   ],
   "source": [
    "import re\n",
    "\n",
    "re.match('[0-9]{2,3}-[0-9]{3,4}-[0-9]{4}', '02-100-1000') # 2~3개-3~4개-4개 # 패턴 매칭"
   ]
  },
  {
   "cell_type": "code",
   "execution_count": 27,
   "id": "e44497c7",
   "metadata": {},
   "outputs": [],
   "source": [
    "re.match('[0-9]{2,3}-[0-9]{3,4}-[0-9]{4}', '02-10-1000') # 2~3개-3~4개-4개 # 패턴 매칭 안됨"
   ]
  },
  {
   "cell_type": "markdown",
   "id": "7e6ad846",
   "metadata": {},
   "source": [
    "### 43.2.3 숫자와 영문 문자를 조합해서 판단하기"
   ]
  },
  {
   "cell_type": "markdown",
   "id": "1756b904",
   "metadata": {},
   "source": [
    "#### 영문 문자 범위 a-z, A-Z\n",
    "#### a-z\n",
    "#### A-Z"
   ]
  },
  {
   "cell_type": "code",
   "execution_count": 2,
   "id": "f9e7b67b",
   "metadata": {},
   "outputs": [
    {
     "data": {
      "text/plain": [
       "<re.Match object; span=(0, 9), match='Hello1234'>"
      ]
     },
     "execution_count": 2,
     "metadata": {},
     "output_type": "execute_result"
    }
   ],
   "source": [
    "import re\n",
    "\n",
    "re.match('[a-zA-Z0-9]+','Hello1234') # a부터 z, A부터 Z, 0부터 9까지 1개 이상"
   ]
  },
  {
   "cell_type": "code",
   "execution_count": 3,
   "id": "ed9efb84",
   "metadata": {},
   "outputs": [],
   "source": [
    "re.match('[A-Z0-9]+','hello')# 대문자, 숫자는 없고 소문자만 있으므로 패턴에 매칭되지 않음"
   ]
  },
  {
   "cell_type": "markdown",
   "id": "770dae65",
   "metadata": {},
   "source": [
    "#### 한글 가-힣"
   ]
  },
  {
   "cell_type": "code",
   "execution_count": 5,
   "id": "71183030",
   "metadata": {},
   "outputs": [
    {
     "data": {
      "text/plain": [
       "<re.Match object; span=(0, 3), match='홍길동'>"
      ]
     },
     "execution_count": 5,
     "metadata": {},
     "output_type": "execute_result"
    }
   ],
   "source": [
    "re.match('[가-힣]+','홍길동') # 가부터 힣까지 1개 이상 있으므로 패턴에 매칭"
   ]
  },
  {
   "cell_type": "markdown",
   "id": "295c950f",
   "metadata": {},
   "source": [
    "### 43.2.4 특정 문자 범위에 포함되지 않는지 판단하기"
   ]
  },
  {
   "cell_type": "markdown",
   "id": "a2ec0e14",
   "metadata": {},
   "source": [
    "#### [^범위]*\n",
    "#### [^범위]+"
   ]
  },
  {
   "cell_type": "code",
   "execution_count": 7,
   "id": "7a5fedac",
   "metadata": {},
   "outputs": [],
   "source": [
    "re.match('[^A-Z]+','Hello') # 대문자를 제외 , 대문자가 있으므로 패턴에 매칭되지 않음"
   ]
  },
  {
   "cell_type": "code",
   "execution_count": 8,
   "id": "4f874447",
   "metadata": {},
   "outputs": [
    {
     "data": {
      "text/plain": [
       "<re.Match object; span=(0, 5), match='hello'>"
      ]
     },
     "execution_count": 8,
     "metadata": {},
     "output_type": "execute_result"
    }
   ],
   "source": [
    "re.match('[^A-Z]+','hello') # 대문자를 제외, 대문자가 없으므로 패턴에 매칭됨"
   ]
  },
  {
   "cell_type": "markdown",
   "id": "68b54cd6",
   "metadata": {},
   "source": [
    "#### 범위 제외시 [^범위]\n",
    "#### 특정 문자 범위 시작 ^[범위]"
   ]
  },
  {
   "cell_type": "code",
   "execution_count": 9,
   "id": "7579b17c",
   "metadata": {},
   "outputs": [
    {
     "data": {
      "text/plain": [
       "<re.Match object; span=(0, 1), match='H'>"
      ]
     },
     "execution_count": 9,
     "metadata": {},
     "output_type": "execute_result"
    }
   ],
   "source": [
    "re.search('^[A-Z]+','Hello') # 대문자로 시작하므로 패턴에 매칭됨"
   ]
  },
  {
   "cell_type": "markdown",
   "id": "6b957b2f",
   "metadata": {},
   "source": [
    "#### 특정 문자(숫자) 범위로 끝나는지 확인\n"
   ]
  },
  {
   "cell_type": "markdown",
   "id": "2c691a63",
   "metadata": {},
   "source": [
    "```\n",
    "    [범위]*$\n",
    "    [범위]+$\n",
    "```"
   ]
  },
  {
   "cell_type": "code",
   "execution_count": 10,
   "id": "0e13a6ee",
   "metadata": {},
   "outputs": [
    {
     "data": {
      "text/plain": [
       "<re.Match object; span=(5, 9), match='1234'>"
      ]
     },
     "execution_count": 10,
     "metadata": {},
     "output_type": "execute_result"
    }
   ],
   "source": [
    "re.search('[0-9]+$', 'Hello1234') # 숫자로 끝나므로 패턴에 매칭됨"
   ]
  },
  {
   "cell_type": "markdown",
   "id": "d7552438",
   "metadata": {},
   "source": [
    "### 43.2.5 특수 문자 판단하기"
   ]
  },
  {
   "cell_type": "markdown",
   "id": "f412a2c3",
   "metadata": {},
   "source": [
    "#### \\특수문자"
   ]
  },
  {
   "cell_type": "code",
   "execution_count": 11,
   "id": "eda4b4cb",
   "metadata": {},
   "outputs": [
    {
     "data": {
      "text/plain": [
       "<re.Match object; span=(2, 4), match='**'>"
      ]
     },
     "execution_count": 11,
     "metadata": {},
     "output_type": "execute_result"
    }
   ],
   "source": [
    "import re\n",
    "\n",
    "re.search('\\*+','1 ** 2') # *가 들어있는지 판단"
   ]
  },
  {
   "cell_type": "code",
   "execution_count": 12,
   "id": "bd58cbb1",
   "metadata": {},
   "outputs": [
    {
     "data": {
      "text/plain": [
       "<re.Match object; span=(1, 11), match='(document)'>"
      ]
     },
     "execution_count": 12,
     "metadata": {},
     "output_type": "execute_result"
    }
   ],
   "source": [
    "re.search('[()a-zA-Z0-9]+', '$(document)') # $ (,)와 문자, 숫자가 들어가 있는지 판단"
   ]
  },
  {
   "cell_type": "markdown",
   "id": "8c9ab6c0",
   "metadata": {},
   "source": [
    "#### 단순 숫자인지 문자인지 판단\n",
    "    \\d : [0-9]와 같음. 모든 숫자\n",
    "    \\D : [^0-9]와 같음. 숫자를 제외한 모든 문자\n",
    "    \\w : [a-zA-Z0-9_]와 같음. 영문 대소문자, 숫자, 밑줄 문자\n",
    "    \\W : [^a-zA-Z0-9_]와 같음. 영문 대소문자, 숫자 밑줄 문자를 제외한 모든 문자"
   ]
  },
  {
   "cell_type": "code",
   "execution_count": 13,
   "id": "cc682533",
   "metadata": {},
   "outputs": [
    {
     "data": {
      "text/plain": [
       "<re.Match object; span=(0, 4), match='1234'>"
      ]
     },
     "execution_count": 13,
     "metadata": {},
     "output_type": "execute_result"
    }
   ],
   "source": [
    "re.match('\\d+', '1234') # 모든 숫자이므로 패턴에 매칭됨"
   ]
  },
  {
   "cell_type": "code",
   "execution_count": 14,
   "id": "c04823ef",
   "metadata": {},
   "outputs": [
    {
     "data": {
      "text/plain": [
       "<re.Match object; span=(0, 1), match='h'>"
      ]
     },
     "execution_count": 14,
     "metadata": {},
     "output_type": "execute_result"
    }
   ],
   "source": [
    "re.match('\\D', 'hello') # 숫자를 제외한 모든 문자이므로 패턴에 매칭됨"
   ]
  },
  {
   "cell_type": "code",
   "execution_count": 15,
   "id": "61926bb3",
   "metadata": {},
   "outputs": [
    {
     "data": {
      "text/plain": [
       "<re.Match object; span=(0, 1), match='H'>"
      ]
     },
     "execution_count": 15,
     "metadata": {},
     "output_type": "execute_result"
    }
   ],
   "source": [
    "re.match('[\\w+]','Hello_1234') # 영문 대소문자, 숫자, 밑줄 문자이므로 패턴에 매칭됨"
   ]
  },
  {
   "cell_type": "code",
   "execution_count": 16,
   "id": "7f4f9132",
   "metadata": {},
   "outputs": [
    {
     "data": {
      "text/plain": [
       "<re.Match object; span=(0, 1), match='('>"
      ]
     },
     "execution_count": 16,
     "metadata": {},
     "output_type": "execute_result"
    }
   ],
   "source": [
    "re.match('[\\W+]','(:)') # 영문 대소문자, 숫자, 밑줄 문자를 제외한 모든 문자, 패턴에 매칭됨"
   ]
  },
  {
   "cell_type": "markdown",
   "id": "91b7a863",
   "metadata": {},
   "source": [
    "### 43.2.6 공백 처리하기"
   ]
  },
  {
   "cell_type": "markdown",
   "id": "f10d3a96",
   "metadata": {},
   "source": [
    "    \\s : [ \\t\\n\\r\\f\\v]와 같음, 공백(스페이스), 탭, 새줄(라인피드), 캐리지 리턴, 폼피드, 수직 탭 포함\n",
    "    \\S : [^ \\t\\n\\r\\f\\v] 와 같음. 공백제외, \\t\\n\\r\\f\\v만 포함"
   ]
  },
  {
   "cell_type": "code",
   "execution_count": 17,
   "id": "f828cc32",
   "metadata": {},
   "outputs": [
    {
     "data": {
      "text/plain": [
       "<re.Match object; span=(0, 10), match='Hello 1234'>"
      ]
     },
     "execution_count": 17,
     "metadata": {},
     "output_type": "execute_result"
    }
   ],
   "source": [
    "re.match('[a-zA-Z0-9 ]+', 'Hello 1234') # ' '로 공백 표현"
   ]
  },
  {
   "cell_type": "code",
   "execution_count": 18,
   "id": "eb3b3bdc",
   "metadata": {},
   "outputs": [
    {
     "data": {
      "text/plain": [
       "<re.Match object; span=(0, 10), match='Hello 1234'>"
      ]
     },
     "execution_count": 18,
     "metadata": {},
     "output_type": "execute_result"
    }
   ],
   "source": [
    "re.match('[a-zA-Z0-9\\s]+', 'Hello 1234') # \\s로 공백 표현"
   ]
  },
  {
   "cell_type": "markdown",
   "id": "08aecf6a",
   "metadata": {},
   "source": [
    "#### 같은 정규표현식 패턴을 자주 사용할 때"
   ]
  },
  {
   "cell_type": "markdown",
   "id": "5d415c07",
   "metadata": {},
   "source": [
    "#### 같은 패턴을 자주 사용할 때 compile 함수를 사용 객체로 만든 뒤 사용\n",
    "     객체 = re.compile('패턴')\n",
    "     객체.match('문자열')\n",
    "     객체.search('문자열')"
   ]
  },
  {
   "cell_type": "code",
   "execution_count": 19,
   "id": "33ac77fb",
   "metadata": {},
   "outputs": [],
   "source": [
    "p = re.compile('[0-9]+') # 정규표현식 패턴을 객체로 만듦"
   ]
  },
  {
   "cell_type": "code",
   "execution_count": 20,
   "id": "691a09e3",
   "metadata": {},
   "outputs": [
    {
     "data": {
      "text/plain": [
       "<re.Match object; span=(0, 4), match='1234'>"
      ]
     },
     "execution_count": 20,
     "metadata": {},
     "output_type": "execute_result"
    }
   ],
   "source": [
    "p.match('1234') # 정규표현식 패턴 객체에서 match 메서드 사용 "
   ]
  },
  {
   "cell_type": "code",
   "execution_count": 21,
   "id": "82e0a501",
   "metadata": {},
   "outputs": [],
   "source": [
    "p.search('hello') # 정규표현식 패턴 객체에서 search 메서드 사용"
   ]
  },
  {
   "cell_type": "markdown",
   "id": "ed5d0f64",
   "metadata": {},
   "source": [
    "---"
   ]
  },
  {
   "cell_type": "markdown",
   "id": "9deef565",
   "metadata": {},
   "source": [
    "## 43.3 그룹 사용하기"
   ]
  },
  {
   "cell_type": "markdown",
   "id": "fafbae9a",
   "metadata": {},
   "source": [
    "#### 정규표현식을 그룹으로 묶는 방법\n",
    "    (정규표현식)(정규표현식)"
   ]
  },
  {
   "cell_type": "code",
   "execution_count": 22,
   "id": "30b2592e",
   "metadata": {},
   "outputs": [],
   "source": [
    "import re\n",
    "\n",
    "m = re.match('([0-9]+) ([0-9]+)', '10 295')"
   ]
  },
  {
   "cell_type": "code",
   "execution_count": 23,
   "id": "cb0b78d1",
   "metadata": {},
   "outputs": [
    {
     "data": {
      "text/plain": [
       "'10'"
      ]
     },
     "execution_count": 23,
     "metadata": {},
     "output_type": "execute_result"
    }
   ],
   "source": [
    "m.group(1) # 첫 번째 그룹(그룹 1)에 매칭된 문자열을 반환"
   ]
  },
  {
   "cell_type": "code",
   "execution_count": 24,
   "id": "c3ccbaf2",
   "metadata": {},
   "outputs": [
    {
     "data": {
      "text/plain": [
       "'295'"
      ]
     },
     "execution_count": 24,
     "metadata": {},
     "output_type": "execute_result"
    }
   ],
   "source": [
    "m.group(2) # 두 번째 그룹(그룹 2)에 매칭된 문자열을 반환"
   ]
  },
  {
   "cell_type": "code",
   "execution_count": 25,
   "id": "7260fca5",
   "metadata": {},
   "outputs": [
    {
     "data": {
      "text/plain": [
       "'10 295'"
      ]
     },
     "execution_count": 25,
     "metadata": {},
     "output_type": "execute_result"
    }
   ],
   "source": [
    "m.group() # 매칭된 문자열을 한꺼번에 반환"
   ]
  },
  {
   "cell_type": "code",
   "execution_count": 26,
   "id": "95178fa3",
   "metadata": {},
   "outputs": [
    {
     "data": {
      "text/plain": [
       "'10 295'"
      ]
     },
     "execution_count": 26,
     "metadata": {},
     "output_type": "execute_result"
    }
   ],
   "source": [
    "m.group(0) # 매칭된 문자열을 한꺼번에 반환"
   ]
  },
  {
   "cell_type": "markdown",
   "id": "64486c29",
   "metadata": {},
   "source": [
    "#### groups 메서드는 각 그룹에 해당하는 문자열을 튜플로 반환"
   ]
  },
  {
   "cell_type": "code",
   "execution_count": 28,
   "id": "e9cca439",
   "metadata": {},
   "outputs": [
    {
     "data": {
      "text/plain": [
       "('10', '295')"
      ]
     },
     "execution_count": 28,
     "metadata": {},
     "output_type": "execute_result"
    }
   ],
   "source": [
    "m.groups()"
   ]
  },
  {
   "cell_type": "markdown",
   "id": "c93f71b0",
   "metadata": {},
   "source": [
    "#### 그룹 개수가 많아지면 숫자로 구분하기 힘듬\n",
    "#### 그룹에 이름 붙이기\n",
    "    (?P<이름>정규표현식)"
   ]
  },
  {
   "cell_type": "markdown",
   "id": "731d1ac6",
   "metadata": {},
   "source": [
    "#### 호출 코드\n",
    "    매치객체.group('그룹이름')"
   ]
  },
  {
   "cell_type": "code",
   "execution_count": 37,
   "id": "8a0d6dfc",
   "metadata": {},
   "outputs": [],
   "source": [
    "m = re.match('(?P<func>[a-zA-Z_][a-zA-Z0-9_]+)\\((?P<arg>\\w+)\\)', 'print(1234)')"
   ]
  },
  {
   "cell_type": "code",
   "execution_count": 38,
   "id": "7a80dc21",
   "metadata": {},
   "outputs": [
    {
     "data": {
      "text/plain": [
       "'print'"
      ]
     },
     "execution_count": 38,
     "metadata": {},
     "output_type": "execute_result"
    }
   ],
   "source": [
    "m.group('func')"
   ]
  },
  {
   "cell_type": "code",
   "execution_count": 40,
   "id": "64d670b1",
   "metadata": {},
   "outputs": [
    {
     "data": {
      "text/plain": [
       "'1234'"
      ]
     },
     "execution_count": 40,
     "metadata": {},
     "output_type": "execute_result"
    }
   ],
   "source": [
    "m.group('arg')"
   ]
  },
  {
   "cell_type": "markdown",
   "id": "e3c39fb0",
   "metadata": {},
   "source": [
    "### 43.3.1 패턴에 매칭되는 모든 문자열 가져오기"
   ]
  },
  {
   "cell_type": "markdown",
   "id": "afa61d40",
   "metadata": {},
   "source": [
    "#### re.findall('패턴', '문자열')  \n",
    "#### 매칭된 문자열을 리스트로 반환"
   ]
  },
  {
   "cell_type": "code",
   "execution_count": 41,
   "id": "08098ae4",
   "metadata": {},
   "outputs": [
    {
     "data": {
      "text/plain": [
       "['1', '2', '4', '7', '8']"
      ]
     },
     "execution_count": 41,
     "metadata": {},
     "output_type": "execute_result"
    }
   ],
   "source": [
    "re.findall('[0-9]+','1 2 Fizz 4 Buzz Fizz 7 8')"
   ]
  },
  {
   "cell_type": "markdown",
   "id": "0bd03af9",
   "metadata": {},
   "source": [
    "---"
   ]
  },
  {
   "cell_type": "markdown",
   "id": "71a5e388",
   "metadata": {},
   "source": [
    "## 43.4 문자열 바꾸기"
   ]
  },
  {
   "cell_type": "markdown",
   "id": "f50276ba",
   "metadata": {},
   "source": [
    "#### re.sub('패턴', '바꿀문자열', '문자열', 바꿀횟수)"
   ]
  },
  {
   "cell_type": "code",
   "execution_count": 43,
   "id": "78c9d007",
   "metadata": {},
   "outputs": [
    {
     "data": {
      "text/plain": [
       "'fruit box fruit tree'"
      ]
     },
     "execution_count": 43,
     "metadata": {},
     "output_type": "execute_result"
    }
   ],
   "source": [
    "import re\n",
    "\n",
    "re.sub('apple|orange', 'fruit', 'apple box orange tree')\n",
    "# apple 또는 orange를 fruit로 바꿈 "
   ]
  },
  {
   "cell_type": "code",
   "execution_count": 44,
   "id": "b4ff0bb6",
   "metadata": {},
   "outputs": [
    {
     "data": {
      "text/plain": [
       "'n n Fizz n Buzz Fizz n n'"
      ]
     },
     "execution_count": 44,
     "metadata": {},
     "output_type": "execute_result"
    }
   ],
   "source": [
    "re.sub('[0-9]+', 'n', '1 2 Fizz 4 Buzz Fizz 7 8') # 숫자만 찾아서 n으로 바꿈"
   ]
  },
  {
   "cell_type": "markdown",
   "id": "19a50f0f",
   "metadata": {},
   "source": [
    "#### sub 함수 : 바꿀 문자열 대신 교체 함수를 지정할 수도 있음 \n",
    "#### 교체 함수는 매개변수로 매치 객체를 받음\n",
    "#### 바꿀 결과를 문자열로 반환"
   ]
  },
  {
   "cell_type": "code",
   "execution_count": 46,
   "id": "be6dcaa7",
   "metadata": {},
   "outputs": [
    {
     "data": {
      "text/plain": [
       "'10 20 Fizz 40 Buzz Fizz 70 80'"
      ]
     },
     "execution_count": 46,
     "metadata": {},
     "output_type": "execute_result"
    }
   ],
   "source": [
    "def multiple10(m): # 매개변수로 매치 객체를 받음\n",
    "    n = int(m.group()) # 매칭된 문자열을 가져와서 정수로 반환\n",
    "    return str(n*10) # 숫장 ㅔ10을 곱한 뒤 문자열로 변환해서 반환\n",
    "\n",
    "\n",
    "re.sub('[0-9]+', multiple10, '1 2 Fizz 4 Buzz Fizz 7 8')"
   ]
  },
  {
   "cell_type": "code",
   "execution_count": 47,
   "id": "08521ace",
   "metadata": {},
   "outputs": [
    {
     "data": {
      "text/plain": [
       "'10 20 Fizz 40 Buzz Fizz 70 80'"
      ]
     },
     "execution_count": 47,
     "metadata": {},
     "output_type": "execute_result"
    }
   ],
   "source": [
    "re.sub('[0-9]+',lambda m : str(int(m.group())*10), '1 2 Fizz 4 Buzz Fizz 7 8')"
   ]
  },
  {
   "cell_type": "markdown",
   "id": "62536205",
   "metadata": {},
   "source": [
    "### 43.4.1 찾은 문자열을 결과에 다시 사용하기\n",
    "\n",
    "```\n",
    "    \\\\숫자\n",
    "```"
   ]
  },
  {
   "cell_type": "code",
   "execution_count": 48,
   "id": "82bf4b94",
   "metadata": {},
   "outputs": [
    {
     "data": {
      "text/plain": [
       "'1234 hello 1234 hello'"
      ]
     },
     "execution_count": 48,
     "metadata": {},
     "output_type": "execute_result"
    }
   ],
   "source": [
    "import re\n",
    "re.sub('([a-z]+) ([0-9]+)','\\\\2 \\\\1 \\\\2 \\\\1', 'hello 1234') # 그룹 2, 1, 2, 1 순으로 바꿈"
   ]
  },
  {
   "cell_type": "code",
   "execution_count": 50,
   "id": "8a2ea7df",
   "metadata": {},
   "outputs": [
    {
     "data": {
      "text/plain": [
       "'<name>james</name>'"
      ]
     },
     "execution_count": 50,
     "metadata": {},
     "output_type": "execute_result"
    }
   ],
   "source": [
    "re.sub('({\\s*)\"(\\w+)\":\\s*\"(\\w+)\"(\\s*})', '<\\\\2>\\\\3</\\\\2>', '{ \"name\": \"james\"}')"
   ]
  }
 ],
 "metadata": {
  "kernelspec": {
   "display_name": "Python 3 (ipykernel)",
   "language": "python",
   "name": "python3"
  },
  "language_info": {
   "codemirror_mode": {
    "name": "ipython",
    "version": 3
   },
   "file_extension": ".py",
   "mimetype": "text/x-python",
   "name": "python",
   "nbconvert_exporter": "python",
   "pygments_lexer": "ipython3",
   "version": "3.9.12"
  }
 },
 "nbformat": 4,
 "nbformat_minor": 5
}

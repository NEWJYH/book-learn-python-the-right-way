{
 "cells": [
  {
   "cell_type": "markdown",
   "id": "edabdb33",
   "metadata": {},
   "source": [
    "## 1.1 문제 해결을 위한 과학적 사고"
   ]
  },
  {
   "cell_type": "markdown",
   "id": "d93ed913",
   "metadata": {},
   "source": [
    "### 1.1.1 복잡한 문제를 작은 문제로 분해"
   ]
  },
  {
   "cell_type": "markdown",
   "id": "bcc99585",
   "metadata": {},
   "source": [
    "### 1.1.2 날씨 데이터를 그래프로 그리는 문제"
   ]
  },
  {
   "cell_type": "markdown",
   "id": "12df12ab",
   "metadata": {},
   "source": [
    "### 1.1.3 컴퓨테이셔널 씽킹(computational thinking)"
   ]
  },
  {
   "cell_type": "markdown",
   "id": "708bcb4a",
   "metadata": {},
   "source": [
    "---"
   ]
  },
  {
   "cell_type": "markdown",
   "id": "07f74b81",
   "metadata": {},
   "source": [
    "## 1.2 알고리즘과 코딩"
   ]
  },
  {
   "cell_type": "markdown",
   "id": "c147b3a2",
   "metadata": {},
   "source": [
    "### 1.2.1 압축 알고리즘 "
   ]
  },
  {
   "cell_type": "markdown",
   "id": "27eb8d14",
   "metadata": {},
   "source": [
    "### 1.2.2 문제의 패턴 발견과 해결 절차"
   ]
  },
  {
   "cell_type": "markdown",
   "id": "c0c209dd",
   "metadata": {},
   "source": [
    "---"
   ]
  },
  {
   "cell_type": "markdown",
   "id": "8e66d826",
   "metadata": {},
   "source": [
    "## 1.3 파이썬"
   ]
  },
  {
   "cell_type": "markdown",
   "id": "6c9206e4",
   "metadata": {},
   "source": [
    "### 1.3.1 파이썬의 특징"
   ]
  }
 ],
 "metadata": {
  "kernelspec": {
   "display_name": "Python 3 (ipykernel)",
   "language": "python",
   "name": "python3"
  },
  "language_info": {
   "codemirror_mode": {
    "name": "ipython",
    "version": 3
   },
   "file_extension": ".py",
   "mimetype": "text/x-python",
   "name": "python",
   "nbconvert_exporter": "python",
   "pygments_lexer": "ipython3",
   "version": "3.9.12"
  }
 },
 "nbformat": 4,
 "nbformat_minor": 5
}

{
 "cells": [
  {
   "cell_type": "markdown",
   "id": "aec85bc6",
   "metadata": {},
   "source": [
    "## 25.1 딕셔너리 조작하기"
   ]
  },
  {
   "cell_type": "markdown",
   "id": "4f826f09",
   "metadata": {},
   "source": [
    "### 25.1.1 딕셔너리에 키-값 쌍 추가하기"
   ]
  },
  {
   "cell_type": "code",
   "execution_count": null,
   "id": "87866730",
   "metadata": {},
   "outputs": [],
   "source": [
    "# setdefault : 키-값 쌍 추가\n",
    "# update : 키의 값 수정, 키가 없으면 키-값 쌍 추가"
   ]
  },
  {
   "cell_type": "markdown",
   "id": "74006faa",
   "metadata": {},
   "source": [
    "### 25.1.2 딕셔너리에 키와 기본값 저장하기"
   ]
  },
  {
   "cell_type": "code",
   "execution_count": 1,
   "id": "a78cd4c8",
   "metadata": {},
   "outputs": [
    {
     "data": {
      "text/plain": [
       "{'a': 10, 'b': 20, 'c': 30, 'd': 40, 'e': None}"
      ]
     },
     "execution_count": 1,
     "metadata": {},
     "output_type": "execute_result"
    }
   ],
   "source": [
    "x = {'a':10, 'b':20, 'c':30, 'd':40}\n",
    "x.setdefault('e')\n",
    "x"
   ]
  },
  {
   "cell_type": "code",
   "execution_count": 2,
   "id": "c364adff",
   "metadata": {},
   "outputs": [
    {
     "data": {
      "text/plain": [
       "{'a': 10, 'b': 20, 'c': 30, 'd': 40, 'e': None, 'f': 60}"
      ]
     },
     "execution_count": 2,
     "metadata": {},
     "output_type": "execute_result"
    }
   ],
   "source": [
    "x.setdefault('f', 60)\n",
    "x"
   ]
  },
  {
   "cell_type": "markdown",
   "id": "153a940a",
   "metadata": {},
   "source": [
    "### 25.1.3 딕셔너리에서 키의 값 수정하기"
   ]
  },
  {
   "cell_type": "code",
   "execution_count": 4,
   "id": "d7faae1f",
   "metadata": {},
   "outputs": [
    {
     "data": {
      "text/plain": [
       "{'a': 90, 'b': 20, 'c': 30, 'd': 40}"
      ]
     },
     "execution_count": 4,
     "metadata": {},
     "output_type": "execute_result"
    }
   ],
   "source": [
    "x = {'a':10, 'b':20, 'c':30, 'd':40}\n",
    "x.update(a=90)\n",
    "x"
   ]
  },
  {
   "cell_type": "code",
   "execution_count": 5,
   "id": "e542d1ee",
   "metadata": {},
   "outputs": [
    {
     "data": {
      "text/plain": [
       "{'a': 10, 'b': 20, 'c': 30, 'd': 40, 'e': 50}"
      ]
     },
     "execution_count": 5,
     "metadata": {},
     "output_type": "execute_result"
    }
   ],
   "source": [
    "x = {'a':10, 'b':20, 'c':30, 'd':40}\n",
    "x.update(e=50)\n",
    "x"
   ]
  },
  {
   "cell_type": "code",
   "execution_count": 6,
   "id": "f2b0ce60",
   "metadata": {},
   "outputs": [
    {
     "data": {
      "text/plain": [
       "{'a': 100, 'b': 20, 'c': 30, 'd': 40, 'e': 500}"
      ]
     },
     "execution_count": 6,
     "metadata": {},
     "output_type": "execute_result"
    }
   ],
   "source": [
    "x = {'a':10, 'b':20, 'c':30, 'd':40}\n",
    "x.update(a=100,e=500)\n",
    "x"
   ]
  },
  {
   "cell_type": "code",
   "execution_count": 12,
   "id": "fcb6824a",
   "metadata": {},
   "outputs": [],
   "source": [
    "x = {1:50, 2:30}"
   ]
  },
  {
   "cell_type": "code",
   "execution_count": 13,
   "id": "e9d33c13",
   "metadata": {},
   "outputs": [
    {
     "data": {
      "text/plain": [
       "{1: 50, 2: 30}"
      ]
     },
     "execution_count": 13,
     "metadata": {},
     "output_type": "execute_result"
    }
   ],
   "source": [
    "x"
   ]
  },
  {
   "cell_type": "code",
   "execution_count": 14,
   "id": "879e924a",
   "metadata": {},
   "outputs": [
    {
     "data": {
      "text/plain": [
       "{1: 'one', 2: 'two'}"
      ]
     },
     "execution_count": 14,
     "metadata": {},
     "output_type": "execute_result"
    }
   ],
   "source": [
    "x.update({1:'one',2:'two'})\n",
    "x"
   ]
  },
  {
   "cell_type": "code",
   "execution_count": 18,
   "id": "24129ec0",
   "metadata": {},
   "outputs": [
    {
     "data": {
      "text/plain": [
       "{1: 'one', 2: 'TWO', 4: 'FOUR'}"
      ]
     },
     "execution_count": 18,
     "metadata": {},
     "output_type": "execute_result"
    }
   ],
   "source": [
    "x.update([[2,'TWO'],[4,'FOUR']])\n",
    "x"
   ]
  },
  {
   "cell_type": "code",
   "execution_count": 19,
   "id": "eccedad6",
   "metadata": {},
   "outputs": [
    {
     "data": {
      "text/plain": [
       "{1: 'one', 2: 'two', 4: 'FOUR'}"
      ]
     },
     "execution_count": 19,
     "metadata": {},
     "output_type": "execute_result"
    }
   ],
   "source": [
    "x.update(zip([1,2],['one','two']))\n",
    "x"
   ]
  },
  {
   "cell_type": "markdown",
   "id": "ddd99f18",
   "metadata": {},
   "source": [
    "### 25.1.4 딕셔너리에 키-값 쌍 삭제하기"
   ]
  },
  {
   "cell_type": "code",
   "execution_count": 20,
   "id": "379e0e38",
   "metadata": {},
   "outputs": [
    {
     "data": {
      "text/plain": [
       "{'b': 20, 'c': 30, 'd': 40}"
      ]
     },
     "execution_count": 20,
     "metadata": {},
     "output_type": "execute_result"
    }
   ],
   "source": [
    "x = {'a':10, 'b':20, 'c':30, 'd':40}\n",
    "x.pop('a')\n",
    "x"
   ]
  },
  {
   "cell_type": "code",
   "execution_count": 22,
   "id": "b6fd5083",
   "metadata": {},
   "outputs": [
    {
     "data": {
      "text/plain": [
       "0"
      ]
     },
     "execution_count": 22,
     "metadata": {},
     "output_type": "execute_result"
    }
   ],
   "source": [
    "# 키 기본값 주기\n",
    "# 키값이 있으면 키값을 삭제하고 아니면 기본값을 반환\n",
    "x.pop('e',0)"
   ]
  },
  {
   "cell_type": "code",
   "execution_count": 23,
   "id": "506301a9",
   "metadata": {},
   "outputs": [
    {
     "data": {
      "text/plain": [
       "{'b': 20, 'c': 30, 'd': 40}"
      ]
     },
     "execution_count": 23,
     "metadata": {},
     "output_type": "execute_result"
    }
   ],
   "source": [
    "x = {'a':10, 'b':20, 'c':30, 'd':40}\n",
    "del x['a']\n",
    "x"
   ]
  },
  {
   "cell_type": "markdown",
   "id": "5f37e66f",
   "metadata": {},
   "source": [
    "### 25.1.5 딕셔너리에 임의의 키-값 쌍 삭제하기"
   ]
  },
  {
   "cell_type": "code",
   "execution_count": 26,
   "id": "76b6a991",
   "metadata": {},
   "outputs": [
    {
     "data": {
      "text/plain": [
       "('d', 40)"
      ]
     },
     "execution_count": 26,
     "metadata": {},
     "output_type": "execute_result"
    }
   ],
   "source": [
    "x = {'a':10, 'b':20, 'c':30, 'd':40}\n",
    "x.popitem()\n",
    "# 파이썬 3.6이상에서는 마지막 키-값쌍을 삭제하고 반환\n",
    "# 3.5 이하에서는 매번 삭제하는 키-값 쌍이 달라짐"
   ]
  },
  {
   "cell_type": "markdown",
   "id": "983a83c0",
   "metadata": {},
   "source": [
    "### 25.1.6 딕셔너리의 모든 키-값 쌍을 삭제하기"
   ]
  },
  {
   "cell_type": "code",
   "execution_count": 27,
   "id": "33df75cf",
   "metadata": {},
   "outputs": [
    {
     "data": {
      "text/plain": [
       "{}"
      ]
     },
     "execution_count": 27,
     "metadata": {},
     "output_type": "execute_result"
    }
   ],
   "source": [
    "x = {'a':10, 'b':20, 'c':30, 'd':40}\n",
    "x.clear()\n",
    "x"
   ]
  },
  {
   "cell_type": "markdown",
   "id": "9e789249",
   "metadata": {},
   "source": [
    "### 25.1.7 딕셔너리에서 키의 값을 가져오기"
   ]
  },
  {
   "cell_type": "code",
   "execution_count": 30,
   "id": "c7ab68ad",
   "metadata": {
    "scrolled": true
   },
   "outputs": [
    {
     "data": {
      "text/plain": [
       "10"
      ]
     },
     "execution_count": 30,
     "metadata": {},
     "output_type": "execute_result"
    }
   ],
   "source": [
    "x = {'a':10, 'b':20, 'c':30, 'd':40}\n",
    "x.get('a')"
   ]
  },
  {
   "cell_type": "code",
   "execution_count": 31,
   "id": "832fbb43",
   "metadata": {},
   "outputs": [
    {
     "data": {
      "text/plain": [
       "0"
      ]
     },
     "execution_count": 31,
     "metadata": {},
     "output_type": "execute_result"
    }
   ],
   "source": [
    "# get(키, 기본값)\n",
    "x.get('e',0)"
   ]
  },
  {
   "cell_type": "code",
   "execution_count": 32,
   "id": "d5079894",
   "metadata": {},
   "outputs": [
    {
     "data": {
      "text/plain": [
       "{'a': 10, 'b': 20, 'c': 30, 'd': 40}"
      ]
     },
     "execution_count": 32,
     "metadata": {},
     "output_type": "execute_result"
    }
   ],
   "source": [
    "x"
   ]
  },
  {
   "cell_type": "markdown",
   "id": "5ec99ccc",
   "metadata": {},
   "source": [
    "### 25.1.8 딕셔너리에서 키-값 쌍을 모두 가져오기"
   ]
  },
  {
   "cell_type": "code",
   "execution_count": 33,
   "id": "0dc65fec",
   "metadata": {},
   "outputs": [
    {
     "data": {
      "text/plain": [
       "dict_items([('a', 10), ('b', 20), ('c', 30), ('d', 40)])"
      ]
     },
     "execution_count": 33,
     "metadata": {},
     "output_type": "execute_result"
    }
   ],
   "source": [
    "x = {'a':10, 'b':20, 'c':30, 'd':40}\n",
    "x.items()"
   ]
  },
  {
   "cell_type": "code",
   "execution_count": 34,
   "id": "4c28df93",
   "metadata": {},
   "outputs": [
    {
     "data": {
      "text/plain": [
       "dict_keys(['a', 'b', 'c', 'd'])"
      ]
     },
     "execution_count": 34,
     "metadata": {},
     "output_type": "execute_result"
    }
   ],
   "source": [
    "x.keys()"
   ]
  },
  {
   "cell_type": "code",
   "execution_count": 35,
   "id": "4e760043",
   "metadata": {},
   "outputs": [
    {
     "data": {
      "text/plain": [
       "dict_values([10, 20, 30, 40])"
      ]
     },
     "execution_count": 35,
     "metadata": {},
     "output_type": "execute_result"
    }
   ],
   "source": [
    "x.values()"
   ]
  },
  {
   "cell_type": "markdown",
   "id": "588d79cf",
   "metadata": {},
   "source": [
    "### 25.1.9 리스트와 튜플로 딕셔너리 만들기"
   ]
  },
  {
   "cell_type": "code",
   "execution_count": 36,
   "id": "35d308a6",
   "metadata": {},
   "outputs": [
    {
     "data": {
      "text/plain": [
       "{'a': None, 'b': None, 'c': None, 'd': None}"
      ]
     },
     "execution_count": 36,
     "metadata": {},
     "output_type": "execute_result"
    }
   ],
   "source": [
    "keys = ['a','b','c','d']\n",
    "x = dict.fromkeys(keys)\n",
    "x"
   ]
  },
  {
   "cell_type": "code",
   "execution_count": 37,
   "id": "7ee931ef",
   "metadata": {},
   "outputs": [
    {
     "data": {
      "text/plain": [
       "{'a': 100, 'b': 100, 'c': 100, 'd': 100}"
      ]
     },
     "execution_count": 37,
     "metadata": {},
     "output_type": "execute_result"
    }
   ],
   "source": [
    "y = dict.fromkeys(keys, 100)\n",
    "y"
   ]
  },
  {
   "cell_type": "markdown",
   "id": "80ed1eb8",
   "metadata": {},
   "source": [
    "#### defaultdict 사용하기"
   ]
  },
  {
   "cell_type": "code",
   "execution_count": 38,
   "id": "06584214",
   "metadata": {},
   "outputs": [],
   "source": [
    "from collections import defaultdict # 컬렉션 모듈에서 defaultdict를 가져옴\n",
    "\n",
    "y = defaultdict(int) # int로 기본값 생성"
   ]
  },
  {
   "cell_type": "code",
   "execution_count": 39,
   "id": "04ab4a86",
   "metadata": {},
   "outputs": [
    {
     "data": {
      "text/plain": [
       "0"
      ]
     },
     "execution_count": 39,
     "metadata": {},
     "output_type": "execute_result"
    }
   ],
   "source": [
    "y['z']"
   ]
  },
  {
   "cell_type": "code",
   "execution_count": 40,
   "id": "97b8c5c8",
   "metadata": {},
   "outputs": [
    {
     "data": {
      "text/plain": [
       "0"
      ]
     },
     "execution_count": 40,
     "metadata": {},
     "output_type": "execute_result"
    }
   ],
   "source": [
    "int()"
   ]
  },
  {
   "cell_type": "code",
   "execution_count": 41,
   "id": "1b81848c",
   "metadata": {},
   "outputs": [
    {
     "name": "stdout",
     "output_type": "stream",
     "text": [
      "python\n"
     ]
    },
    {
     "data": {
      "text/plain": [
       "defaultdict(<function __main__.<lambda>()>, {'a': 10, 'b': 'python'})"
      ]
     },
     "execution_count": 41,
     "metadata": {},
     "output_type": "execute_result"
    }
   ],
   "source": [
    "z = defaultdict(lambda : 'python')\n",
    "z['a'] = 10\n",
    "print(z['b'])\n",
    "z"
   ]
  },
  {
   "cell_type": "markdown",
   "id": "f15f3002",
   "metadata": {},
   "source": [
    "---"
   ]
  },
  {
   "cell_type": "markdown",
   "id": "be05a878",
   "metadata": {},
   "source": [
    "## 25.2 반복문으로 딕셔너리의 키-값 쌍을 모두 출력하기"
   ]
  },
  {
   "cell_type": "code",
   "execution_count": 42,
   "id": "a33f6021",
   "metadata": {},
   "outputs": [
    {
     "name": "stdout",
     "output_type": "stream",
     "text": [
      "a b c d "
     ]
    }
   ],
   "source": [
    "x = {'a':10, 'b':20, 'c':30, 'd':40}\n",
    "\n",
    "for i in x:\n",
    "    print(i, end=\" \")"
   ]
  },
  {
   "cell_type": "code",
   "execution_count": 45,
   "id": "9b598bc3",
   "metadata": {},
   "outputs": [
    {
     "name": "stdout",
     "output_type": "stream",
     "text": [
      "a : 10 b : 20 c : 30 d : 40 "
     ]
    }
   ],
   "source": [
    "x = {'a':10, 'b':20, 'c':30, 'd':40}\n",
    "\n",
    "for key, value in x.items():\n",
    "    print(key, \":\", value, end=\" \")"
   ]
  },
  {
   "cell_type": "markdown",
   "id": "7f1e6cdf",
   "metadata": {},
   "source": [
    "### 25.2.1 딕셔너리의 키만 출력하기"
   ]
  },
  {
   "cell_type": "markdown",
   "id": "1542046c",
   "metadata": {},
   "source": [
    "### 25.2.2 딕셔너리의 값만 출력하기 "
   ]
  },
  {
   "cell_type": "markdown",
   "id": "b6742e2a",
   "metadata": {},
   "source": [
    "---"
   ]
  },
  {
   "cell_type": "markdown",
   "id": "c14ff6e1",
   "metadata": {},
   "source": [
    "## 25.3 딕셔너리 표현식 사용하기"
   ]
  },
  {
   "cell_type": "code",
   "execution_count": 49,
   "id": "3459034b",
   "metadata": {},
   "outputs": [
    {
     "data": {
      "text/plain": [
       "{'a': None, 'b': None, 'c': None, 'd': None}"
      ]
     },
     "execution_count": 49,
     "metadata": {},
     "output_type": "execute_result"
    }
   ],
   "source": [
    "keys = 'a b c d'.split()\n",
    "x = {key:value for key, value in dict.fromkeys(keys).items()}\n",
    "x"
   ]
  },
  {
   "cell_type": "markdown",
   "id": "3584b53a",
   "metadata": {},
   "source": [
    "### 25.3.1 딕셔너리 표현식에서 if 조건문 사용하기"
   ]
  },
  {
   "cell_type": "code",
   "execution_count": 50,
   "id": "bfc34c72",
   "metadata": {},
   "outputs": [
    {
     "ename": "RuntimeError",
     "evalue": "dictionary changed size during iteration",
     "output_type": "error",
     "traceback": [
      "\u001b[1;31m---------------------------------------------------------------------------\u001b[0m",
      "\u001b[1;31mRuntimeError\u001b[0m                              Traceback (most recent call last)",
      "Input \u001b[1;32mIn [50]\u001b[0m, in \u001b[0;36m<cell line: 3>\u001b[1;34m()\u001b[0m\n\u001b[0;32m      1\u001b[0m x \u001b[38;5;241m=\u001b[39m {\u001b[38;5;124m'\u001b[39m\u001b[38;5;124ma\u001b[39m\u001b[38;5;124m'\u001b[39m:\u001b[38;5;241m10\u001b[39m, \u001b[38;5;124m'\u001b[39m\u001b[38;5;124mb\u001b[39m\u001b[38;5;124m'\u001b[39m:\u001b[38;5;241m20\u001b[39m, \u001b[38;5;124m'\u001b[39m\u001b[38;5;124mc\u001b[39m\u001b[38;5;124m'\u001b[39m:\u001b[38;5;241m30\u001b[39m, \u001b[38;5;124m'\u001b[39m\u001b[38;5;124md\u001b[39m\u001b[38;5;124m'\u001b[39m:\u001b[38;5;241m40\u001b[39m}\n\u001b[1;32m----> 3\u001b[0m \u001b[38;5;28;01mfor\u001b[39;00m key, value \u001b[38;5;129;01min\u001b[39;00m x\u001b[38;5;241m.\u001b[39mitems():\n\u001b[0;32m      4\u001b[0m     \u001b[38;5;28;01mif\u001b[39;00m value \u001b[38;5;241m==\u001b[39m \u001b[38;5;241m20\u001b[39m:\n\u001b[0;32m      5\u001b[0m         \u001b[38;5;28;01mdel\u001b[39;00m x[key]\n",
      "\u001b[1;31mRuntimeError\u001b[0m: dictionary changed size during iteration"
     ]
    }
   ],
   "source": [
    "x = {'a':10, 'b':20, 'c':30, 'd':40}\n",
    "\n",
    "for key, value in x.items():\n",
    "    if value == 20:\n",
    "        del x[key]"
   ]
  },
  {
   "cell_type": "markdown",
   "id": "39b95d3c",
   "metadata": {},
   "source": [
    "#### RuntimeError: dictionary changed size during iteration\n",
    "#### 반복중에 딕셔너리 크기가 바뀌면 안됩니다!!!"
   ]
  },
  {
   "cell_type": "code",
   "execution_count": 51,
   "id": "7903146b",
   "metadata": {},
   "outputs": [
    {
     "data": {
      "text/plain": [
       "{'a': 10, 'c': 30, 'd': 40}"
      ]
     },
     "execution_count": 51,
     "metadata": {},
     "output_type": "execute_result"
    }
   ],
   "source": [
    "x = {'a':10, 'b':20, 'c':30, 'd':40}\n",
    "x  = {key:value for key,value in x.items() if value != 20}\n",
    "x"
   ]
  },
  {
   "cell_type": "markdown",
   "id": "132598c4",
   "metadata": {},
   "source": [
    "---"
   ]
  },
  {
   "cell_type": "markdown",
   "id": "55968127",
   "metadata": {},
   "source": [
    "## 25.4 딕셔너리 안에서 딕셔너리 사용하기"
   ]
  },
  {
   "cell_type": "code",
   "execution_count": 52,
   "id": "a331e737",
   "metadata": {},
   "outputs": [],
   "source": [
    "terrestrial_palnet = {\n",
    "    'Mercury': {\n",
    "        'mean_radius':2439.7,\n",
    "        'mass':3.3022E+23,\n",
    "        'orbital_period':87.969\n",
    "    },\n",
    "    'Venus':{\n",
    "        'mean_radius':6051.8,\n",
    "        'mass':4.8676E+24,\n",
    "        'orbital_period':224.070069\n",
    "    }\n",
    "}"
   ]
  },
  {
   "cell_type": "code",
   "execution_count": 53,
   "id": "c38ac43f",
   "metadata": {},
   "outputs": [
    {
     "data": {
      "text/plain": [
       "{'mean_radius': 2439.7, 'mass': 3.3022e+23, 'orbital_period': 87.969}"
      ]
     },
     "execution_count": 53,
     "metadata": {},
     "output_type": "execute_result"
    }
   ],
   "source": [
    "terrestrial_palnet['Mercury']"
   ]
  },
  {
   "cell_type": "code",
   "execution_count": 54,
   "id": "551ec8c3",
   "metadata": {},
   "outputs": [
    {
     "data": {
      "text/plain": [
       "3.3022e+23"
      ]
     },
     "execution_count": 54,
     "metadata": {},
     "output_type": "execute_result"
    }
   ],
   "source": [
    "terrestrial_palnet['Mercury'][\"mass\"]"
   ]
  },
  {
   "cell_type": "markdown",
   "id": "9b9cdbd4",
   "metadata": {},
   "source": [
    "---"
   ]
  },
  {
   "cell_type": "markdown",
   "id": "ad71a1e5",
   "metadata": {},
   "source": [
    "## 25.5 딕셔너리의 할당과 복사"
   ]
  },
  {
   "cell_type": "code",
   "execution_count": 55,
   "id": "c608d31b",
   "metadata": {},
   "outputs": [],
   "source": [
    "from collections import defaultdict\n",
    "x = defaultdict(int)\n",
    "x.update(zip(['a','b','c','d'], [0,0,0,0]))"
   ]
  },
  {
   "cell_type": "code",
   "execution_count": 56,
   "id": "3499dbec",
   "metadata": {},
   "outputs": [
    {
     "data": {
      "text/plain": [
       "defaultdict(int, {'a': 0, 'b': 0, 'c': 0, 'd': 0})"
      ]
     },
     "execution_count": 56,
     "metadata": {},
     "output_type": "execute_result"
    }
   ],
   "source": [
    "x"
   ]
  },
  {
   "cell_type": "code",
   "execution_count": 57,
   "id": "88ede7dd",
   "metadata": {},
   "outputs": [],
   "source": [
    "y = x "
   ]
  },
  {
   "cell_type": "code",
   "execution_count": 58,
   "id": "376c3f97",
   "metadata": {},
   "outputs": [
    {
     "data": {
      "text/plain": [
       "True"
      ]
     },
     "execution_count": 58,
     "metadata": {},
     "output_type": "execute_result"
    }
   ],
   "source": [
    "x is y"
   ]
  },
  {
   "cell_type": "code",
   "execution_count": 59,
   "id": "eca3dcd6",
   "metadata": {},
   "outputs": [
    {
     "data": {
      "text/plain": [
       "defaultdict(int, {'a': 99, 'b': 0, 'c': 0, 'd': 0})"
      ]
     },
     "execution_count": 59,
     "metadata": {},
     "output_type": "execute_result"
    }
   ],
   "source": [
    "y['a'] = 99\n",
    "x"
   ]
  },
  {
   "cell_type": "code",
   "execution_count": 60,
   "id": "f55b3ade",
   "metadata": {},
   "outputs": [],
   "source": [
    "x = {'a':0,'b':0,'c':0,'d':0}\n",
    "y = x.copy()\n"
   ]
  },
  {
   "cell_type": "code",
   "execution_count": 61,
   "id": "fb7e4201",
   "metadata": {},
   "outputs": [
    {
     "data": {
      "text/plain": [
       "False"
      ]
     },
     "execution_count": 61,
     "metadata": {},
     "output_type": "execute_result"
    }
   ],
   "source": [
    "x is y"
   ]
  },
  {
   "cell_type": "code",
   "execution_count": 62,
   "id": "21088285",
   "metadata": {},
   "outputs": [
    {
     "data": {
      "text/plain": [
       "True"
      ]
     },
     "execution_count": 62,
     "metadata": {},
     "output_type": "execute_result"
    }
   ],
   "source": [
    "x == y"
   ]
  },
  {
   "cell_type": "code",
   "execution_count": 63,
   "id": "4c7f8b75",
   "metadata": {},
   "outputs": [
    {
     "data": {
      "text/plain": [
       "{'a': 0, 'b': 0, 'c': 0, 'd': 0}"
      ]
     },
     "execution_count": 63,
     "metadata": {},
     "output_type": "execute_result"
    }
   ],
   "source": [
    "y['a'] = 1000\n",
    "x"
   ]
  },
  {
   "cell_type": "markdown",
   "id": "4983e8d7",
   "metadata": {},
   "source": [
    "### 25.5.1 중첩 딕셔너리의 할당과 복사 알아보기"
   ]
  },
  {
   "cell_type": "code",
   "execution_count": 64,
   "id": "23b1fe59",
   "metadata": {},
   "outputs": [],
   "source": [
    "x = {\n",
    "        'a':{'python':\"2.7\"},\n",
    "        'b':{'python':\"3.6\"}\n",
    "    }\n",
    "y = x.copy()"
   ]
  },
  {
   "cell_type": "code",
   "execution_count": 65,
   "id": "630a5d38",
   "metadata": {},
   "outputs": [
    {
     "data": {
      "text/plain": [
       "{'a': {'python': '2.7.15'}, 'b': {'python': '3.6'}}"
      ]
     },
     "execution_count": 65,
     "metadata": {},
     "output_type": "execute_result"
    }
   ],
   "source": [
    "y['a']['python'] = '2.7.15'\n",
    "x"
   ]
  },
  {
   "cell_type": "markdown",
   "id": "444263f5",
   "metadata": {},
   "source": [
    "#### 중첩 딕셔너리를 완전히 복사하려면 copy 메서드 대신 copy 모듈의 deepcopy 함수를 사용해야 함"
   ]
  },
  {
   "cell_type": "code",
   "execution_count": 66,
   "id": "e7894430",
   "metadata": {},
   "outputs": [
    {
     "name": "stdout",
     "output_type": "stream",
     "text": [
      "x {'a': {'python': '2.7'}, 'b': {'python': '3.6'}}\n",
      "y {'a': {'python': '2.7.15'}, 'b': {'python': '3.6'}}\n"
     ]
    }
   ],
   "source": [
    "import copy \n",
    "x = {\n",
    "        'a':{'python':\"2.7\"},\n",
    "        'b':{'python':\"3.6\"}\n",
    "    }\n",
    "\n",
    "y = copy.deepcopy(x)\n",
    "y['a']['python'] = '2.7.15'\n",
    "print(\"x\",x)\n",
    "print('y',y)"
   ]
  }
 ],
 "metadata": {
  "kernelspec": {
   "display_name": "Python 3 (ipykernel)",
   "language": "python",
   "name": "python3"
  },
  "language_info": {
   "codemirror_mode": {
    "name": "ipython",
    "version": 3
   },
   "file_extension": ".py",
   "mimetype": "text/x-python",
   "name": "python",
   "nbconvert_exporter": "python",
   "pygments_lexer": "ipython3",
   "version": "3.9.12"
  }
 },
 "nbformat": 4,
 "nbformat_minor": 5
}

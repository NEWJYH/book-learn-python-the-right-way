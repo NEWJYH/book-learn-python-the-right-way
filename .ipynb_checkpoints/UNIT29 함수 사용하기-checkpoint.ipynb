{
 "cells": [
  {
   "cell_type": "markdown",
   "id": "67796e79",
   "metadata": {},
   "source": [
    "## 29.10 Hello, world! 출력함수 만들기"
   ]
  },
  {
   "cell_type": "markdown",
   "id": "c0204f77",
   "metadata": {},
   "source": [
    "### 29.1.1 함수 만들기"
   ]
  },
  {
   "cell_type": "code",
   "execution_count": 1,
   "id": "bb39ab72",
   "metadata": {},
   "outputs": [],
   "source": [
    "def hello():\n",
    "    print('Hello, world')"
   ]
  },
  {
   "cell_type": "markdown",
   "id": "a1f0e0b7",
   "metadata": {},
   "source": [
    "### 29.1.2 함수호출하기"
   ]
  },
  {
   "cell_type": "code",
   "execution_count": 5,
   "id": "c2d4089b",
   "metadata": {},
   "outputs": [
    {
     "name": "stdout",
     "output_type": "stream",
     "text": [
      "Hello, world\n"
     ]
    }
   ],
   "source": [
    "hello()"
   ]
  },
  {
   "cell_type": "markdown",
   "id": "23745231",
   "metadata": {},
   "source": [
    "### 29.1.3 소스파일에서 함수를 만들고 호출하기"
   ]
  },
  {
   "cell_type": "code",
   "execution_count": 6,
   "id": "09e5aa96",
   "metadata": {},
   "outputs": [
    {
     "name": "stdout",
     "output_type": "stream",
     "text": [
      "Hello, World!\n"
     ]
    }
   ],
   "source": [
    "def hello():\n",
    "    print('Hello, World!')\n",
    "    \n",
    "hello()"
   ]
  },
  {
   "cell_type": "markdown",
   "id": "9a6cb800",
   "metadata": {},
   "source": [
    "### 29.1.4 함수의 실행 순서"
   ]
  },
  {
   "cell_type": "markdown",
   "id": "46bd83a4",
   "metadata": {},
   "source": [
    "#### 1. 파이썬 스크립트 최초실행\n",
    "#### 2. hello 함수 호출\n",
    "#### 3. hello 함수 실행\n",
    "#### 4. print 함수 실행 및 'Hello, World!'출력\n",
    "#### 5. hello 함수 종료\n",
    "#### 6. 파이썬 스크립트 종료"
   ]
  },
  {
   "cell_type": "markdown",
   "id": "24c0f104",
   "metadata": {},
   "source": [
    "### 29.1.5 함수 작성과 함수 호출 순서"
   ]
  },
  {
   "cell_type": "code",
   "execution_count": 1,
   "id": "81f44523",
   "metadata": {},
   "outputs": [
    {
     "ename": "NameError",
     "evalue": "name 'hello' is not defined",
     "output_type": "error",
     "traceback": [
      "\u001b[1;31m---------------------------------------------------------------------------\u001b[0m",
      "\u001b[1;31mNameError\u001b[0m                                 Traceback (most recent call last)",
      "Input \u001b[1;32mIn [1]\u001b[0m, in \u001b[0;36m<cell line: 1>\u001b[1;34m()\u001b[0m\n\u001b[1;32m----> 1\u001b[0m \u001b[43mhello\u001b[49m()\n\u001b[0;32m      3\u001b[0m \u001b[38;5;28;01mdef\u001b[39;00m \u001b[38;5;21mhello\u001b[39m():\n\u001b[0;32m      4\u001b[0m     \u001b[38;5;28mprint\u001b[39m(\u001b[38;5;124m'\u001b[39m\u001b[38;5;124mhello world\u001b[39m\u001b[38;5;124m'\u001b[39m)\n",
      "\u001b[1;31mNameError\u001b[0m: name 'hello' is not defined"
     ]
    }
   ],
   "source": [
    "hello()\n",
    "\n",
    "def hello():\n",
    "    print('hello world')"
   ]
  },
  {
   "cell_type": "markdown",
   "id": "a70acd7b",
   "metadata": {},
   "source": [
    "---"
   ]
  },
  {
   "cell_type": "markdown",
   "id": "8c534b8c",
   "metadata": {},
   "source": [
    "## 29.2 덧셈 함수 만들기"
   ]
  },
  {
   "cell_type": "code",
   "execution_count": 2,
   "id": "d21ece28",
   "metadata": {},
   "outputs": [],
   "source": [
    "def add(a, b):\n",
    "    result = a+b\n",
    "    print(f'add {a} + {b} = {result}')\n",
    "    return result"
   ]
  },
  {
   "cell_type": "code",
   "execution_count": 3,
   "id": "f9cf43fc",
   "metadata": {},
   "outputs": [
    {
     "name": "stdout",
     "output_type": "stream",
     "text": [
      "add 10 + 20 = 30\n"
     ]
    },
    {
     "data": {
      "text/plain": [
       "30"
      ]
     },
     "execution_count": 3,
     "metadata": {},
     "output_type": "execute_result"
    }
   ],
   "source": [
    "add(10,20)"
   ]
  },
  {
   "cell_type": "markdown",
   "id": "4d7aa79d",
   "metadata": {},
   "source": [
    "---"
   ]
  },
  {
   "cell_type": "markdown",
   "id": "4c5d15d1",
   "metadata": {},
   "source": [
    "## 29.3 함수의 결과를 반환하기"
   ]
  },
  {
   "cell_type": "code",
   "execution_count": 4,
   "id": "fbc80bdf",
   "metadata": {},
   "outputs": [
    {
     "data": {
      "text/plain": [
       "30"
      ]
     },
     "execution_count": 4,
     "metadata": {},
     "output_type": "execute_result"
    }
   ],
   "source": [
    "def add(a, b):\n",
    "    return a+b\n",
    "\n",
    "x = add(10, 20)\n",
    "x"
   ]
  },
  {
   "cell_type": "markdown",
   "id": "4dab9c31",
   "metadata": {},
   "source": [
    "---"
   ]
  },
  {
   "cell_type": "markdown",
   "id": "a49e8475",
   "metadata": {},
   "source": [
    "## 29.4 함수에서 값 여러 개 반환하기"
   ]
  },
  {
   "cell_type": "code",
   "execution_count": 5,
   "id": "6dc363d9",
   "metadata": {},
   "outputs": [],
   "source": [
    "def add_sub(a:int, b:int):\n",
    "    return a+b, a-b"
   ]
  },
  {
   "cell_type": "code",
   "execution_count": 8,
   "id": "a3a6db76",
   "metadata": {},
   "outputs": [
    {
     "name": "stdout",
     "output_type": "stream",
     "text": [
      "30 -10\n"
     ]
    }
   ],
   "source": [
    "x, y = add_sub(10, 20)\n",
    "print(x, y)"
   ]
  },
  {
   "cell_type": "markdown",
   "id": "76cd93f5",
   "metadata": {},
   "source": [
    "---"
   ]
  },
  {
   "cell_type": "markdown",
   "id": "f15d0f41",
   "metadata": {},
   "source": [
    "## 29.5 함수의 호출 과정 알아보기"
   ]
  }
 ],
 "metadata": {
  "kernelspec": {
   "display_name": "Python 3 (ipykernel)",
   "language": "python",
   "name": "python3"
  },
  "language_info": {
   "codemirror_mode": {
    "name": "ipython",
    "version": 3
   },
   "file_extension": ".py",
   "mimetype": "text/x-python",
   "name": "python",
   "nbconvert_exporter": "python",
   "pygments_lexer": "ipython3",
   "version": "3.9.12"
  }
 },
 "nbformat": 4,
 "nbformat_minor": 5
}

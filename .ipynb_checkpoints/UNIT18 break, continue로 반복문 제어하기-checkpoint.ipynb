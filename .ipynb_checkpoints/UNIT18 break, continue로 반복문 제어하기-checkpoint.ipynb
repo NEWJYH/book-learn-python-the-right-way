{
 "cells": [
  {
   "cell_type": "markdown",
   "id": "254b6e87",
   "metadata": {},
   "source": [
    "## 18.1 break로 반복문 끝내기"
   ]
  },
  {
   "cell_type": "markdown",
   "id": "bd4c7ea2",
   "metadata": {},
   "source": [
    "### 18.1.1 while에서 break로 반복문 끝내기"
   ]
  },
  {
   "cell_type": "markdown",
   "id": "543ae38a",
   "metadata": {},
   "source": [
    "### 18.1.2 for에서 break로 반복문 끝내기"
   ]
  },
  {
   "cell_type": "markdown",
   "id": "56e79f1c",
   "metadata": {},
   "source": [
    "---"
   ]
  },
  {
   "cell_type": "markdown",
   "id": "210f9bac",
   "metadata": {},
   "source": [
    "## 18.2 continue로 코드 실행 건너뛰기 "
   ]
  },
  {
   "cell_type": "markdown",
   "id": "5512a80a",
   "metadata": {},
   "source": [
    "### 18.2.1 for에서 continue로 코드 실행 건너뛰기"
   ]
  },
  {
   "cell_type": "markdown",
   "id": "d54b68a9",
   "metadata": {},
   "source": [
    "---"
   ]
  },
  {
   "cell_type": "markdown",
   "id": "e3667bd7",
   "metadata": {},
   "source": [
    "## 18.3 입력한 횟수대로 반복하기"
   ]
  },
  {
   "cell_type": "markdown",
   "id": "3be06414",
   "metadata": {},
   "source": [
    "### 18.3.1 입력한 숫자까지 홀수 출력하기"
   ]
  }
 ],
 "metadata": {
  "kernelspec": {
   "display_name": "Python 3 (ipykernel)",
   "language": "python",
   "name": "python3"
  },
  "language_info": {
   "codemirror_mode": {
    "name": "ipython",
    "version": 3
   },
   "file_extension": ".py",
   "mimetype": "text/x-python",
   "name": "python",
   "nbconvert_exporter": "python",
   "pygments_lexer": "ipython3",
   "version": "3.9.12"
  }
 },
 "nbformat": 4,
 "nbformat_minor": 5
}

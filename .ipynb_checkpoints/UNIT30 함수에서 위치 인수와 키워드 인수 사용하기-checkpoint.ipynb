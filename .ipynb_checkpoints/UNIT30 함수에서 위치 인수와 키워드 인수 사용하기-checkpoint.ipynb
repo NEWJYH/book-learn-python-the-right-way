{
 "cells": [
  {
   "cell_type": "markdown",
   "id": "f7e1dafe",
   "metadata": {},
   "source": [
    "## 30.1 위치 인수와 리스트 언패킹 사용하기"
   ]
  },
  {
   "cell_type": "code",
   "execution_count": 1,
   "id": "7631795e",
   "metadata": {},
   "outputs": [
    {
     "name": "stdout",
     "output_type": "stream",
     "text": [
      "10 20 30\n"
     ]
    }
   ],
   "source": [
    "print(10, 20, 30)"
   ]
  },
  {
   "cell_type": "markdown",
   "id": "0c6fe1f7",
   "metadata": {},
   "source": [
    "### 30.1.1 위치 인수를 사용하는 함수를 만들고 호출하기"
   ]
  },
  {
   "cell_type": "code",
   "execution_count": 2,
   "id": "efec3129",
   "metadata": {},
   "outputs": [
    {
     "name": "stdout",
     "output_type": "stream",
     "text": [
      "10\n",
      "20\n",
      "30\n"
     ]
    }
   ],
   "source": [
    "def print_numbers(a,b,c):\n",
    "    print(a)\n",
    "    print(b)    \n",
    "    print(c)\n",
    "    \n",
    "print_numbers(10, 20, 30)"
   ]
  },
  {
   "cell_type": "markdown",
   "id": "22af3225",
   "metadata": {},
   "source": [
    "### 30.1.2 언패킹 사용하기"
   ]
  },
  {
   "cell_type": "code",
   "execution_count": 3,
   "id": "e50a06a5",
   "metadata": {},
   "outputs": [
    {
     "name": "stdout",
     "output_type": "stream",
     "text": [
      "10\n",
      "20\n",
      "30\n"
     ]
    }
   ],
   "source": [
    "x = [10, 20, 30]\n",
    "print_numbers(*x)"
   ]
  },
  {
   "cell_type": "markdown",
   "id": "8d9f910e",
   "metadata": {},
   "source": [
    "#### 인수를 순서대로 넣을 때는 리스트나 튜플을 사용할 수 있음\n",
    "#### 리스트 또는 튜플 앞에 *를 붙여서 함수에 넣어주면 됨"
   ]
  },
  {
   "cell_type": "markdown",
   "id": "c095efca",
   "metadata": {},
   "source": [
    "### 30.1.3 가변 인수 함수 만들기"
   ]
  },
  {
   "cell_type": "code",
   "execution_count": 4,
   "id": "b7658383",
   "metadata": {},
   "outputs": [],
   "source": [
    "def print_numbers(*args):\n",
    "    for arg in args:\n",
    "        print(arg)"
   ]
  },
  {
   "cell_type": "code",
   "execution_count": 5,
   "id": "246dccdd",
   "metadata": {},
   "outputs": [
    {
     "name": "stdout",
     "output_type": "stream",
     "text": [
      "10\n"
     ]
    }
   ],
   "source": [
    "print_numbers(10)"
   ]
  },
  {
   "cell_type": "code",
   "execution_count": 6,
   "id": "075a6a4b",
   "metadata": {},
   "outputs": [
    {
     "name": "stdout",
     "output_type": "stream",
     "text": [
      "10\n",
      "20\n",
      "30\n",
      "40\n"
     ]
    }
   ],
   "source": [
    "print_numbers(10,20,30,40)"
   ]
  },
  {
   "cell_type": "code",
   "execution_count": 7,
   "id": "496b9e45",
   "metadata": {},
   "outputs": [
    {
     "name": "stdout",
     "output_type": "stream",
     "text": [
      "10\n",
      "10\n",
      "20\n",
      "30\n",
      "40\n"
     ]
    }
   ],
   "source": [
    "x = [10]\n",
    "print_numbers(*x)\n",
    "\n",
    "y = [10,20,30,40]\n",
    "print_numbers(*y)"
   ]
  },
  {
   "cell_type": "markdown",
   "id": "50ca759a",
   "metadata": {},
   "source": [
    "#### 고정 인수와 가변 인수를 함께 사용하기"
   ]
  },
  {
   "cell_type": "markdown",
   "id": "99e38a49",
   "metadata": {},
   "source": [
    "#### 가변 매개변수가 고정 매개변수보다 앞쪽으로 오면 안됨 !!!!"
   ]
  },
  {
   "cell_type": "code",
   "execution_count": 8,
   "id": "480425d8",
   "metadata": {},
   "outputs": [
    {
     "name": "stdout",
     "output_type": "stream",
     "text": [
      "1\n",
      "()\n",
      "1\n",
      "(10, 20)\n",
      "10\n",
      "(20, 30)\n"
     ]
    }
   ],
   "source": [
    "def print_numbers(a, *args):\n",
    "    print(a)\n",
    "    print(args)\n",
    "    \n",
    "print_numbers(1)\n",
    "print_numbers(1, 10, 20)\n",
    "print_numbers(*[10,20,30])"
   ]
  },
  {
   "cell_type": "markdown",
   "id": "ed0bee1f",
   "metadata": {},
   "source": [
    "---"
   ]
  },
  {
   "cell_type": "markdown",
   "id": "f7b449b1",
   "metadata": {},
   "source": [
    "## 30.2 키워드 인수 사용하기"
   ]
  },
  {
   "cell_type": "code",
   "execution_count": 9,
   "id": "0b4fb136",
   "metadata": {},
   "outputs": [],
   "source": [
    "def personal_info(name, age, address):\n",
    "    print('이름: ', name)\n",
    "    print('나이: ', age)\n",
    "    print('주소: ', address)\n",
    "    "
   ]
  },
  {
   "cell_type": "code",
   "execution_count": 11,
   "id": "44047467",
   "metadata": {},
   "outputs": [
    {
     "name": "stdout",
     "output_type": "stream",
     "text": [
      "이름:  김성재\n",
      "나이:  34\n",
      "주소:  광주\n"
     ]
    }
   ],
   "source": [
    "personal_info('김성재', 34, \"광주\")"
   ]
  },
  {
   "cell_type": "markdown",
   "id": "1db60fde",
   "metadata": {},
   "source": [
    "---\n"
   ]
  },
  {
   "cell_type": "markdown",
   "id": "ed15421a",
   "metadata": {},
   "source": [
    "## 30.3 키워드 인수와 딕셔너리 언패킹 사용하기"
   ]
  },
  {
   "cell_type": "code",
   "execution_count": 13,
   "id": "b6399d0c",
   "metadata": {},
   "outputs": [
    {
     "name": "stdout",
     "output_type": "stream",
     "text": [
      "이름:  김성재\n",
      "나이:  34\n",
      "주소:  광주\n"
     ]
    }
   ],
   "source": [
    "def personal_info(name, age, address):\n",
    "    print('이름: ', name)\n",
    "    print('나이: ', age)\n",
    "    print('주소: ', address)\n",
    "    \n",
    "x = {'name': \"김성재\", \"age\":34, \"address\":\"광주\"}\n",
    "\n",
    "personal_info(**x)"
   ]
  },
  {
   "cell_type": "markdown",
   "id": "11f5d89b",
   "metadata": {},
   "source": [
    "### 30.3.1 **를 두 번 사용하는 이유"
   ]
  },
  {
   "cell_type": "code",
   "execution_count": 14,
   "id": "d75709e9",
   "metadata": {},
   "outputs": [
    {
     "name": "stdout",
     "output_type": "stream",
     "text": [
      "이름:  name\n",
      "나이:  age\n",
      "주소:  address\n"
     ]
    }
   ],
   "source": [
    "x = {'name': \"김성재\", \"age\":34, \"address\":\"광주\"}\n",
    "personal_info(*x)\n",
    "\n",
    "# *x를 넣으면 x의 키가 출력됨\n",
    "# **x 두번 언패킹하여 값을 사용하도록 만듬"
   ]
  },
  {
   "cell_type": "markdown",
   "id": "5fa6173e",
   "metadata": {},
   "source": [
    "### 30.3.2 키워드 인수를 사용하는 가변 인수 함수 만들기"
   ]
  },
  {
   "cell_type": "code",
   "execution_count": 15,
   "id": "d73436c4",
   "metadata": {},
   "outputs": [],
   "source": [
    "def personal_info(**kwargs):\n",
    "    for kw, arg in kwargs.items():\n",
    "        print(kw, \": \", arg, sep='')"
   ]
  },
  {
   "cell_type": "code",
   "execution_count": 17,
   "id": "6831bd6f",
   "metadata": {},
   "outputs": [
    {
     "name": "stdout",
     "output_type": "stream",
     "text": [
      "name: 홍길동\n",
      "age: 30\n",
      "address: 서울시\n"
     ]
    }
   ],
   "source": [
    "personal_info(name='홍길동', age=30, address='서울시')"
   ]
  },
  {
   "cell_type": "markdown",
   "id": "a4d58fc7",
   "metadata": {},
   "source": [
    "---"
   ]
  },
  {
   "cell_type": "markdown",
   "id": "65e27ea8",
   "metadata": {},
   "source": [
    "## 30.4 매개변수에 초깃값 지정하기"
   ]
  },
  {
   "cell_type": "code",
   "execution_count": 18,
   "id": "f15d618f",
   "metadata": {},
   "outputs": [],
   "source": [
    "def personal_info(name, age, address='비공개'):\n",
    "    print('이름: ', name)\n",
    "    print('나이: ', age)\n",
    "    print('주소: ', address)\n",
    "    "
   ]
  },
  {
   "cell_type": "code",
   "execution_count": 19,
   "id": "7de5f68f",
   "metadata": {},
   "outputs": [
    {
     "name": "stdout",
     "output_type": "stream",
     "text": [
      "이름:  홍길동\n",
      "나이:  30\n",
      "주소:  비공개\n"
     ]
    }
   ],
   "source": [
    "personal_info('홍길동',30)"
   ]
  },
  {
   "cell_type": "code",
   "execution_count": 20,
   "id": "4fffd528",
   "metadata": {},
   "outputs": [
    {
     "name": "stdout",
     "output_type": "stream",
     "text": [
      "이름:  홍길동\n",
      "나이:  30\n",
      "주소:  광주\n"
     ]
    }
   ],
   "source": [
    "personal_info('홍길동',30,'광주')"
   ]
  },
  {
   "cell_type": "markdown",
   "id": "b23ae3b6",
   "metadata": {},
   "source": [
    "### 30.4.1 초기값이 지정된 매개변수의 위치"
   ]
  },
  {
   "cell_type": "markdown",
   "id": "933f042e",
   "metadata": {},
   "source": [
    "#### 무조건 뒤쪽에 지정된 매개변수를 사용하여야함 !!!!"
   ]
  }
 ],
 "metadata": {
  "kernelspec": {
   "display_name": "Python 3 (ipykernel)",
   "language": "python",
   "name": "python3"
  },
  "language_info": {
   "codemirror_mode": {
    "name": "ipython",
    "version": 3
   },
   "file_extension": ".py",
   "mimetype": "text/x-python",
   "name": "python",
   "nbconvert_exporter": "python",
   "pygments_lexer": "ipython3",
   "version": "3.9.12"
  }
 },
 "nbformat": 4,
 "nbformat_minor": 5
}

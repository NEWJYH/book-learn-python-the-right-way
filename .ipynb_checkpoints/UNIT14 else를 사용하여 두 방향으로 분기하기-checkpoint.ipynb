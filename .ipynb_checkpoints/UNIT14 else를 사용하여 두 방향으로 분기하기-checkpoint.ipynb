{
 "cells": [
  {
   "cell_type": "markdown",
   "id": "56b97d85",
   "metadata": {},
   "source": [
    "## 14.1 else 사용하기"
   ]
  },
  {
   "cell_type": "markdown",
   "id": "d86d5fa9",
   "metadata": {},
   "source": [
    "### 14.1.1 if와 else의 기본 형태와 실행 흐름 알아보기"
   ]
  },
  {
   "cell_type": "markdown",
   "id": "ed04cf1c",
   "metadata": {},
   "source": [
    "---"
   ]
  },
  {
   "cell_type": "markdown",
   "id": "7af57fa2",
   "metadata": {},
   "source": [
    "## 14.2 else와 들여쓰기 "
   ]
  },
  {
   "cell_type": "markdown",
   "id": "c29e9ebd",
   "metadata": {},
   "source": [
    "---"
   ]
  },
  {
   "cell_type": "markdown",
   "id": "cabb0b2e",
   "metadata": {},
   "source": [
    "## 14.3 if 조건문의 동작 방식 알아보기"
   ]
  },
  {
   "cell_type": "markdown",
   "id": "3217181b",
   "metadata": {},
   "source": [
    "### 14.3.1 if 조건문에 숫자 지정하기"
   ]
  },
  {
   "cell_type": "markdown",
   "id": "0c7bea62",
   "metadata": {},
   "source": [
    "### 14.3.2 if 조건문에 문자열 지정하기"
   ]
  },
  {
   "cell_type": "markdown",
   "id": "e219cb78",
   "metadata": {},
   "source": [
    "---"
   ]
  },
  {
   "cell_type": "markdown",
   "id": "b01d9466",
   "metadata": {},
   "source": [
    "## 14.4 조건식을 여러 개 지정하기"
   ]
  },
  {
   "cell_type": "markdown",
   "id": "8d80445a",
   "metadata": {},
   "source": [
    "### 14.4.1 중첩 if 조건문과 논리 연산자"
   ]
  }
 ],
 "metadata": {
  "kernelspec": {
   "display_name": "Python 3 (ipykernel)",
   "language": "python",
   "name": "python3"
  },
  "language_info": {
   "codemirror_mode": {
    "name": "ipython",
    "version": 3
   },
   "file_extension": ".py",
   "mimetype": "text/x-python",
   "name": "python",
   "nbconvert_exporter": "python",
   "pygments_lexer": "ipython3",
   "version": "3.9.12"
  }
 },
 "nbformat": 4,
 "nbformat_minor": 5
}

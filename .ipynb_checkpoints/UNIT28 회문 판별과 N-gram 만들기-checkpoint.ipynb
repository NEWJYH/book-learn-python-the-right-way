{
 "cells": [
  {
   "cell_type": "markdown",
   "id": "fb21109b",
   "metadata": {},
   "source": [
    "## 28.1 회문 판별하기"
   ]
  },
  {
   "cell_type": "code",
   "execution_count": 1,
   "id": "6d84440a",
   "metadata": {},
   "outputs": [],
   "source": [
    "# 회문(palindrome) : 순서를 거꾸로 읽어도 제대로 읽은 것과 같은 단어와 문장을 말함\n",
    "# ex ) level, sos, rotator, nurses run "
   ]
  },
  {
   "cell_type": "markdown",
   "id": "2e8d3430",
   "metadata": {},
   "source": [
    "### 28.1.1 반복문으로 문자 검사하기"
   ]
  },
  {
   "cell_type": "code",
   "execution_count": 3,
   "id": "9cf40fa4",
   "metadata": {},
   "outputs": [
    {
     "name": "stdout",
     "output_type": "stream",
     "text": [
      "단어를 입력하세요 : level\n",
      "True\n"
     ]
    }
   ],
   "source": [
    "word = input('단어를 입력하세요 : ')\n",
    "\n",
    "is_palindrome = True # 회문 판별값을 저장할 변수, 초기값은 True\n",
    "\n",
    "for i in range(len(word)//2): # 0부터 문자열 길이의 절반만큼 반복 \n",
    "\n",
    "    if word[i] != word[-1-i]: # 왼쪽 문자와 오른쪽 문자를 비교하여 문자가 다르면\n",
    "        is_palindrome = False # 회문이 아님\n",
    "        break\n",
    "\n",
    "print(is_palindrome)"
   ]
  },
  {
   "cell_type": "markdown",
   "id": "0be6e91d",
   "metadata": {},
   "source": [
    "### 28.1.2 시퀸스 뒤집기로 문자 검사하기"
   ]
  },
  {
   "cell_type": "code",
   "execution_count": 4,
   "id": "8f08c8bd",
   "metadata": {},
   "outputs": [
    {
     "name": "stdout",
     "output_type": "stream",
     "text": [
      "단어를 입력하세요 : level\n",
      "True\n"
     ]
    }
   ],
   "source": [
    "word = input('단어를 입력하세요 : ')\n",
    "print(word == word[::-1]) # 원래 문자열과 반대로 뒤집은 문자열을 비교"
   ]
  },
  {
   "cell_type": "markdown",
   "id": "7ba0991f",
   "metadata": {},
   "source": [
    "### 28.1.3 리스트와 reversed 사용하기"
   ]
  },
  {
   "cell_type": "code",
   "execution_count": 5,
   "id": "0d189235",
   "metadata": {},
   "outputs": [
    {
     "data": {
      "text/plain": [
       "True"
      ]
     },
     "execution_count": 5,
     "metadata": {},
     "output_type": "execute_result"
    }
   ],
   "source": [
    "word = 'level'\n",
    "list(word) == list(reversed(word))"
   ]
  },
  {
   "cell_type": "markdown",
   "id": "4f27d83d",
   "metadata": {},
   "source": [
    "### 28.1.4 문자열의 join 메서드와 reversed 사용하기"
   ]
  },
  {
   "cell_type": "code",
   "execution_count": 6,
   "id": "a03c3192",
   "metadata": {},
   "outputs": [
    {
     "data": {
      "text/plain": [
       "True"
      ]
     },
     "execution_count": 6,
     "metadata": {},
     "output_type": "execute_result"
    }
   ],
   "source": [
    "word = \"level\"\n",
    "word == \"\".join(reversed(word))"
   ]
  },
  {
   "cell_type": "markdown",
   "id": "67844c9c",
   "metadata": {},
   "source": [
    "---"
   ]
  },
  {
   "cell_type": "markdown",
   "id": "dce63917",
   "metadata": {},
   "source": [
    "## 28.2  N-gram 만들기"
   ]
  },
  {
   "cell_type": "markdown",
   "id": "13a88f6e",
   "metadata": {},
   "source": [
    "#### N-gram은 문자열에서 N개의 연속된 요소를 추출하는 방법"
   ]
  },
  {
   "cell_type": "markdown",
   "id": "c512385c",
   "metadata": {},
   "source": [
    "### 28.2.1 반복문으로 N-gram 출력하기"
   ]
  },
  {
   "cell_type": "code",
   "execution_count": 11,
   "id": "aaa90c57",
   "metadata": {
    "scrolled": true
   },
   "outputs": [
    {
     "name": "stdout",
     "output_type": "stream",
     "text": [
      "He\n",
      "el\n",
      "ll\n",
      "lo\n"
     ]
    }
   ],
   "source": [
    "# 문자 단위 2-gram을 출력\n",
    "\n",
    "text = 'Hello'\n",
    "\n",
    "# 2-gram이므로 문자열의 끝에서 한 글자 앞까지만 반복함\n",
    "for i in range(len(text) -1):\n",
    "    print(text[i], text[i+1], sep='') # 현재 문자와 그 다음 문자 출력"
   ]
  },
  {
   "cell_type": "code",
   "execution_count": 12,
   "id": "6f8ef06a",
   "metadata": {},
   "outputs": [
    {
     "name": "stdout",
     "output_type": "stream",
     "text": [
      "this is\n",
      "is python\n",
      "python script\n"
     ]
    }
   ],
   "source": [
    "txt = 'this is python script'\n",
    "words = txt.split()\n",
    "\n",
    "for i in range(len(words)-1):\n",
    "    print(words[i], words[i+1])"
   ]
  },
  {
   "cell_type": "markdown",
   "id": "12e84921",
   "metadata": {},
   "source": [
    "### 28.2.2 zip으로 2-gram 만들기"
   ]
  },
  {
   "cell_type": "code",
   "execution_count": 26,
   "id": "a6d70025",
   "metadata": {},
   "outputs": [
    {
     "name": "stdout",
     "output_type": "stream",
     "text": [
      "h e l l o "
     ]
    }
   ],
   "source": [
    "text = \"hello\"\n",
    "for i in  text:\n",
    "    print(i, end=' ')"
   ]
  },
  {
   "cell_type": "code",
   "execution_count": 31,
   "id": "5437e6b6",
   "metadata": {},
   "outputs": [
    {
     "name": "stdout",
     "output_type": "stream",
     "text": [
      "he\n",
      "el\n",
      "ll\n",
      "lo\n"
     ]
    }
   ],
   "source": [
    "text = 'hello'\n",
    "\n",
    "two_gram = zip(text, text[1:])\n",
    "# print('list(two_gram)', list(two_gram))\n",
    "# print('two_gram',two_gram)\n",
    "\n",
    "# for i in two_gram:\n",
    "#     print(i[0], i[1])\n",
    "    \n",
    "for i in two_gram:\n",
    "    print(i[0], i[1], sep='')"
   ]
  },
  {
   "cell_type": "markdown",
   "id": "c4123f47",
   "metadata": {},
   "source": [
    "### 28.2.3 zip과 리스트 표현식으로 N-gram 만들기"
   ]
  },
  {
   "cell_type": "code",
   "execution_count": 32,
   "id": "2c91bd18",
   "metadata": {},
   "outputs": [
    {
     "data": {
      "text/plain": [
       "['hello', 'ello', 'llo']"
      ]
     },
     "execution_count": 32,
     "metadata": {},
     "output_type": "execute_result"
    }
   ],
   "source": [
    "text = \"hello\"\n",
    "[text[i:] for i in range(3)]"
   ]
  },
  {
   "cell_type": "code",
   "execution_count": 33,
   "id": "b6a57b54",
   "metadata": {},
   "outputs": [
    {
     "data": {
      "text/plain": [
       "[('hello',), ('ello',), ('llo',)]"
      ]
     },
     "execution_count": 33,
     "metadata": {},
     "output_type": "execute_result"
    }
   ],
   "source": [
    "list(zip([text[i:] for i in range(3)]))"
   ]
  },
  {
   "cell_type": "code",
   "execution_count": 34,
   "id": "c51723fd",
   "metadata": {},
   "outputs": [
    {
     "data": {
      "text/plain": [
       "[('h', 'e', 'l'), ('e', 'l', 'l'), ('l', 'l', 'o')]"
      ]
     },
     "execution_count": 34,
     "metadata": {},
     "output_type": "execute_result"
    }
   ],
   "source": [
    "list(zip(*[text[i:] for i in range(3)]))"
   ]
  }
 ],
 "metadata": {
  "kernelspec": {
   "display_name": "Python 3 (ipykernel)",
   "language": "python",
   "name": "python3"
  },
  "language_info": {
   "codemirror_mode": {
    "name": "ipython",
    "version": 3
   },
   "file_extension": ".py",
   "mimetype": "text/x-python",
   "name": "python",
   "nbconvert_exporter": "python",
   "pygments_lexer": "ipython3",
   "version": "3.9.12"
  }
 },
 "nbformat": 4,
 "nbformat_minor": 5
}

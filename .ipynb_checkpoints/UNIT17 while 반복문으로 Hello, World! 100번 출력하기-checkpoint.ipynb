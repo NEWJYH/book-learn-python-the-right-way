{
 "cells": [
  {
   "cell_type": "markdown",
   "id": "30b8d564",
   "metadata": {},
   "source": [
    "## 17.1 while 반복문 사용하기"
   ]
  },
  {
   "cell_type": "markdown",
   "id": "fb654bda",
   "metadata": {},
   "source": [
    "### 17.1.1 초깃값을 1부터 시작하기 "
   ]
  },
  {
   "cell_type": "markdown",
   "id": "d390d053",
   "metadata": {},
   "source": [
    "### 17.1.2 초깃값을 감소시키기 "
   ]
  },
  {
   "cell_type": "markdown",
   "id": "3a6cda38",
   "metadata": {},
   "source": [
    "### 17.1.3 입력한 횟수대로 반복하기"
   ]
  },
  {
   "cell_type": "markdown",
   "id": "56c0e0b1",
   "metadata": {},
   "source": [
    "---"
   ]
  },
  {
   "cell_type": "markdown",
   "id": "a8caefaa",
   "metadata": {},
   "source": [
    "## 17.2 반복 횟수가 정해지지 않은 경우"
   ]
  },
  {
   "cell_type": "markdown",
   "id": "12cb97e7",
   "metadata": {},
   "source": [
    "---"
   ]
  },
  {
   "cell_type": "markdown",
   "id": "7d5961ae",
   "metadata": {},
   "source": [
    "## 17.3 while 반복문으로 무한 루프 만들기"
   ]
  }
 ],
 "metadata": {
  "kernelspec": {
   "display_name": "Python 3 (ipykernel)",
   "language": "python",
   "name": "python3"
  },
  "language_info": {
   "codemirror_mode": {
    "name": "ipython",
    "version": 3
   },
   "file_extension": ".py",
   "mimetype": "text/x-python",
   "name": "python",
   "nbconvert_exporter": "python",
   "pygments_lexer": "ipython3",
   "version": "3.9.12"
  }
 },
 "nbformat": 4,
 "nbformat_minor": 5
}

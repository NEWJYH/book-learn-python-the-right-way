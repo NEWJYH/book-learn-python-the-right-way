{
 "cells": [
  {
   "cell_type": "markdown",
   "id": "6b6c0d63",
   "metadata": {},
   "source": [
    "## 38.1 try except로 사용하기"
   ]
  },
  {
   "cell_type": "code",
   "execution_count": 6,
   "id": "95fd194d",
   "metadata": {},
   "outputs": [
    {
     "name": "stdout",
     "output_type": "stream",
     "text": [
      "나눌 숫자를 입력하세요 : 0\n",
      "예외발생\n",
      "예외내용 : division by zero\n"
     ]
    }
   ],
   "source": [
    "try:\n",
    "    x = int(input('나눌 숫자를 입력하세요 : '))\n",
    "    y = 10 / x\n",
    "    print(y)\n",
    "except Exception as e: # 예외가 발생했을 때 실행됨\n",
    "    print(\"예외발생\")\n",
    "    print('예외내용 :',e)"
   ]
  },
  {
   "cell_type": "markdown",
   "id": "03dd0d38",
   "metadata": {},
   "source": [
    "### 38.1.1 특정 예외만 처리하기"
   ]
  },
  {
   "cell_type": "code",
   "execution_count": 10,
   "id": "8ab9b23c",
   "metadata": {},
   "outputs": [
    {
     "name": "stdout",
     "output_type": "stream",
     "text": [
      "인덱스와 나눌 숫자를 입력하세요 : 0\n",
      "잘못된 입력입니다.\n"
     ]
    }
   ],
   "source": [
    "y = [10, 20, 30]\n",
    "try:\n",
    "    index, x = map(int, input('인덱스와 나눌 숫자를 입력하세요 : ').split())\n",
    "    print(y[index]/x)\n",
    "    \n",
    "except ValueError:\n",
    "    print('잘못된 입력입니다.')\n",
    "except ZeroDivisionError: \n",
    "    print('숫자를 0으로 나눌 수 없습니다.')\n",
    "except IndexError:\n",
    "    print('잘못된 인덱스입니다.')"
   ]
  },
  {
   "cell_type": "markdown",
   "id": "a4c36032",
   "metadata": {},
   "source": [
    "### 38.1.2 예외의 에러 메시지 받아오기"
   ]
  },
  {
   "cell_type": "code",
   "execution_count": 12,
   "id": "699a094a",
   "metadata": {},
   "outputs": [
    {
     "name": "stdout",
     "output_type": "stream",
     "text": [
      "인덱스와 나눌 숫자를 입력하세요 : 0\n",
      "not enough values to unpack (expected 2, got 1)\n"
     ]
    }
   ],
   "source": [
    "y = [10, 20, 30]\n",
    "try:\n",
    "    index, x = map(int, input('인덱스와 나눌 숫자를 입력하세요 : ').split())\n",
    "    print(y[index]/x)\n",
    "    \n",
    "except Exception as e:\n",
    "    print(e)\n",
    "except ValueError as e :\n",
    "    print('잘못된 입력입니다.', e)\n",
    "except ZeroDivisionError as e: \n",
    "    print('숫자를 0으로 나눌 수 없습니다.', e)\n",
    "except IndexError as e:\n",
    "    print('잘못된 인덱스입니다.', e)\n",
    "    "
   ]
  },
  {
   "cell_type": "markdown",
   "id": "75928da6",
   "metadata": {},
   "source": [
    "#### 파이썬 예외 계층\n",
    "#### 예외도 클래스 상속으로 구현 \n",
    "#### 새로운 예외를 만들 때는 Exception을 상속받아서 구현\n",
    "#### https://docs.python.org/3/library/exceptions.html"
   ]
  },
  {
   "cell_type": "code",
   "execution_count": 18,
   "id": "4cabee43",
   "metadata": {},
   "outputs": [
    {
     "data": {
      "text/plain": [
       "[TypeError,\n",
       " StopAsyncIteration,\n",
       " StopIteration,\n",
       " ImportError,\n",
       " OSError,\n",
       " EOFError,\n",
       " RuntimeError,\n",
       " NameError,\n",
       " AttributeError,\n",
       " SyntaxError,\n",
       " LookupError,\n",
       " ValueError,\n",
       " AssertionError,\n",
       " ArithmeticError,\n",
       " SystemError,\n",
       " ReferenceError,\n",
       " MemoryError,\n",
       " BufferError,\n",
       " Warning,\n",
       " locale.Error,\n",
       " warnings._OptionError,\n",
       " re.error,\n",
       " sre_parse.Verbose,\n",
       " runpy._Error,\n",
       " subprocess.SubprocessError,\n",
       " socket._GiveupOnSendfile,\n",
       " zlib.error,\n",
       " _lzma.LZMAError,\n",
       " shutil.RegistryError,\n",
       " shutil._GiveupOnFastCopy,\n",
       " zmq.error.ZMQBaseError,\n",
       " copy.Error,\n",
       " struct.error,\n",
       " _pickle.PickleError,\n",
       " pickle._Stop,\n",
       " tokenize.TokenError,\n",
       " tokenize.StopTokenizing,\n",
       " inspect.ClassFoundException,\n",
       " inspect.EndOfBlock,\n",
       " traitlets.traitlets.TraitError,\n",
       " argparse.ArgumentError,\n",
       " argparse.ArgumentTypeError,\n",
       " traitlets.config.loader.ConfigError,\n",
       " traitlets.config.configurable.ConfigurableError,\n",
       " traitlets.config.application.ApplicationError,\n",
       " jupyter_client.localinterfaces.NoIPAddresses,\n",
       " concurrent.futures._base.Error,\n",
       " binascii.Incomplete,\n",
       " asyncio.exceptions.TimeoutError,\n",
       " asyncio.exceptions.InvalidStateError,\n",
       " asyncio.exceptions.LimitOverrunError,\n",
       " asyncio.queues.QueueEmpty,\n",
       " asyncio.queues.QueueFull,\n",
       " jupyter_client.channels.InvalidPortNumber,\n",
       " _queue.Empty,\n",
       " queue.Full,\n",
       " jupyter_client.multikernelmanager.DuplicateKernelError,\n",
       " tornado.util.TimeoutError,\n",
       " _ctypes.COMError,\n",
       " ctypes.ArgumentError,\n",
       " tornado.concurrent.ReturnValueIgnoredError,\n",
       " tornado.gen.KeyReuseError,\n",
       " tornado.gen.UnknownKeyError,\n",
       " tornado.gen.LeakedCallbackError,\n",
       " tornado.gen.BadYieldError,\n",
       " tornado.gen.ReturnValueIgnoredError,\n",
       " tornado.gen.Return,\n",
       " pydoc.ErrorDuringImport,\n",
       " executing.executing.NotOneValueFound,\n",
       " pure_eval.utils.CannotEval,\n",
       " pygments.util.OptionError,\n",
       " bdb.BdbQuit,\n",
       " pdb.Restart,\n",
       " IPython.utils.process.FindCmdError,\n",
       " IPython.utils.path.HomeDirError,\n",
       " IPython.core.profiledir.ProfileDirError,\n",
       " IPython.core.error.IPythonCoreError,\n",
       " IPython.core.error.InputRejected,\n",
       " getopt.GetoptError,\n",
       " pygments.filters.ErrorToken,\n",
       " IPython.core.prefilter.PrefilterError,\n",
       " IPython.core.alias.AliasError,\n",
       " sqlite3.Error,\n",
       " sqlite3.Warning,\n",
       " IPython.core.interactiveshell.SpaceInInput,\n",
       " xml.dom.DOMException,\n",
       " prompt_toolkit.validation.ValidationError,\n",
       " prompt_toolkit.buffer.EditReadOnlyBuffer,\n",
       " prompt_toolkit.buffer._Retry,\n",
       " prompt_toolkit.layout.layout.InvalidLayoutError,\n",
       " prompt_toolkit.renderer.HeightIsUnknownError,\n",
       " parso.parser.ParserSyntaxError,\n",
       " parso.parser.InternalParseError,\n",
       " parso.python.diff._PositionUpdatingFinished,\n",
       " jedi.inference.helpers.SimpleGetItemNotFound,\n",
       " jedi.inference.utils.UncaughtAttributeError,\n",
       " jedi.inference.base_value.HasNoContext,\n",
       " jedi.inference.arguments.ParamIssue,\n",
       " zipfile.BadZipFile,\n",
       " zipfile.LargeZipFile,\n",
       " jedi.api.exceptions._JediError,\n",
       " jedi.api.helpers.OnErrorLeaf,\n",
       " jedi.api.environment.InvalidPythonEnvironment,\n",
       " email.errors.MessageError,\n",
       " uu.Error,\n",
       " http.client.HTTPException,\n",
       " IPython.core.magics.code.InteractivelyDefined,\n",
       " IPython.terminal.embed.KillEmbedded,\n",
       " psutil.Error,\n",
       " _psutil_windows.Error,\n",
       " _psutil_windows.TimeoutExpired,\n",
       " _psutil_windows.TimeoutAbandoned,\n",
       " tornado.queues.QueueEmpty,\n",
       " tornado.queues.QueueFull,\n",
       " distutils.errors.DistutilsError,\n",
       " distutils.errors.CCompilerError,\n",
       " configparser.Error,\n",
       " xml.parsers.expat.ExpatError,\n",
       " pywintypes.error,\n",
       " pywintypes.com_error,\n",
       " pythoncom.internal_error,\n",
       " pkg_resources._vendor.pyparsing.ParseBaseException,\n",
       " pkg_resources._vendor.pyparsing.RecursiveGrammarException,\n",
       " pkg_resources.ResolutionError,\n",
       " setuptools._vendor.pyparsing.ParseBaseException,\n",
       " setuptools._vendor.pyparsing.RecursiveGrammarException,\n",
       " _csv.Error,\n",
       " setuptools._vendor.nspektr.Unresolved,\n",
       " unittest.case.SkipTest,\n",
       " unittest.case._ShouldStop,\n",
       " unittest.case._UnexpectedSuccess,\n",
       " xmlrpc.client.Error,\n",
       " _pydevd_bundle.pydevd_resolver.UnableToResolveVariableException,\n",
       " _pydev_bundle.pydev_monkey.InvalidTypeInArgsException]"
      ]
     },
     "execution_count": 18,
     "metadata": {},
     "output_type": "execute_result"
    }
   ],
   "source": [
    "Exception.__subclasses__()"
   ]
  },
  {
   "cell_type": "markdown",
   "id": "905b6ecd",
   "metadata": {},
   "source": [
    "```\n",
    "BaseException\n",
    " +-- SystemExit\n",
    " +-- KeyboardInterrupt\n",
    " +-- GeneratorExit\n",
    " +-- Exception\n",
    "      +-- StopIteration\n",
    "      +-- StopAsyncIteration\n",
    "      +-- ArithmeticError\n",
    "      |    +-- FloatingPointError\n",
    "      |    +-- OverflowError\n",
    "      |    +-- ZeroDivisionError\n",
    "      +-- AssertionError\n",
    "      +-- AttributeError\n",
    "      +-- BufferError\n",
    "      +-- EOFError\n",
    "      +-- ImportError\n",
    "      |    +-- ModuleNotFoundError\n",
    "      +-- LookupError\n",
    "      |    +-- IndexError\n",
    "      |    +-- KeyError\n",
    "      +-- MemoryError\n",
    "      +-- NameError\n",
    "      |    +-- UnboundLocalError\n",
    "      +-- OSError\n",
    "      |    +-- BlockingIOError\n",
    "      |    +-- ChildProcessError\n",
    "      |    +-- ConnectionError\n",
    "      |    |    +-- BrokenPipeError\n",
    "      |    |    +-- ConnectionAbortedError\n",
    "      |    |    +-- ConnectionRefusedError\n",
    "      |    |    +-- ConnectionResetError\n",
    "      |    +-- FileExistsError\n",
    "      |    +-- FileNotFoundError\n",
    "      |    +-- InterruptedError\n",
    "      |    +-- IsADirectoryError\n",
    "      |    +-- NotADirectoryError\n",
    "      |    +-- PermissionError\n",
    "      |    +-- ProcessLookupError\n",
    "      |    +-- TimeoutError\n",
    "      +-- ReferenceError\n",
    "      +-- RuntimeError\n",
    "      |    +-- NotImplementedError\n",
    "      |    +-- RecursionError\n",
    "      +-- SyntaxError\n",
    "      |    +-- IndentationError\n",
    "      |         +-- TabError\n",
    "      +-- SystemError\n",
    "      +-- TypeError\n",
    "      +-- ValueError\n",
    "      |    +-- UnicodeError\n",
    "      |         +-- UnicodeDecodeError\n",
    "      |         +-- UnicodeEncodeError\n",
    "      |         +-- UnicodeTranslateError\n",
    "      +-- Warning\n",
    "           +-- DeprecationWarning\n",
    "           +-- PendingDeprecationWarning\n",
    "           +-- RuntimeWarning\n",
    "           +-- SyntaxWarning\n",
    "           +-- UserWarning\n",
    "           +-- FutureWarning\n",
    "           +-- ImportWarning\n",
    "           +-- UnicodeWarning\n",
    "           +-- BytesWarning\n",
    "           +-- EncodingWarning\n",
    "           +-- ResourceWarning\n",
    "```"
   ]
  },
  {
   "cell_type": "markdown",
   "id": "ce111844",
   "metadata": {},
   "source": [
    "---"
   ]
  },
  {
   "cell_type": "markdown",
   "id": "94b279c6",
   "metadata": {},
   "source": [
    "## 38.2 else와 finally 사용하기"
   ]
  },
  {
   "cell_type": "code",
   "execution_count": 23,
   "id": "fc40c040",
   "metadata": {},
   "outputs": [
    {
     "name": "stdout",
     "output_type": "stream",
     "text": [
      "나눌 숫자를 입력하세요\n",
      "5\n",
      "2.0\n"
     ]
    }
   ],
   "source": [
    "try:\n",
    "    x = int(input('나눌 숫자를 입력하세요\\n'))\n",
    "    y = 10 / x\n",
    "except Exception as e:\n",
    "    print('Error:', e)\n",
    "else: # try의 코드에서 예외가 발생하지 않았을 때 실행\n",
    "    print(y)"
   ]
  },
  {
   "cell_type": "markdown",
   "id": "b6bd8ae7",
   "metadata": {},
   "source": [
    "### 38.2.1 예외와는 상관없이 항상 코드 실행하기"
   ]
  },
  {
   "cell_type": "code",
   "execution_count": 25,
   "id": "543094eb",
   "metadata": {},
   "outputs": [
    {
     "name": "stdout",
     "output_type": "stream",
     "text": [
      "나눌 숫자를 입력하세요\n",
      "2\n",
      "5.0\n",
      "코드 실행이 끝났습니다.\n"
     ]
    }
   ],
   "source": [
    "try:\n",
    "    x = int(input('나눌 숫자를 입력하세요\\n'))\n",
    "    y = 10 / x\n",
    "except Exception as e:\n",
    "    print('Error:', e)\n",
    "else: # try의 코드에서 예외가 발생하지 않았을 때 실행\n",
    "    print(y)\n",
    "\n",
    "finally: # 예외 발생 여부와 상관없이 항상 실행됨\n",
    "    print('코드 실행이 끝났습니다.')"
   ]
  },
  {
   "cell_type": "markdown",
   "id": "9e899abe",
   "metadata": {},
   "source": [
    "---"
   ]
  },
  {
   "cell_type": "markdown",
   "id": "e84d0f04",
   "metadata": {},
   "source": [
    "## 38.3 예외 발생시키기"
   ]
  },
  {
   "cell_type": "code",
   "execution_count": 31,
   "id": "d60b98b2",
   "metadata": {},
   "outputs": [
    {
     "name": "stdout",
     "output_type": "stream",
     "text": [
      "3의 배수를 입력해라3\n",
      "입력 숫자 : 3\n",
      "프로그램 종료\n"
     ]
    }
   ],
   "source": [
    "try:\n",
    "    x = int(input('3의 배수를 입력해라'))\n",
    "    if x%3!= 0 or x == 0:\n",
    "        raise Exception('3의 배수가 아닙니다.')\n",
    "except Exception as e:\n",
    "    print('예외가 발생했습니다.', e)\n",
    "else:\n",
    "    print('입력 숫자 :', x)\n",
    "finally:\n",
    "    print('프로그램 종료')"
   ]
  },
  {
   "cell_type": "markdown",
   "id": "ba5bd2ec",
   "metadata": {},
   "source": [
    "### 38.3.1 raise의 처리 과정"
   ]
  },
  {
   "cell_type": "code",
   "execution_count": 33,
   "id": "bec88cce",
   "metadata": {},
   "outputs": [
    {
     "name": "stdout",
     "output_type": "stream",
     "text": [
      "3의 배수를 입력하세요 : 2\n",
      "예외가 발생했습니다. 3의 배수가 아닙니다.\n"
     ]
    }
   ],
   "source": [
    "def three_multiple():\n",
    "    x = int(input('3의 배수를 입력하세요 : '))\n",
    "    if x%3!=0:\n",
    "        raise Exception('3의 배수가 아닙니다.')\n",
    "    print(x)\n",
    "    \n",
    "try:\n",
    "    three_multiple()\n",
    "except Exception as e:\n",
    "    print('예외가 발생했습니다.', e)"
   ]
  },
  {
   "cell_type": "markdown",
   "id": "3adc3f98",
   "metadata": {},
   "source": [
    "### 38.3.2 현재 예외를 다시 발생시키기"
   ]
  },
  {
   "cell_type": "code",
   "execution_count": 37,
   "id": "ad349e1e",
   "metadata": {},
   "outputs": [
    {
     "name": "stdout",
     "output_type": "stream",
     "text": [
      "3의 배수를 입력하세요 : \n",
      "2\n",
      "three_multiple 함수에서 예외가 발생하였습니다.\n",
      "3의 배수가 아닙니다.\n",
      "스크립트 파일에서 예외가 발생했습니다.\n",
      "3의 배수가 아닙니다.\n"
     ]
    }
   ],
   "source": [
    "def three_multiple():\n",
    "    try:\n",
    "        x = int(input('3의 배수를 입력하세요 : \\n'))\n",
    "        if x % 3 != 0:\n",
    "            raise Exception('3의 배수가 아닙니다.')\n",
    "        print(x)\n",
    "    except Exception as e:\n",
    "        print('three_multiple 함수에서 예외가 발생하였습니다.\\n',e,sep='')\n",
    "        raise # raise로 현재 예외를 닷 ㅣ발생시켜서 상위 코드 블록으로 넘김\n",
    "        \n",
    "try:\n",
    "    three_multiple()\n",
    "except Exception as e: # 하위 코드 블록에서 예외가 발생해도 실행됨\n",
    "    print('스크립트 파일에서 예외가 발생했습니다.\\n', e,sep='')"
   ]
  },
  {
   "cell_type": "code",
   "execution_count": 38,
   "id": "0b8df7dc",
   "metadata": {},
   "outputs": [
    {
     "name": "stdout",
     "output_type": "stream",
     "text": [
      "3의 배수를 입력하세요 : \n",
      "5\n",
      "three_multiple 함수에서 예외가 발생하였습니다.\n",
      "3의 배수가 아닙니다.\n",
      "스크립트 파일에서 예외가 발생했습니다.\n",
      "Three_multiple 함수에서 예외가 발생했습니다.\n"
     ]
    }
   ],
   "source": [
    "def three_multiple():\n",
    "    try:\n",
    "        x = int(input('3의 배수를 입력하세요 : \\n'))\n",
    "        if x % 3 != 0:\n",
    "            raise Exception('3의 배수가 아닙니다.')\n",
    "        print(x)\n",
    "    except Exception as e:\n",
    "        print('three_multiple 함수에서 예외가 발생하였습니다.\\n',e,sep='')\n",
    "        raise RuntimeWarning('Three_multiple 함수에서 예외가 발생했습니다.')\n",
    "        \n",
    "try:\n",
    "    three_multiple()\n",
    "except Exception as e: # 하위 코드 블록에서 예외가 발생해도 실행됨\n",
    "    print('스크립트 파일에서 예외가 발생했습니다.\\n', e,sep='')\n"
   ]
  },
  {
   "cell_type": "markdown",
   "id": "c2729f7f",
   "metadata": {},
   "source": [
    "#### assert로 예외 발생시키기\n",
    "#### assert 조건식\n",
    "#### assert 조건식, 에러메시지"
   ]
  },
  {
   "cell_type": "markdown",
   "id": "a9638ec4",
   "metadata": {},
   "source": [
    "#### assert 디버그 모드에서만 실행됨"
   ]
  },
  {
   "cell_type": "code",
   "execution_count": 40,
   "id": "5faa35da",
   "metadata": {},
   "outputs": [
    {
     "name": "stdout",
     "output_type": "stream",
     "text": [
      "3의 배수를 입력하세요 : \n",
      "2\n"
     ]
    },
    {
     "ename": "AssertionError",
     "evalue": "3의 배수가 아닙니다.",
     "output_type": "error",
     "traceback": [
      "\u001b[1;31m---------------------------------------------------------------------------\u001b[0m",
      "\u001b[1;31mAssertionError\u001b[0m                            Traceback (most recent call last)",
      "Input \u001b[1;32mIn [40]\u001b[0m, in \u001b[0;36m<cell line: 2>\u001b[1;34m()\u001b[0m\n\u001b[0;32m      1\u001b[0m x \u001b[38;5;241m=\u001b[39m \u001b[38;5;28mint\u001b[39m(\u001b[38;5;28minput\u001b[39m(\u001b[38;5;124m'\u001b[39m\u001b[38;5;124m3의 배수를 입력하세요 : \u001b[39m\u001b[38;5;130;01m\\n\u001b[39;00m\u001b[38;5;124m'\u001b[39m))\n\u001b[1;32m----> 2\u001b[0m \u001b[38;5;28;01massert\u001b[39;00m x\u001b[38;5;241m%\u001b[39m\u001b[38;5;241m3\u001b[39m\u001b[38;5;241m==\u001b[39m\u001b[38;5;241m0\u001b[39m, \u001b[38;5;124m'\u001b[39m\u001b[38;5;124m3의 배수가 아닙니다.\u001b[39m\u001b[38;5;124m'\u001b[39m\n\u001b[0;32m      3\u001b[0m \u001b[38;5;28mprint\u001b[39m(x)\n",
      "\u001b[1;31mAssertionError\u001b[0m: 3의 배수가 아닙니다."
     ]
    }
   ],
   "source": [
    "x = int(input('3의 배수를 입력하세요 : \\n'))\n",
    "assert x%3==0, '3의 배수가 아닙니다.'\n",
    "print(x)"
   ]
  },
  {
   "cell_type": "markdown",
   "id": "8b6d0253",
   "metadata": {},
   "source": [
    "---"
   ]
  },
  {
   "cell_type": "markdown",
   "id": "8618fac0",
   "metadata": {},
   "source": [
    "## 38.4 예외만들기"
   ]
  },
  {
   "cell_type": "markdown",
   "id": "0a83082f",
   "metadata": {},
   "source": [
    "#### 사용자 정의 예외 만들기\n",
    "\n",
    "```\n",
    "class 예외이름(Exception):\n",
    "    def __init__(self):\n",
    "        super().__init__('에러메시지')\n",
    "```"
   ]
  },
  {
   "cell_type": "code",
   "execution_count": 42,
   "id": "43f39fd7",
   "metadata": {},
   "outputs": [
    {
     "name": "stdout",
     "output_type": "stream",
     "text": [
      "3의 배수를 입력하세요 : \n",
      "2\n",
      "three_multiple 함수에서 예외가 발생하였습니다.\n",
      "3의 배수가 아닙니다.\n"
     ]
    }
   ],
   "source": [
    "class NotThreeMultipleError(Exception):\n",
    "    def __init__(self):\n",
    "        super().__init__('3의 배수가 아닙니다.')\n",
    "        \n",
    "\n",
    "def three_multiple():\n",
    "    try:\n",
    "        x = int(input('3의 배수를 입력하세요 : \\n'))ㄴ\n",
    "        if x % 3 != 0:\n",
    "            raise NotThreeMultipleError\n",
    "        print(x)\n",
    "    except Exception as e:\n",
    "        print('three_multiple 함수에서 예외가 발생하였습니다.\\n',e,sep='')\n",
    "        \n",
    "three_multiple()"
   ]
  }
 ],
 "metadata": {
  "kernelspec": {
   "display_name": "Python 3 (ipykernel)",
   "language": "python",
   "name": "python3"
  },
  "language_info": {
   "codemirror_mode": {
    "name": "ipython",
    "version": 3
   },
   "file_extension": ".py",
   "mimetype": "text/x-python",
   "name": "python",
   "nbconvert_exporter": "python",
   "pygments_lexer": "ipython3",
   "version": "3.9.12"
  }
 },
 "nbformat": 4,
 "nbformat_minor": 5
}

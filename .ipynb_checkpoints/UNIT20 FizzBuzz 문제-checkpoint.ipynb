{
 "cells": [
  {
   "cell_type": "markdown",
   "id": "f55a7c83",
   "metadata": {},
   "source": [
    "## 20.1 1부터 100까지 숫자 출력하기"
   ]
  },
  {
   "cell_type": "markdown",
   "id": "6e0c9036",
   "metadata": {},
   "source": [
    "---"
   ]
  },
  {
   "cell_type": "markdown",
   "id": "18d0c1f9",
   "metadata": {},
   "source": [
    "## 20.2 3의 배수일 때와 5의 배수일 때 처리하기"
   ]
  },
  {
   "cell_type": "markdown",
   "id": "f72b8f1d",
   "metadata": {},
   "source": [
    "---"
   ]
  },
  {
   "cell_type": "markdown",
   "id": "c4e55fc2",
   "metadata": {},
   "source": [
    "## 20.3 3과 5의 공배수 처리하기"
   ]
  },
  {
   "cell_type": "markdown",
   "id": "66f79794",
   "metadata": {},
   "source": [
    "---"
   ]
  },
  {
   "cell_type": "markdown",
   "id": "26a2a889",
   "metadata": {},
   "source": [
    "## 20.4 논리 연산자를 사용하지 않고 3과 5의 공배수 처리하기 "
   ]
  },
  {
   "cell_type": "markdown",
   "id": "55b4f460",
   "metadata": {},
   "source": [
    "---"
   ]
  },
  {
   "cell_type": "markdown",
   "id": "d4724e16",
   "metadata": {},
   "source": [
    "## 20.5 코드 단축하기"
   ]
  }
 ],
 "metadata": {
  "kernelspec": {
   "display_name": "Python 3 (ipykernel)",
   "language": "python",
   "name": "python3"
  },
  "language_info": {
   "codemirror_mode": {
    "name": "ipython",
    "version": 3
   },
   "file_extension": ".py",
   "mimetype": "text/x-python",
   "name": "python",
   "nbconvert_exporter": "python",
   "pygments_lexer": "ipython3",
   "version": "3.9.12"
  }
 },
 "nbformat": 4,
 "nbformat_minor": 5
}

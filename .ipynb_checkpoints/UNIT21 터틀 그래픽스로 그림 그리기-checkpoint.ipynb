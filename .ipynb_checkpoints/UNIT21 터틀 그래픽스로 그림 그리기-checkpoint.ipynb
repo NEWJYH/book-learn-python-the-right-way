{
 "cells": [
  {
   "cell_type": "markdown",
   "id": "8b7fdbce",
   "metadata": {},
   "source": [
    "## 21.1 사각형 그리기"
   ]
  },
  {
   "cell_type": "code",
   "execution_count": 1,
   "id": "9849553a",
   "metadata": {},
   "outputs": [],
   "source": [
    "import turtle as t\n",
    "t.shape('turtle')\n",
    "# 거북이 100 픽셀 만큼 앞으로 \n",
    "t.forward(100)\n",
    "# 거북이 방향 오른쪽 90도 \n",
    "t.right(90)\n",
    "# 거북이 100 픽셀 만큼 앞으로 \n",
    "t.forward(100)\n",
    "# 거북이 방향 오른쪽 90도 \n",
    "t.right(90)\n",
    "# 거북이 100 픽셀 만큼 앞으로 \n",
    "t.forward(100)\n",
    "# 거북이 방향 오른쪽 90도 \n",
    "t.right(90)\n",
    "# 거북이 100 픽셀 만큼 앞으로 \n",
    "t.forward(100)"
   ]
  },
  {
   "cell_type": "markdown",
   "id": "da66e2bd",
   "metadata": {},
   "source": [
    "---"
   ]
  },
  {
   "cell_type": "markdown",
   "id": "c602f6e0",
   "metadata": {},
   "source": [
    "## 21.2 다각형 그리기"
   ]
  },
  {
   "cell_type": "code",
   "execution_count": 1,
   "id": "73c10348",
   "metadata": {},
   "outputs": [
    {
     "name": "stdout",
     "output_type": "stream",
     "text": [
      "4 5 66\n"
     ]
    }
   ],
   "source": [
    "import turtle as t\n",
    "\n",
    "t.shape('turtle')\n",
    "angle =int(input('4 5 6'))\n",
    "\n",
    "for i in range(angle):\n",
    "    t.forward(100)\n",
    "    t.right(360/angle)"
   ]
  },
  {
   "cell_type": "markdown",
   "id": "a2b5a945",
   "metadata": {},
   "source": [
    "---"
   ]
  },
  {
   "cell_type": "markdown",
   "id": "51711022",
   "metadata": {},
   "source": [
    "## 21.3 복잡한 도형 그리기"
   ]
  },
  {
   "cell_type": "code",
   "execution_count": 1,
   "id": "a50271cf",
   "metadata": {},
   "outputs": [],
   "source": [
    "import turtle as t\n",
    "t.shape('turtle')\n",
    "#반지름이 120픽셀인 원 그리기\n",
    "t.circle(120)"
   ]
  },
  {
   "cell_type": "markdown",
   "id": "241c2090",
   "metadata": {},
   "source": [
    "### 21.3.1 원을 반복해서 그리기"
   ]
  },
  {
   "cell_type": "code",
   "execution_count": 1,
   "id": "4ce16238",
   "metadata": {},
   "outputs": [],
   "source": [
    "import turtle as t\n",
    "# 원의 수\n",
    "n = 360\n",
    "\n",
    "t.shape('turtle')\n",
    "\n",
    "t.speed('fastest')\n",
    "\n",
    "for i in range(n):\n",
    "    t.circle(120)\n",
    "    t.right(360/n)"
   ]
  },
  {
   "cell_type": "markdown",
   "id": "203502da",
   "metadata": {},
   "source": [
    "### 21.3.2 선으로 복잡한 무늬 그리기"
   ]
  },
  {
   "cell_type": "code",
   "execution_count": 1,
   "id": "087030fb",
   "metadata": {},
   "outputs": [],
   "source": [
    "import turtle as t\n",
    "\n",
    "t.shape('turtle')\n",
    "t.speed('fastest')\n",
    "\n",
    "for i in range(300):\n",
    "    t.forward(i)\n",
    "    t.right(91)"
   ]
  }
 ],
 "metadata": {
  "kernelspec": {
   "display_name": "Python 3 (ipykernel)",
   "language": "python",
   "name": "python3"
  },
  "language_info": {
   "codemirror_mode": {
    "name": "ipython",
    "version": 3
   },
   "file_extension": ".py",
   "mimetype": "text/x-python",
   "name": "python",
   "nbconvert_exporter": "python",
   "pygments_lexer": "ipython3",
   "version": "3.9.12"
  }
 },
 "nbformat": 4,
 "nbformat_minor": 5
}

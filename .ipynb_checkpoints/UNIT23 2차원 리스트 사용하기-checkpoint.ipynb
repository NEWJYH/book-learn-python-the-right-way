{
 "cells": [
  {
   "cell_type": "markdown",
   "id": "75b47197",
   "metadata": {},
   "source": [
    "## 23.1 2차원 리스트를 만들고 요소에 접근하기"
   ]
  },
  {
   "cell_type": "code",
   "execution_count": 1,
   "id": "ce97f253",
   "metadata": {},
   "outputs": [
    {
     "data": {
      "text/plain": [
       "[[10, 20], [30, 40], [50, 60]]"
      ]
     },
     "execution_count": 1,
     "metadata": {},
     "output_type": "execute_result"
    }
   ],
   "source": [
    "a = [[10,20],[30,40],[50,60]]\n",
    "a"
   ]
  },
  {
   "cell_type": "code",
   "execution_count": 2,
   "id": "485842b5",
   "metadata": {},
   "outputs": [
    {
     "data": {
      "text/plain": [
       "[[10, 20], [30, 40], [50, 60]]"
      ]
     },
     "execution_count": 2,
     "metadata": {},
     "output_type": "execute_result"
    }
   ],
   "source": [
    "a = [[10,20],\n",
    "     [30,40],\n",
    "     [50,60]]\n",
    "a"
   ]
  },
  {
   "cell_type": "markdown",
   "id": "3fa54273",
   "metadata": {},
   "source": [
    "### 23.1.1 2차원 리스트의 요소에 접근하기"
   ]
  },
  {
   "cell_type": "code",
   "execution_count": 5,
   "id": "ad47ef59",
   "metadata": {},
   "outputs": [
    {
     "name": "stdout",
     "output_type": "stream",
     "text": [
      "10\n",
      "20\n"
     ]
    }
   ],
   "source": [
    "a = [[10,20],\n",
    "     [30,40],\n",
    "     [50,60]]\n",
    "# a[0]세로[0]가로\n",
    "print(a[0][0])\n",
    "print(a[0][1])"
   ]
  },
  {
   "cell_type": "markdown",
   "id": "7a617a2d",
   "metadata": {},
   "source": [
    "---"
   ]
  },
  {
   "cell_type": "markdown",
   "id": "d945feea",
   "metadata": {},
   "source": [
    "## 23.2 반복문으로 2차원 리스트의 요소를 모두 출력하기"
   ]
  },
  {
   "cell_type": "markdown",
   "id": "7ca81c7e",
   "metadata": {},
   "source": [
    "### 23.2.1 for 반복문을 한 번만 사용하기"
   ]
  },
  {
   "cell_type": "code",
   "execution_count": 8,
   "id": "ef7dba48",
   "metadata": {},
   "outputs": [
    {
     "name": "stdout",
     "output_type": "stream",
     "text": [
      "10 20\n",
      "30 40\n",
      "50 60\n"
     ]
    }
   ],
   "source": [
    "a = [[10,20],\n",
    "     [30,40],\n",
    "     [50,60]]\n",
    "     \n",
    "for x, y in a:\n",
    "    print(x,y)\n"
   ]
  },
  {
   "cell_type": "markdown",
   "id": "619eccd5",
   "metadata": {},
   "source": [
    "### 23.2.2 for 반복문을 두 번 사용하기"
   ]
  },
  {
   "cell_type": "code",
   "execution_count": 12,
   "id": "68537056",
   "metadata": {},
   "outputs": [
    {
     "name": "stdout",
     "output_type": "stream",
     "text": [
      "10 20 \n",
      "30 40 \n",
      "50 60 \n"
     ]
    }
   ],
   "source": [
    "a = [[10,20],\n",
    "     [30,40],\n",
    "     [50,60]]\n",
    "\n",
    "for y in range(len(a)):\n",
    "    for x in range(len(a[y])):\n",
    "        print(a[y][x], end=\" \")\n",
    "    print()"
   ]
  },
  {
   "cell_type": "markdown",
   "id": "0dc1ac4b",
   "metadata": {},
   "source": [
    "### 23.2.3 for와 range 사용하기"
   ]
  },
  {
   "cell_type": "markdown",
   "id": "4241fcba",
   "metadata": {},
   "source": [
    "### 23.2.4 while 반복문을 한 번 사용하기"
   ]
  },
  {
   "cell_type": "markdown",
   "id": "29040cd5",
   "metadata": {},
   "source": [
    "### 23.2.5 while 반복문을 두 번 사용하기"
   ]
  },
  {
   "cell_type": "markdown",
   "id": "8f9c7f6e",
   "metadata": {},
   "source": [
    "---"
   ]
  },
  {
   "cell_type": "markdown",
   "id": "953ec10c",
   "metadata": {},
   "source": [
    "## 23.3 반복문으로 리스트 만들기\n"
   ]
  },
  {
   "cell_type": "markdown",
   "id": "07daab6b",
   "metadata": {},
   "source": [
    "### 23.3.1 for 반복문으로 1차원 리스트 만들기"
   ]
  },
  {
   "cell_type": "markdown",
   "id": "d961624a",
   "metadata": {},
   "source": [
    "### 23.3.2 for 반복문으로 2차원 리스트 만들기"
   ]
  },
  {
   "cell_type": "markdown",
   "id": "33c45823",
   "metadata": {},
   "source": [
    "### 23.3.3 리스트 표현식으로 2차원 리스트 만들기"
   ]
  },
  {
   "cell_type": "code",
   "execution_count": 13,
   "id": "7c401371",
   "metadata": {},
   "outputs": [
    {
     "name": "stdout",
     "output_type": "stream",
     "text": [
      "[[0, 0], [0, 0], [0, 0]]\n"
     ]
    }
   ],
   "source": [
    "a = [[0 for j in range(2)] for i in range(3)]\n",
    "print(a)"
   ]
  },
  {
   "cell_type": "markdown",
   "id": "7c0ae199",
   "metadata": {},
   "source": [
    "### 23.3.4 톱니형 리스트 만들기"
   ]
  },
  {
   "cell_type": "markdown",
   "id": "371ed26d",
   "metadata": {},
   "source": [
    "---"
   ]
  },
  {
   "cell_type": "markdown",
   "id": "cbf3caed",
   "metadata": {},
   "source": [
    "## 23.4 2차원 리스트의 할당과 복사 알아보기\n"
   ]
  },
  {
   "cell_type": "code",
   "execution_count": 14,
   "id": "e02c5abc",
   "metadata": {},
   "outputs": [
    {
     "name": "stdout",
     "output_type": "stream",
     "text": [
      "[[10, 20], [30, 40]]\n",
      "[[500, 20], [30, 40]]\n"
     ]
    }
   ],
   "source": [
    "# 참조형 변수의 경우 copy모듈을 사용하여야 함 \n",
    "import copy\n",
    "\n",
    "a = [[10,20], [30,40]]\n",
    "b = copy.deepcopy(a)\n",
    "b[0][0] = 500\n",
    "\n",
    "print(a)\n",
    "print(b)"
   ]
  }
 ],
 "metadata": {
  "kernelspec": {
   "display_name": "Python 3 (ipykernel)",
   "language": "python",
   "name": "python3"
  },
  "language_info": {
   "codemirror_mode": {
    "name": "ipython",
    "version": 3
   },
   "file_extension": ".py",
   "mimetype": "text/x-python",
   "name": "python",
   "nbconvert_exporter": "python",
   "pygments_lexer": "ipython3",
   "version": "3.9.12"
  }
 },
 "nbformat": 4,
 "nbformat_minor": 5
}

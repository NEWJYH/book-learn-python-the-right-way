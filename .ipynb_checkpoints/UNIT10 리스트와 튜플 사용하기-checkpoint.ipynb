{
 "cells": [
  {
   "cell_type": "markdown",
   "id": "3ce94860",
   "metadata": {},
   "source": [
    "## 10.1 리스트 만들기"
   ]
  },
  {
   "cell_type": "markdown",
   "id": "a192c713",
   "metadata": {},
   "source": [
    "### 10.1.1 리스트에 여러 가지 자료형 저장하기"
   ]
  },
  {
   "cell_type": "markdown",
   "id": "0373fdd8",
   "metadata": {},
   "source": [
    "### 10.1.2 빈 리스트 만들기"
   ]
  },
  {
   "cell_type": "markdown",
   "id": "a5f04450",
   "metadata": {},
   "source": [
    "### 10.1.3 range를 사용하여 리스트 만들기"
   ]
  },
  {
   "cell_type": "markdown",
   "id": "5bf66b6e",
   "metadata": {},
   "source": [
    "---"
   ]
  },
  {
   "cell_type": "markdown",
   "id": "0740b867",
   "metadata": {},
   "source": [
    "## 10.2 튜플 사용하기"
   ]
  },
  {
   "cell_type": "markdown",
   "id": "99905725",
   "metadata": {},
   "source": [
    "### 10.2.1 요소가 한 개 들어있는 튜플 만들기"
   ]
  },
  {
   "cell_type": "code",
   "execution_count": 1,
   "id": "64cadb70",
   "metadata": {},
   "outputs": [
    {
     "name": "stdout",
     "output_type": "stream",
     "text": [
      "a: <class 'int'> \n",
      "b: <class 'tuple'>\n"
     ]
    }
   ],
   "source": [
    "a = (38)\n",
    "b = (38,)\n",
    "print(\"a:\",type(a),\"\\nb:\",type(b))"
   ]
  },
  {
   "cell_type": "markdown",
   "id": "8f9f049e",
   "metadata": {},
   "source": [
    "### 10.2.2 range를 사용하여 튜플 만들기"
   ]
  },
  {
   "cell_type": "markdown",
   "id": "02609924",
   "metadata": {},
   "source": [
    "### 10.2.3 튜플을 리스트로 만들고 리스트를 튜플로 만들기"
   ]
  }
 ],
 "metadata": {
  "kernelspec": {
   "display_name": "Python 3 (ipykernel)",
   "language": "python",
   "name": "python3"
  },
  "language_info": {
   "codemirror_mode": {
    "name": "ipython",
    "version": 3
   },
   "file_extension": ".py",
   "mimetype": "text/x-python",
   "name": "python",
   "nbconvert_exporter": "python",
   "pygments_lexer": "ipython3",
   "version": "3.9.12"
  }
 },
 "nbformat": 4,
 "nbformat_minor": 5
}

{
 "cells": [
  {
   "cell_type": "markdown",
   "id": "3fdd3751",
   "metadata": {},
   "source": [
    "## 36.1 사람 클래스로 학생 클래스 만들기"
   ]
  },
  {
   "cell_type": "code",
   "execution_count": 2,
   "id": "e783cef8",
   "metadata": {},
   "outputs": [
    {
     "name": "stdout",
     "output_type": "stream",
     "text": [
      "안녕하세요\n",
      "공부하기\n"
     ]
    }
   ],
   "source": [
    "class Person:\n",
    "    def greeting(self):\n",
    "        print('안녕하세요')\n",
    "        \n",
    "class Student(Person):\n",
    "    def study(self):\n",
    "        print('공부하기')\n",
    "        \n",
    "james = Student()\n",
    "james.greeting()\n",
    "james.study()"
   ]
  },
  {
   "cell_type": "markdown",
   "id": "bf3c15b2",
   "metadata": {},
   "source": [
    "#### 상속 관계 확인하기\n",
    "#### issubclass(파생_자식클래스, 기반_부모클래스)"
   ]
  },
  {
   "cell_type": "code",
   "execution_count": 3,
   "id": "7818065b",
   "metadata": {},
   "outputs": [
    {
     "data": {
      "text/plain": [
       "True"
      ]
     },
     "execution_count": 3,
     "metadata": {},
     "output_type": "execute_result"
    }
   ],
   "source": [
    "issubclass(Student, Person)"
   ]
  },
  {
   "cell_type": "markdown",
   "id": "581fa370",
   "metadata": {},
   "source": [
    "---"
   ]
  },
  {
   "cell_type": "markdown",
   "id": "f2c1a74a",
   "metadata": {},
   "source": [
    "## 36.2 상속 관계와 포함 관계 알아보기"
   ]
  },
  {
   "cell_type": "markdown",
   "id": "cb418582",
   "metadata": {},
   "source": [
    "### 36.2.1 상속관계"
   ]
  },
  {
   "cell_type": "code",
   "execution_count": 4,
   "id": "19229362",
   "metadata": {},
   "outputs": [],
   "source": [
    "class Person:\n",
    "    def greeting(self):\n",
    "        print('안녕하세요')\n",
    "        \n",
    "class Student(Person):\n",
    "    def study(self):\n",
    "        print('공부하기')"
   ]
  },
  {
   "cell_type": "markdown",
   "id": "66d65b6a",
   "metadata": {},
   "source": [
    "### 36.2.2 포함관계"
   ]
  },
  {
   "cell_type": "code",
   "execution_count": 5,
   "id": "0fdfb752",
   "metadata": {},
   "outputs": [],
   "source": [
    "class Person:\n",
    "    def greeting(self):\n",
    "        print('안녕하세요')\n",
    "        \n",
    "class PersonList:\n",
    "    def __init__(self):\n",
    "        self.person_list= []\n",
    "        \n",
    "    def append_person(self, person):\n",
    "        self.person_list.append(person)"
   ]
  },
  {
   "cell_type": "markdown",
   "id": "c18d6731",
   "metadata": {},
   "source": [
    "---"
   ]
  },
  {
   "cell_type": "markdown",
   "id": "ac1c1fdd",
   "metadata": {},
   "source": [
    "## 36.3 기반 클래스의 속성 사용하기"
   ]
  },
  {
   "cell_type": "code",
   "execution_count": 6,
   "id": "182112c7",
   "metadata": {},
   "outputs": [
    {
     "name": "stdout",
     "output_type": "stream",
     "text": [
      "Student__init__\n",
      "안뇽\n"
     ]
    },
    {
     "ename": "AttributeError",
     "evalue": "'Student' object has no attribute 'hello'",
     "output_type": "error",
     "traceback": [
      "\u001b[1;31m---------------------------------------------------------------------------\u001b[0m",
      "\u001b[1;31mAttributeError\u001b[0m                            Traceback (most recent call last)",
      "Input \u001b[1;32mIn [6]\u001b[0m, in \u001b[0;36m<cell line: 13>\u001b[1;34m()\u001b[0m\n\u001b[0;32m     11\u001b[0m james \u001b[38;5;241m=\u001b[39m Student()\n\u001b[0;32m     12\u001b[0m \u001b[38;5;28mprint\u001b[39m(james\u001b[38;5;241m.\u001b[39mschool)\n\u001b[1;32m---> 13\u001b[0m \u001b[38;5;28mprint\u001b[39m(\u001b[43mjames\u001b[49m\u001b[38;5;241;43m.\u001b[39;49m\u001b[43mhello\u001b[49m)\n",
      "\u001b[1;31mAttributeError\u001b[0m: 'Student' object has no attribute 'hello'"
     ]
    }
   ],
   "source": [
    "class Person:\n",
    "    def __init__(self):\n",
    "        print('person__init__')\n",
    "        self.hello = '안녕하세요.'\n",
    "        \n",
    "class Student(Person):\n",
    "    def __init__(self):\n",
    "        print('Student__init__')\n",
    "        self.school = '안뇽'\n",
    "        \n",
    "james = Student()\n",
    "print(james.school)\n",
    "print(james.hello)"
   ]
  },
  {
   "cell_type": "markdown",
   "id": "7dcdc6db",
   "metadata": {},
   "source": [
    "### 36.3.1 super()로 기반 클래스 초기화하기"
   ]
  },
  {
   "cell_type": "code",
   "execution_count": 7,
   "id": "47a1580a",
   "metadata": {},
   "outputs": [
    {
     "name": "stdout",
     "output_type": "stream",
     "text": [
      "Student__init__\n",
      "person__init__\n",
      "안뇽\n",
      "안녕하세요.\n"
     ]
    }
   ],
   "source": [
    "class Person:\n",
    "    def __init__(self):\n",
    "        print('person__init__')\n",
    "        self.hello = '안녕하세요.'\n",
    "        \n",
    "class Student(Person):\n",
    "    def __init__(self):\n",
    "        print('Student__init__')\n",
    "        super().__init__() # super()로 기반 클래스의 __init__메서드 호출\n",
    "        self.school = '안뇽'\n",
    "        \n",
    "james = Student()\n",
    "print(james.school)\n",
    "print(james.hello)"
   ]
  },
  {
   "cell_type": "markdown",
   "id": "af888a1e",
   "metadata": {},
   "source": [
    "### 36.3.2 기반 클래스를 초기화하지 않아도 되는 경우"
   ]
  },
  {
   "cell_type": "code",
   "execution_count": 8,
   "id": "4eba6e3c",
   "metadata": {},
   "outputs": [
    {
     "name": "stdout",
     "output_type": "stream",
     "text": [
      "Person__init__\n",
      "안녕하십니까?\n"
     ]
    }
   ],
   "source": [
    "class Person:\n",
    "    def __init__(self):\n",
    "        print('Person__init__')\n",
    "        self.hello = \"안녕하십니까?\"\n",
    "    \n",
    "class Student(Person):\n",
    "    pass\n",
    "\n",
    "james = Student()\n",
    "print(james.hello)"
   ]
  },
  {
   "cell_type": "markdown",
   "id": "48742bd0",
   "metadata": {},
   "source": [
    "#### 파생 클래스에 __init__메서드가 없다면 기반 클래스 __init__이 자동으로 호출"
   ]
  },
  {
   "cell_type": "markdown",
   "id": "4b647c60",
   "metadata": {},
   "source": [
    "#### 명확하게 super 사용하기"
   ]
  },
  {
   "cell_type": "code",
   "execution_count": 10,
   "id": "2368b21e",
   "metadata": {},
   "outputs": [],
   "source": [
    "# super(파생클래스, self).메서드\n",
    "\n",
    "class Student(Person):\n",
    "    def __init__(self):\n",
    "        print(\"Student__init__\")\n",
    "        super(Student, self).__init__()  # super(파생클래스, self)로 기반 클래스의 메서드 호출\n",
    "        self.school = \"안녕\"   "
   ]
  },
  {
   "cell_type": "markdown",
   "id": "3567978a",
   "metadata": {},
   "source": [
    "---"
   ]
  },
  {
   "cell_type": "markdown",
   "id": "96fc786b",
   "metadata": {},
   "source": [
    "## 36.4 메서드 오버라이딩 사용하기"
   ]
  },
  {
   "cell_type": "code",
   "execution_count": 11,
   "id": "d47c3cca",
   "metadata": {},
   "outputs": [
    {
     "name": "stdout",
     "output_type": "stream",
     "text": [
      "Student 안녕\n"
     ]
    }
   ],
   "source": [
    "class Person:\n",
    "    def greeting(self):\n",
    "        print(\"Person 안녕\")\n",
    "        \n",
    "class Student(Person):\n",
    "    def greeting(self):\n",
    "        print('Student 안녕')\n",
    "        \n",
    "james = Student()\n",
    "james.greeting()"
   ]
  },
  {
   "cell_type": "markdown",
   "id": "687bab1a",
   "metadata": {},
   "source": [
    "---"
   ]
  },
  {
   "cell_type": "markdown",
   "id": "98230753",
   "metadata": {},
   "source": [
    "## 36.5 다중 상속 사용하기"
   ]
  },
  {
   "cell_type": "code",
   "execution_count": 12,
   "id": "1d0ecefd",
   "metadata": {},
   "outputs": [
    {
     "name": "stdout",
     "output_type": "stream",
     "text": [
      "Person 안녕하소\n",
      "학점관리\n",
      "공부하기\n"
     ]
    }
   ],
   "source": [
    "class Person:\n",
    "    def greeting(self):\n",
    "        print('Person 안녕하소')\n",
    "        \n",
    "class University:\n",
    "    def manage_credit(self):\n",
    "        print('학점관리')\n",
    "        \n",
    "class Undergraduate(Person, University):\n",
    "    def study(self):\n",
    "        print('공부하기')\n",
    "        \n",
    "        \n",
    "james = Undergraduate()\n",
    "james.greeting()\n",
    "james.manage_credit()\n",
    "james.study()"
   ]
  },
  {
   "cell_type": "markdown",
   "id": "ecb82001",
   "metadata": {},
   "source": [
    "### 36.5.1 다이아몬드 상속"
   ]
  },
  {
   "cell_type": "code",
   "execution_count": 15,
   "id": "9475a813",
   "metadata": {},
   "outputs": [
    {
     "name": "stdout",
     "output_type": "stream",
     "text": [
      "B\n"
     ]
    }
   ],
   "source": [
    "class A:\n",
    "    def greeting(self):\n",
    "        print('A')\n",
    "        \n",
    "class B(A):\n",
    "    def greeting(self):\n",
    "        print('B')\n",
    "        \n",
    "class C(A):\n",
    "    def greeting(self):\n",
    "        print('C')\n",
    "        \n",
    "        \n",
    "class D(B, C):\n",
    "    pass\n",
    "\n",
    "x = D()\n",
    "x.greeting()"
   ]
  },
  {
   "cell_type": "markdown",
   "id": "4aef9918",
   "metadata": {},
   "source": [
    "### 36.5.2 메서드 탐색 순서 확인하기"
   ]
  },
  {
   "cell_type": "markdown",
   "id": "77e4f971",
   "metadata": {},
   "source": [
    "#### 클래스.mro()"
   ]
  },
  {
   "cell_type": "code",
   "execution_count": 16,
   "id": "fb263c6b",
   "metadata": {},
   "outputs": [
    {
     "data": {
      "text/plain": [
       "[__main__.D, __main__.B, __main__.C, __main__.A, object]"
      ]
     },
     "execution_count": 16,
     "metadata": {},
     "output_type": "execute_result"
    }
   ],
   "source": [
    "D.mro()"
   ]
  },
  {
   "cell_type": "markdown",
   "id": "909fa7bf",
   "metadata": {},
   "source": [
    "#### 상속관계가 복잡하다면 mro를 확인해보면 됨"
   ]
  },
  {
   "cell_type": "markdown",
   "id": "4c22b3f8",
   "metadata": {},
   "source": [
    "---"
   ]
  },
  {
   "cell_type": "markdown",
   "id": "29ec8bf3",
   "metadata": {},
   "source": [
    "## 36.6 추상 클래스 사용하기"
   ]
  },
  {
   "cell_type": "markdown",
   "id": "42d9088c",
   "metadata": {},
   "source": [
    "#### 추상 클래스는 메서드의 목록만 가진 클래스 상속받는 클래스에서 메서드 구현을 강제하기 위해 사용"
   ]
  },
  {
   "cell_type": "code",
   "execution_count": 17,
   "id": "5783eedf",
   "metadata": {},
   "outputs": [
    {
     "ename": "TypeError",
     "evalue": "Can't instantiate abstract class Student with abstract method go_to_school",
     "output_type": "error",
     "traceback": [
      "\u001b[1;31m---------------------------------------------------------------------------\u001b[0m",
      "\u001b[1;31mTypeError\u001b[0m                                 Traceback (most recent call last)",
      "Input \u001b[1;32mIn [17]\u001b[0m, in \u001b[0;36m<cell line: 16>\u001b[1;34m()\u001b[0m\n\u001b[0;32m     13\u001b[0m     \u001b[38;5;28;01mdef\u001b[39;00m \u001b[38;5;21mstudy\u001b[39m(\u001b[38;5;28mself\u001b[39m):\n\u001b[0;32m     14\u001b[0m         \u001b[38;5;28mprint\u001b[39m(\u001b[38;5;124m'\u001b[39m\u001b[38;5;124m공부하기\u001b[39m\u001b[38;5;124m'\u001b[39m)\n\u001b[1;32m---> 16\u001b[0m james \u001b[38;5;241m=\u001b[39m \u001b[43mStudent\u001b[49m\u001b[43m(\u001b[49m\u001b[43m)\u001b[49m\n",
      "\u001b[1;31mTypeError\u001b[0m: Can't instantiate abstract class Student with abstract method go_to_school"
     ]
    }
   ],
   "source": [
    "from abc import *\n",
    "\n",
    "class StudentBase(metaclass=ABCMeta):\n",
    "    @abstractmethod\n",
    "    def study(self):\n",
    "        pass\n",
    "    \n",
    "    @abstractmethod\n",
    "    def go_to_school(self):\n",
    "        pass\n",
    "    \n",
    "class Student(StudentBase):\n",
    "    def study(self):\n",
    "        print('공부하기')\n",
    "        \n",
    "        \n",
    "james = Student()"
   ]
  },
  {
   "cell_type": "code",
   "execution_count": 18,
   "id": "f6b677b0",
   "metadata": {},
   "outputs": [
    {
     "name": "stdout",
     "output_type": "stream",
     "text": [
      "공부\n",
      "학교가기\n"
     ]
    }
   ],
   "source": [
    "from abc import *\n",
    "\n",
    "class StudentBase(metaclass=ABCMeta):\n",
    "    @abstractmethod\n",
    "    def study(self):\n",
    "        pass\n",
    "    \n",
    "    @abstractmethod\n",
    "    def go_to_school(self):\n",
    "        pass\n",
    "    \n",
    "class Student(StudentBase):\n",
    "    \n",
    "    def study(self):\n",
    "        print('공부')\n",
    "        \n",
    "    def go_to_school(self):\n",
    "        print('학교가기')\n",
    "        \n",
    "        \n",
    "james = Student()\n",
    "james.study()\n",
    "james.go_to_school()"
   ]
  },
  {
   "cell_type": "markdown",
   "id": "38f8827c",
   "metadata": {},
   "source": [
    "### 36.6.1 추상 메서드를 빈 메서드로 만드는 이유\n",
    "#### 추상클래스는 인스턴스를 만들수 없음 \n",
    "#### 추상메서드를 호출할 일이 없기 떄문에 빈 메서드"
   ]
  }
 ],
 "metadata": {
  "kernelspec": {
   "display_name": "Python 3 (ipykernel)",
   "language": "python",
   "name": "python3"
  },
  "language_info": {
   "codemirror_mode": {
    "name": "ipython",
    "version": 3
   },
   "file_extension": ".py",
   "mimetype": "text/x-python",
   "name": "python",
   "nbconvert_exporter": "python",
   "pygments_lexer": "ipython3",
   "version": "3.9.12"
  }
 },
 "nbformat": 4,
 "nbformat_minor": 5
}

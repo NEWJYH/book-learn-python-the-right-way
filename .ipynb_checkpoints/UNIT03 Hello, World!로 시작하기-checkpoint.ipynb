{
 "cells": [
  {
   "cell_type": "markdown",
   "id": "63ba4ea2",
   "metadata": {},
   "source": [
    "## 3.1 IDLE에서 Hello, world! 출력해보기"
   ]
  },
  {
   "cell_type": "code",
   "execution_count": 1,
   "id": "a28c6d26",
   "metadata": {},
   "outputs": [
    {
     "name": "stdout",
     "output_type": "stream",
     "text": [
      "Hello, world!\n"
     ]
    }
   ],
   "source": [
    "print('Hello, world!')"
   ]
  },
  {
   "cell_type": "markdown",
   "id": "cfa7c356",
   "metadata": {},
   "source": [
    "---"
   ]
  },
  {
   "cell_type": "markdown",
   "id": "3f029bb8",
   "metadata": {},
   "source": [
    "## 3.2 IDLE에서 소스파일 실행하기"
   ]
  },
  {
   "cell_type": "markdown",
   "id": "b4e6deab",
   "metadata": {},
   "source": [
    "---"
   ]
  },
  {
   "cell_type": "markdown",
   "id": "293805dc",
   "metadata": {},
   "source": [
    "## 3.3 명령 프롬프트에서 Hello, world! 출력하기"
   ]
  },
  {
   "cell_type": "markdown",
   "id": "bf845b24",
   "metadata": {},
   "source": [
    "### 3.3.1 명령프롬프트에서 파이썬 사용하기"
   ]
  },
  {
   "cell_type": "markdown",
   "id": "eca2a133",
   "metadata": {},
   "source": [
    "### 3.3.2 명령 프롬프트에서 스크립트 파일 실행하기"
   ]
  },
  {
   "cell_type": "markdown",
   "id": "2cdb0309",
   "metadata": {},
   "source": [
    "---"
   ]
  },
  {
   "cell_type": "markdown",
   "id": "e6b51570",
   "metadata": {},
   "source": [
    "## 3.4 소스 코드 살펴보기"
   ]
  }
 ],
 "metadata": {
  "kernelspec": {
   "display_name": "Python 3 (ipykernel)",
   "language": "python",
   "name": "python3"
  },
  "language_info": {
   "codemirror_mode": {
    "name": "ipython",
    "version": 3
   },
   "file_extension": ".py",
   "mimetype": "text/x-python",
   "name": "python",
   "nbconvert_exporter": "python",
   "pygments_lexer": "ipython3",
   "version": "3.9.12"
  }
 },
 "nbformat": 4,
 "nbformat_minor": 5
}

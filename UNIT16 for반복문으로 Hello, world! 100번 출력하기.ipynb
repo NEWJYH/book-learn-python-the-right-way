{
 "cells": [
  {
   "cell_type": "markdown",
   "id": "a7f635f8",
   "metadata": {},
   "source": [
    "## 16.1 for와 range 사용하기"
   ]
  },
  {
   "cell_type": "markdown",
   "id": "7dd6ce62",
   "metadata": {},
   "source": [
    "### 16.1.1 반복문에서 변수의 변화 알아보기 "
   ]
  },
  {
   "cell_type": "markdown",
   "id": "b6c81aa2",
   "metadata": {},
   "source": [
    "---"
   ]
  },
  {
   "cell_type": "markdown",
   "id": "1c9471c2",
   "metadata": {},
   "source": [
    "## 16.2 for와 range 응용하기"
   ]
  },
  {
   "cell_type": "markdown",
   "id": "fc416cc6",
   "metadata": {},
   "source": [
    "### 16.2.1 시작하는 숫자와 끝나는 숫자 지정하기"
   ]
  },
  {
   "cell_type": "markdown",
   "id": "083a629d",
   "metadata": {},
   "source": [
    "### 16.2.2 증가폭 사용하기"
   ]
  },
  {
   "cell_type": "markdown",
   "id": "6164a20a",
   "metadata": {},
   "source": [
    "### 16.2.3 숫자 감소시키기 "
   ]
  },
  {
   "cell_type": "markdown",
   "id": "9b862c71",
   "metadata": {},
   "source": [
    "### 16.2.4 입력한 횟수대로 반복하기"
   ]
  },
  {
   "cell_type": "markdown",
   "id": "d8bd47ea",
   "metadata": {},
   "source": [
    "---"
   ]
  },
  {
   "cell_type": "markdown",
   "id": "40a62646",
   "metadata": {},
   "source": [
    "## 16.3 시퀸스 객체로 반복하기"
   ]
  }
 ],
 "metadata": {
  "kernelspec": {
   "display_name": "Python 3 (ipykernel)",
   "language": "python",
   "name": "python3"
  },
  "language_info": {
   "codemirror_mode": {
    "name": "ipython",
    "version": 3
   },
   "file_extension": ".py",
   "mimetype": "text/x-python",
   "name": "python",
   "nbconvert_exporter": "python",
   "pygments_lexer": "ipython3",
   "version": "3.9.12"
  }
 },
 "nbformat": 4,
 "nbformat_minor": 5
}

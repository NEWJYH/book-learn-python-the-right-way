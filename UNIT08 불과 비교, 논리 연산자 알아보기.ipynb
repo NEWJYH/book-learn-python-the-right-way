{
 "cells": [
  {
   "cell_type": "markdown",
   "id": "4e4e7e14",
   "metadata": {},
   "source": [
    "## 8.1 불과 비교 연산자 사용하기"
   ]
  },
  {
   "cell_type": "markdown",
   "id": "2044f644",
   "metadata": {},
   "source": [
    "### 8.1.1 비교 연산자의 판단 결과"
   ]
  },
  {
   "cell_type": "code",
   "execution_count": 2,
   "id": "34112fd3",
   "metadata": {},
   "outputs": [
    {
     "data": {
      "text/plain": [
       "True"
      ]
     },
     "execution_count": 2,
     "metadata": {},
     "output_type": "execute_result"
    }
   ],
   "source": [
    "3 > 1"
   ]
  },
  {
   "cell_type": "markdown",
   "id": "5d9dae5b",
   "metadata": {},
   "source": [
    "### 8.1.2 숫자가 같은지 다른지 비교하기"
   ]
  },
  {
   "cell_type": "markdown",
   "id": "43813573",
   "metadata": {},
   "source": [
    "### 8.1.3 문자열이 같은지 다른지 비교하기"
   ]
  },
  {
   "cell_type": "markdown",
   "id": "0427ae47",
   "metadata": {},
   "source": [
    "### 8.1.4 부등호 사용하기"
   ]
  },
  {
   "cell_type": "markdown",
   "id": "8bb6977a",
   "metadata": {},
   "source": [
    "### 8.1.5 객체가 같은지 다른지 비교하기 "
   ]
  },
  {
   "cell_type": "code",
   "execution_count": 3,
   "id": "6b7114d7",
   "metadata": {},
   "outputs": [
    {
     "name": "stderr",
     "output_type": "stream",
     "text": [
      "<>:1: SyntaxWarning: \"is\" with a literal. Did you mean \"==\"?\n",
      "<>:1: SyntaxWarning: \"is\" with a literal. Did you mean \"==\"?\n",
      "C:\\Users\\younghun\\AppData\\Local\\Temp\\ipykernel_7376\\3336455986.py:1: SyntaxWarning: \"is\" with a literal. Did you mean \"==\"?\n",
      "  1 is 1.0\n"
     ]
    },
    {
     "data": {
      "text/plain": [
       "False"
      ]
     },
     "execution_count": 3,
     "metadata": {},
     "output_type": "execute_result"
    }
   ],
   "source": [
    "1 is 1.0"
   ]
  },
  {
   "cell_type": "markdown",
   "id": "ab7ee424",
   "metadata": {},
   "source": [
    "---"
   ]
  },
  {
   "cell_type": "markdown",
   "id": "808a28fe",
   "metadata": {},
   "source": [
    "## 8.2 논리 연산자 사용하기"
   ]
  },
  {
   "cell_type": "markdown",
   "id": "54ad6487",
   "metadata": {},
   "source": [
    "### 8.2.1 논리 연산자와 비교 연산자를 함께 사용하기"
   ]
  }
 ],
 "metadata": {
  "kernelspec": {
   "display_name": "Python 3 (ipykernel)",
   "language": "python",
   "name": "python3"
  },
  "language_info": {
   "codemirror_mode": {
    "name": "ipython",
    "version": 3
   },
   "file_extension": ".py",
   "mimetype": "text/x-python",
   "name": "python",
   "nbconvert_exporter": "python",
   "pygments_lexer": "ipython3",
   "version": "3.9.12"
  }
 },
 "nbformat": 4,
 "nbformat_minor": 5
}

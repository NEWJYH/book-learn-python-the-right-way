{
 "cells": [
  {
   "cell_type": "markdown",
   "id": "7fc4b97e",
   "metadata": {},
   "source": [
    "## 6.1 변수 만들기"
   ]
  },
  {
   "cell_type": "markdown",
   "id": "9609ba36",
   "metadata": {},
   "source": [
    "    - 영문 문자와 숫자를 사용할 수 있음\n",
    "    - 대소문자를 구분\n",
    "    - 문자부터 시작해야 하며 숫자부터 시작하면 안됨\n",
    "    - _(밑줄 문자)로 시작할 수 있음\n",
    "    - 특수 문자 사용 불가\n",
    "    - 파이썬 키워드 사용 불가"
   ]
  },
  {
   "cell_type": "markdown",
   "id": "7776f2ec",
   "metadata": {},
   "source": [
    "### 6.1.1 변수의 자료형 알아내기"
   ]
  },
  {
   "cell_type": "markdown",
   "id": "b5ba37b8",
   "metadata": {},
   "source": [
    "### 6.1.2 변수 여러 개를 한 번에 만들기"
   ]
  },
  {
   "cell_type": "markdown",
   "id": "dbb8a8e4",
   "metadata": {},
   "source": [
    "---"
   ]
  },
  {
   "cell_type": "markdown",
   "id": "439887a0",
   "metadata": {},
   "source": [
    "## 6.2 변수로 계산하기"
   ]
  },
  {
   "cell_type": "markdown",
   "id": "b875b37d",
   "metadata": {},
   "source": [
    "### 6.2.1 산술 연산 후 할당 연산자 사용하기"
   ]
  },
  {
   "cell_type": "markdown",
   "id": "4a3ece6b",
   "metadata": {},
   "source": [
    "---"
   ]
  },
  {
   "cell_type": "markdown",
   "id": "1fc62c59",
   "metadata": {},
   "source": [
    "## 6.3 입력 값을 변수에 저장하기"
   ]
  },
  {
   "cell_type": "markdown",
   "id": "a365b09c",
   "metadata": {},
   "source": [
    "### 6.3.1 input함수 사용하기"
   ]
  },
  {
   "cell_type": "markdown",
   "id": "939ddf43",
   "metadata": {},
   "source": [
    "### 6.3.2 input 함수의 결과를 변수에 할당하기"
   ]
  },
  {
   "cell_type": "markdown",
   "id": "58316ded",
   "metadata": {},
   "source": [
    "### 6.3.3 두 숫자의 합 구하기"
   ]
  },
  {
   "cell_type": "markdown",
   "id": "32e81cb0",
   "metadata": {},
   "source": [
    "### 6.3.4 입력 값을 정수로 변환하기"
   ]
  },
  {
   "cell_type": "markdown",
   "id": "a1fcd896",
   "metadata": {},
   "source": [
    "---"
   ]
  },
  {
   "cell_type": "markdown",
   "id": "efecc065",
   "metadata": {},
   "source": [
    "## 6.4 입력 값을 변수 두개에 저장하기"
   ]
  },
  {
   "cell_type": "markdown",
   "id": "29330d9a",
   "metadata": {},
   "source": [
    "### 6.4.1 두 숫자의 합 구하기"
   ]
  },
  {
   "cell_type": "markdown",
   "id": "0c2e2e04",
   "metadata": {},
   "source": [
    "### 6.4.2 입력 값을 정수로 변환하기"
   ]
  },
  {
   "cell_type": "markdown",
   "id": "06e11bd7",
   "metadata": {},
   "source": [
    "### 6.4.3 map을 사용하여 정수로 변환하기"
   ]
  },
  {
   "cell_type": "code",
   "execution_count": 2,
   "id": "a3eb765e",
   "metadata": {},
   "outputs": [
    {
     "name": "stdout",
     "output_type": "stream",
     "text": [
      "3 60\n",
      "63\n"
     ]
    }
   ],
   "source": [
    "a,b = map(int, input().split())\n",
    "print(a + b)\n"
   ]
  },
  {
   "cell_type": "markdown",
   "id": "b11fd8de",
   "metadata": {},
   "source": [
    "### 6.4.4 입력받은 값을 콤마를 기준으로 분리하기"
   ]
  }
 ],
 "metadata": {
  "kernelspec": {
   "display_name": "Python 3 (ipykernel)",
   "language": "python",
   "name": "python3"
  },
  "language_info": {
   "codemirror_mode": {
    "name": "ipython",
    "version": 3
   },
   "file_extension": ".py",
   "mimetype": "text/x-python",
   "name": "python",
   "nbconvert_exporter": "python",
   "pygments_lexer": "ipython3",
   "version": "3.9.12"
  }
 },
 "nbformat": 4,
 "nbformat_minor": 5
}

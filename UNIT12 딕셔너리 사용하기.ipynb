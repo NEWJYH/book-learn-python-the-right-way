{
 "cells": [
  {
   "cell_type": "markdown",
   "id": "06e086b0",
   "metadata": {},
   "source": [
    "## 12.1 딕셔너리 만들기"
   ]
  },
  {
   "cell_type": "markdown",
   "id": "c1e27f74",
   "metadata": {},
   "source": [
    "### 12.1.1 키 이름이 중복되면? "
   ]
  },
  {
   "cell_type": "markdown",
   "id": "13f78f63",
   "metadata": {},
   "source": [
    "### 12.1.2 딕셔너리 키의 자료형"
   ]
  },
  {
   "cell_type": "markdown",
   "id": "f213b80f",
   "metadata": {},
   "source": [
    "### 12.1.3 빈 딕셔너리 만들기"
   ]
  },
  {
   "cell_type": "markdown",
   "id": "eba44d90",
   "metadata": {},
   "source": [
    "### 12.1.4 dict로 딕셔너리 만들기"
   ]
  },
  {
   "cell_type": "markdown",
   "id": "63182918",
   "metadata": {},
   "source": [
    "---"
   ]
  },
  {
   "cell_type": "markdown",
   "id": "8acfeb51",
   "metadata": {},
   "source": [
    "## 12.2 딕셔너리의 키에 접근하고 값 할당하기"
   ]
  },
  {
   "cell_type": "markdown",
   "id": "f60139a5",
   "metadata": {},
   "source": [
    "### 12.2.1 딕셔너리의 키에 값 할당하기"
   ]
  },
  {
   "cell_type": "markdown",
   "id": "8eb080f6",
   "metadata": {},
   "source": [
    "### 12.2.2 딕셔너리에 키가 있는지 확인하기"
   ]
  },
  {
   "cell_type": "markdown",
   "id": "4854ce9d",
   "metadata": {},
   "source": [
    "### 12.2.3 딕셔너리의 키 개수 구하기 "
   ]
  }
 ],
 "metadata": {
  "kernelspec": {
   "display_name": "Python 3 (ipykernel)",
   "language": "python",
   "name": "python3"
  },
  "language_info": {
   "codemirror_mode": {
    "name": "ipython",
    "version": 3
   },
   "file_extension": ".py",
   "mimetype": "text/x-python",
   "name": "python",
   "nbconvert_exporter": "python",
   "pygments_lexer": "ipython3",
   "version": "3.9.12"
  }
 },
 "nbformat": 4,
 "nbformat_minor": 5
}
